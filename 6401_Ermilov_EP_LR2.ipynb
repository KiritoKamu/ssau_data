{
  "nbformat": 4,
  "nbformat_minor": 0,
  "metadata": {
    "colab": {
      "provenance": []
    },
    "kernelspec": {
      "name": "python3",
      "display_name": "Python 3"
    },
    "language_info": {
      "name": "python"
    }
  },
  "cells": [
    {
      "cell_type": "code",
      "source": [
        "pip install --upgrade pyspark"
      ],
      "metadata": {
        "colab": {
          "base_uri": "https://localhost:8080/"
        },
        "id": "kOTTkhs71L6g",
        "outputId": "a30e7020-6afd-4279-e42c-0905e7bf807b"
      },
      "execution_count": 1,
      "outputs": [
        {
          "output_type": "stream",
          "name": "stdout",
          "text": [
            "Requirement already satisfied: pyspark in /usr/local/lib/python3.11/dist-packages (3.5.5)\n",
            "Requirement already satisfied: py4j==0.10.9.7 in /usr/local/lib/python3.11/dist-packages (from pyspark) (0.10.9.7)\n"
          ]
        }
      ]
    },
    {
      "cell_type": "code",
      "source": [
        "import os\n",
        "import sys\n",
        "import pyspark.sql.functions as F\n",
        "from pyspark.sql import Row\n",
        "from pyspark.sql import SparkSession\n",
        "import subprocess\n",
        "\n",
        "os.environ['PYSPARK_PYTHON'] = sys.executable\n",
        "os.environ['PYSPARK_DRIVER_PYTHON'] = sys.executable\n",
        "os.environ['PYSPARK_SUBMIT_ARGS'] = '--packages com.databricks:spark-xml_2.12:0.17.0 pyspark-shell'\n",
        "spark = SparkSession.builder.getOrCreate()\n",
        "spark"
      ],
      "metadata": {
        "id": "JSbhICYy1O3Q",
        "colab": {
          "base_uri": "https://localhost:8080/",
          "height": 219
        },
        "outputId": "5a3c3e5c-2409-489d-cc76-b57f03c5fdec"
      },
      "execution_count": 2,
      "outputs": [
        {
          "output_type": "execute_result",
          "data": {
            "text/plain": [
              "<pyspark.sql.session.SparkSession at 0x79d116db0fd0>"
            ],
            "text/html": [
              "\n",
              "            <div>\n",
              "                <p><b>SparkSession - in-memory</b></p>\n",
              "                \n",
              "        <div>\n",
              "            <p><b>SparkContext</b></p>\n",
              "\n",
              "            <p><a href=\"http://44a1444d10bd:4040\">Spark UI</a></p>\n",
              "\n",
              "            <dl>\n",
              "              <dt>Version</dt>\n",
              "                <dd><code>v3.5.5</code></dd>\n",
              "              <dt>Master</dt>\n",
              "                <dd><code>local[*]</code></dd>\n",
              "              <dt>AppName</dt>\n",
              "                <dd><code>pyspark-shell</code></dd>\n",
              "            </dl>\n",
              "        </div>\n",
              "        \n",
              "            </div>\n",
              "        "
            ]
          },
          "metadata": {},
          "execution_count": 2
        }
      ]
    },
    {
      "cell_type": "code",
      "source": [
        "subprocess.run([\"wget\", \"https://git.ai.ssau.ru/tk/big_data/raw/branch/master/data/posts_sample.xml\"], check=True)\n",
        "\n",
        "postsData = spark.read.format('xml').option('rowTag', 'row').option(\"timestampFormat\", 'y/M/d H:m:s').load('posts_sample.xml')\n",
        "\n",
        "print(f\"Elems: {postsData.count()}\")\n",
        "postsData.printSchema()\n",
        "postsData.show()\n",
        "\n",
        "dates = (\"2008-01-01\",  \"2022-12-31\")\n",
        "posts_by_date = postsData.filter(F.col(\"_CreationDate\").between(*dates))\n",
        "posts_by_date.show()"
      ],
      "metadata": {
        "colab": {
          "base_uri": "https://localhost:8080/"
        },
        "id": "exxUvG_14Ukz",
        "outputId": "63e42e81-c8bb-464f-83b4-c66b55e07293"
      },
      "execution_count": 3,
      "outputs": [
        {
          "output_type": "stream",
          "name": "stdout",
          "text": [
            "Elems: 46006\n",
            "root\n",
            " |-- _AcceptedAnswerId: long (nullable = true)\n",
            " |-- _AnswerCount: long (nullable = true)\n",
            " |-- _Body: string (nullable = true)\n",
            " |-- _ClosedDate: timestamp (nullable = true)\n",
            " |-- _CommentCount: long (nullable = true)\n",
            " |-- _CommunityOwnedDate: timestamp (nullable = true)\n",
            " |-- _CreationDate: timestamp (nullable = true)\n",
            " |-- _FavoriteCount: long (nullable = true)\n",
            " |-- _Id: long (nullable = true)\n",
            " |-- _LastActivityDate: timestamp (nullable = true)\n",
            " |-- _LastEditDate: timestamp (nullable = true)\n",
            " |-- _LastEditorDisplayName: string (nullable = true)\n",
            " |-- _LastEditorUserId: long (nullable = true)\n",
            " |-- _OwnerDisplayName: string (nullable = true)\n",
            " |-- _OwnerUserId: long (nullable = true)\n",
            " |-- _ParentId: long (nullable = true)\n",
            " |-- _PostTypeId: long (nullable = true)\n",
            " |-- _Score: long (nullable = true)\n",
            " |-- _Tags: string (nullable = true)\n",
            " |-- _Title: string (nullable = true)\n",
            " |-- _ViewCount: long (nullable = true)\n",
            "\n",
            "+-----------------+------------+--------------------+-----------+-------------+--------------------+--------------------+--------------+-------+--------------------+--------------------+----------------------+-----------------+-----------------+------------+---------+-----------+------+--------------------+--------------------+----------+\n",
            "|_AcceptedAnswerId|_AnswerCount|               _Body|_ClosedDate|_CommentCount| _CommunityOwnedDate|       _CreationDate|_FavoriteCount|    _Id|   _LastActivityDate|       _LastEditDate|_LastEditorDisplayName|_LastEditorUserId|_OwnerDisplayName|_OwnerUserId|_ParentId|_PostTypeId|_Score|               _Tags|              _Title|_ViewCount|\n",
            "+-----------------+------------+--------------------+-----------+-------------+--------------------+--------------------+--------------+-------+--------------------+--------------------+----------------------+-----------------+-----------------+------------+---------+-----------+------+--------------------+--------------------+----------+\n",
            "|                7|          13|<p>I want to use ...|       NULL|            2|2012-10-31 16:42:...|2008-07-31 21:42:...|            48|      4|2019-07-19 01:39:...|2019-07-19 01:39:...|                Rich B|          3641067|             NULL|           8|     NULL|          1|   630|<c#><floating-poi...|Convert Decimal t...|     42817|\n",
            "|               31|           6|<p>I have an abso...|       NULL|            0|                NULL|2008-07-31 22:08:...|            10|      6|2019-07-19 01:43:...|2019-07-19 01:43:...|                Rich B|          3641067|             NULL|           9|     NULL|          1|   281|<html><css><inter...|Percentage width ...|     18214|\n",
            "|             NULL|        NULL|<p>An explicit ca...|       NULL|            0|                NULL|2008-07-31 22:17:...|          NULL|      7|2017-12-16 05:06:...|2017-12-16 05:06:...|                  NULL|          4020527|             NULL|           9|        4|          2|   425|                NULL|                NULL|      NULL|\n",
            "|             1404|          63|<p>Given a <code>...|       NULL|            5|2011-08-16 19:40:...|2008-07-31 23:40:...|           436|      9|2019-06-26 15:25:...|2018-04-21 17:48:...|                Rich B|          3956566|             NULL|           1|     NULL|          1|  1742|<c#><.net><datetime>|How do I calculat...|    555183|\n",
            "|             1248|          37|<p>Given a specif...|       NULL|            3|2009-09-04 13:15:...|2008-07-31 23:55:...|           539|     11|2019-05-26 02:31:...|2017-06-04 15:51:...|           user2370523|          6479704|             NULL|           1|     NULL|          1|  1444|<c#><datetime><ti...|Calculate relativ...|    149445|\n",
            "|             NULL|        NULL|<p>Here's how I d...|       NULL|           11|2009-09-04 13:15:...|2008-07-31 23:56:...|          NULL|     12|2018-01-12 16:10:...|2018-01-12 16:10:...|            GateKiller|          1271898|             NULL|           1|       11|          2|   327|                NULL|                NULL|      NULL|\n",
            "|             NULL|          24|<p>Is there a sta...|       NULL|           10|                NULL|2008-08-01 00:42:...|           147|     13|2019-05-14 16:02:...|2018-12-24 22:47:...|                Rich B|          9752662|             NULL|           9|     NULL|          1|   590|<html><browser><t...|Determine a user'...|    176405|\n",
            "|             NULL|          10|<p>What is the di...|       NULL|            4|                NULL|2008-08-01 00:59:...|            57|     14|2018-09-19 03:49:...|2017-02-25 17:42:...|                Rich B|          6495084|   Anonymous User|          11|     NULL|          1|   399|        <.net><math>|Difference betwee...|    123231|\n",
            "|             NULL|        NULL|<p>No. (And more ...|       NULL|            6|                NULL|2010-09-20 16:18:...|          NULL|3753373|2010-09-20 16:18:...|                NULL|                  NULL|             NULL|             NULL|       10293|  3753364|          2|    13|                NULL|                NULL|      NULL|\n",
            "|             NULL|        NULL|<p>I am not aware...|       NULL|            2|                NULL|2010-09-20 18:36:...|          NULL|3754384|2010-09-20 18:43:...|2010-09-20 18:43:...|                  NULL|           140185|             NULL|      140185|  3754279|          2|     2|                NULL|                NULL|      NULL|\n",
            "|             NULL|        NULL|<p>If you want a ...|       NULL|            2|                NULL|2010-09-20 19:04:...|          NULL|3754601|2010-09-20 19:04:...|                NULL|                  NULL|             NULL|             NULL|        7280|  3754553|          2|     1|                NULL|                NULL|      NULL|\n",
            "|             NULL|        NULL|<p>The very first...|       NULL|            0|                NULL|2010-09-21 02:07:...|          NULL|3756831|2010-09-21 02:07:...|                NULL|                  NULL|             NULL|             NULL|      349130|  3756770|          2|     9|                NULL|                NULL|      NULL|\n",
            "|             NULL|        NULL|<p>It seems to me...|       NULL|            3|                NULL|2010-09-21 07:33:...|          NULL|3758183|2010-09-21 07:33:...|                NULL|                  NULL|             NULL|             NULL|       15168|  3754526|          2|     0|                NULL|                NULL|      NULL|\n",
            "|             NULL|        NULL|<p>In Django orig...|       NULL|            3|2010-09-21 11:46:...|2010-09-21 11:46:...|          NULL|3759958|2010-09-21 13:40:...|2010-09-21 13:40:...|                  NULL|           377095|             NULL|      377095|  3759524|          2|     1|                NULL|                NULL|      NULL|\n",
            "|             NULL|        NULL|<p>You can't. Mic...|       NULL|            0|                NULL|2010-09-21 12:07:...|          NULL|3760101|2010-09-21 12:07:...|                NULL|                  NULL|             NULL|             NULL|      155641|  3760066|          2|     1|                NULL|                NULL|      NULL|\n",
            "|             NULL|        NULL|<p>I don't know, ...|       NULL|            0|                NULL|2010-09-21 13:16:...|          NULL|3760630|2010-09-21 13:16:...|                NULL|                  NULL|             NULL|             NULL|      417143|  2739558|          2|     0|                NULL|                NULL|      NULL|\n",
            "|             NULL|        NULL|<p>You can't unle...|       NULL|            2|                NULL|2010-09-21 15:09:...|          NULL|3761678|2010-09-21 15:09:...|                NULL|                  NULL|             NULL|             NULL|       77409|  3761429|          2|     2|                NULL|                NULL|      NULL|\n",
            "|             NULL|        NULL|<p>Assume your se...|       NULL|            0|                NULL|2010-09-21 16:22:...|          NULL|3762339|2010-09-21 16:22:...|                NULL|                  NULL|             NULL|             NULL|        4280|  3761757|          2|     0|                NULL|                NULL|      NULL|\n",
            "|             NULL|        NULL|<p>You can use th...|       NULL|            0|                NULL|2010-09-21 18:27:...|          NULL|3763289|2013-06-07 05:57:...|2013-06-07 05:57:...|                  NULL|          1083859|             NULL|      413594|  3761292|          2|     3|                NULL|                NULL|      NULL|\n",
            "|             NULL|        NULL|<p>You can <a hre...|       NULL|            3|                NULL|2010-09-21 19:36:...|          NULL|3763797|2010-09-21 19:36:...|                NULL|                  NULL|             NULL|             NULL|       15639|  3754233|          2|    -1|                NULL|                NULL|      NULL|\n",
            "+-----------------+------------+--------------------+-----------+-------------+--------------------+--------------------+--------------+-------+--------------------+--------------------+----------------------+-----------------+-----------------+------------+---------+-----------+------+--------------------+--------------------+----------+\n",
            "only showing top 20 rows\n",
            "\n",
            "+-----------------+------------+--------------------+-----------+-------------+--------------------+--------------------+--------------+-------+--------------------+--------------------+----------------------+-----------------+-----------------+------------+---------+-----------+------+--------------------+--------------------+----------+\n",
            "|_AcceptedAnswerId|_AnswerCount|               _Body|_ClosedDate|_CommentCount| _CommunityOwnedDate|       _CreationDate|_FavoriteCount|    _Id|   _LastActivityDate|       _LastEditDate|_LastEditorDisplayName|_LastEditorUserId|_OwnerDisplayName|_OwnerUserId|_ParentId|_PostTypeId|_Score|               _Tags|              _Title|_ViewCount|\n",
            "+-----------------+------------+--------------------+-----------+-------------+--------------------+--------------------+--------------+-------+--------------------+--------------------+----------------------+-----------------+-----------------+------------+---------+-----------+------+--------------------+--------------------+----------+\n",
            "|                7|          13|<p>I want to use ...|       NULL|            2|2012-10-31 16:42:...|2008-07-31 21:42:...|            48|      4|2019-07-19 01:39:...|2019-07-19 01:39:...|                Rich B|          3641067|             NULL|           8|     NULL|          1|   630|<c#><floating-poi...|Convert Decimal t...|     42817|\n",
            "|               31|           6|<p>I have an abso...|       NULL|            0|                NULL|2008-07-31 22:08:...|            10|      6|2019-07-19 01:43:...|2019-07-19 01:43:...|                Rich B|          3641067|             NULL|           9|     NULL|          1|   281|<html><css><inter...|Percentage width ...|     18214|\n",
            "|             NULL|        NULL|<p>An explicit ca...|       NULL|            0|                NULL|2008-07-31 22:17:...|          NULL|      7|2017-12-16 05:06:...|2017-12-16 05:06:...|                  NULL|          4020527|             NULL|           9|        4|          2|   425|                NULL|                NULL|      NULL|\n",
            "|             1404|          63|<p>Given a <code>...|       NULL|            5|2011-08-16 19:40:...|2008-07-31 23:40:...|           436|      9|2019-06-26 15:25:...|2018-04-21 17:48:...|                Rich B|          3956566|             NULL|           1|     NULL|          1|  1742|<c#><.net><datetime>|How do I calculat...|    555183|\n",
            "|             1248|          37|<p>Given a specif...|       NULL|            3|2009-09-04 13:15:...|2008-07-31 23:55:...|           539|     11|2019-05-26 02:31:...|2017-06-04 15:51:...|           user2370523|          6479704|             NULL|           1|     NULL|          1|  1444|<c#><datetime><ti...|Calculate relativ...|    149445|\n",
            "|             NULL|        NULL|<p>Here's how I d...|       NULL|           11|2009-09-04 13:15:...|2008-07-31 23:56:...|          NULL|     12|2018-01-12 16:10:...|2018-01-12 16:10:...|            GateKiller|          1271898|             NULL|           1|       11|          2|   327|                NULL|                NULL|      NULL|\n",
            "|             NULL|          24|<p>Is there a sta...|       NULL|           10|                NULL|2008-08-01 00:42:...|           147|     13|2019-05-14 16:02:...|2018-12-24 22:47:...|                Rich B|          9752662|             NULL|           9|     NULL|          1|   590|<html><browser><t...|Determine a user'...|    176405|\n",
            "|             NULL|          10|<p>What is the di...|       NULL|            4|                NULL|2008-08-01 00:59:...|            57|     14|2018-09-19 03:49:...|2017-02-25 17:42:...|                Rich B|          6495084|   Anonymous User|          11|     NULL|          1|   399|        <.net><math>|Difference betwee...|    123231|\n",
            "|             NULL|        NULL|<p>No. (And more ...|       NULL|            6|                NULL|2010-09-20 16:18:...|          NULL|3753373|2010-09-20 16:18:...|                NULL|                  NULL|             NULL|             NULL|       10293|  3753364|          2|    13|                NULL|                NULL|      NULL|\n",
            "|             NULL|        NULL|<p>I am not aware...|       NULL|            2|                NULL|2010-09-20 18:36:...|          NULL|3754384|2010-09-20 18:43:...|2010-09-20 18:43:...|                  NULL|           140185|             NULL|      140185|  3754279|          2|     2|                NULL|                NULL|      NULL|\n",
            "|             NULL|        NULL|<p>If you want a ...|       NULL|            2|                NULL|2010-09-20 19:04:...|          NULL|3754601|2010-09-20 19:04:...|                NULL|                  NULL|             NULL|             NULL|        7280|  3754553|          2|     1|                NULL|                NULL|      NULL|\n",
            "|             NULL|        NULL|<p>The very first...|       NULL|            0|                NULL|2010-09-21 02:07:...|          NULL|3756831|2010-09-21 02:07:...|                NULL|                  NULL|             NULL|             NULL|      349130|  3756770|          2|     9|                NULL|                NULL|      NULL|\n",
            "|             NULL|        NULL|<p>It seems to me...|       NULL|            3|                NULL|2010-09-21 07:33:...|          NULL|3758183|2010-09-21 07:33:...|                NULL|                  NULL|             NULL|             NULL|       15168|  3754526|          2|     0|                NULL|                NULL|      NULL|\n",
            "|             NULL|        NULL|<p>In Django orig...|       NULL|            3|2010-09-21 11:46:...|2010-09-21 11:46:...|          NULL|3759958|2010-09-21 13:40:...|2010-09-21 13:40:...|                  NULL|           377095|             NULL|      377095|  3759524|          2|     1|                NULL|                NULL|      NULL|\n",
            "|             NULL|        NULL|<p>You can't. Mic...|       NULL|            0|                NULL|2010-09-21 12:07:...|          NULL|3760101|2010-09-21 12:07:...|                NULL|                  NULL|             NULL|             NULL|      155641|  3760066|          2|     1|                NULL|                NULL|      NULL|\n",
            "|             NULL|        NULL|<p>I don't know, ...|       NULL|            0|                NULL|2010-09-21 13:16:...|          NULL|3760630|2010-09-21 13:16:...|                NULL|                  NULL|             NULL|             NULL|      417143|  2739558|          2|     0|                NULL|                NULL|      NULL|\n",
            "|             NULL|        NULL|<p>You can't unle...|       NULL|            2|                NULL|2010-09-21 15:09:...|          NULL|3761678|2010-09-21 15:09:...|                NULL|                  NULL|             NULL|             NULL|       77409|  3761429|          2|     2|                NULL|                NULL|      NULL|\n",
            "|             NULL|        NULL|<p>Assume your se...|       NULL|            0|                NULL|2010-09-21 16:22:...|          NULL|3762339|2010-09-21 16:22:...|                NULL|                  NULL|             NULL|             NULL|        4280|  3761757|          2|     0|                NULL|                NULL|      NULL|\n",
            "|             NULL|        NULL|<p>You can use th...|       NULL|            0|                NULL|2010-09-21 18:27:...|          NULL|3763289|2013-06-07 05:57:...|2013-06-07 05:57:...|                  NULL|          1083859|             NULL|      413594|  3761292|          2|     3|                NULL|                NULL|      NULL|\n",
            "|             NULL|        NULL|<p>You can <a hre...|       NULL|            3|                NULL|2010-09-21 19:36:...|          NULL|3763797|2010-09-21 19:36:...|                NULL|                  NULL|             NULL|             NULL|       15639|  3754233|          2|    -1|                NULL|                NULL|      NULL|\n",
            "+-----------------+------------+--------------------+-----------+-------------+--------------------+--------------------+--------------+-------+--------------------+--------------------+----------------------+-----------------+-----------------+------------+---------+-----------+------+--------------------+--------------------+----------+\n",
            "only showing top 20 rows\n",
            "\n"
          ]
        }
      ]
    },
    {
      "cell_type": "code",
      "source": [
        "subprocess.run([\"wget\", \"https://git.ai.ssau.ru/tk/big_data/raw/branch/master/data/programming-languages.csv\"], check=True)\n",
        "languagesData = spark.read.format(\"csv\").option(\"header\", True).option(\"inferSchema\", True).load(\"programming-languages.csv\").dropna(how=\"all\")"
      ],
      "metadata": {
        "id": "s7nLrRVA3_0x"
      },
      "execution_count": 4,
      "outputs": []
    },
    {
      "cell_type": "code",
      "source": [
        "print(f\"\\nLanguages_count: {languagesData.count()}\")\n",
        "print(f\"\\nFirst_lang:\")\n",
        "languagesData.show(vertical=True)\n",
        "languagesData.printSchema()"
      ],
      "metadata": {
        "colab": {
          "base_uri": "https://localhost:8080/"
        },
        "id": "15xRbXJO4DP7",
        "outputId": "943e5737-4c85-410e-a9d6-cc41c98d6e27"
      },
      "execution_count": 5,
      "outputs": [
        {
          "output_type": "stream",
          "name": "stdout",
          "text": [
            "\n",
            "Languages_count: 700\n",
            "\n",
            "First_lang:\n",
            "-RECORD 0-----------------------------\n",
            " name          | A# .NET              \n",
            " wikipedia_url | https://en.wikipe... \n",
            "-RECORD 1-----------------------------\n",
            " name          | A# (Axiom)           \n",
            " wikipedia_url | https://en.wikipe... \n",
            "-RECORD 2-----------------------------\n",
            " name          | A-0 System           \n",
            " wikipedia_url | https://en.wikipe... \n",
            "-RECORD 3-----------------------------\n",
            " name          | A+                   \n",
            " wikipedia_url | https://en.wikipe... \n",
            "-RECORD 4-----------------------------\n",
            " name          | A++                  \n",
            " wikipedia_url | https://en.wikipe... \n",
            "-RECORD 5-----------------------------\n",
            " name          | ABAP                 \n",
            " wikipedia_url | https://en.wikipe... \n",
            "-RECORD 6-----------------------------\n",
            " name          | ABC                  \n",
            " wikipedia_url | https://en.wikipe... \n",
            "-RECORD 7-----------------------------\n",
            " name          | ABC ALGOL            \n",
            " wikipedia_url | https://en.wikipe... \n",
            "-RECORD 8-----------------------------\n",
            " name          | ABSET                \n",
            " wikipedia_url | https://en.wikipe... \n",
            "-RECORD 9-----------------------------\n",
            " name          | ABSYS                \n",
            " wikipedia_url | https://en.wikipe... \n",
            "-RECORD 10----------------------------\n",
            " name          | ACC                  \n",
            " wikipedia_url | https://en.wikipe... \n",
            "-RECORD 11----------------------------\n",
            " name          | Accent               \n",
            " wikipedia_url | https://en.wikipe... \n",
            "-RECORD 12----------------------------\n",
            " name          | Ace DASL             \n",
            " wikipedia_url | https://en.wikipe... \n",
            "-RECORD 13----------------------------\n",
            " name          | ACL2                 \n",
            " wikipedia_url | https://en.wikipe... \n",
            "-RECORD 14----------------------------\n",
            " name          | ACT-III              \n",
            " wikipedia_url | https://en.wikipe... \n",
            "-RECORD 15----------------------------\n",
            " name          | Action!              \n",
            " wikipedia_url | https://en.wikipe... \n",
            "-RECORD 16----------------------------\n",
            " name          | ActionScript         \n",
            " wikipedia_url | https://en.wikipe... \n",
            "-RECORD 17----------------------------\n",
            " name          | Ada                  \n",
            " wikipedia_url | https://en.wikipe... \n",
            "-RECORD 18----------------------------\n",
            " name          | Adenine              \n",
            " wikipedia_url | https://en.wikipe... \n",
            "-RECORD 19----------------------------\n",
            " name          | Agda                 \n",
            " wikipedia_url | https://en.wikipe... \n",
            "only showing top 20 rows\n",
            "\n",
            "root\n",
            " |-- name: string (nullable = true)\n",
            " |-- wikipedia_url: string (nullable = true)\n",
            "\n"
          ]
        }
      ]
    },
    {
      "cell_type": "code",
      "source": [
        "def includes_name(x, language_names):\n",
        "    tag = next((name for name in language_names if f'<{name.lower()}>' in str(x._Tags).lower()), 'No')\n",
        "    return (x[6], tag)\n",
        "\n",
        "def process_posts(posts_by_date, languagesData):\n",
        "    language_names = [str(x[0]) for x in languagesData.collect()]\n",
        "    posts_by_date_rdd = posts_by_date.rdd.map(lambda x: includes_name(x, language_names)).filter(lambda x: x[1] != 'No')\n",
        "    posts_by_date_rdd_group = posts_by_date_rdd.keyBy(lambda row: (row[0].year, row[1])) .aggregateByKey(0, lambda x, y: x + 1, lambda x1, x2: x1 + x2) .sortBy(lambda x: x[1], ascending=False).collect()\n",
        "    return posts_by_date_rdd_group\n",
        "\n",
        "def get_top_languages_by_years(posts_by_date_rdd_group):\n",
        "    years = list(range(2022, 2009, -1))\n",
        "    df_by_years = []\n",
        "    for year in years:\n",
        "        df_by_years.extend([row for row in posts_by_date_rdd_group if row[0][0] == year][:10])\n",
        "\n",
        "    return df_by_years\n",
        "\n",
        "def create_dataframe(df_by_years):\n",
        "    row_template = Row('Year', 'Language', 'Count')\n",
        "    return spark.createDataFrame([row_template(*x) for x in df_by_years])\n",
        "\n",
        "def main(posts_by_date, languagesData):\n",
        "    result_df = create_dataframe(get_top_languages_by_years(process_posts(posts_by_date, languagesData)))\n",
        "    result_df.show()\n",
        "    result_df.write.mode(\"overwrite\").parquet(\"top_10_languages.parquet\")\n",
        "\n",
        "main(posts_by_date, languagesData)"
      ],
      "metadata": {
        "colab": {
          "base_uri": "https://localhost:8080/"
        },
        "id": "evC_7REe4Mue",
        "outputId": "ba770cc7-fecd-4add-e58b-e002144860e7"
      },
      "execution_count": 6,
      "outputs": [
        {
          "output_type": "stream",
          "name": "stdout",
          "text": [
            "+------------------+--------+\n",
            "|              Year|Language|\n",
            "+------------------+--------+\n",
            "|    {2019, Python}|     162|\n",
            "|{2019, JavaScript}|     131|\n",
            "|      {2019, Java}|      95|\n",
            "|       {2019, PHP}|      59|\n",
            "|         {2019, R}|      36|\n",
            "|         {2019, C}|      14|\n",
            "|      {2019, Dart}|       9|\n",
            "|    {2019, MATLAB}|       9|\n",
            "|        {2019, Go}|       9|\n",
            "|      {2019, Bash}|       8|\n",
            "|    {2018, Python}|     214|\n",
            "|{2018, JavaScript}|     196|\n",
            "|      {2018, Java}|     145|\n",
            "|       {2018, PHP}|      99|\n",
            "|         {2018, R}|      63|\n",
            "|         {2018, C}|      24|\n",
            "|     {2018, Scala}|      22|\n",
            "|{2018, TypeScript}|      21|\n",
            "|{2018, PowerShell}|      13|\n",
            "|      {2018, Bash}|      12|\n",
            "+------------------+--------+\n",
            "only showing top 20 rows\n",
            "\n"
          ]
        }
      ]
    }
  ]
}