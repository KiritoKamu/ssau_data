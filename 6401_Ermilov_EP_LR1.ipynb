{
  "nbformat": 4,
  "nbformat_minor": 0,
  "metadata": {
    "colab": {
      "provenance": []
    },
    "kernelspec": {
      "name": "python3",
      "display_name": "Python 3"
    },
    "language_info": {
      "name": "python"
    }
  },
  "cells": [
    {
      "cell_type": "code",
      "execution_count": 1,
      "metadata": {
        "colab": {
          "base_uri": "https://localhost:8080/"
        },
        "id": "N-cGJNpStgC4",
        "outputId": "c9a6a459-70f8-4fcc-b4ed-356e2eb6bdeb"
      },
      "outputs": [
        {
          "output_type": "stream",
          "name": "stdout",
          "text": [
            "Requirement already satisfied: pyspark in /usr/local/lib/python3.11/dist-packages (3.5.5)\n",
            "Requirement already satisfied: py4j==0.10.9.7 in /usr/local/lib/python3.11/dist-packages (from pyspark) (0.10.9.7)\n"
          ]
        }
      ],
      "source": [
        "!pip install pyspark\n",
        "from pyspark.sql import SparkSession\n",
        "spark = SparkSession.builder.master(\"local[*]\").getOrCreate()\n",
        "spark\n",
        "from pyspark.sql import functions as F"
      ]
    },
    {
      "cell_type": "code",
      "source": [
        "# Выгрузка CSV с автоподбором типа\n",
        "def load_csv(spark, file_path):\n",
        "  return spark.read.option(\"header\", \"true\").option(\"inferSchema\", \"true\").csv(file_path)\n",
        "\n",
        "# Инициализация сессии\n",
        "def init(session_name):\n",
        "    return SparkSession.builder \\\n",
        "        .appName(session_name) \\\n",
        "        .config(\"spark.sql.legacy.timeParserPolicy\", \"LEGACY\") \\\n",
        "        .getOrCreate()\n",
        "\n",
        "\n",
        "spark, trips_df, stations_df = init(\"lr2\"), load_csv(spark, \"trip.csv\"), load_csv(spark, \"station.csv\")\n",
        "\n",
        "print(stations_df.dtypes, '\\n', trips_df.dtypes, sep='\\n')"
      ],
      "metadata": {
        "colab": {
          "base_uri": "https://localhost:8080/"
        },
        "id": "sYrvoMSDoyZI",
        "outputId": "2ecb72ed-15c3-4d20-c6de-1b5df8a52da4"
      },
      "execution_count": 2,
      "outputs": [
        {
          "output_type": "stream",
          "name": "stdout",
          "text": [
            "[('id', 'int'), ('name', 'string'), ('lat', 'double'), ('long', 'double'), ('dock_count', 'int'), ('city', 'string'), ('installation_date', 'string')]\n",
            "\n",
            "\n",
            "[('id', 'int'), ('duration', 'int'), ('start_date', 'string'), ('start_station_name', 'string'), ('start_station_id', 'int'), ('end_date', 'string'), ('end_station_name', 'string'), ('end_station_id', 'int'), ('bike_id', 'int'), ('subscription_type', 'string'), ('zip_code', 'string')]\n"
          ]
        }
      ]
    },
    {
      "cell_type": "code",
      "source": [
        "# Задание 1. Найти велосипед с максимальным временем пробега\n",
        "\n",
        "result = (\n",
        "    trips_df.withColumn(\"duration_minutes\",\n",
        "                        (F.unix_timestamp(\"end_date\", \"M/d/yyyy H:mm\") -\n",
        "                         F.unix_timestamp(\"start_date\", \"M/d/yyyy H:mm\")) / 3600)\n",
        "    .groupBy(\"bike_id\")\n",
        "    .agg(F.sum(\"duration_minutes\").alias(\"total_duration_minutes\"))\n",
        "    .orderBy(F.desc(\"total_duration_minutes\"))\n",
        "    .limit(1)\n",
        ").collect()[0]\n",
        "\n",
        "print(f\"Ответ: Велосипед с ID {result.bike_id} имеет максимальное время пробега: {int(result.total_duration_minutes)} часов\")\n"
      ],
      "metadata": {
        "colab": {
          "base_uri": "https://localhost:8080/"
        },
        "id": "I8jLMQKKpNMa",
        "outputId": "38486247-4ae2-4bfb-f79b-12fda8cc90c6"
      },
      "execution_count": 3,
      "outputs": [
        {
          "output_type": "stream",
          "name": "stdout",
          "text": [
            "Ответ: Велосипед с ID 535 имеет максимальное время пробега: 5171 часов\n"
          ]
        }
      ]
    },
    {
      "cell_type": "code",
      "source": [
        "# Задание 2. Найти наибольшее геодезическое расстояние между станциями.\n",
        "\n",
        "from pyspark.sql.functions import max, radians, sin, cos, acos, col\n",
        "\n",
        "# Функция для вычисления геодезического расстояния между двумя точками\n",
        "def dist_calc(lat1, lon1, lat2, lon2):\n",
        "\n",
        "    lat1, lat2, lon1, lon2 = radians(lat1), radians(lat2), radians(lon1), radians(lon2)\n",
        "    return 6371 * acos(sin(lat1) * sin(lat2) + cos(lat1) * cos(lat2) * cos(lon2 - lon1))\n",
        "\n",
        "max_distance = (stations_df.alias(\"station1\")\n",
        "                .crossJoin(stations_df.alias(\"station2\"))\n",
        "                .filter(col(\"station1.id\") < col(\"station2.id\"))\n",
        "                .withColumn(\"distance\", dist_calc(col(\"station1.lat\"), col(\"station1.long\"), col(\"station2.lat\"), col(\"station2.long\")))\n",
        "                .agg(max(\"distance\").alias(\"max_distance\"))\n",
        "                .collect()[0][\"max_distance\"])\n",
        "\n",
        "print(f\"Ответ: Максимальное геодезическое расстояние между станциями: {max_distance:.6f} км\")"
      ],
      "metadata": {
        "colab": {
          "base_uri": "https://localhost:8080/"
        },
        "id": "TeydKpupshjW",
        "outputId": "a52eb1ad-459a-4200-96ae-34cb459704cd"
      },
      "execution_count": 4,
      "outputs": [
        {
          "output_type": "stream",
          "name": "stdout",
          "text": [
            "Ответ: Максимальное геодезическое расстояние между станциями: 69.920876 км\n"
          ]
        }
      ]
    },
    {
      "cell_type": "code",
      "source": [
        "# Задание 3. Найти путь велосипеда с максимальным временем пробега через станции.\n",
        "result = (\n",
        "    trips_df.withColumn(\n",
        "        \"duration_minutes\",\n",
        "        (F.unix_timestamp(\"end_date\", \"M/d/yyyy H:mm\") -\n",
        "         F.unix_timestamp(\"start_date\", \"M/d/yyyy H:mm\")) / 60\n",
        "        )\n",
        "    .groupBy(\"bike_id\")\n",
        "    .agg(F.sum(\"duration_minutes\").alias(\"total_duration_minutes\"))\n",
        "    .orderBy(F.desc(\"total_duration_minutes\"))\n",
        "    .limit(1)\n",
        ")\n",
        "\n",
        "\n",
        "max_bike_duration = result.collect()\n",
        "\n",
        "if max_bike_duration:\n",
        "    bike_id_max = max_bike_duration[0][\"bike_id\"]\n",
        "    total_duration = max_bike_duration[0][\"total_duration_minutes\"]\n",
        "\n",
        "    # Отбираем поездки для этого велосипеда и сортируем по времени начала\n",
        "    bike_trips = trips_df.filter(F.col(\"bike_id\") == bike_id_max) .select(\"start_date\", \"start_station_name\", \"end_date\", \"end_station_name\").orderBy(\"start_date\")\n",
        "    bike_trips.show(truncate=False)\n"
      ],
      "metadata": {
        "colab": {
          "base_uri": "https://localhost:8080/"
        },
        "id": "CGvVsXGnszHp",
        "outputId": "4cc1c3a2-7609-4e37-87fd-f0dbd6f4310b"
      },
      "execution_count": 5,
      "outputs": [
        {
          "output_type": "stream",
          "name": "stdout",
          "text": [
            "+---------------+---------------------------------------------+---------------+---------------------------------------------+\n",
            "|start_date     |start_station_name                           |end_date       |end_station_name                             |\n",
            "+---------------+---------------------------------------------+---------------+---------------------------------------------+\n",
            "|1/1/2014 13:42 |Mechanics Plaza (Market at Battery)          |1/1/2014 14:36 |Embarcadero at Sansome                       |\n",
            "|1/1/2014 18:51 |Embarcadero at Sansome                       |1/1/2014 19:13 |Market at 4th                                |\n",
            "|1/1/2014 19:48 |Market at 4th                                |1/1/2014 20:01 |South Van Ness at Market                     |\n",
            "|1/10/2014 20:13|Market at 10th                               |1/10/2014 20:17|Powell Street BART                           |\n",
            "|1/10/2014 8:09 |Embarcadero at Folsom                        |1/10/2014 8:19 |San Francisco Caltrain (Townsend at 4th)     |\n",
            "|1/10/2014 8:21 |San Francisco Caltrain (Townsend at 4th)     |1/10/2014 8:31 |Temporary Transbay Terminal (Howard at Beale)|\n",
            "|1/10/2014 9:19 |Temporary Transbay Terminal (Howard at Beale)|1/10/2014 9:32 |Market at 10th                               |\n",
            "|1/11/2014 19:06|Powell Street BART                           |1/11/2014 19:11|Market at 10th                               |\n",
            "|1/12/2014 12:21|Market at 10th                               |1/12/2014 12:29|Market at 4th                                |\n",
            "|1/12/2014 17:36|Market at 4th                                |1/12/2014 17:58|San Francisco Caltrain (Townsend at 4th)     |\n",
            "|1/13/2014 17:04|Davis at Jackson                             |1/13/2014 17:06|Beale at Market                              |\n",
            "|1/13/2014 18:09|Beale at Market                              |1/13/2014 18:13|Davis at Jackson                             |\n",
            "|1/13/2014 6:43 |San Francisco Caltrain (Townsend at 4th)     |1/13/2014 6:54 |Embarcadero at Vallejo                       |\n",
            "|1/13/2014 8:20 |San Francisco Caltrain (Townsend at 4th)     |1/13/2014 8:31 |Market at Sansome                            |\n",
            "|1/13/2014 8:52 |Market at Sansome                            |1/13/2014 8:56 |Davis at Jackson                             |\n",
            "|1/14/2014 11:52|Howard at 2nd                                |1/14/2014 11:55|2nd at South Park                            |\n",
            "|1/14/2014 13:12|2nd at South Park                            |1/14/2014 13:14|2nd at Folsom                                |\n",
            "|1/14/2014 13:20|2nd at Folsom                                |1/14/2014 14:02|2nd at South Park                            |\n",
            "|1/14/2014 16:22|2nd at South Park                            |1/14/2014 16:26|San Francisco Caltrain (Townsend at 4th)     |\n",
            "|1/14/2014 20:23|San Francisco Caltrain (Townsend at 4th)     |1/14/2014 20:29|Embarcadero at Bryant                        |\n",
            "+---------------+---------------------------------------------+---------------+---------------------------------------------+\n",
            "only showing top 20 rows\n",
            "\n"
          ]
        }
      ]
    },
    {
      "cell_type": "code",
      "source": [
        "# Задание 4. Найти количество велосипедов в системе.\n",
        "\n",
        "total_bikes = trips_df.select(\"bike_id\").distinct().count()\n",
        "print(f\"Количество уникальных велосипедов в системе: {total_bikes}\")\n"
      ],
      "metadata": {
        "colab": {
          "base_uri": "https://localhost:8080/"
        },
        "id": "WLXN1iSHsuNK",
        "outputId": "fbf8ae13-2f14-4ceb-d97a-341c5553daf7"
      },
      "execution_count": 6,
      "outputs": [
        {
          "output_type": "stream",
          "name": "stdout",
          "text": [
            "Количество уникальных велосипедов в системе: 700\n"
          ]
        }
      ]
    },
    {
      "cell_type": "code",
      "source": [
        "# Задание 5. Найти пользователей потративших на поездки более 3 часов.\n",
        "\n",
        "trips_with_duration = trips_df.withColumn(\n",
        "    \"trip_hours\",\n",
        "    (F.unix_timestamp(\"end_date\", \"M/d/yyyy H:mm\") -\n",
        "     F.unix_timestamp(\"start_date\", \"M/d/yyyy H:mm\")) / 3600\n",
        ")\n",
        "\n",
        "user_trip_summary = trips_with_duration.groupBy(\"zip_code\").agg(\n",
        "    F.sum(\"trip_hours\").alias(\"hours\")\n",
        ")\n",
        "active_users = user_trip_summary.filter(F.col(\"hours\") > 3)\n",
        "\n",
        "active_users.select(\"zip_code\", \"hours\").show()\n"
      ],
      "metadata": {
        "colab": {
          "base_uri": "https://localhost:8080/"
        },
        "id": "927orlxytScU",
        "outputId": "a644c717-10c8-4832-b964-4d34a741e227"
      },
      "execution_count": 9,
      "outputs": [
        {
          "output_type": "stream",
          "name": "stdout",
          "text": [
            "+--------+------------------+\n",
            "|zip_code|             hours|\n",
            "+--------+------------------+\n",
            "|   94102| 5312.433333333343|\n",
            "|   95134|201.89999999999984|\n",
            "|   84606|26.383333333333333|\n",
            "|   80305| 50.16666666666665|\n",
            "|   60070|              8.05|\n",
            "|   95519| 8.416666666666666|\n",
            "|   43085|3.2333333333333334|\n",
            "|   91910|13.999999999999998|\n",
            "|   77339|3.8333333333333335|\n",
            "|   48063|               3.8|\n",
            "|   85022|3.4833333333333334|\n",
            "|    1090| 5.666666666666666|\n",
            "|    2136| 4.433333333333334|\n",
            "|   11722|              6.75|\n",
            "|   95138|             43.05|\n",
            "|   94610|1008.1666666666683|\n",
            "|   94404| 996.8833333333289|\n",
            "|   80301| 42.28333333333333|\n",
            "|   91326|18.266666666666666|\n",
            "|   90742|3.0500000000000003|\n",
            "+--------+------------------+\n",
            "only showing top 20 rows\n",
            "\n"
          ]
        }
      ]
    }
  ]
}