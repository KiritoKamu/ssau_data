{
 "cells": [
  {
   "cell_type": "markdown",
   "metadata": {
    "id": "82OvPKEiEqjc"
   },
   "source": [
    "# Введение в MapReduce модель на Python\n"
   ]
  },
  {
   "cell_type": "code",
   "execution_count": 48,
   "metadata": {
    "id": "JQ2cvXLjICmI"
   },
   "outputs": [],
   "source": [
    "from typing import NamedTuple # requires python 3.6+\n",
    "from typing import Iterator"
   ]
  },
  {
   "cell_type": "code",
   "execution_count": 49,
   "metadata": {
    "id": "yjPHumVwEyEg"
   },
   "outputs": [],
   "source": [
    "def MAP(_, row:NamedTuple):\n",
    "  if (row.gender == 'female'):\n",
    "    yield (row.age, row)\n",
    "    \n",
    "def REDUCE(age:str, rows:Iterator[NamedTuple]):\n",
    "  sum = 0\n",
    "  count = 0\n",
    "  for row in rows:\n",
    "    sum += row.social_contacts\n",
    "    count += 1\n",
    "  if (count > 0):\n",
    "    yield (age, sum/count)\n",
    "  else:\n",
    "    yield (age, 0)"
   ]
  },
  {
   "cell_type": "markdown",
   "metadata": {
    "id": "vBKMgpG_ilaZ"
   },
   "source": [
    "Модель элемента данных"
   ]
  },
  {
   "cell_type": "code",
   "execution_count": 50,
   "metadata": {
    "id": "Rv-XIjhTJPx3"
   },
   "outputs": [],
   "source": [
    "class User(NamedTuple):\n",
    "  id: int\n",
    "  age: str\n",
    "  social_contacts: int\n",
    "  gender: str"
   ]
  },
  {
   "cell_type": "code",
   "execution_count": 51,
   "metadata": {
    "id": "5KV0Ze2vQgu5"
   },
   "outputs": [],
   "source": [
    "input_collection = [\n",
    "    User(id=0, age=55, gender='male', social_contacts=20),\n",
    "    User(id=1, age=25, gender='female', social_contacts=240),\n",
    "    User(id=2, age=25, gender='female', social_contacts=500),\n",
    "    User(id=3, age=33, gender='female', social_contacts=800)\n",
    "]"
   ]
  },
  {
   "cell_type": "markdown",
   "metadata": {
    "id": "YFeqzyZxZIFZ"
   },
   "source": [
    "Функция RECORDREADER моделирует чтение элементов с диска или по сети."
   ]
  },
  {
   "cell_type": "code",
   "execution_count": 52,
   "metadata": {
    "id": "S5HR4E_GQoMJ"
   },
   "outputs": [],
   "source": [
    "def RECORDREADER():\n",
    "  return [(u.id, u) for u in input_collection]"
   ]
  },
  {
   "cell_type": "code",
   "execution_count": 53,
   "metadata": {
    "colab": {
     "base_uri": "https://localhost:8080/",
     "height": 85
    },
    "id": "NeEoWla-ROUy",
    "outputId": "94ca6e0e-4644-4282-acbf-1759d7ba2918"
   },
   "outputs": [
    {
     "data": {
      "text/plain": [
       "[(0, User(id=0, age=55, social_contacts=20, gender='male')),\n",
       " (1, User(id=1, age=25, social_contacts=240, gender='female')),\n",
       " (2, User(id=2, age=25, social_contacts=500, gender='female')),\n",
       " (3, User(id=3, age=33, social_contacts=800, gender='female'))]"
      ]
     },
     "execution_count": 53,
     "metadata": {},
     "output_type": "execute_result"
    }
   ],
   "source": [
    "list(RECORDREADER())"
   ]
  },
  {
   "cell_type": "code",
   "execution_count": 54,
   "metadata": {
    "id": "YB8orgPSZs8M"
   },
   "outputs": [],
   "source": [
    "def flatten(nested_iterable):\n",
    "  for iterable in nested_iterable:\n",
    "    for element in iterable:\n",
    "      yield element"
   ]
  },
  {
   "cell_type": "code",
   "execution_count": 55,
   "metadata": {
    "colab": {
     "base_uri": "https://localhost:8080/",
     "height": 68
    },
    "id": "74oyvDLaRmd5",
    "outputId": "c6147702-7153-47c7-a574-d5fe6abe29a8"
   },
   "outputs": [
    {
     "data": {
      "text/plain": [
       "[(25, User(id=1, age=25, social_contacts=240, gender='female')),\n",
       " (25, User(id=2, age=25, social_contacts=500, gender='female')),\n",
       " (33, User(id=3, age=33, social_contacts=800, gender='female'))]"
      ]
     },
     "execution_count": 55,
     "metadata": {},
     "output_type": "execute_result"
    }
   ],
   "source": [
    "map_output = flatten(map(lambda x: MAP(*x), RECORDREADER()))\n",
    "map_output = list(map_output) # materialize\n",
    "map_output"
   ]
  },
  {
   "cell_type": "code",
   "execution_count": 56,
   "metadata": {
    "id": "8ncYDJ3-VzDn"
   },
   "outputs": [],
   "source": [
    "def groupbykey(iterable):\n",
    "  t = {}\n",
    "  for (k2, v2) in iterable:\n",
    "    t[k2] = t.get(k2, []) + [v2]\n",
    "  return t.items()"
   ]
  },
  {
   "cell_type": "code",
   "execution_count": 57,
   "metadata": {
    "colab": {
     "base_uri": "https://localhost:8080/",
     "height": 85
    },
    "id": "cKzY_6COWOA2",
    "outputId": "e6791b12-e409-47e9-bcd4-e9f8ca8611bd"
   },
   "outputs": [
    {
     "data": {
      "text/plain": [
       "[(25,\n",
       "  [User(id=1, age=25, social_contacts=240, gender='female'),\n",
       "   User(id=2, age=25, social_contacts=500, gender='female')]),\n",
       " (33, [User(id=3, age=33, social_contacts=800, gender='female')])]"
      ]
     },
     "execution_count": 57,
     "metadata": {},
     "output_type": "execute_result"
    }
   ],
   "source": [
    "shuffle_output = groupbykey(map_output)\n",
    "shuffle_output = list(shuffle_output)\n",
    "shuffle_output"
   ]
  },
  {
   "cell_type": "code",
   "execution_count": 58,
   "metadata": {
    "colab": {
     "base_uri": "https://localhost:8080/",
     "height": 34
    },
    "id": "NlA7lkDDYL0t",
    "outputId": "6b25d03f-5c92-4f3b-f500-6d70acd598b7"
   },
   "outputs": [
    {
     "data": {
      "text/plain": [
       "[(25, 370.0), (33, 800.0)]"
      ]
     },
     "execution_count": 58,
     "metadata": {},
     "output_type": "execute_result"
    }
   ],
   "source": [
    "reduce_output = flatten(map(lambda x: REDUCE(*x), shuffle_output))\n",
    "reduce_output = list(reduce_output)\n",
    "reduce_output"
   ]
  },
  {
   "cell_type": "markdown",
   "metadata": {
    "id": "xf6qhHEtd6bI"
   },
   "source": [
    "Все действия одним конвейером!"
   ]
  },
  {
   "cell_type": "code",
   "execution_count": 59,
   "metadata": {
    "colab": {
     "base_uri": "https://localhost:8080/",
     "height": 34
    },
    "id": "dZaQGYxCdpw5",
    "outputId": "3f5c6425-e5c5-49d2-b2cd-ce58a9acc33c"
   },
   "outputs": [
    {
     "data": {
      "text/plain": [
       "[(25, 370.0), (33, 800.0)]"
      ]
     },
     "execution_count": 59,
     "metadata": {},
     "output_type": "execute_result"
    }
   ],
   "source": [
    "list(flatten(map(lambda x: REDUCE(*x), groupbykey(flatten(map(lambda x: MAP(*x), RECORDREADER()))))))"
   ]
  },
  {
   "cell_type": "markdown",
   "metadata": {
    "id": "Vq3EWRIpwSiJ"
   },
   "source": [
    "# **MapReduce**\n",
    "Выделим общую для всех пользователей часть системы в отдельную функцию высшего порядка. Это наиболее простая модель MapReduce, без учёта распределённого хранения данных. \n",
    "\n",
    "Пользователь для решения своей задачи реализует RECORDREADER, MAP, REDUCE."
   ]
  },
  {
   "cell_type": "code",
   "execution_count": 60,
   "metadata": {
    "id": "V1PZeQMwwVjc"
   },
   "outputs": [],
   "source": [
    "def flatten(nested_iterable):\n",
    "  for iterable in nested_iterable:\n",
    "    for element in iterable:\n",
    "      yield element\n",
    "\n",
    "def groupbykey(iterable):\n",
    "  t = {}\n",
    "  for (k2, v2) in iterable:\n",
    "    t[k2] = t.get(k2, []) + [v2]\n",
    "  return t.items()\n",
    "\n",
    "def MapReduce(RECORDREADER, MAP, REDUCE):\n",
    "  return flatten(map(lambda x: REDUCE(*x), groupbykey(flatten(map(lambda x: MAP(*x), RECORDREADER())))))"
   ]
  },
  {
   "cell_type": "markdown",
   "metadata": {
    "id": "iFIVrimep678"
   },
   "source": [
    "## Спецификация MapReduce\n",
    "\n",
    "\n",
    "\n",
    "```\n",
    "f (k1, v1) -> (k2,v2)*\n",
    "g (k2, v2*) -> (k3,v3)*\n",
    " \n",
    "mapreduce ((k1,v1)*) -> (k3,v3)*\n",
    "groupby ((k2,v2)*) -> (k2,v2*)*\n",
    "flatten (e2**) -> e2*\n",
    " \n",
    "mapreduce .map(f).flatten.groupby(k2).map(g).flatten\n",
    "```\n",
    "\n",
    "\n"
   ]
  },
  {
   "cell_type": "markdown",
   "metadata": {
    "id": "QtTFyqke3KGe"
   },
   "source": [
    "# Примеры"
   ]
  },
  {
   "cell_type": "markdown",
   "metadata": {
    "id": "BNhh5763w5Vn"
   },
   "source": [
    "## SQL "
   ]
  },
  {
   "cell_type": "code",
   "execution_count": 61,
   "metadata": {
    "colab": {
     "base_uri": "https://localhost:8080/",
     "height": 34
    },
    "id": "QkyurnvGxBGk",
    "outputId": "84761282-d2ba-435a-e8d7-a85150730e10"
   },
   "outputs": [
    {
     "data": {
      "text/plain": [
       "[(25, 370.0), (33, 800.0)]"
      ]
     },
     "execution_count": 61,
     "metadata": {},
     "output_type": "execute_result"
    }
   ],
   "source": [
    "from typing import NamedTuple # requires python 3.6+\n",
    "from typing import Iterator\n",
    "\n",
    "class User(NamedTuple):\n",
    "  id: int\n",
    "  age: str\n",
    "  social_contacts: int\n",
    "  gender: str\n",
    "    \n",
    "input_collection = [\n",
    "    User(id=0, age=55, gender='male', social_contacts=20),\n",
    "    User(id=1, age=25, gender='female', social_contacts=240),\n",
    "    User(id=2, age=25, gender='female', social_contacts=500),\n",
    "    User(id=3, age=33, gender='female', social_contacts=800)\n",
    "]\n",
    "\n",
    "def MAP(_, row:NamedTuple):\n",
    "  if (row.gender == 'female'):\n",
    "    yield (row.age, row)\n",
    "    \n",
    "def REDUCE(age:str, rows:Iterator[NamedTuple]):\n",
    "  sum = 0\n",
    "  count = 0\n",
    "  for row in rows:\n",
    "    sum += row.social_contacts\n",
    "    count += 1\n",
    "  if (count > 0):\n",
    "    yield (age, sum/count)\n",
    "  else:\n",
    "    yield (age, 0)\n",
    " \n",
    "def RECORDREADER():\n",
    "  return [(u.id, u) for u in input_collection]\n",
    "\n",
    "output = MapReduce(RECORDREADER, MAP, REDUCE)\n",
    "output = list(output)\n",
    "output"
   ]
  },
  {
   "cell_type": "markdown",
   "metadata": {
    "id": "kNKYIeerx0nY"
   },
   "source": [
    "## Matrix-Vector multiplication "
   ]
  },
  {
   "cell_type": "code",
   "execution_count": 62,
   "metadata": {
    "colab": {
     "base_uri": "https://localhost:8080/",
     "height": 102
    },
    "id": "rwcntRcCyi1V",
    "outputId": "606737ab-6b55-455c-931f-4fc45155f8a9"
   },
   "outputs": [
    {
     "data": {
      "text/plain": [
       "[(0, np.float64(1.86669384410221)),\n",
       " (1, np.float64(1.86669384410221)),\n",
       " (2, np.float64(1.86669384410221)),\n",
       " (3, np.float64(1.86669384410221)),\n",
       " (4, np.float64(1.86669384410221))]"
      ]
     },
     "execution_count": 62,
     "metadata": {},
     "output_type": "execute_result"
    }
   ],
   "source": [
    "from typing import Iterator\n",
    "import numpy as np\n",
    "\n",
    "mat = np.ones((5,4))\n",
    "vec = np.random.rand(4) # in-memory vector in all map tasks\n",
    "\n",
    "def MAP(coordinates:(int, int), value:int):\n",
    "  i, j = coordinates\n",
    "  yield (i, value*vec[j])\n",
    " \n",
    "def REDUCE(i:int, products:Iterator[NamedTuple]):\n",
    "  sum = 0\n",
    "  for p in products:\n",
    "    sum += p\n",
    "  yield (i, sum)\n",
    "\n",
    "def RECORDREADER():\n",
    "  for i in range(mat.shape[0]):\n",
    "    for j in range(mat.shape[1]):\n",
    "      yield ((i, j), mat[i,j])\n",
    "      \n",
    "output = MapReduce(RECORDREADER, MAP, REDUCE)\n",
    "output = list(output)\n",
    "output"
   ]
  },
  {
   "cell_type": "markdown",
   "metadata": {
    "id": "ruZREYdi2o4O"
   },
   "source": [
    "## Inverted index "
   ]
  },
  {
   "cell_type": "code",
   "execution_count": 63,
   "metadata": {
    "colab": {
     "base_uri": "https://localhost:8080/",
     "height": 102
    },
    "id": "vt9H9Alf3TYv",
    "outputId": "51aeffc9-e111-4607-bd84-cfcc7b56f238"
   },
   "outputs": [
    {
     "data": {
      "text/plain": [
       "[('what', ['0', '1']),\n",
       " ('is', ['0', '1', '2']),\n",
       " ('it', ['0', '1', '2']),\n",
       " ('banana', ['2']),\n",
       " ('a', ['2'])]"
      ]
     },
     "execution_count": 63,
     "metadata": {},
     "output_type": "execute_result"
    }
   ],
   "source": [
    "from typing import Iterator\n",
    "\n",
    "d1 = \"it is what it is\"\n",
    "d2 = \"what is it\"\n",
    "d3 = \"it is a banana\"\n",
    "documents = [d1, d2, d3]\n",
    "\n",
    "def RECORDREADER():\n",
    "  for (docid, document) in enumerate(documents):\n",
    "    yield (\"{}\".format(docid), document)\n",
    "      \n",
    "def MAP(docId:str, body:str):\n",
    "  for word in set(body.split(' ')):\n",
    "    yield (word, docId)\n",
    " \n",
    "def REDUCE(word:str, docIds:Iterator[str]):\n",
    "  yield (word, sorted(docIds))\n",
    "\n",
    "output = MapReduce(RECORDREADER, MAP, REDUCE)\n",
    "output = list(output)\n",
    "output"
   ]
  },
  {
   "cell_type": "markdown",
   "metadata": {
    "id": "R7az-6DA6qr2"
   },
   "source": [
    "## WordCount"
   ]
  },
  {
   "cell_type": "code",
   "execution_count": 64,
   "metadata": {
    "colab": {
     "base_uri": "https://localhost:8080/",
     "height": 34
    },
    "id": "dN-nbtgG6uYG",
    "outputId": "24117576-7931-401d-a581-28e246b23453"
   },
   "outputs": [
    {
     "data": {
      "text/plain": [
       "[('', 3), ('it', 9), ('is', 9), ('what', 5), ('a', 1), ('banana', 1)]"
      ]
     },
     "execution_count": 64,
     "metadata": {},
     "output_type": "execute_result"
    }
   ],
   "source": [
    "from typing import Iterator\n",
    "\n",
    "d1 = \"\"\"\n",
    "it is what it is\n",
    "it is what it is\n",
    "it is what it is\"\"\"\n",
    "d2 = \"\"\"\n",
    "what is it\n",
    "what is it\"\"\"\n",
    "d3 = \"\"\"\n",
    "it is a banana\"\"\"\n",
    "documents = [d1, d2, d3]\n",
    "\n",
    "def RECORDREADER():\n",
    "  for (docid, document) in enumerate(documents):\n",
    "    for (lineid, line) in enumerate(document.split('\\n')):\n",
    "      yield (\"{}:{}\".format(docid,lineid), line)\n",
    "\n",
    "def MAP(docId:str, line:str):\n",
    "  for word in line.split(\" \"):  \n",
    "    yield (word, 1)\n",
    " \n",
    "def REDUCE(word:str, counts:Iterator[int]):\n",
    "  sum = 0\n",
    "  for c in counts:\n",
    "    sum += c\n",
    "  yield (word, sum)\n",
    "\n",
    "output = MapReduce(RECORDREADER, MAP, REDUCE)\n",
    "output = list(output)\n",
    "output"
   ]
  },
  {
   "cell_type": "markdown",
   "metadata": {
    "id": "h-jRAcYCAkkk"
   },
   "source": [
    "# MapReduce Distributed\n",
    "\n",
    "Добавляется в модель фабрика RECORDREARER-ов --- INPUTFORMAT, функция распределения промежуточных результатов по партициям PARTITIONER, и функция COMBINER для частичной аггрегации промежуточных результатов до распределения по новым партициям."
   ]
  },
  {
   "cell_type": "code",
   "execution_count": 65,
   "metadata": {
    "id": "nw-b-xJsApgW"
   },
   "outputs": [],
   "source": [
    "def flatten(nested_iterable):\n",
    "  for iterable in nested_iterable:\n",
    "    for element in iterable:\n",
    "      yield element\n",
    "\n",
    "def groupbykey(iterable):\n",
    "  t = {}\n",
    "  for (k2, v2) in iterable:\n",
    "    t[k2] = t.get(k2, []) + [v2]\n",
    "  return t.items()\n",
    "      \n",
    "def groupbykey_distributed(map_partitions, PARTITIONER):\n",
    "  global reducers\n",
    "  partitions = [dict() for _ in range(reducers)]\n",
    "  for map_partition in map_partitions:\n",
    "    for (k2, v2) in map_partition:\n",
    "      p = partitions[PARTITIONER(k2)]\n",
    "      p[k2] = p.get(k2, []) + [v2]\n",
    "  return [(partition_id, sorted(partition.items(), key=lambda x: x[0])) for (partition_id, partition) in enumerate(partitions)]\n",
    " \n",
    "def PARTITIONER(obj):\n",
    "  global reducers\n",
    "  return hash(obj) % reducers\n",
    "  \n",
    "def MapReduceDistributed(INPUTFORMAT, MAP, REDUCE, PARTITIONER=PARTITIONER, COMBINER=None):\n",
    "  map_partitions = map(lambda record_reader: flatten(map(lambda k1v1: MAP(*k1v1), record_reader)), INPUTFORMAT())\n",
    "  if COMBINER != None:\n",
    "    map_partitions = map(lambda map_partition: flatten(map(lambda k2v2: COMBINER(*k2v2), groupbykey(map_partition))), map_partitions)\n",
    "  reduce_partitions = groupbykey_distributed(map_partitions, PARTITIONER) # shuffle\n",
    "  reduce_outputs = map(lambda reduce_partition: (reduce_partition[0], flatten(map(lambda reduce_input_group: REDUCE(*reduce_input_group), reduce_partition[1]))), reduce_partitions)\n",
    "  \n",
    "  print(\"{} key-value pairs were sent over a network.\".format(sum([len(vs) for (k,vs) in flatten([partition for (partition_id, partition) in reduce_partitions])])))\n",
    "  return reduce_outputs"
   ]
  },
  {
   "cell_type": "markdown",
   "metadata": {
    "id": "kxirlf3XqZxY"
   },
   "source": [
    "## Спецификация MapReduce Distributed\n",
    "\n",
    "\n",
    "```\n",
    "f (k1, v1) -> (k2,v2)*\n",
    "g (k2, v2*) -> (k3,v3)*\n",
    " \n",
    "e1 (k1, v1)\n",
    "e2 (k2, v2)\n",
    "partition1 (k2, v2)*\n",
    "partition2 (k2, v2*)*\n",
    " \n",
    "flatmap (e1->e2*, e1*) -> partition1*\n",
    "groupby (partition1*) -> partition2*\n",
    "\n",
    "mapreduce ((k1,v1)*) -> (k3,v3)*\n",
    "mapreduce .flatmap(f).groupby(k2).flatmap(g)\n",
    "```\n",
    "\n"
   ]
  },
  {
   "cell_type": "markdown",
   "metadata": {
    "id": "CWYw_CpbbY3C"
   },
   "source": [
    "## WordCount "
   ]
  },
  {
   "cell_type": "code",
   "execution_count": 66,
   "metadata": {
    "colab": {
     "base_uri": "https://localhost:8080/",
     "height": 68
    },
    "id": "uR_zfGFkMZlp",
    "outputId": "c8d46167-473d-43b9-881a-2396991b3731"
   },
   "outputs": [
    {
     "name": "stdout",
     "output_type": "stream",
     "text": [
      "56 key-value pairs were sent over a network.\n"
     ]
    },
    {
     "data": {
      "text/plain": [
       "[(0, [('', 6)]),\n",
       " (1, [('a', 2), ('banana', 2), ('is', 18), ('it', 18), ('what', 10)])]"
      ]
     },
     "execution_count": 66,
     "metadata": {},
     "output_type": "execute_result"
    }
   ],
   "source": [
    "from typing import Iterator\n",
    "import numpy as np\n",
    "\n",
    "d1 = \"\"\"\n",
    "it is what it is\n",
    "it is what it is\n",
    "it is what it is\"\"\"\n",
    "d2 = \"\"\"\n",
    "what is it\n",
    "what is it\"\"\"\n",
    "d3 = \"\"\"\n",
    "it is a banana\"\"\"\n",
    "documents = [d1, d2, d3, d1, d2, d3]\n",
    "\n",
    "maps = 3\n",
    "reducers = 2\n",
    "\n",
    "def INPUTFORMAT():\n",
    "  global maps\n",
    "  \n",
    "  def RECORDREADER(split):\n",
    "    for (docid, document) in enumerate(split):\n",
    "      for (lineid, line) in enumerate(document.split('\\n')):\n",
    "        yield (\"{}:{}\".format(docid,lineid), line)\n",
    "      \n",
    "  split_size =  int(np.ceil(len(documents)/maps))\n",
    "  for i in range(0, len(documents), split_size):\n",
    "    yield RECORDREADER(documents[i:i+split_size])\n",
    "\n",
    "def MAP(docId:str, line:str):\n",
    "  for word in line.split(\" \"):  \n",
    "    yield (word, 1)\n",
    " \n",
    "def REDUCE(word:str, counts:Iterator[int]):\n",
    "  sum = 0\n",
    "  for c in counts:\n",
    "    sum += c\n",
    "  yield (word, sum)\n",
    "  \n",
    "# try to set COMBINER=REDUCER and look at the number of values sent over the network \n",
    "partitioned_output = MapReduceDistributed(INPUTFORMAT, MAP, REDUCE, COMBINER=None) \n",
    "partitioned_output = [(partition_id, list(partition)) for (partition_id, partition) in partitioned_output]\n",
    "partitioned_output"
   ]
  },
  {
   "cell_type": "markdown",
   "metadata": {
    "id": "gCJGx8IQ87xS"
   },
   "source": [
    "## TeraSort"
   ]
  },
  {
   "cell_type": "code",
   "execution_count": 67,
   "metadata": {
    "colab": {
     "base_uri": "https://localhost:8080/",
     "height": 578
    },
    "id": "P2v8v1v_8_YR",
    "outputId": "e0987c25-9757-46cb-8e55-d5d2adfbee2b"
   },
   "outputs": [
    {
     "name": "stdout",
     "output_type": "stream",
     "text": [
      "30 key-value pairs were sent over a network.\n"
     ]
    },
    {
     "data": {
      "text/plain": [
       "[(0,\n",
       "  [(None, np.float64(0.017348953103087705)),\n",
       "   (None, np.float64(0.04354339443946065)),\n",
       "   (None, np.float64(0.0436648610718533)),\n",
       "   (None, np.float64(0.05229303311335398)),\n",
       "   (None, np.float64(0.11135027631555094)),\n",
       "   (None, np.float64(0.12901270562464384)),\n",
       "   (None, np.float64(0.14801037537103579)),\n",
       "   (None, np.float64(0.18723909036383202)),\n",
       "   (None, np.float64(0.28955785874993845)),\n",
       "   (None, np.float64(0.2950022609248738)),\n",
       "   (None, np.float64(0.36272960995206827)),\n",
       "   (None, np.float64(0.4097738990697871)),\n",
       "   (None, np.float64(0.4347507257802137))]),\n",
       " (1,\n",
       "  [(None, np.float64(0.5001296781910797)),\n",
       "   (None, np.float64(0.600650878387336)),\n",
       "   (None, np.float64(0.615935571211195)),\n",
       "   (None, np.float64(0.6473214654477273)),\n",
       "   (None, np.float64(0.6570537598203529)),\n",
       "   (None, np.float64(0.686116588899241)),\n",
       "   (None, np.float64(0.6940976390346056)),\n",
       "   (None, np.float64(0.7095811242578254)),\n",
       "   (None, np.float64(0.743147523002521)),\n",
       "   (None, np.float64(0.8203568295981825)),\n",
       "   (None, np.float64(0.8208755504606952)),\n",
       "   (None, np.float64(0.8320841828323278)),\n",
       "   (None, np.float64(0.8469054506529184)),\n",
       "   (None, np.float64(0.8487107849228616)),\n",
       "   (None, np.float64(0.9011036933441451)),\n",
       "   (None, np.float64(0.9351003482329442)),\n",
       "   (None, np.float64(0.9689415021355797))])]"
      ]
     },
     "execution_count": 67,
     "metadata": {},
     "output_type": "execute_result"
    }
   ],
   "source": [
    "import numpy as np\n",
    "\n",
    "input_values = np.random.rand(30)\n",
    "maps = 3\n",
    "reducers = 2\n",
    "min_value = 0.0\n",
    "max_value = 1.0\n",
    "\n",
    "def INPUTFORMAT():\n",
    "  global maps\n",
    "  \n",
    "  def RECORDREADER(split):\n",
    "    for value in split:\n",
    "        yield (value, None)\n",
    "      \n",
    "  split_size =  int(np.ceil(len(input_values)/maps))\n",
    "  for i in range(0, len(input_values), split_size):\n",
    "    yield RECORDREADER(input_values[i:i+split_size])\n",
    "    \n",
    "def MAP(value:int, _):\n",
    "  yield (value, None)\n",
    "  \n",
    "def PARTITIONER(key):\n",
    "  global reducers\n",
    "  global max_value\n",
    "  global min_value\n",
    "  bucket_size = (max_value-min_value)/reducers\n",
    "  bucket_id = 0\n",
    "  while((key>(bucket_id+1)*bucket_size) and ((bucket_id+1)*bucket_size<max_value)):\n",
    "    bucket_id += 1\n",
    "  return bucket_id\n",
    "\n",
    "def REDUCE(value:int, _):\n",
    "  yield (None,value)\n",
    "  \n",
    "partitioned_output = MapReduceDistributed(INPUTFORMAT, MAP, REDUCE, COMBINER=None, PARTITIONER=PARTITIONER)\n",
    "partitioned_output = [(partition_id, list(partition)) for (partition_id, partition) in partitioned_output]\n",
    "partitioned_output"
   ]
  },
  {
   "cell_type": "markdown",
   "metadata": {
    "id": "Iy65YJTH99iT"
   },
   "source": [
    "# Упражнения\n",
    "Упражнения взяты из Rajaraman A., Ullman J. D. Mining of massive datasets. – Cambridge University Press, 2011.\n",
    "\n",
    "\n",
    "Для выполнения заданий переопределите функции RECORDREADER, MAP, REDUCE. Для модели распределённой системы может потребоваться переопределение функций PARTITION и COMBINER."
   ]
  },
  {
   "cell_type": "markdown",
   "metadata": {
    "id": "cfvAeZm3S8S8"
   },
   "source": [
    "### Максимальное значение ряда\n",
    "\n",
    "Разработайте MapReduce алгоритм, который находит максимальное число входного списка чисел."
   ]
  },
  {
   "cell_type": "code",
   "execution_count": 68,
   "metadata": {
    "id": "3GRA1JR-Tkbg"
   },
   "outputs": [
    {
     "name": "stdout",
     "output_type": "stream",
     "text": [
      "Максимальное число: 999998795\n"
     ]
    }
   ],
   "source": [
    "import random\n",
    "from collections import defaultdict\n",
    "\n",
    "def mapper(numbers):\n",
    "    for number in numbers:\n",
    "        yield (None, number)\n",
    "        \n",
    "def reducer(key, values):\n",
    "    return max(values)\n",
    "\n",
    "def map_reduce(numbers):\n",
    "    mapped = []\n",
    "    for number in numbers:\n",
    "        mapped.append((None, number))\n",
    "\n",
    "    \n",
    "    grouped = defaultdict(list)\n",
    "    for key, value in mapped:\n",
    "        grouped[key].append(value)\n",
    "    \n",
    "    results = {}\n",
    "    for key, values in grouped.items():\n",
    "        results[key] = reducer(key, values)\n",
    "    \n",
    "    return results\n",
    "\n",
    "numbers = [random.randint(0, 1000000000) for i in range(1000000)]\n",
    "# Пример использования\n",
    "result = map_reduce(numbers)\n",
    "max_value = result[None]\n",
    "print(\"Максимальное число:\", max_value)\n"
   ]
  },
  {
   "cell_type": "markdown",
   "metadata": {
    "id": "k86bXnqZTk-U"
   },
   "source": [
    "### Арифметическое среднее\n",
    "\n",
    "Разработайте MapReduce алгоритм, который находит арифметическое среднее.\n",
    "\n",
    "$$\\overline{X} = \\frac{1}{n}\\sum_{i=0}^{n} x_i$$\n"
   ]
  },
  {
   "cell_type": "code",
   "execution_count": 69,
   "metadata": {
    "id": "MPoY5pkfUNZf"
   },
   "outputs": [
    {
     "name": "stdout",
     "output_type": "stream",
     "text": [
      "Арифметическое среднее: 499864341.200327\n"
     ]
    }
   ],
   "source": [
    "def mapper(numbers):\n",
    "    for number in numbers:\n",
    "        yield (None, (number, 1))  \n",
    "\n",
    "def reducer(key, values):\n",
    "    total_sum = 0\n",
    "    count = 0\n",
    "    for value in values:\n",
    "        total_sum += value[0]  # Суммируем числа\n",
    "        count += value[1]      # Считаем количество\n",
    "    return total_sum, count\n",
    "\n",
    "def map_reduce(numbers):\n",
    "    mapped = []\n",
    "    for number in numbers:\n",
    "        mapped.append((None, (number, 1))) \n",
    "    \n",
    "    grouped = defaultdict(list)\n",
    "    for key, value in mapped:\n",
    "        grouped[key].append(value)  \n",
    "    \n",
    "    results = {}\n",
    "    for key, values in grouped.items():\n",
    "        results[key] = reducer(key, values)  \n",
    "    \n",
    "    return results\n",
    "\n",
    "numbers = [random.randint(0, 1000000000) for k in range(1000000)]\n",
    "\n",
    "# Пример использования\n",
    "result = map_reduce(numbers)\n",
    "total_sum, count = result[None]\n",
    "\n",
    "if count > 0:\n",
    "    average = total_sum / count  # Вычисляем среднее\n",
    "else:\n",
    "    average = 0\n",
    "\n",
    "print(\"Арифметическое среднее:\", average)\n"
   ]
  },
  {
   "cell_type": "markdown",
   "metadata": {
    "id": "xanzszhsIlLe"
   },
   "source": [
    "### GroupByKey на основе сортировки\n",
    "\n",
    "Реализуйте groupByKey на основе сортировки, проверьте его работу на примерах"
   ]
  },
  {
   "cell_type": "code",
   "execution_count": 70,
   "metadata": {
    "id": "hQPn3USsIkEC"
   },
   "outputs": [
    {
     "name": "stdout",
     "output_type": "stream",
     "text": [
      "Результат для data1:\n",
      "{1: ['a', 'c'], 2: ['b', 'e'], 3: ['d']}\n",
      "\n",
      "Результат для data2:\n",
      "{1: ['w'], 2: ['y', 'v'], 4: ['x', 'z']}\n"
     ]
    }
   ],
   "source": [
    "def groupbykey(iterable):\n",
    "    # Сортируем входные данные по ключу\n",
    "    sorted_iterable = sorted(iterable, key=lambda x: x[0])\n",
    "    \n",
    "    grouped = {}\n",
    "    \n",
    "    for (k2, v2) in sorted_iterable:\n",
    "        # Добавляем значение к соответствующему ключу\n",
    "        if k2 not in grouped:\n",
    "            grouped[k2] = []\n",
    "        grouped[k2].append(v2)\n",
    "    \n",
    "    return grouped.items()\n",
    "\n",
    "# Примеры использования\n",
    "data1 = [\n",
    "    (1, 'a'),\n",
    "    (2, 'b'),\n",
    "    (1, 'c'),\n",
    "    (3, 'd'),\n",
    "    (2, 'e'),\n",
    "]\n",
    "\n",
    "data2 = [\n",
    "    (4, 'x'),\n",
    "    (2, 'y'),\n",
    "    (4, 'z'),\n",
    "    (1, 'w'),\n",
    "    (2, 'v'),\n",
    "]\n",
    "\n",
    "print(\"Результат для data1:\")\n",
    "print(dict(groupbykey(data1)))  \n",
    "\n",
    "print(\"\\nРезультат для data2:\")\n",
    "print(dict(groupbykey(data2)))"
   ]
  },
  {
   "cell_type": "markdown",
   "metadata": {
    "id": "5SgEjCZyGnu6"
   },
   "source": [
    "### Drop duplicates (set construction, unique elements, distinct)\n",
    "\n",
    "Реализуйте распределённую операцию исключения дубликатов"
   ]
  },
  {
   "cell_type": "code",
   "execution_count": 103,
   "metadata": {
    "id": "okjbyApjGhMt"
   },
   "outputs": [
    {
     "data": {
      "text/plain": [
       "[(0, ['lie', 'symmetric']), (1, ['asymmetric', 'central', 'is'])]"
      ]
     },
     "execution_count": 103,
     "metadata": {},
     "output_type": "execute_result"
    }
   ],
   "source": [
    "d1 = \"\"\"\n",
    "central symmetric\n",
    "central symmetric\n",
    "central symmetric\"\"\"\n",
    "d2 = \"\"\"\n",
    "central asymmetric\n",
    "central asymmetric\"\"\"\n",
    "d3 = \"\"\"\n",
    "asymmetric is lie\"\"\"\n",
    "\n",
    "def flatten(nested_iterable):\n",
    "    for iterable in nested_iterable:\n",
    "        yield from iterable\n",
    "\n",
    "def groupbykey(iterable):\n",
    "    grouped_data = {}\n",
    "    for key, value in iterable:\n",
    "        grouped_data.setdefault(key, []).append(value)\n",
    "    return list(grouped_data.items())\n",
    "\n",
    "def groupbykey_distributed(map_partitions, partitioner):\n",
    "    global reducers\n",
    "    partitions = [dict() for _ in range(reducers)]\n",
    "    \n",
    "    for map_partition in map_partitions:\n",
    "        for key, value in map_partition:\n",
    "            p = partitions[partitioner(key)]\n",
    "            p.setdefault(key, []).append(value)\n",
    "    \n",
    "    return [(partition_id, sorted(partition.items())) for partition_id, partition in enumerate(partitions)]\n",
    "\n",
    "def PARTITIONER(obj):\n",
    "    global reducers\n",
    "    return hash(obj) % reducers\n",
    "\n",
    "def MapReduceDistributed(inputformat, map_func, reduce_func, partitioner=PARTITIONER, combiner=None):\n",
    "    map_partitions = map(lambda record_reader: flatten(map(lambda k1v1: map_func(*k1v1), record_reader)), inputformat())\n",
    "    \n",
    "    if combiner is not None:\n",
    "        map_partitions = map(lambda map_partition: flatten(map(lambda k2v2: combiner(*k2v2), groupbykey(map_partition))), map_partitions)\n",
    "\n",
    "    reduce_partitions = groupbykey_distributed(map_partitions, partitioner)\n",
    "\n",
    "    reduce_outputs = map(lambda reduce_partition: (reduce_partition[0], flatten(map(lambda reduce_input_group: reduce_func(*reduce_input_group), reduce_partition[1]))), reduce_partitions)\n",
    "    \n",
    "    return reduce_outputs\n",
    "\n",
    "documents = [d1, d2, d3, d1, d2, d3]\n",
    "\n",
    "maps = 3\n",
    "reducers = 2\n",
    "\n",
    "def INPUTFORMAT():\n",
    "    global maps\n",
    "\n",
    "    def RECORDREADER(split):\n",
    "        for docid, document in enumerate(split):\n",
    "            for lineid, line in enumerate(document.split('\\n')):\n",
    "                if line.strip():\n",
    "                    yield (\"{}:{}\".format(docid, lineid), line)\n",
    "\n",
    "    split_size = int(np.ceil(len(documents) / maps))\n",
    "    for i in range(0, len(documents), split_size):\n",
    "        yield RECORDREADER(documents[i:i + split_size])\n",
    "\n",
    "def MAP(docId: str, line: str):\n",
    "    for word in line.split():\n",
    "        if word.strip():\n",
    "            yield (word, None)\n",
    "\n",
    "def REDUCE(key: str, values):\n",
    "    yield key\n",
    "\n",
    "def COMBINER(key, values):\n",
    "    yield (key, None)\n",
    "\n",
    "partitioned_output = MapReduceDistributed(INPUTFORMAT, MAP, REDUCE, partitioner=PARTITIONER, combiner=COMBINER)\n",
    "partitioned_output = [(partition_id, list(partition)) for partition_id, partition in partitioned_output]\n",
    "partitioned_output\n"
   ]
  },
  {
   "cell_type": "markdown",
   "metadata": {
    "id": "e7sRGoTXuJze"
   },
   "source": [
    "### Операторы реляционной алгебры\n",
    "### Selection (Выборка)\n",
    "\n",
    "**The Map Function**: Для  каждого кортежа $t \\in R$ вычисляется истинность предиката $C$. В случае истины создаётся пара ключ-значение $(t, t)$. В паре ключ и значение одинаковы, равны $t$.\n",
    "\n",
    "**The Reduce Function:** Роль функции Reduce выполняет функция идентичности, которая возвращает то же значение, что получила на вход.\n",
    "\n"
   ]
  },
  {
   "cell_type": "code",
   "execution_count": 99,
   "metadata": {
    "id": "4nKIKe59uIfc"
   },
   "outputs": [
    {
     "name": "stdout",
     "output_type": "stream",
     "text": [
      "Сгенерированные записи:\n",
      "[(37, 93, 22), (50, 43, 24), (82, 14, 39), (52, 13, 17), (92, 33, 70)]\n",
      "Записи, разделенные на части:\n",
      "[[(37, 93, 22), (50, 43, 24), (82, 14, 39), (52, 13, 17), (92, 33, 70)]]\n",
      "Результаты отображения:\n",
      "[dict_items([((50, 43, 24), [(50, 43, 24)]), ((82, 14, 39), [(82, 14, 39)]), ((52, 13, 17), [(52, 13, 17)]), ((92, 33, 70), [(92, 33, 70)])])]\n",
      "Сведенные результаты:\n",
      "[((50, 43, 24), [(50, 43, 24)]), ((82, 14, 39), [(82, 14, 39)]), ((52, 13, 17), [(52, 13, 17)]), ((92, 33, 70), [(92, 33, 70)])]\n"
     ]
    }
   ],
   "source": [
    "from collections import defaultdict\n",
    "import random\n",
    "\n",
    "def generate_records(count):\n",
    "    \"\"\"Создает список записей с случайными значениями.\"\"\"\n",
    "    return [(random.randint(0, 100), random.randint(0, 100), random.randint(0, 100)) for _ in range(count)]\n",
    "\n",
    "def filter_even(t):\n",
    "    \"\"\"Проверяет, является ли первый элемент кортежа четным.\"\"\"\n",
    "    return t[0] % 2 == 0\n",
    "\n",
    "def map_records(el_list):\n",
    "    \"\"\"Отображает записи, фильтруя их по условию.\"\"\"\n",
    "    mapped_result = defaultdict(list)\n",
    "    for t in el_list:\n",
    "        if filter_even(t):\n",
    "            mapped_result[t].append(t)\n",
    "    return mapped_result.items()\n",
    "\n",
    "def reduce_mapped_items(mapped_items):\n",
    "    \"\"\"Сводит отображенные элементы в один список.\"\"\"\n",
    "    reduced_result = []\n",
    "    for values in mapped_items:\n",
    "        for value in values:\n",
    "            reduced_result.append(value)\n",
    "    return reduced_result\n",
    "\n",
    "def partition_records(records, part_size):\n",
    "    \"\"\"Разделяет записи на части заданного размера.\"\"\"\n",
    "    return [records[i:i + part_size] for i in range(0, len(records), part_size)]\n",
    "\n",
    "# Основной код\n",
    "if __name__ == \"__main__\":\n",
    "    record_count = 5\n",
    "    records = generate_records(record_count)\n",
    "    \n",
    "    print(\"Сгенерированные записи:\")\n",
    "    print(records)\n",
    "\n",
    "    partition_size = 5\n",
    "    record_partitioned = partition_records(records, partition_size)\n",
    "    \n",
    "    print(\"Записи, разделенные на части:\")\n",
    "    print(record_partitioned)\n",
    "\n",
    "    # Применяем MAP и REDUCE\n",
    "    mapped_results = list(map(map_records, record_partitioned))\n",
    "    \n",
    "    print(\"Результаты отображения:\")\n",
    "    print(mapped_results)\n",
    "\n",
    "    reduced_results = reduce_mapped_items(mapped_results)\n",
    "    \n",
    "    print(\"Сведенные результаты:\")\n",
    "    print(reduced_results)\n"
   ]
  },
  {
   "cell_type": "markdown",
   "metadata": {
    "id": "w27Ca-_Ku85V"
   },
   "source": [
    "### Projection (Проекция)\n",
    "\n",
    "Проекция на множество атрибутов $S$.\n",
    "\n",
    "**The Map Function:** Для каждого кортежа $t \\in R$ создайте кортеж $t′$, исключая  из $t$ те значения, атрибуты которых не принадлежат  $S$. Верните пару $(t′, t′)$.\n",
    "\n",
    "**The Reduce Function:** Для каждого ключа $t′$, созданного любой Map задачей, вы получаете одну или несколько пар $(t′, t′)$. Reduce функция преобразует $(t′, [t′, t′, . . . , t′])$ в $(t′, t′)$, так, что для ключа $t′$ возвращается одна пара  $(t′, t′)$."
   ]
  },
  {
   "cell_type": "code",
   "execution_count": 84,
   "metadata": {
    "id": "BEvuY4GqvhS6"
   },
   "outputs": [
    {
     "name": "stdout",
     "output_type": "stream",
     "text": [
      "Сгенерированные записи: [(39, 20, 29), (49, 16, 94), (14, 79, 61), (24, 0, 58), (32, 30, 86)]\n",
      "MAP: [((66,), (66,)), ((), ()), ((), ()), ((66,), (66,)), ((), ()), ((), ()), ((), ()), ((), ()), ((), ()), ((), ()), ((), ()), ((), ()), ((), ()), ((), ()), ((), ()), ((), ()), ((), ()), ((), ()), ((), ()), ((), ()), ((), ()), ((), ()), ((), ()), ((), ()), ((66,), (66,)), ((), ()), ((), ()), ((), ()), ((), ()), ((), ()), ((), ()), ((), ()), ((), ()), ((), ()), ((), ()), ((), ()), ((), ()), ((), ()), ((), ()), ((), ()), ((), ()), ((), ()), ((), ()), ((), ()), ((), ()), ((), ()), ((), ()), ((), ()), ((), ()), ((), ()), ((), ()), ((), ()), ((63,), (63,)), ((), ()), ((), ()), ((), ()), ((), ()), ((), ()), ((), ()), ((), ()), ((), ()), ((), ()), ((), ()), ((), ()), ((), ()), ((), ()), ((), ()), ((), ()), ((), ()), ((), ()), ((66,), (66,)), ((), ()), ((), ()), ((), ()), ((), ()), ((63,), (63,)), ((), ()), ((), ()), ((), ()), ((63,), (63,)), ((), ()), ((), ()), ((), ()), ((), ()), ((), ()), ((63,), (63,)), ((63,), (63,)), ((), ()), ((), ()), ((), ()), ((), ()), ((), ()), ((), ()), ((), ()), ((), ()), ((), ()), ((), ()), ((), ()), ((), ()), ((), ())]\n",
      "Shuffle: [((66,), [(66,), (66,), (66,), (66,)]), ((), [(), (), (), (), (), (), (), (), (), (), (), (), (), (), (), (), (), (), (), (), (), (), (), (), (), (), (), (), (), (), (), (), (), (), (), (), (), (), (), (), (), (), (), (), (), (), (), (), (), (), (), (), (), (), (), (), (), (), (), (), (), (), (), (), (), (), (), (), (), (), (), (), (), (), (), (), (), (), (), (), (), (), (), (), (), (), (), (), (), (), ()]), ((63,), [(63,), (63,), (63,), (63,), (63,)])]\n",
      "Reduce: [(66,), (), (63,)]\n"
     ]
    }
   ],
   "source": [
    "import random\n",
    "from typing import Iterator, NamedTuple, List, Tuple\n",
    "\n",
    "# Константа для хранения значений\n",
    "S = {148, 66, 63}\n",
    "\n",
    "def MAP(t: Tuple[int, int, int]) -> Tuple[Tuple[int, int, int], Tuple[int, int, int]]:\n",
    "    \"\"\"Функция MAP фильтрует элементы кортежа t по наличию в множестве S.\"\"\"\n",
    "    res_list = [el for el in t if el in S]\n",
    "    return (tuple(res_list), tuple(res_list))\n",
    "\n",
    "def REDUCE(key: int, values: Iterator[NamedTuple]) -> Tuple[int, int]:\n",
    "    \"\"\"Функция REDUCE возвращает ключ и его значение.\"\"\"\n",
    "    return (key, key)\n",
    "\n",
    "def RECORDREADER(count: int) -> List[Tuple[int, int, int]]:\n",
    "    \"\"\"Создает список записей с случайными значениями.\"\"\"\n",
    "    return [(random.randint(0, 100), random.randint(0, 100), random.randint(0, 100)) for _ in range(count)]\n",
    "\n",
    "def group_by_key(iterable: List[Tuple[int, Tuple[int, int]]]) -> List[Tuple[int, List[Tuple[int, int]]]]:\n",
    "    \"\"\"Группирует элементы по ключу.\"\"\"\n",
    "    grouped = {}\n",
    "    for (k2, v2) in iterable:\n",
    "        grouped[k2] = grouped.get(k2, []) + [v2]\n",
    "    return list(grouped.items())\n",
    "\n",
    "def main():\n",
    "    # Генерация записей\n",
    "    record_count = 5\n",
    "    records = RECORDREADER(record_count)\n",
    "    print(\"Сгенерированные записи:\", records)\n",
    "\n",
    "    # Применение MAP\n",
    "    map_output = list(map(MAP, RECORDREADER(100)))\n",
    "    print(\"MAP:\", map_output)\n",
    "\n",
    "    # Shuffle (группировка по ключу)\n",
    "    shuffle_output = group_by_key(map_output)\n",
    "    print(\"Shuffle:\", shuffle_output)\n",
    "\n",
    "    # Применение REDUCE\n",
    "    reduce_output = list(map(lambda x: REDUCE(*x)[0], shuffle_output))\n",
    "    print(\"Reduce:\", reduce_output)\n",
    "\n",
    "if __name__ == \"__main__\":\n",
    "    main()\n"
   ]
  },
  {
   "cell_type": "markdown",
   "metadata": {
    "id": "7gau6lKXvn2R"
   },
   "source": [
    "### Union (Объединение)\n",
    "\n",
    "**The Map Function:** Превратите каждый входной кортеж $t$ в пару ключ-значение $(t, t)$.\n",
    "\n",
    "**The Reduce Function:** С каждым ключом $t$ будет ассоциировано одно или два значений. В обоих случаях создайте $(t, t)$ в качестве выходного значения."
   ]
  },
  {
   "cell_type": "code",
   "execution_count": 85,
   "metadata": {
    "id": "Sns7a5agv3nw"
   },
   "outputs": [
    {
     "name": "stdout",
     "output_type": "stream",
     "text": [
      "Сгенерированные записи: [(0, 43, 9), (0, 77, 76), (30, 94, 38), (19, 66, 48), (61, 35, 8)]\n",
      "MAP: [((80, 89, 67), (80, 89, 67)), ((29, 50, 33), (29, 50, 33)), ((11, 1, 71), (11, 1, 71)), ((31, 56, 24), (31, 56, 24)), ((34, 99, 47), (34, 99, 47)), ((17, 28, 52), (17, 28, 52)), ((23, 11, 47), (23, 11, 47)), ((7, 31, 59), (7, 31, 59)), ((89, 7, 15), (89, 7, 15)), ((38, 58, 13), (38, 58, 13)), ((82, 0, 86), (82, 0, 86)), ((27, 42, 56), (27, 42, 56)), ((16, 67, 55), (16, 67, 55)), ((83, 18, 55), (83, 18, 55)), ((83, 14, 10), (83, 14, 10)), ((35, 15, 60), (35, 15, 60)), ((98, 46, 72), (98, 46, 72)), ((85, 30, 27), (85, 30, 27)), ((7, 81, 4), (7, 81, 4)), ((10, 15, 97), (10, 15, 97)), ((52, 97, 53), (52, 97, 53)), ((1, 21, 92), (1, 21, 92)), ((34, 20, 30), (34, 20, 30)), ((28, 39, 48), (28, 39, 48)), ((84, 67, 21), (84, 67, 21)), ((23, 94, 56), (23, 94, 56)), ((2, 94, 43), (2, 94, 43)), ((78, 55, 42), (78, 55, 42)), ((78, 39, 57), (78, 39, 57)), ((72, 81, 78), (72, 81, 78)), ((62, 100, 33), (62, 100, 33)), ((12, 18, 49), (12, 18, 49)), ((42, 70, 8), (42, 70, 8)), ((23, 83, 58), (23, 83, 58)), ((57, 61, 65), (57, 61, 65)), ((84, 26, 76), (84, 26, 76)), ((82, 53, 97), (82, 53, 97)), ((74, 19, 5), (74, 19, 5)), ((26, 46, 17), (26, 46, 17)), ((21, 63, 44), (21, 63, 44)), ((9, 95, 93), (9, 95, 93)), ((96, 9, 64), (96, 9, 64)), ((44, 57, 27), (44, 57, 27)), ((45, 31, 96), (45, 31, 96)), ((80, 86, 31), (80, 86, 31)), ((39, 75, 91), (39, 75, 91)), ((18, 97, 29), (18, 97, 29)), ((15, 94, 14), (15, 94, 14)), ((73, 25, 30), (73, 25, 30)), ((48, 49, 23), (48, 49, 23)), ((71, 54, 53), (71, 54, 53)), ((3, 10, 93), (3, 10, 93)), ((9, 98, 40), (9, 98, 40)), ((69, 50, 78), (69, 50, 78)), ((42, 9, 66), (42, 9, 66)), ((95, 70, 92), (95, 70, 92)), ((81, 93, 52), (81, 93, 52)), ((75, 73, 9), (75, 73, 9)), ((36, 0, 5), (36, 0, 5)), ((11, 97, 20), (11, 97, 20)), ((56, 69, 78), (56, 69, 78)), ((91, 41, 53), (91, 41, 53)), ((75, 80, 39), (75, 80, 39)), ((80, 52, 28), (80, 52, 28)), ((12, 48, 47), (12, 48, 47)), ((25, 32, 45), (25, 32, 45)), ((91, 80, 67), (91, 80, 67)), ((63, 60, 60), (63, 60, 60)), ((21, 21, 21), (21, 21, 21)), ((17, 10, 22), (17, 10, 22)), ((71, 20, 92), (71, 20, 92)), ((72, 16, 43), (72, 16, 43)), ((60, 23, 43), (60, 23, 43)), ((34, 86, 15), (34, 86, 15)), ((91, 92, 9), (91, 92, 9)), ((87, 30, 44), (87, 30, 44)), ((10, 66, 61), (10, 66, 61)), ((37, 15, 93), (37, 15, 93)), ((5, 21, 100), (5, 21, 100)), ((87, 99, 77), (87, 99, 77)), ((22, 27, 69), (22, 27, 69)), ((59, 24, 36), (59, 24, 36)), ((51, 44, 35), (51, 44, 35)), ((62, 26, 91), (62, 26, 91)), ((20, 57, 16), (20, 57, 16)), ((68, 53, 19), (68, 53, 19)), ((24, 38, 79), (24, 38, 79)), ((89, 75, 72), (89, 75, 72)), ((83, 56, 2), (83, 56, 2)), ((71, 0, 4), (71, 0, 4)), ((9, 59, 93), (9, 59, 93)), ((97, 86, 55), (97, 86, 55)), ((34, 33, 15), (34, 33, 15)), ((47, 75, 2), (47, 75, 2)), ((81, 56, 78), (81, 56, 78)), ((33, 80, 80), (33, 80, 80)), ((38, 6, 1), (38, 6, 1)), ((68, 48, 45), (68, 48, 45)), ((100, 74, 63), (100, 74, 63)), ((20, 65, 46), (20, 65, 46))]\n",
      "Shuffle: [((80, 89, 67), [(80, 89, 67)]), ((29, 50, 33), [(29, 50, 33)]), ((11, 1, 71), [(11, 1, 71)]), ((31, 56, 24), [(31, 56, 24)]), ((34, 99, 47), [(34, 99, 47)]), ((17, 28, 52), [(17, 28, 52)]), ((23, 11, 47), [(23, 11, 47)]), ((7, 31, 59), [(7, 31, 59)]), ((89, 7, 15), [(89, 7, 15)]), ((38, 58, 13), [(38, 58, 13)]), ((82, 0, 86), [(82, 0, 86)]), ((27, 42, 56), [(27, 42, 56)]), ((16, 67, 55), [(16, 67, 55)]), ((83, 18, 55), [(83, 18, 55)]), ((83, 14, 10), [(83, 14, 10)]), ((35, 15, 60), [(35, 15, 60)]), ((98, 46, 72), [(98, 46, 72)]), ((85, 30, 27), [(85, 30, 27)]), ((7, 81, 4), [(7, 81, 4)]), ((10, 15, 97), [(10, 15, 97)]), ((52, 97, 53), [(52, 97, 53)]), ((1, 21, 92), [(1, 21, 92)]), ((34, 20, 30), [(34, 20, 30)]), ((28, 39, 48), [(28, 39, 48)]), ((84, 67, 21), [(84, 67, 21)]), ((23, 94, 56), [(23, 94, 56)]), ((2, 94, 43), [(2, 94, 43)]), ((78, 55, 42), [(78, 55, 42)]), ((78, 39, 57), [(78, 39, 57)]), ((72, 81, 78), [(72, 81, 78)]), ((62, 100, 33), [(62, 100, 33)]), ((12, 18, 49), [(12, 18, 49)]), ((42, 70, 8), [(42, 70, 8)]), ((23, 83, 58), [(23, 83, 58)]), ((57, 61, 65), [(57, 61, 65)]), ((84, 26, 76), [(84, 26, 76)]), ((82, 53, 97), [(82, 53, 97)]), ((74, 19, 5), [(74, 19, 5)]), ((26, 46, 17), [(26, 46, 17)]), ((21, 63, 44), [(21, 63, 44)]), ((9, 95, 93), [(9, 95, 93)]), ((96, 9, 64), [(96, 9, 64)]), ((44, 57, 27), [(44, 57, 27)]), ((45, 31, 96), [(45, 31, 96)]), ((80, 86, 31), [(80, 86, 31)]), ((39, 75, 91), [(39, 75, 91)]), ((18, 97, 29), [(18, 97, 29)]), ((15, 94, 14), [(15, 94, 14)]), ((73, 25, 30), [(73, 25, 30)]), ((48, 49, 23), [(48, 49, 23)]), ((71, 54, 53), [(71, 54, 53)]), ((3, 10, 93), [(3, 10, 93)]), ((9, 98, 40), [(9, 98, 40)]), ((69, 50, 78), [(69, 50, 78)]), ((42, 9, 66), [(42, 9, 66)]), ((95, 70, 92), [(95, 70, 92)]), ((81, 93, 52), [(81, 93, 52)]), ((75, 73, 9), [(75, 73, 9)]), ((36, 0, 5), [(36, 0, 5)]), ((11, 97, 20), [(11, 97, 20)]), ((56, 69, 78), [(56, 69, 78)]), ((91, 41, 53), [(91, 41, 53)]), ((75, 80, 39), [(75, 80, 39)]), ((80, 52, 28), [(80, 52, 28)]), ((12, 48, 47), [(12, 48, 47)]), ((25, 32, 45), [(25, 32, 45)]), ((91, 80, 67), [(91, 80, 67)]), ((63, 60, 60), [(63, 60, 60)]), ((21, 21, 21), [(21, 21, 21)]), ((17, 10, 22), [(17, 10, 22)]), ((71, 20, 92), [(71, 20, 92)]), ((72, 16, 43), [(72, 16, 43)]), ((60, 23, 43), [(60, 23, 43)]), ((34, 86, 15), [(34, 86, 15)]), ((91, 92, 9), [(91, 92, 9)]), ((87, 30, 44), [(87, 30, 44)]), ((10, 66, 61), [(10, 66, 61)]), ((37, 15, 93), [(37, 15, 93)]), ((5, 21, 100), [(5, 21, 100)]), ((87, 99, 77), [(87, 99, 77)]), ((22, 27, 69), [(22, 27, 69)]), ((59, 24, 36), [(59, 24, 36)]), ((51, 44, 35), [(51, 44, 35)]), ((62, 26, 91), [(62, 26, 91)]), ((20, 57, 16), [(20, 57, 16)]), ((68, 53, 19), [(68, 53, 19)]), ((24, 38, 79), [(24, 38, 79)]), ((89, 75, 72), [(89, 75, 72)]), ((83, 56, 2), [(83, 56, 2)]), ((71, 0, 4), [(71, 0, 4)]), ((9, 59, 93), [(9, 59, 93)]), ((97, 86, 55), [(97, 86, 55)]), ((34, 33, 15), [(34, 33, 15)]), ((47, 75, 2), [(47, 75, 2)]), ((81, 56, 78), [(81, 56, 78)]), ((33, 80, 80), [(33, 80, 80)]), ((38, 6, 1), [(38, 6, 1)]), ((68, 48, 45), [(68, 48, 45)]), ((100, 74, 63), [(100, 74, 63)]), ((20, 65, 46), [(20, 65, 46)])]\n",
      "Reduce: [(80, 89, 67), (29, 50, 33), (11, 1, 71), (31, 56, 24), (34, 99, 47), (17, 28, 52), (23, 11, 47), (7, 31, 59), (89, 7, 15), (38, 58, 13), (82, 0, 86), (27, 42, 56), (16, 67, 55), (83, 18, 55), (83, 14, 10), (35, 15, 60), (98, 46, 72), (85, 30, 27), (7, 81, 4), (10, 15, 97), (52, 97, 53), (1, 21, 92), (34, 20, 30), (28, 39, 48), (84, 67, 21), (23, 94, 56), (2, 94, 43), (78, 55, 42), (78, 39, 57), (72, 81, 78), (62, 100, 33), (12, 18, 49), (42, 70, 8), (23, 83, 58), (57, 61, 65), (84, 26, 76), (82, 53, 97), (74, 19, 5), (26, 46, 17), (21, 63, 44), (9, 95, 93), (96, 9, 64), (44, 57, 27), (45, 31, 96), (80, 86, 31), (39, 75, 91), (18, 97, 29), (15, 94, 14), (73, 25, 30), (48, 49, 23), (71, 54, 53), (3, 10, 93), (9, 98, 40), (69, 50, 78), (42, 9, 66), (95, 70, 92), (81, 93, 52), (75, 73, 9), (36, 0, 5), (11, 97, 20), (56, 69, 78), (91, 41, 53), (75, 80, 39), (80, 52, 28), (12, 48, 47), (25, 32, 45), (91, 80, 67), (63, 60, 60), (21, 21, 21), (17, 10, 22), (71, 20, 92), (72, 16, 43), (60, 23, 43), (34, 86, 15), (91, 92, 9), (87, 30, 44), (10, 66, 61), (37, 15, 93), (5, 21, 100), (87, 99, 77), (22, 27, 69), (59, 24, 36), (51, 44, 35), (62, 26, 91), (20, 57, 16), (68, 53, 19), (24, 38, 79), (89, 75, 72), (83, 56, 2), (71, 0, 4), (9, 59, 93), (97, 86, 55), (34, 33, 15), (47, 75, 2), (81, 56, 78), (33, 80, 80), (38, 6, 1), (68, 48, 45), (100, 74, 63), (20, 65, 46)]\n"
     ]
    }
   ],
   "source": [
    "import random\n",
    "from typing import Iterator, NamedTuple, List, Tuple\n",
    "\n",
    "def MAP(t: Tuple[int, int, int]) -> Tuple[Tuple[int, int, int], Tuple[int, int, int]]:\n",
    "    \"\"\"Функция MAP возвращает входной кортеж дважды.\"\"\"\n",
    "    return (t, t)\n",
    "\n",
    "def REDUCE(key: int, values: Iterator[NamedTuple]) -> Tuple[int, int]:\n",
    "    \"\"\"Функция REDUCE возвращает ключ и его значение.\"\"\"\n",
    "    return (key, key)\n",
    "\n",
    "def RECORDREADER(count: int) -> List[Tuple[int, int, int]]:\n",
    "    \"\"\"Создает список записей с случайными значениями.\"\"\"\n",
    "    return [(random.randint(0, 100), random.randint(0, 100), random.randint(0, 100)) for _ in range(count)]\n",
    "\n",
    "def group_by_key(iterable: List[Tuple[int, Tuple[int, int]]]) -> List[Tuple[int, List[Tuple[int, int]]]]:\n",
    "    \"\"\"Группирует элементы по ключу.\"\"\"\n",
    "    grouped = {}\n",
    "    for (k2, v2) in iterable:\n",
    "        grouped[k2] = grouped.get(k2, []) + [v2]\n",
    "    return list(grouped.items())\n",
    "\n",
    "def main():\n",
    "    # Генерация записей\n",
    "    record_count = 5\n",
    "    records = RECORDREADER(record_count)\n",
    "    print(\"Сгенерированные записи:\", records)\n",
    "\n",
    "    # Применение MAP\n",
    "    map_output = list(map(MAP, RECORDREADER(100)))\n",
    "    print(\"MAP:\", map_output)\n",
    "\n",
    "    # Shuffle (группировка по ключу)\n",
    "    shuffle_output = group_by_key(map_output)\n",
    "    print(\"Shuffle:\", shuffle_output)\n",
    "\n",
    "    # Применение REDUCE\n",
    "    reduce_output = list(map(lambda x: REDUCE(*x)[0], shuffle_output))\n",
    "    print(\"Reduce:\", reduce_output)\n",
    "\n",
    "if __name__ == \"__main__\":\n",
    "    main()\n"
   ]
  },
  {
   "cell_type": "markdown",
   "metadata": {
    "id": "dQ8TuEbjv4J8"
   },
   "source": [
    "### Intersection (Пересечение)\n",
    "\n",
    "**The Map Function:** Превратите каждый кортеж $t$ в пары ключ-значение $(t, t)$.\n",
    "\n",
    "**The Reduce Function:** Если для ключа $t$ есть список из двух элементов $[t, t]$ $-$ создайте пару $(t, t)$. Иначе, ничего не создавайте."
   ]
  },
  {
   "cell_type": "code",
   "execution_count": 86,
   "metadata": {
    "id": "XKlBZh4IwERR"
   },
   "outputs": [
    {
     "name": "stdout",
     "output_type": "stream",
     "text": [
      "Сгенерированные записи: [(0, 2), (1, 0), (2, 0), (2, 3), (1, 1), (3, 3), (2, 3), (2, 3), (3, 3), (3, 3), (0, 3), (3, 3), (2, 3), (0, 2), (0, 1), (3, 3), (3, 0), (1, 2), (1, 3), (3, 2), (2, 3), (1, 2), (0, 3), (2, 3), (2, 1), (3, 3), (1, 3), (2, 2), (0, 0), (1, 3), (3, 0), (3, 2), (2, 0), (3, 2), (2, 2), (0, 3), (3, 3), (2, 3), (3, 2), (3, 1), (0, 1), (0, 1), (0, 3), (3, 1), (3, 1), (0, 1), (0, 2), (1, 3), (3, 2), (0, 1), (2, 3), (3, 2), (0, 2), (2, 0), (0, 0), (2, 3), (2, 1), (1, 3), (0, 0), (1, 3), (2, 3), (1, 3), (0, 2), (3, 1), (1, 0), (2, 2), (0, 1), (1, 2), (3, 0), (3, 1), (2, 3), (2, 2), (3, 2), (3, 3), (0, 1), (1, 3), (0, 3), (0, 1), (0, 3), (0, 2), (0, 2), (2, 0), (1, 1), (0, 2), (0, 2), (1, 1), (2, 1), (3, 3), (0, 0), (2, 1), (0, 0), (3, 1), (0, 1), (2, 1), (2, 2), (3, 1), (2, 1), (3, 0), (1, 2), (2, 1)]\n",
      "MAP: [((0, 2), (0, 2)), ((1, 0), (1, 0)), ((2, 0), (2, 0)), ((2, 3), (2, 3)), ((1, 1), (1, 1)), ((3, 3), (3, 3)), ((2, 3), (2, 3)), ((2, 3), (2, 3)), ((3, 3), (3, 3)), ((3, 3), (3, 3)), ((0, 3), (0, 3)), ((3, 3), (3, 3)), ((2, 3), (2, 3)), ((0, 2), (0, 2)), ((0, 1), (0, 1)), ((3, 3), (3, 3)), ((3, 0), (3, 0)), ((1, 2), (1, 2)), ((1, 3), (1, 3)), ((3, 2), (3, 2)), ((2, 3), (2, 3)), ((1, 2), (1, 2)), ((0, 3), (0, 3)), ((2, 3), (2, 3)), ((2, 1), (2, 1)), ((3, 3), (3, 3)), ((1, 3), (1, 3)), ((2, 2), (2, 2)), ((0, 0), (0, 0)), ((1, 3), (1, 3)), ((3, 0), (3, 0)), ((3, 2), (3, 2)), ((2, 0), (2, 0)), ((3, 2), (3, 2)), ((2, 2), (2, 2)), ((0, 3), (0, 3)), ((3, 3), (3, 3)), ((2, 3), (2, 3)), ((3, 2), (3, 2)), ((3, 1), (3, 1)), ((0, 1), (0, 1)), ((0, 1), (0, 1)), ((0, 3), (0, 3)), ((3, 1), (3, 1)), ((3, 1), (3, 1)), ((0, 1), (0, 1)), ((0, 2), (0, 2)), ((1, 3), (1, 3)), ((3, 2), (3, 2)), ((0, 1), (0, 1)), ((2, 3), (2, 3)), ((3, 2), (3, 2)), ((0, 2), (0, 2)), ((2, 0), (2, 0)), ((0, 0), (0, 0)), ((2, 3), (2, 3)), ((2, 1), (2, 1)), ((1, 3), (1, 3)), ((0, 0), (0, 0)), ((1, 3), (1, 3)), ((2, 3), (2, 3)), ((1, 3), (1, 3)), ((0, 2), (0, 2)), ((3, 1), (3, 1)), ((1, 0), (1, 0)), ((2, 2), (2, 2)), ((0, 1), (0, 1)), ((1, 2), (1, 2)), ((3, 0), (3, 0)), ((3, 1), (3, 1)), ((2, 3), (2, 3)), ((2, 2), (2, 2)), ((3, 2), (3, 2)), ((3, 3), (3, 3)), ((0, 1), (0, 1)), ((1, 3), (1, 3)), ((0, 3), (0, 3)), ((0, 1), (0, 1)), ((0, 3), (0, 3)), ((0, 2), (0, 2)), ((0, 2), (0, 2)), ((2, 0), (2, 0)), ((1, 1), (1, 1)), ((0, 2), (0, 2)), ((0, 2), (0, 2)), ((1, 1), (1, 1)), ((2, 1), (2, 1)), ((3, 3), (3, 3)), ((0, 0), (0, 0)), ((2, 1), (2, 1)), ((0, 0), (0, 0)), ((3, 1), (3, 1)), ((0, 1), (0, 1)), ((2, 1), (2, 1)), ((2, 2), (2, 2)), ((3, 1), (3, 1)), ((2, 1), (2, 1)), ((3, 0), (3, 0)), ((1, 2), (1, 2)), ((2, 1), (2, 1))]\n",
      "Shuffle: [((0, 2), [(0, 2), (0, 2), (0, 2), (0, 2), (0, 2), (0, 2), (0, 2), (0, 2), (0, 2)]), ((1, 0), [(1, 0), (1, 0)]), ((2, 0), [(2, 0), (2, 0), (2, 0), (2, 0)]), ((2, 3), [(2, 3), (2, 3), (2, 3), (2, 3), (2, 3), (2, 3), (2, 3), (2, 3), (2, 3), (2, 3), (2, 3)]), ((1, 1), [(1, 1), (1, 1), (1, 1)]), ((3, 3), [(3, 3), (3, 3), (3, 3), (3, 3), (3, 3), (3, 3), (3, 3), (3, 3), (3, 3)]), ((0, 3), [(0, 3), (0, 3), (0, 3), (0, 3), (0, 3), (0, 3)]), ((0, 1), [(0, 1), (0, 1), (0, 1), (0, 1), (0, 1), (0, 1), (0, 1), (0, 1), (0, 1)]), ((3, 0), [(3, 0), (3, 0), (3, 0), (3, 0)]), ((1, 2), [(1, 2), (1, 2), (1, 2), (1, 2)]), ((1, 3), [(1, 3), (1, 3), (1, 3), (1, 3), (1, 3), (1, 3), (1, 3), (1, 3)]), ((3, 2), [(3, 2), (3, 2), (3, 2), (3, 2), (3, 2), (3, 2), (3, 2)]), ((2, 1), [(2, 1), (2, 1), (2, 1), (2, 1), (2, 1), (2, 1), (2, 1)]), ((2, 2), [(2, 2), (2, 2), (2, 2), (2, 2), (2, 2)]), ((0, 0), [(0, 0), (0, 0), (0, 0), (0, 0), (0, 0)]), ((3, 1), [(3, 1), (3, 1), (3, 1), (3, 1), (3, 1), (3, 1), (3, 1)])]\n",
      "Reduce: [(1, 0)]\n"
     ]
    }
   ],
   "source": [
    "import random\n",
    "from typing import Iterator, NamedTuple, List, Tuple\n",
    "\n",
    "def MAP(t: Tuple[int, int]) -> Tuple[Tuple[int, int], Tuple[int, int]]:\n",
    "    \"\"\"Функция MAP возвращает входной кортеж дважды.\"\"\"\n",
    "    return (t, t)\n",
    "\n",
    "def REDUCE(key: int, values: List[int]) -> Tuple[int, int]:\n",
    "    \"\"\"Функция REDUCE возвращает ключ и его значение, если длина значений равна 2.\"\"\"\n",
    "    if len(values) == 2:\n",
    "        return (key, key)\n",
    "    return None\n",
    "\n",
    "def RECORDREADER(count: int) -> List[Tuple[int, int]]:\n",
    "    \"\"\"Создает список записей с случайными значениями.\"\"\"\n",
    "    return [(random.randint(0, 3), random.randint(0, 3)) for _ in range(count)]\n",
    "\n",
    "def group_by_key(iterable: List[Tuple[int, int]]) -> List[Tuple[int, List[int]]]:\n",
    "    \"\"\"Группирует элементы по ключу.\"\"\"\n",
    "    grouped = {}\n",
    "    for (k2, v2) in iterable:\n",
    "        grouped[k2] = grouped.get(k2, []) + [v2]\n",
    "    return list(grouped.items())\n",
    "\n",
    "def main():\n",
    "    # Генерация записей\n",
    "    record_count = 100\n",
    "    records = RECORDREADER(record_count)\n",
    "    print(\"Сгенерированные записи:\", records)\n",
    "\n",
    "    # Применение MAP\n",
    "    map_output = list(map(MAP, records))\n",
    "    print(\"MAP:\", map_output)\n",
    "\n",
    "    # Shuffle (группировка по ключу)\n",
    "    shuffle_output = group_by_key(map_output)\n",
    "    print(\"Shuffle:\", shuffle_output)\n",
    "\n",
    "    # Применение REDUCE\n",
    "    reduce_output = [el[0] for el in map(lambda x: REDUCE(*x), shuffle_output) if el is not None]\n",
    "    print(\"Reduce:\", reduce_output)\n",
    "\n",
    "if __name__ == \"__main__\":\n",
    "    main()\n"
   ]
  },
  {
   "cell_type": "markdown",
   "metadata": {
    "id": "AVOpqoY3wE5k"
   },
   "source": [
    "### Difference (Разница)\n",
    "\n",
    "**The Map Function:** Для кортежа $t \\in R$, создайте пару $(t, R)$, и для кортежа $t \\in S$, создайте пару $(t, S)$. Задумка заключается в том, чтобы значение пары было именем отношения $R$ or $S$, которому принадлежит кортеж (а лучше, единичный бит, по которому можно два отношения различить $R$ or $S$), а не весь набор атрибутов отношения.\n",
    "\n",
    "**The Reduce Function:** Для каждого ключа $t$, если соответствующее значение является списком $[R]$, создайте пару $(t, t)$. В иных случаях не предпринимайте действий."
   ]
  },
  {
   "cell_type": "code",
   "execution_count": 87,
   "metadata": {
    "id": "QE_AC09lwZIZ"
   },
   "outputs": [
    {
     "name": "stdout",
     "output_type": "stream",
     "text": [
      "MAP: [(((2, 0), (3, 1), (3, 0)), 1), (((2, 3), (2, 0), (2, 2)), 1), (((1, 3), (2, 3), (0, 3)), 1), (((0, 0), (2, 2), (0, 2)), 1), (((3, 1), (2, 3), (0, 0)), 2), (((2, 0), (0, 0), (1, 0)), 2), (((1, 3), (0, 2), (3, 2)), 1), (((1, 3), (0, 1), (0, 2)), 1), (((0, 1), (1, 2), (2, 1)), 2), (((1, 3), (3, 3), (3, 2)), 1), (((2, 2), (1, 1), (1, 1)), 1), (((3, 3), (0, 3), (0, 0)), 2), (((1, 0), (0, 2), (0, 0)), 1), (((2, 2), (2, 1), (1, 3)), 2), (((0, 2), (0, 1), (3, 1)), 2), (((2, 0), (1, 2), (2, 3)), 1), (((2, 2), (0, 1), (2, 0)), 2), (((1, 0), (1, 2), (1, 0)), 2), (((2, 3), (2, 2), (0, 0)), 2), (((1, 2), (1, 3), (2, 1)), 1), (((2, 0), (2, 1), (1, 1)), 1), (((2, 1), (1, 1), (2, 3)), 1), (((0, 3), (3, 3), (2, 0)), 1), (((3, 1), (0, 2), (0, 1)), 1), (((3, 1), (0, 0), (1, 0)), 1), (((1, 3), (2, 3), (1, 3)), 1), (((2, 3), (0, 3), (0, 3)), 1), (((3, 0), (3, 0), (3, 1)), 2), (((2, 0), (0, 1), (2, 0)), 1), (((0, 0), (3, 3), (2, 0)), 2), (((3, 0), (0, 3), (0, 2)), 1), (((0, 0), (2, 0), (1, 0)), 1), (((3, 1), (1, 3), (0, 1)), 1), (((3, 3), (2, 0), (1, 0)), 1), (((3, 0), (3, 2), (0, 0)), 1), (((0, 3), (3, 2), (0, 0)), 1), (((3, 0), (2, 3), (2, 1)), 2), (((0, 2), (0, 2), (0, 3)), 1), (((2, 0), (1, 3), (0, 2)), 2), (((1, 1), (0, 3), (3, 3)), 1), (((2, 0), (2, 0), (3, 0)), 2), (((3, 2), (1, 3), (1, 3)), 2), (((3, 0), (1, 1), (1, 0)), 2), (((0, 2), (1, 0), (3, 2)), 2), (((0, 0), (3, 1), (0, 0)), 2), (((0, 0), (1, 1), (1, 2)), 2), (((1, 1), (2, 1), (1, 2)), 2), (((3, 1), (3, 0), (1, 2)), 1), (((0, 3), (3, 0), (2, 1)), 2), (((2, 1), (3, 1), (0, 1)), 1), (((1, 0), (2, 2), (2, 1)), 2), (((2, 0), (0, 2), (3, 0)), 1), (((0, 2), (3, 0), (1, 1)), 1), (((2, 2), (3, 1), (3, 2)), 2), (((1, 3), (2, 1), (0, 0)), 2), (((1, 2), (3, 3), (1, 2)), 2), (((1, 3), (0, 3), (2, 2)), 1), (((0, 2), (3, 0), (2, 0)), 2), (((3, 0), (3, 2), (1, 0)), 1), (((3, 0), (2, 0), (3, 2)), 2), (((2, 3), (1, 2), (2, 0)), 2), (((3, 0), (1, 0), (3, 3)), 2), (((2, 1), (2, 1), (2, 0)), 2), (((3, 1), (2, 0), (2, 2)), 2), (((1, 2), (1, 2), (3, 3)), 2), (((0, 3), (1, 2), (0, 0)), 2), (((1, 1), (1, 1), (1, 2)), 2), (((0, 2), (1, 1), (2, 3)), 1), (((2, 0), (2, 0), (2, 3)), 1), (((1, 0), (3, 2), (1, 1)), 1), (((0, 2), (3, 2), (3, 0)), 2), (((3, 1), (3, 0), (2, 2)), 2), (((2, 3), (1, 0), (1, 2)), 2), (((3, 2), (2, 2), (1, 1)), 1), (((1, 0), (3, 3), (3, 0)), 1), (((2, 1), (0, 2), (2, 0)), 1), (((3, 0), (0, 2), (2, 0)), 1), (((0, 0), (3, 1), (2, 2)), 1), (((0, 2), (2, 2), (1, 2)), 1), (((1, 2), (0, 3), (3, 2)), 2), (((3, 0), (1, 1), (2, 2)), 1), (((3, 2), (3, 1), (3, 1)), 1), (((3, 1), (1, 0), (3, 1)), 1), (((1, 3), (1, 0), (1, 2)), 2), (((3, 1), (3, 2), (0, 0)), 1), (((2, 2), (3, 3), (1, 3)), 2), (((1, 2), (0, 2), (1, 3)), 2), (((3, 3), (2, 3), (1, 0)), 2), (((3, 1), (1, 0), (1, 2)), 2), (((2, 1), (2, 2), (0, 2)), 2), (((1, 0), (2, 1), (0, 2)), 2), (((0, 1), (0, 0), (2, 3)), 1), (((0, 0), (2, 0), (2, 0)), 1), (((3, 3), (2, 0), (2, 2)), 2), (((1, 3), (1, 1), (1, 0)), 2), (((3, 3), (2, 0), (1, 1)), 1), (((3, 1), (2, 1), (2, 1)), 1), (((1, 0), (3, 2), (0, 0)), 2), (((0, 3), (0, 1), (3, 3)), 1), (((1, 1), (3, 1), (3, 2)), 1)]\n",
      "Shuffle: [(((2, 0), (3, 1), (3, 0)), [1]), (((2, 3), (2, 0), (2, 2)), [1]), (((1, 3), (2, 3), (0, 3)), [1]), (((0, 0), (2, 2), (0, 2)), [1]), (((3, 1), (2, 3), (0, 0)), [2]), (((2, 0), (0, 0), (1, 0)), [2]), (((1, 3), (0, 2), (3, 2)), [1]), (((1, 3), (0, 1), (0, 2)), [1]), (((0, 1), (1, 2), (2, 1)), [2]), (((1, 3), (3, 3), (3, 2)), [1]), (((2, 2), (1, 1), (1, 1)), [1]), (((3, 3), (0, 3), (0, 0)), [2]), (((1, 0), (0, 2), (0, 0)), [1]), (((2, 2), (2, 1), (1, 3)), [2]), (((0, 2), (0, 1), (3, 1)), [2]), (((2, 0), (1, 2), (2, 3)), [1]), (((2, 2), (0, 1), (2, 0)), [2]), (((1, 0), (1, 2), (1, 0)), [2]), (((2, 3), (2, 2), (0, 0)), [2]), (((1, 2), (1, 3), (2, 1)), [1]), (((2, 0), (2, 1), (1, 1)), [1]), (((2, 1), (1, 1), (2, 3)), [1]), (((0, 3), (3, 3), (2, 0)), [1]), (((3, 1), (0, 2), (0, 1)), [1]), (((3, 1), (0, 0), (1, 0)), [1]), (((1, 3), (2, 3), (1, 3)), [1]), (((2, 3), (0, 3), (0, 3)), [1]), (((3, 0), (3, 0), (3, 1)), [2]), (((2, 0), (0, 1), (2, 0)), [1]), (((0, 0), (3, 3), (2, 0)), [2]), (((3, 0), (0, 3), (0, 2)), [1]), (((0, 0), (2, 0), (1, 0)), [1]), (((3, 1), (1, 3), (0, 1)), [1]), (((3, 3), (2, 0), (1, 0)), [1]), (((3, 0), (3, 2), (0, 0)), [1]), (((0, 3), (3, 2), (0, 0)), [1]), (((3, 0), (2, 3), (2, 1)), [2]), (((0, 2), (0, 2), (0, 3)), [1]), (((2, 0), (1, 3), (0, 2)), [2]), (((1, 1), (0, 3), (3, 3)), [1]), (((2, 0), (2, 0), (3, 0)), [2]), (((3, 2), (1, 3), (1, 3)), [2]), (((3, 0), (1, 1), (1, 0)), [2]), (((0, 2), (1, 0), (3, 2)), [2]), (((0, 0), (3, 1), (0, 0)), [2]), (((0, 0), (1, 1), (1, 2)), [2]), (((1, 1), (2, 1), (1, 2)), [2]), (((3, 1), (3, 0), (1, 2)), [1]), (((0, 3), (3, 0), (2, 1)), [2]), (((2, 1), (3, 1), (0, 1)), [1]), (((1, 0), (2, 2), (2, 1)), [2]), (((2, 0), (0, 2), (3, 0)), [1]), (((0, 2), (3, 0), (1, 1)), [1]), (((2, 2), (3, 1), (3, 2)), [2]), (((1, 3), (2, 1), (0, 0)), [2]), (((1, 2), (3, 3), (1, 2)), [2]), (((1, 3), (0, 3), (2, 2)), [1]), (((0, 2), (3, 0), (2, 0)), [2]), (((3, 0), (3, 2), (1, 0)), [1]), (((3, 0), (2, 0), (3, 2)), [2]), (((2, 3), (1, 2), (2, 0)), [2]), (((3, 0), (1, 0), (3, 3)), [2]), (((2, 1), (2, 1), (2, 0)), [2]), (((3, 1), (2, 0), (2, 2)), [2]), (((1, 2), (1, 2), (3, 3)), [2]), (((0, 3), (1, 2), (0, 0)), [2]), (((1, 1), (1, 1), (1, 2)), [2]), (((0, 2), (1, 1), (2, 3)), [1]), (((2, 0), (2, 0), (2, 3)), [1]), (((1, 0), (3, 2), (1, 1)), [1]), (((0, 2), (3, 2), (3, 0)), [2]), (((3, 1), (3, 0), (2, 2)), [2]), (((2, 3), (1, 0), (1, 2)), [2]), (((3, 2), (2, 2), (1, 1)), [1]), (((1, 0), (3, 3), (3, 0)), [1]), (((2, 1), (0, 2), (2, 0)), [1]), (((3, 0), (0, 2), (2, 0)), [1]), (((0, 0), (3, 1), (2, 2)), [1]), (((0, 2), (2, 2), (1, 2)), [1]), (((1, 2), (0, 3), (3, 2)), [2]), (((3, 0), (1, 1), (2, 2)), [1]), (((3, 2), (3, 1), (3, 1)), [1]), (((3, 1), (1, 0), (3, 1)), [1]), (((1, 3), (1, 0), (1, 2)), [2]), (((3, 1), (3, 2), (0, 0)), [1]), (((2, 2), (3, 3), (1, 3)), [2]), (((1, 2), (0, 2), (1, 3)), [2]), (((3, 3), (2, 3), (1, 0)), [2]), (((3, 1), (1, 0), (1, 2)), [2]), (((2, 1), (2, 2), (0, 2)), [2]), (((1, 0), (2, 1), (0, 2)), [2]), (((0, 1), (0, 0), (2, 3)), [1]), (((0, 0), (2, 0), (2, 0)), [1]), (((3, 3), (2, 0), (2, 2)), [2]), (((1, 3), (1, 1), (1, 0)), [2]), (((3, 3), (2, 0), (1, 1)), [1]), (((3, 1), (2, 1), (2, 1)), [1]), (((1, 0), (3, 2), (0, 0)), [2]), (((0, 3), (0, 1), (3, 3)), [1]), (((1, 1), (3, 1), (3, 2)), [1])]\n",
      "Reduce: [((2, 0), (3, 1), (3, 0)), ((2, 3), (2, 0), (2, 2)), ((1, 3), (2, 3), (0, 3)), ((0, 0), (2, 2), (0, 2)), ((1, 3), (0, 2), (3, 2)), ((1, 3), (0, 1), (0, 2)), ((1, 3), (3, 3), (3, 2)), ((2, 2), (1, 1), (1, 1)), ((1, 0), (0, 2), (0, 0)), ((2, 0), (1, 2), (2, 3)), ((1, 2), (1, 3), (2, 1)), ((2, 0), (2, 1), (1, 1)), ((2, 1), (1, 1), (2, 3)), ((0, 3), (3, 3), (2, 0)), ((3, 1), (0, 2), (0, 1)), ((3, 1), (0, 0), (1, 0)), ((1, 3), (2, 3), (1, 3)), ((2, 3), (0, 3), (0, 3)), ((2, 0), (0, 1), (2, 0)), ((3, 0), (0, 3), (0, 2)), ((0, 0), (2, 0), (1, 0)), ((3, 1), (1, 3), (0, 1)), ((3, 3), (2, 0), (1, 0)), ((3, 0), (3, 2), (0, 0)), ((0, 3), (3, 2), (0, 0)), ((0, 2), (0, 2), (0, 3)), ((1, 1), (0, 3), (3, 3)), ((3, 1), (3, 0), (1, 2)), ((2, 1), (3, 1), (0, 1)), ((2, 0), (0, 2), (3, 0)), ((0, 2), (3, 0), (1, 1)), ((1, 3), (0, 3), (2, 2)), ((3, 0), (3, 2), (1, 0)), ((0, 2), (1, 1), (2, 3)), ((2, 0), (2, 0), (2, 3)), ((1, 0), (3, 2), (1, 1)), ((3, 2), (2, 2), (1, 1)), ((1, 0), (3, 3), (3, 0)), ((2, 1), (0, 2), (2, 0)), ((3, 0), (0, 2), (2, 0)), ((0, 0), (3, 1), (2, 2)), ((0, 2), (2, 2), (1, 2)), ((3, 0), (1, 1), (2, 2)), ((3, 2), (3, 1), (3, 1)), ((3, 1), (1, 0), (3, 1)), ((3, 1), (3, 2), (0, 0)), ((0, 1), (0, 0), (2, 3)), ((0, 0), (2, 0), (2, 0)), ((3, 3), (2, 0), (1, 1)), ((3, 1), (2, 1), (2, 1)), ((0, 3), (0, 1), (3, 3)), ((1, 1), (3, 1), (3, 2))]\n"
     ]
    }
   ],
   "source": [
    "import random\n",
    "from typing import List, Tuple as PyTuple, Iterator, NamedTuple\n",
    "\n",
    "# Определяем классы и функции\n",
    "class Tuple:\n",
    "    def __init__(self, data: PyTuple[int, int], rel_id: int):\n",
    "        self.data = data\n",
    "        self.rel_id = rel_id\n",
    "\n",
    "# Генерация случайного кортежа\n",
    "def get_random_tuple(count: int) -> Tuple:\n",
    "    data = tuple((random.randint(0, 3), random.randint(0, 3)) for _ in range(count))\n",
    "    rel_id = rels[random.randint(0, len(rels) - 1)]\n",
    "    return Tuple(data, rel_id)\n",
    "\n",
    "# Чтение записей\n",
    "def RECORDREADER(count: int) -> List[Tuple]:\n",
    "    return [get_random_tuple(3) for _ in range(count)]\n",
    "\n",
    "# Функция MAP\n",
    "def MAP(t: Tuple) -> PyTuple[PyTuple[int, int], int]:\n",
    "    return (t.data, t.rel_id)\n",
    "\n",
    "# Функция REDUCE\n",
    "def REDUCE(key: int, values: List[int]) -> PyTuple[int, int]:\n",
    "    if values == [rels[0]]:\n",
    "        return (key, key)\n",
    "    return None\n",
    "\n",
    "# Группировка по ключу\n",
    "def group_by_key(iterable: List[PyTuple[PyTuple[int, int], int]]) -> dict:\n",
    "    grouped = {}\n",
    "    for (k2, v2) in iterable:\n",
    "        grouped[k2] = grouped.get(k2, []) + [v2]\n",
    "    return grouped\n",
    "\n",
    "def main():\n",
    "    # Инициализация переменных\n",
    "    global rels\n",
    "    rels = [1, 2]\n",
    "\n",
    "    # Генерация записей\n",
    "    record_count = 100\n",
    "    records = RECORDREADER(record_count)\n",
    "\n",
    "    # Применение MAP\n",
    "    map_out = list(map(MAP, records))\n",
    "    print(\"MAP:\", map_out)\n",
    "\n",
    "    # Shuffle (группировка по ключу)\n",
    "    shuffle_out = group_by_key(map_out)\n",
    "    print(\"Shuffle:\", list(shuffle_out.items()))\n",
    "\n",
    "    # Применение REDUCE\n",
    "    reduce_out = [el[0] for el in (map(lambda x: REDUCE(*x), shuffle_out.items())) if el is not None]\n",
    "    print(\"Reduce:\", reduce_out)\n",
    "\n",
    "if __name__ == \"__main__\":\n",
    "    main()\n"
   ]
  },
  {
   "cell_type": "markdown",
   "metadata": {
    "id": "j8I58V2VwhSm"
   },
   "source": [
    "### Natural Join\n",
    "\n",
    "**The Map Function:** Для каждого кортежа $(a, b)$ отношения $R$, создайте пару $(b,(R, a))$. Для каждого кортежа $(b, c)$ отношения $S$, создайте пару $(b,(S, c))$.\n",
    "\n",
    "**The Reduce Function:** Каждый ключ $b$ будет асоциирован со списком пар, которые принимают форму либо $(R, a)$, либо $(S, c)$. Создайте все пары, одни, состоящие из  первого компонента $R$, а другие, из первого компонента $S$, то есть $(R, a)$ и $(S, c)$. На выходе вы получаете последовательность пар ключ-значение из списков ключей и значений. Ключ не нужен. Каждое значение, это тройка $(a, b, c)$ такая, что $(R, a)$ и $(S, c)$ это принадлежат входному списку значений."
   ]
  },
  {
   "cell_type": "code",
   "execution_count": 88,
   "metadata": {
    "id": "yHiuuTctw86I"
   },
   "outputs": [
    {
     "name": "stdout",
     "output_type": "stream",
     "text": [
      "MAP: [(0, (2, 1)), (1, (2, 2)), (2, (1, 3)), (1, (2, 0)), (1, (1, 1)), (2, (2, 1)), (1, (2, 3)), (3, (1, 1)), (0, (2, 1)), (3, (1, 3)), (0, (1, 2)), (3, (1, 2)), (1, (2, 1)), (1, (1, 2)), (1, (1, 0)), (1, (1, 1)), (3, (2, 2)), (1, (1, 3)), (3, (1, 0)), (3, (2, 3)), (2, (2, 2)), (0, (2, 3)), (1, (1, 3)), (1, (1, 2)), (1, (2, 3)), (2, (2, 0)), (1, (1, 3)), (2, (1, 1)), (3, (2, 3)), (0, (1, 3)), (1, (1, 2)), (3, (1, 3)), (0, (2, 2)), (3, (1, 1)), (0, (2, 0)), (2, (1, 1)), (1, (2, 3)), (0, (1, 1)), (3, (1, 1)), (1, (2, 0)), (0, (1, 3)), (3, (1, 2)), (1, (1, 1)), (0, (1, 3)), (0, (2, 0)), (0, (1, 3)), (1, (1, 2)), (0, (1, 0)), (0, (1, 1)), (0, (1, 2)), (3, (1, 3)), (1, (1, 1)), (0, (2, 2)), (2, (2, 1)), (2, (2, 0)), (0, (1, 1)), (0, (2, 1)), (2, (1, 2)), (1, (2, 0)), (3, (1, 1)), (3, (2, 2)), (2, (1, 1)), (0, (2, 2)), (3, (1, 2)), (3, (2, 1)), (0, (1, 2)), (2, (2, 1)), (1, (2, 3)), (2, (2, 3)), (2, (1, 2)), (3, (2, 1)), (2, (1, 0)), (2, (1, 3)), (0, (1, 2)), (3, (1, 1)), (2, (2, 3)), (3, (1, 2)), (0, (1, 3)), (1, (1, 0)), (3, (2, 2)), (2, (1, 0)), (3, (1, 1)), (1, (1, 3)), (0, (2, 1)), (1, (2, 2)), (0, (1, 3)), (3, (2, 0)), (2, (2, 2)), (2, (2, 3)), (0, (2, 0)), (0, (2, 3)), (1, (2, 2)), (3, (2, 1)), (3, (1, 3)), (1, (2, 1)), (0, (1, 1)), (2, (1, 2)), (0, (1, 2)), (1, (1, 2)), (3, (1, 3))]\n",
      "Shuffle: [(0, [(2, 1), (2, 1), (1, 2), (2, 3), (1, 3), (2, 2), (2, 0), (1, 1), (1, 3), (1, 3), (2, 0), (1, 3), (1, 0), (1, 1), (1, 2), (2, 2), (1, 1), (2, 1), (2, 2), (1, 2), (1, 2), (1, 3), (2, 1), (1, 3), (2, 0), (2, 3), (1, 1), (1, 2)]), (1, [(2, 2), (2, 0), (1, 1), (2, 3), (2, 1), (1, 2), (1, 0), (1, 1), (1, 3), (1, 3), (1, 2), (2, 3), (1, 3), (1, 2), (2, 3), (2, 0), (1, 1), (1, 2), (1, 1), (2, 0), (2, 3), (1, 0), (1, 3), (2, 2), (2, 2), (2, 1), (1, 2)]), (2, [(1, 3), (2, 1), (2, 2), (2, 0), (1, 1), (1, 1), (2, 1), (2, 0), (1, 2), (1, 1), (2, 1), (2, 3), (1, 2), (1, 0), (1, 3), (2, 3), (1, 0), (2, 2), (2, 3), (1, 2)]), (3, [(1, 1), (1, 3), (1, 2), (2, 2), (1, 0), (2, 3), (2, 3), (1, 3), (1, 1), (1, 1), (1, 2), (1, 3), (1, 1), (2, 2), (1, 2), (2, 1), (2, 1), (1, 1), (1, 2), (2, 2), (1, 1), (2, 0), (2, 1), (1, 3), (1, 3)])]\n",
      "Reduce: [[(2, 0, 1), (2, 0, 1), (1, 0, 2), (2, 0, 3), (1, 0, 3), (2, 0, 2), (2, 0, 0), (1, 0, 1), (1, 0, 3), (1, 0, 3), (2, 0, 0), (1, 0, 3), (1, 0, 0), (1, 0, 1), (1, 0, 2), (2, 0, 2), (1, 0, 1), (2, 0, 1), (2, 0, 2), (1, 0, 2), (1, 0, 2), (1, 0, 3), (2, 0, 1), (1, 0, 3), (2, 0, 0), (2, 0, 3), (1, 0, 1), (1, 0, 2)], [(2, 1, 2), (2, 1, 0), (1, 1, 1), (2, 1, 3), (2, 1, 1), (1, 1, 2), (1, 1, 0), (1, 1, 1), (1, 1, 3), (1, 1, 3), (1, 1, 2), (2, 1, 3), (1, 1, 3), (1, 1, 2), (2, 1, 3), (2, 1, 0), (1, 1, 1), (1, 1, 2), (1, 1, 1), (2, 1, 0), (2, 1, 3), (1, 1, 0), (1, 1, 3), (2, 1, 2), (2, 1, 2), (2, 1, 1), (1, 1, 2)], [(1, 2, 3), (2, 2, 1), (2, 2, 2), (2, 2, 0), (1, 2, 1), (1, 2, 1), (2, 2, 1), (2, 2, 0), (1, 2, 2), (1, 2, 1), (2, 2, 1), (2, 2, 3), (1, 2, 2), (1, 2, 0), (1, 2, 3), (2, 2, 3), (1, 2, 0), (2, 2, 2), (2, 2, 3), (1, 2, 2)], [(1, 3, 1), (1, 3, 3), (1, 3, 2), (2, 3, 2), (1, 3, 0), (2, 3, 3), (2, 3, 3), (1, 3, 3), (1, 3, 1), (1, 3, 1), (1, 3, 2), (1, 3, 3), (1, 3, 1), (2, 3, 2), (1, 3, 2), (2, 3, 1), (2, 3, 1), (1, 3, 1), (1, 3, 2), (2, 3, 2), (1, 3, 1), (2, 3, 0), (2, 3, 1), (1, 3, 3), (1, 3, 3)]]\n"
     ]
    }
   ],
   "source": [
    "import random\n",
    "from typing import List, Tuple as PyTuple, Iterator, NamedTuple\n",
    "\n",
    "# Глобальная переменная для отношений\n",
    "rels = [1, 2]\n",
    "\n",
    "# Определение класса Tuple\n",
    "class CustomTuple:\n",
    "    def __init__(self, data: PyTuple[int, int], rel_id: int):\n",
    "        self.data = data\n",
    "        self.rel_id = rel_id\n",
    "\n",
    "# Генерация случайного кортежа\n",
    "def get_random_tuple() -> CustomTuple:\n",
    "    data = (random.randint(0, 3), random.randint(0, 3))\n",
    "    rel_id = rels[random.randint(0, len(rels) - 1)]\n",
    "    return CustomTuple(data, rel_id)\n",
    "\n",
    "# Чтение записей\n",
    "def RECORDREADER(count: int) -> List[CustomTuple]:\n",
    "    return [get_random_tuple() for _ in range(count)]\n",
    "\n",
    "# Функция MAP\n",
    "def MAP(t: CustomTuple) -> PyTuple[int, PyTuple[int, int]]:\n",
    "    if t.rel_id == rels[0]:\n",
    "        return (t.data[1], (t.rel_id, t.data[0]))\n",
    "    else:\n",
    "        return (t.data[0], (t.rel_id, t.data[1]))\n",
    "\n",
    "# Функция REDUCE\n",
    "def REDUCE(key: int, values: Iterator[PyTuple[int, int]]) -> List[PyTuple[int, int, int]]:\n",
    "    res = []\n",
    "    for v in values:\n",
    "        res.append((v[0], key, v[1]))\n",
    "    return res\n",
    "\n",
    "# Группировка по ключу\n",
    "def group_by_key(iterable: List[PyTuple[int, PyTuple[int, int]]]) -> dict:\n",
    "    grouped = {}\n",
    "    for (k2, v2) in iterable:\n",
    "        grouped[k2] = grouped.get(k2, []) + [v2]\n",
    "    return grouped\n",
    "\n",
    "def main():\n",
    "    # Генерация записей\n",
    "    record_count = 100\n",
    "    records = RECORDREADER(record_count)\n",
    "\n",
    "    # Применение MAP\n",
    "    map_out = list(map(MAP, records))\n",
    "    print(\"MAP:\", map_out)\n",
    "\n",
    "    # Shuffle (группировка по ключу)\n",
    "    shuffle_out = group_by_key(map_out)\n",
    "    print(\"Shuffle:\", list(shuffle_out.items()))\n",
    "\n",
    "    # Применение REDUCE\n",
    "    reduce_out = [REDUCE(k, v) for k, v in shuffle_out.items()]\n",
    "    print(\"Reduce:\", reduce_out)\n",
    "\n",
    "if __name__ == \"__main__\":\n",
    "    main()\n"
   ]
  },
  {
   "cell_type": "markdown",
   "metadata": {
    "id": "kYdlr0YUxE27"
   },
   "source": [
    "### Grouping and Aggregation (Группировка и аггрегация)\n",
    "\n",
    "**The Map Function:** Для каждого кортежа $(a, b, c$) создайте пару $(a, b)$.\n",
    "\n",
    "**The Reduce Function:** Ключ представляет ту или иную группу. Примение аггрегирующую операцию $\\theta$ к списку значений $[b1, b2, . . . , bn]$ ассоциированных с ключом $a$. Возвращайте в выходной поток $(a, x)$, где $x$ результат применения  $\\theta$ к списку. Например, если $\\theta$ это $SUM$, тогда $x = b1 + b2 + · · · + bn$, а если $\\theta$ is $MAX$, тогда $x$ это максимальное из значений $b1, b2, . . . , bn$."
   ]
  },
  {
   "cell_type": "code",
   "execution_count": 89,
   "metadata": {
    "id": "MLPckfEGxico"
   },
   "outputs": [
    {
     "name": "stdout",
     "output_type": "stream",
     "text": [
      "MAP: [(0, 1), (2, 3), (1, 1), (3, 1), (2, 1), (0, 2), (0, 1), (0, 2), (2, 2), (3, 2), (2, 0), (0, 3), (0, 0), (1, 3), (0, 1), (3, 0), (2, 1), (3, 3), (3, 0), (0, 0), (1, 0), (1, 3), (3, 2), (0, 1), (3, 0), (0, 0), (1, 3), (1, 3), (1, 1), (2, 2), (2, 1), (0, 3), (1, 0), (2, 1), (3, 3), (2, 3), (2, 2), (2, 3), (0, 0), (1, 1), (0, 1), (2, 3), (1, 3), (2, 3), (0, 0), (2, 2), (3, 0), (0, 0), (1, 1), (2, 2), (0, 2), (2, 1), (3, 1), (3, 1), (3, 1), (3, 1), (1, 2), (1, 2), (2, 2), (0, 1), (0, 1), (2, 2), (0, 0), (0, 3), (1, 2), (3, 1), (3, 2), (1, 2), (0, 1), (2, 3), (1, 1), (1, 0), (3, 3), (2, 0), (2, 1), (3, 1), (3, 1), (1, 0), (1, 2), (0, 2), (1, 3), (3, 0), (2, 0), (1, 3), (0, 3), (3, 3), (0, 0), (3, 0), (2, 0), (3, 1), (3, 2), (2, 3), (0, 1), (2, 2), (1, 0), (2, 3), (1, 3), (1, 3), (3, 1), (1, 1)]\n",
      "Shuffle: [(0, [1, 2, 1, 2, 3, 0, 1, 0, 1, 0, 3, 0, 1, 0, 0, 2, 1, 1, 0, 3, 1, 2, 3, 0, 1]), (2, [3, 1, 2, 0, 1, 2, 1, 1, 3, 2, 3, 3, 3, 2, 2, 1, 2, 2, 3, 0, 1, 0, 0, 3, 2, 3]), (1, [1, 3, 0, 3, 3, 3, 1, 0, 1, 3, 1, 2, 2, 2, 2, 1, 0, 0, 2, 3, 3, 0, 3, 3, 1]), (3, [1, 2, 0, 3, 0, 2, 0, 3, 0, 1, 1, 1, 1, 1, 2, 3, 1, 1, 0, 3, 0, 1, 2, 1])]\n",
      "Reduce: [(0, 29), (2, 46), (1, 43), (3, 30)]\n"
     ]
    }
   ],
   "source": [
    "import random\n",
    "from typing import List, Tuple, Iterator, Dict, NamedTuple\n",
    "\n",
    "# Генерация случайного кортежа\n",
    "def get_random_tup() -> Tuple[int, int, int]:\n",
    "    return (random.randint(0, 3), random.randint(0, 3), random.randint(0, 3))\n",
    "\n",
    "# Чтение записей\n",
    "def RECORDREADER(count: int) -> List[Tuple[int, int, int]]:\n",
    "    return [get_random_tup() for _ in range(count)]\n",
    "\n",
    "# Функция MAP\n",
    "def MAP(t: Tuple[int, int, int]) -> Tuple[int, int]:\n",
    "    return (t[0], t[1])\n",
    "\n",
    "# Суммирование значений\n",
    "def tetta(values: List[int]) -> int:\n",
    "    return sum(values)\n",
    "\n",
    "# Функция REDUCE\n",
    "def REDUCE(key: int, values: Iterator[int]) -> Tuple[int, int]:\n",
    "    x = tetta(list(values))  # Преобразуем в список для суммирования\n",
    "    return (key, x)\n",
    "\n",
    "# Группировка по ключу\n",
    "def group_by_key(iterable: List[Tuple[int, int]]) -> Dict[int, List[int]]:\n",
    "    grouped = {}\n",
    "    for (k2, v2) in iterable:\n",
    "        grouped[k2] = grouped.get(k2, []) + [v2]\n",
    "    return grouped\n",
    "\n",
    "def main():\n",
    "    # Генерация записей\n",
    "    record_count = 100\n",
    "    records = RECORDREADER(record_count)\n",
    "\n",
    "    # Применение MAP\n",
    "    map_out = list(map(MAP, records))\n",
    "    print(\"MAP:\", map_out)\n",
    "\n",
    "    # Shuffle (группировка по ключу)\n",
    "    shuffle_out = group_by_key(map_out)\n",
    "    print(\"Shuffle:\", list(shuffle_out.items()))\n",
    "\n",
    "    # Применение REDUCE\n",
    "    reduce_out = [REDUCE(k, v) for k, v in shuffle_out.items()]\n",
    "    print(\"Reduce:\", reduce_out)\n",
    "\n",
    "if __name__ == \"__main__\":\n",
    "    main()\n"
   ]
  },
  {
   "cell_type": "markdown",
   "metadata": {
    "id": "03IffTEOJgOb"
   },
   "source": [
    "# "
   ]
  },
  {
   "cell_type": "markdown",
   "metadata": {
    "id": "IIrRgvG4RIS4"
   },
   "source": [
    "### Matrix-Vector multiplication\n",
    "\n",
    "Случай, когда вектор не помещается в памяти Map задачи\n"
   ]
  },
  {
   "cell_type": "markdown",
   "metadata": {
    "id": "GIo2t7nNxvA9"
   },
   "source": [
    "## Matrix multiplication (Перемножение матриц)\n",
    "\n",
    "Если у нас есть матрица $M$ с элементами $m_{ij}$ в строке $i$ и столбце $j$, и матрица $N$ с элементами $n_{jk}$ в строке $j$ и столбце $k$, тогда их произведение $P = MN$ есть матрица $P$ с элементами $p_{ik}$ в строке $i$ и столбце $k$, где\n",
    "\n",
    "$$p_{ik} =\\sum_{j} m_{ij}n_{jk}$$\n",
    "\n",
    "Необходимым требованием является одинаковое количество столбцов в $M$ и строк в $N$, чтобы операция суммирования по  $j$ была осмысленной. Мы можем размышлять о матрице, как об отношении с тремя атрибутами: номер строки, номер столбца, само значение. Таким образом матрица $M$ предстваляется как отношение $ M(I, J, V )$, с кортежами $(i, j, m_{ij})$, и, аналогично, матрица $N$ представляется как отношение $N(J, K, W)$, с кортежами $(j, k, n_{jk})$. Так как большие матрицы как правило разреженные (большинство значений равно 0), и так как мы можем нулевыми значениями пренебречь (не хранить), такое реляционное представление достаточно эффективно для больших матриц. Однако, возможно, что координаты $i$, $j$, и $k$ неявно закодированы в смещение позиции элемента относительно начала файла, вместо явного хранения. Тогда, функция Map (или Reader) должна быть разработана таким образом, чтобы реконструировать компоненты $I$, $J$, и $K$ кортежей из смещения.\n",
    "\n",
    "Произведение $MN$ это фактически join, за которым следуют группировка по ключу и аггрегация. Таким образом join отношений $M(I, J, V )$ и $N(J, K, W)$, имеющих общим только атрибут $J$, создаст кортежи $(i, j, k, v, w)$ из каждого кортежа $(i, j, v) \\in M$ и кортежа $(j, k, w) \\in N$. Такой 5 компонентный кортеж представляет пару элементов матрицы $(m_{ij} , n_{jk})$. Что нам хотелось бы получить на самом деле, это произведение этих элементов, то есть, 4 компонентный кортеж$(i, j, k, v \\times w)$, так как он представляет произведение $m_{ij}n_{jk}$. Мы представляем отношение как результат одной MapReduce операции, в которой мы можем произвести группировку и аггрегацию, с $I$ и $K$  атрибутами, по которым идёт группировка, и суммой  $V \\times W$. \n",
    "\n",
    "\n",
    "\n"
   ]
  },
  {
   "cell_type": "markdown",
   "metadata": {
    "id": "sMspsOT0ZB35"
   },
   "source": [
    "Реализуйте перемножение матриц с использованием модельного кода MapReduce для одной машины в случае, когда одна матрица хранится в памяти, а другая генерируется RECORDREADER-ом."
   ]
  },
  {
   "cell_type": "code",
   "execution_count": 90,
   "metadata": {
    "id": "psP1XekbsEjS"
   },
   "outputs": [],
   "source": [
    "import numpy as np\n",
    "# MapReduce model\n",
    "def flatten(nested_iterable):\n",
    "    for iterable in nested_iterable:\n",
    "        for element in iterable:\n",
    "            yield element\n",
    "\n",
    "def groupbykey(iterable):\n",
    "    t = {}\n",
    "    for (k2, v2) in iterable:\n",
    "        t[k2] = t.get(k2, []) + [v2]\n",
    "    return t.items()\n",
    "\n",
    "def MapReduce(RECORDREADER, MAP, REDUCE):\n",
    "    return flatten(map(lambda x: REDUCE(*x), groupbykey(flatten(map(lambda x: MAP(*x), RECORDREADER())))))\n",
    "\n",
    "# Dimensions\n",
    "I = 2  # Number of rows in small_mat\n",
    "J = 3  # Number of columns in small_mat / rows in big_mat\n",
    "K = 4 * 10  # Number of columns in big_mat\n",
    "\n",
    "# Generate random matrices\n",
    "small_mat = np.random.rand(I, J)  # Small matrix (I x J)\n",
    "big_mat = np.random.rand(J, K)     # Big matrix (J x K)\n",
    "\n",
    "def RECORDREADER():\n",
    "    for j in range(big_mat.shape[0]):\n",
    "        for k in range(big_mat.shape[1]):\n",
    "            yield ((j, k), big_mat[j, k])\n",
    "\n",
    "def MAP(k1, v1):\n",
    "    (j, k) = k1\n",
    "    w = v1\n",
    "    # Yielding the contributions to the result from the small matrix\n",
    "    for i in range(I):\n",
    "        yield ((i, k), small_mat[i, j] * w)\n",
    "\n",
    "def REDUCE(key, values):\n",
    "    (i, k) = key\n",
    "    # Summing up the contributions for each (i, k)\n",
    "    yield (key, sum(values))"
   ]
  },
  {
   "cell_type": "markdown",
   "metadata": {
    "id": "rnt306LHhHrm"
   },
   "source": [
    "Проверьте своё решение"
   ]
  },
  {
   "cell_type": "code",
   "execution_count": 91,
   "metadata": {
    "colab": {
     "base_uri": "https://localhost:8080/",
     "height": 34
    },
    "id": "Ewy_ZNYqW5a2",
    "outputId": "9ce264f2-9412-44e2-9b0a-cc780573ab3a"
   },
   "outputs": [
    {
     "name": "stdout",
     "output_type": "stream",
     "text": [
      "True\n"
     ]
    }
   ],
   "source": [
    "# CHECK THE SOLUTION\n",
    "reference_solution = np.matmul(small_mat, big_mat) \n",
    "solution = MapReduce(RECORDREADER, MAP, REDUCE)\n",
    "\n",
    "def asmatrix(reduce_output):\n",
    "    reduce_output = list(reduce_output)\n",
    "    I = max(i for ((i, k), vw) in reduce_output) + 1\n",
    "    K = max(k for ((i, k), vw) in reduce_output) + 1\n",
    "    mat = np.empty(shape=(I, K))\n",
    "    for ((i, k), vw) in reduce_output:\n",
    "        mat[i, k] = vw\n",
    "    return mat\n",
    "\n",
    "# Verify if the solution matches the reference\n",
    "print(np.allclose(reference_solution, asmatrix(solution)))  # should return true\n"
   ]
  },
  {
   "cell_type": "code",
   "execution_count": 92,
   "metadata": {
    "colab": {
     "base_uri": "https://localhost:8080/",
     "height": 34
    },
    "id": "TK7v4CEcfxqf",
    "outputId": "2c865d0a-4065-4e6b-c83f-5508ed5eb4fa"
   },
   "outputs": [
    {
     "data": {
      "text/plain": [
       "1"
      ]
     },
     "execution_count": 92,
     "metadata": {},
     "output_type": "execute_result"
    }
   ],
   "source": [
    "reduce_output = list(MapReduce(RECORDREADER, MAP, REDUCE))\n",
    "max(i for ((i,k), vw) in reduce_output)"
   ]
  },
  {
   "cell_type": "markdown",
   "metadata": {
    "id": "i4yyg3kOZqJJ"
   },
   "source": [
    "Реализуйте перемножение матриц  с использованием модельного кода MapReduce для одной машины в случае, когда обе матрицы генерируются в RECORDREADER. Например, сначала одна, а потом другая."
   ]
  },
  {
   "cell_type": "code",
   "execution_count": 93,
   "metadata": {
    "id": "3B7rIAJCaHZq"
   },
   "outputs": [],
   "source": [
    "import numpy as np\n",
    "\n",
    "# MapReduce model\n",
    "def flatten(nested_iterable):\n",
    "    for iterable in nested_iterable:\n",
    "        for element in iterable:\n",
    "            yield element\n",
    "\n",
    "def groupbykey(iterable):\n",
    "    t = {}\n",
    "    for (k2, v2) in iterable:\n",
    "        t[k2] = t.get(k2, []) + [v2]\n",
    "    return t.items()\n",
    "\n",
    "def MapReduce(RECORDREADER, MAP, REDUCE):\n",
    "    return flatten(map(lambda x: REDUCE(*x), groupbykey(flatten(map(lambda x: MAP(*x), RECORDREADER())))))\n",
    "\n",
    "# Dimensions\n",
    "I = 2  # Number of rows in small_mat\n",
    "J = 3  # Number of columns in small_mat / rows in big_mat\n",
    "K = 4 * 10  # Number of columns in big_mat\n",
    "\n",
    "# Generate random matrices\n",
    "small_mat = np.random.rand(I, J)  # Small matrix (I x J)\n",
    "big_mat = np.random.rand(J, K)     # Big matrix (J x K)\n",
    "\n",
    "def RECORDREADER():\n",
    "    # First yield the small matrix\n",
    "    for j in range(small_mat.shape[0]):\n",
    "        for i in range(small_mat.shape[1]):\n",
    "            yield (('small', j, i), small_mat[j, i])\n",
    "    \n",
    "    # Then yield the big matrix\n",
    "    for j in range(big_mat.shape[0]):\n",
    "        for k in range(big_mat.shape[1]):\n",
    "            yield (('big', j, k), big_mat[j, k])\n",
    "\n",
    "def MAP(k1, v1):\n",
    "    if k1[0] == 'small':\n",
    "        j, i = k1[1], k1[2]\n",
    "        # For each element in the small matrix, emit contributions for each column of the big matrix\n",
    "        for k in range(big_mat.shape[1]):\n",
    "            yield ((j, k), v1 * big_mat[i, k])  # Emit key as (row_index_of_small_matrix, column_index_of_big_matrix)\n",
    "    elif k1[0] == 'big':\n",
    "        j, k = k1[1], k1[2]\n",
    "        # For big matrix, we do not need to emit anything here\n",
    "        pass\n",
    "\n",
    "def REDUCE(key, values):\n",
    "    (i, k) = key\n",
    "    # Summing up the contributions for each (i, k)\n",
    "    yield (key, sum(values))\n",
    "\n",
    "# CHECK THE SOLUTION\n",
    "reference_solution = np.matmul(small_mat, big_mat)\n",
    "solution = MapReduce(RECORDREADER, MAP, REDUCE)\n"
   ]
  },
  {
   "cell_type": "code",
   "execution_count": 94,
   "metadata": {},
   "outputs": [],
   "source": [
    "def asmatrix(reduce_output):\n",
    "    reduce_output = list(reduce_output)\n",
    "    I = max(i for ((i, k), vw) in reduce_output) + 1\n",
    "    K = max(k for ((i, k), vw) in reduce_output) + 1\n",
    "    mat = np.zeros((I, K))  # Initialize with zeros\n",
    "    for ((i, k), vw) in reduce_output:\n",
    "        mat[i, k] += vw  # Use += to accumulate values\n",
    "    return mat\n"
   ]
  },
  {
   "cell_type": "code",
   "execution_count": 95,
   "metadata": {},
   "outputs": [
    {
     "name": "stdout",
     "output_type": "stream",
     "text": [
      "True\n"
     ]
    },
    {
     "data": {
      "text/plain": [
       "1"
      ]
     },
     "execution_count": 95,
     "metadata": {},
     "output_type": "execute_result"
    }
   ],
   "source": [
    "# Verify if the solution matches the reference\n",
    "print(np.allclose(reference_solution, asmatrix(solution)))  # should return true\n",
    "reduce_output = list(MapReduce(RECORDREADER, MAP, REDUCE))\n",
    "max(i for ((i,k), vw) in reduce_output)"
   ]
  },
  {
   "cell_type": "markdown",
   "metadata": {
    "id": "mXyzQi1DaIwo"
   },
   "source": [
    "Реализуйте перемножение матриц с использованием модельного кода MapReduce Distributed, когда каждая матрица генерируется в своём RECORDREADER. "
   ]
  },
  {
   "cell_type": "code",
   "execution_count": 96,
   "metadata": {
    "id": "TDM_s78Rb5eR"
   },
   "outputs": [
    {
     "name": "stdout",
     "output_type": "stream",
     "text": [
      "126 key-value pairs were sent over a network.\n",
      "[(0, [((0, 0), np.float64(0.41138775513535053)), ((0, 1), np.float64(0.5230563530605202)), ((0, 2), np.float64(0.5662098034919004)), ((0, 3), np.float64(0.25499751923489855)), ((0, 4), np.float64(0.43980024741142676)), ((0, 5), np.float64(0.3974584427253921)), ((0, 6), np.float64(0.431118721632196)), ((0, 7), np.float64(0.005265425810234634)), ((0, 8), np.float64(0.477571002040859)), ((0, 9), np.float64(0.22306003902687996)), ((0, 10), np.float64(0.3188739792155462)), ((0, 11), np.float64(0.11231929581452975)), ((0, 12), np.float64(0.2837563469238267)), ((0, 13), np.float64(0.02824638999601923)), ((0, 14), np.float64(0.19082938249910314)), ((0, 15), np.float64(0.5702387796654584)), ((0, 16), np.float64(0.5282544511637599)), ((0, 17), np.float64(0.2959719835207515)), ((0, 18), np.float64(0.27857717794905507)), ((0, 19), np.float64(0.022935655993758516)), ((0, 20), np.float64(0.5803129049640318)), ((0, 21), np.float64(0.5003879988616575)), ((0, 22), np.float64(0.5022634382293869)), ((0, 23), np.float64(0.22418008736278544)), ((0, 24), np.float64(0.3402270215563091)), ((0, 25), np.float64(0.04710016201222951)), ((0, 26), np.float64(0.007740916696912125)), ((0, 27), np.float64(0.2146737127582153)), ((0, 28), np.float64(0.290411899087003)), ((0, 29), np.float64(0.3251015055125671)), ((0, 30), np.float64(0.09947675110546618)), ((0, 31), np.float64(0.06599983734361912)), ((0, 32), np.float64(0.07372372444904357)), ((0, 33), np.float64(0.4414962650593027)), ((0, 34), np.float64(0.20338365883427206)), ((0, 35), np.float64(0.20978446648570867)), ((0, 36), np.float64(0.43966524253212996)), ((0, 37), np.float64(0.40282069332394466)), ((0, 38), np.float64(0.09635715750248317)), ((0, 39), np.float64(0.2087148105455072)), ((1, 0), np.float64(0.2961074498105414)), ((1, 1), np.float64(0.37648393973465616)), ((1, 2), np.float64(0.407544801411391)), ((1, 3), np.float64(0.18354135286262435)), ((1, 4), np.float64(0.3165581086490929)), ((1, 5), np.float64(0.28608145092301956)), ((1, 6), np.float64(0.3103093459504882)), ((1, 7), np.float64(0.003789932464864472)), ((1, 8), np.float64(0.3437446296165465)), ((1, 9), np.float64(0.16055348873754946)), ((1, 10), np.float64(0.22951816046491114)), ((1, 11), np.float64(0.08084484730765461)), ((1, 12), np.float64(0.20424129597033194)), ((1, 13), np.float64(0.02033110223546497)), ((1, 14), np.float64(0.13735460303658958)), ((1, 15), np.float64(0.4104447658493388)), ((1, 16), np.float64(0.38022541126364934)), ((1, 17), np.float64(0.2130338303989215)), ((1, 18), np.float64(0.20051344919289701)), ((1, 19), np.float64(0.016508557975453718)), ((1, 20), np.float64(0.41769588967107474)), ((1, 21), np.float64(0.3601677794468544)), ((1, 22), np.float64(0.36151767759409004)), ((1, 23), np.float64(0.1613596737838214)), ((1, 24), np.float64(0.24488758951157671)), ((1, 25), np.float64(0.03390161395182026)), ((1, 26), np.float64(0.005571733902396661)), ((1, 27), np.float64(0.15451720386106735)), ((1, 28), np.float64(0.20903180943000157)), ((1, 29), np.float64(0.23400059074490875)), ((1, 30), np.float64(0.07160107883032711)), ((1, 31), np.float64(0.047505165819288285)), ((1, 32), np.float64(0.05306464221318163)), ((1, 33), np.float64(0.3177788631666429)), ((1, 34), np.float64(0.14639088256464852)), ((1, 35), np.float64(0.15099803678043483)), ((1, 36), np.float64(0.31646093524025526)), ((1, 37), np.float64(0.28994107564485905)), ((1, 38), np.float64(0.06935566706322029)), ((1, 39), np.float64(0.1502281230222493)), ((0, 0), np.float64(0.5072065555154802)), ((0, 1), np.float64(0.3605907573382163)), ((0, 2), np.float64(0.22328256218183049)), ((0, 3), np.float64(0.47812889225882915)), ((0, 4), np.float64(0.23454418068290775)), ((0, 5), np.float64(0.02818401933112238)), ((0, 6), np.float64(0.24181017695954932)), ((0, 7), np.float64(0.4580601739370514)), ((0, 8), np.float64(0.31228457535333193)), ((0, 9), np.float64(0.38113014239865767)), ((0, 10), np.float64(0.26634558815262077)), ((0, 11), np.float64(0.0008303531111873033)), ((0, 12), np.float64(0.12611721243761512)), ((0, 13), np.float64(0.3494971657682532)), ((0, 14), np.float64(0.42393490947631596)), ((0, 15), np.float64(0.18385199790465712)), ((0, 16), np.float64(0.34942564219890715)), ((0, 17), np.float64(0.46540501303782494)), ((0, 18), np.float64(0.5191971147128904)), ((0, 19), np.float64(0.3610776754682436)), ((0, 20), np.float64(0.023296464871812767)), ((0, 21), np.float64(0.38471470587348844)), ((0, 22), np.float64(0.28361023798894613)), ((0, 23), np.float64(0.1947727376308676)), ((0, 24), np.float64(0.36226533774248365)), ((0, 25), np.float64(0.01662613698186774)), ((0, 26), np.float64(0.22612104217517098)), ((0, 27), np.float64(0.005346684440126655)), ((0, 28), np.float64(0.3623025106399874)), ((0, 29), np.float64(0.07501748088730797)), ((0, 30), np.float64(0.021089934344226843)), ((0, 31), np.float64(0.09033848840555651)), ((0, 32), np.float64(0.03400243004753242)), ((0, 33), np.float64(0.5347029959657695)), ((0, 34), np.float64(0.35272769899468254)), ((0, 35), np.float64(0.17623775856113627)), ((0, 36), np.float64(0.19990334127287857)), ((0, 37), np.float64(0.19453642415257458)), ((0, 38), np.float64(0.04462407192179209)), ((0, 39), np.float64(0.26339106547731184)), ((1, 0), np.float64(0.31570251915669445)), ((1, 1), np.float64(0.2244438862991406)), ((1, 2), np.float64(0.13897862044177334)), ((1, 3), np.float64(0.2976035978365921)), ((1, 4), np.float64(0.1459882327819735)), ((1, 5), np.float64(0.01754268710851618)), ((1, 6), np.float64(0.15051083467616155)), ((1, 7), np.float64(0.28511214862022255)), ((1, 8), np.float64(0.19437648441398445)), ((1, 9), np.float64(0.23722829441650142)), ((1, 10), np.float64(0.16578250464565902)), ((1, 11), np.float64(0.0005168398675861153)), ((1, 12), np.float64(0.07849961961771193)), ((1, 13), np.float64(0.21753885960528524)), ((1, 14), np.float64(0.26387142954829845)), ((1, 15), np.float64(0.11443570328364984)), ((1, 16), np.float64(0.21749434091605288)), ((1, 17), np.float64(0.28968382495543515)), ((1, 18), np.float64(0.32316584884665217)), ((1, 19), np.float64(0.2247469606159078)), ((1, 20), np.float64(0.014500507865088622)), ((1, 21), np.float64(0.23945944799047492)), ((1, 22), np.float64(0.1765286067739068)), ((1, 23), np.float64(0.12123314114230546)), ((1, 24), np.float64(0.2254862017944921)), ((1, 25), np.float64(0.010348670126484055)), ((1, 26), np.float64(0.14074538641655995)), ((1, 27), np.float64(0.0033279572760418863)), ((1, 28), np.float64(0.22550933946347268)), ((1, 29), np.float64(0.046693417976119755)), ((1, 30), np.float64(0.013127088616894843)), ((1, 31), np.float64(0.05622973137138717)), ((1, 32), np.float64(0.021164262777608443)), ((1, 33), np.float64(0.3328172339087072)), ((1, 34), np.float64(0.21954965277566654)), ((1, 35), np.float64(0.10969634312343168)), ((1, 36), np.float64(0.12442660241949895)), ((1, 37), np.float64(0.12108605163883489)), ((1, 38), np.float64(0.027775532014608015)), ((1, 39), np.float64(0.16394350977984418))]), (1, [((0, 0), np.float64(0.6789154757572519)), ((0, 1), np.float64(0.4521848812271233)), ((0, 2), np.float64(0.6070643530475619)), ((0, 3), np.float64(0.5647638894351293)), ((0, 4), np.float64(0.08996440820841665)), ((0, 5), np.float64(0.5763038524735998)), ((0, 6), np.float64(0.5816361689525302)), ((0, 7), np.float64(0.20739965533128848)), ((0, 8), np.float64(0.30806514111222166)), ((0, 9), np.float64(0.49269505012224607)), ((0, 10), np.float64(0.0065860096963692395)), ((0, 11), np.float64(0.33241867308303474)), ((0, 12), np.float64(0.3499553002205623)), ((0, 13), np.float64(0.2664740847361071)), ((0, 14), np.float64(0.7483789393956068)), ((0, 15), np.float64(0.3712577432848025)), ((0, 16), np.float64(0.21893739450655178)), ((0, 17), np.float64(0.6859393219303397)), ((0, 18), np.float64(0.2732632562552717)), ((0, 19), np.float64(0.3705160242108145)), ((0, 20), np.float64(0.1433464415065233)), ((0, 21), np.float64(0.44247854655034263)), ((0, 22), np.float64(0.5025791972713665)), ((0, 23), np.float64(0.24302805328968877)), ((0, 24), np.float64(0.5604021686257039)), ((0, 25), np.float64(0.6549679632861232)), ((0, 26), np.float64(0.005228424258358631)), ((0, 27), np.float64(0.5255067939940802)), ((0, 28), np.float64(0.7658885319154969)), ((0, 29), np.float64(0.03191373847070894)), ((0, 30), np.float64(0.6066985419472245)), ((0, 31), np.float64(0.6764916676490987)), ((0, 32), np.float64(0.5463293787039156)), ((0, 33), np.float64(0.22167798357282947)), ((0, 34), np.float64(0.07170009940857802)), ((0, 35), np.float64(0.484767996214978)), ((0, 36), np.float64(0.6948759644922284)), ((0, 37), np.float64(0.34219237894432525)), ((0, 38), np.float64(0.1052154247874908)), ((0, 39), np.float64(0.028216717077070207)), ((1, 0), np.float64(0.33393757451137657)), ((1, 1), np.float64(0.22241579086008564)), ((1, 2), np.float64(0.2985962242249792)), ((1, 3), np.float64(0.2777899313596017)), ((1, 4), np.float64(0.04425071653575299)), ((1, 5), np.float64(0.2834660831113636)), ((1, 6), np.float64(0.28608888505812285)), ((1, 7), np.float64(0.1020134911176919)), ((1, 8), np.float64(0.1515277375284097)), ((1, 9), np.float64(0.24234149299376395)), ((1, 10), np.float64(0.0032394549575716597)), ((1, 11), np.float64(0.16350648847387558)), ((1, 12), np.float64(0.17213221426821618)), ((1, 13), np.float64(0.13107038019373674)), ((1, 14), np.float64(0.3681045089720743)), ((1, 15), np.float64(0.18261022872223132)), ((1, 16), np.float64(0.10768854901975969)), ((1, 17), np.float64(0.3373923877223522)), ((1, 18), np.float64(0.13440976418336045)), ((1, 19), np.float64(0.18224539999556233)), ((1, 20), np.float64(0.07050769160643042)), ((1, 21), np.float64(0.21764154432262894)), ((1, 22), np.float64(0.24720319999994061)), ((1, 23), np.float64(0.11953800075518954)), ((1, 24), np.float64(0.27564453547483314)), ((1, 25), np.float64(0.322158532030028)), ((1, 26), np.float64(0.0025717005690661264)), ((1, 27), np.float64(0.2584805773942594)), ((1, 28), np.float64(0.3767169372721552)), ((1, 29), np.float64(0.01569738325173996)), ((1, 30), np.float64(0.29841629303186606)), ((1, 31), np.float64(0.3327453780898487)), ((1, 32), np.float64(0.26872256432982655)), ((1, 33), np.float64(0.10903656022027679)), ((1, 34), np.float64(0.03526706658442139)), ((1, 35), np.float64(0.23844241976692163)), ((1, 36), np.float64(0.34178804645743066)), ((1, 37), np.float64(0.16831387281824714)), ((1, 38), np.float64(0.05175222101916204)), ((1, 39), np.float64(0.013878932500221352))])]\n",
      "Join Part: (0, [((0, 0), np.float64(0.41138775513535053)), ((0, 1), np.float64(0.5230563530605202)), ((0, 2), np.float64(0.5662098034919004)), ((0, 3), np.float64(0.25499751923489855)), ((0, 4), np.float64(0.43980024741142676)), ((0, 5), np.float64(0.3974584427253921)), ((0, 6), np.float64(0.431118721632196)), ((0, 7), np.float64(0.005265425810234634)), ((0, 8), np.float64(0.477571002040859)), ((0, 9), np.float64(0.22306003902687996)), ((0, 10), np.float64(0.3188739792155462)), ((0, 11), np.float64(0.11231929581452975)), ((0, 12), np.float64(0.2837563469238267)), ((0, 13), np.float64(0.02824638999601923)), ((0, 14), np.float64(0.19082938249910314)), ((0, 15), np.float64(0.5702387796654584)), ((0, 16), np.float64(0.5282544511637599)), ((0, 17), np.float64(0.2959719835207515)), ((0, 18), np.float64(0.27857717794905507)), ((0, 19), np.float64(0.022935655993758516)), ((0, 20), np.float64(0.5803129049640318)), ((0, 21), np.float64(0.5003879988616575)), ((0, 22), np.float64(0.5022634382293869)), ((0, 23), np.float64(0.22418008736278544)), ((0, 24), np.float64(0.3402270215563091)), ((0, 25), np.float64(0.04710016201222951)), ((0, 26), np.float64(0.007740916696912125)), ((0, 27), np.float64(0.2146737127582153)), ((0, 28), np.float64(0.290411899087003)), ((0, 29), np.float64(0.3251015055125671)), ((0, 30), np.float64(0.09947675110546618)), ((0, 31), np.float64(0.06599983734361912)), ((0, 32), np.float64(0.07372372444904357)), ((0, 33), np.float64(0.4414962650593027)), ((0, 34), np.float64(0.20338365883427206)), ((0, 35), np.float64(0.20978446648570867)), ((0, 36), np.float64(0.43966524253212996)), ((0, 37), np.float64(0.40282069332394466)), ((0, 38), np.float64(0.09635715750248317)), ((0, 39), np.float64(0.2087148105455072)), ((1, 0), np.float64(0.2961074498105414)), ((1, 1), np.float64(0.37648393973465616)), ((1, 2), np.float64(0.407544801411391)), ((1, 3), np.float64(0.18354135286262435)), ((1, 4), np.float64(0.3165581086490929)), ((1, 5), np.float64(0.28608145092301956)), ((1, 6), np.float64(0.3103093459504882)), ((1, 7), np.float64(0.003789932464864472)), ((1, 8), np.float64(0.3437446296165465)), ((1, 9), np.float64(0.16055348873754946)), ((1, 10), np.float64(0.22951816046491114)), ((1, 11), np.float64(0.08084484730765461)), ((1, 12), np.float64(0.20424129597033194)), ((1, 13), np.float64(0.02033110223546497)), ((1, 14), np.float64(0.13735460303658958)), ((1, 15), np.float64(0.4104447658493388)), ((1, 16), np.float64(0.38022541126364934)), ((1, 17), np.float64(0.2130338303989215)), ((1, 18), np.float64(0.20051344919289701)), ((1, 19), np.float64(0.016508557975453718)), ((1, 20), np.float64(0.41769588967107474)), ((1, 21), np.float64(0.3601677794468544)), ((1, 22), np.float64(0.36151767759409004)), ((1, 23), np.float64(0.1613596737838214)), ((1, 24), np.float64(0.24488758951157671)), ((1, 25), np.float64(0.03390161395182026)), ((1, 26), np.float64(0.005571733902396661)), ((1, 27), np.float64(0.15451720386106735)), ((1, 28), np.float64(0.20903180943000157)), ((1, 29), np.float64(0.23400059074490875)), ((1, 30), np.float64(0.07160107883032711)), ((1, 31), np.float64(0.047505165819288285)), ((1, 32), np.float64(0.05306464221318163)), ((1, 33), np.float64(0.3177788631666429)), ((1, 34), np.float64(0.14639088256464852)), ((1, 35), np.float64(0.15099803678043483)), ((1, 36), np.float64(0.31646093524025526)), ((1, 37), np.float64(0.28994107564485905)), ((1, 38), np.float64(0.06935566706322029)), ((1, 39), np.float64(0.1502281230222493)), ((0, 0), np.float64(0.5072065555154802)), ((0, 1), np.float64(0.3605907573382163)), ((0, 2), np.float64(0.22328256218183049)), ((0, 3), np.float64(0.47812889225882915)), ((0, 4), np.float64(0.23454418068290775)), ((0, 5), np.float64(0.02818401933112238)), ((0, 6), np.float64(0.24181017695954932)), ((0, 7), np.float64(0.4580601739370514)), ((0, 8), np.float64(0.31228457535333193)), ((0, 9), np.float64(0.38113014239865767)), ((0, 10), np.float64(0.26634558815262077)), ((0, 11), np.float64(0.0008303531111873033)), ((0, 12), np.float64(0.12611721243761512)), ((0, 13), np.float64(0.3494971657682532)), ((0, 14), np.float64(0.42393490947631596)), ((0, 15), np.float64(0.18385199790465712)), ((0, 16), np.float64(0.34942564219890715)), ((0, 17), np.float64(0.46540501303782494)), ((0, 18), np.float64(0.5191971147128904)), ((0, 19), np.float64(0.3610776754682436)), ((0, 20), np.float64(0.023296464871812767)), ((0, 21), np.float64(0.38471470587348844)), ((0, 22), np.float64(0.28361023798894613)), ((0, 23), np.float64(0.1947727376308676)), ((0, 24), np.float64(0.36226533774248365)), ((0, 25), np.float64(0.01662613698186774)), ((0, 26), np.float64(0.22612104217517098)), ((0, 27), np.float64(0.005346684440126655)), ((0, 28), np.float64(0.3623025106399874)), ((0, 29), np.float64(0.07501748088730797)), ((0, 30), np.float64(0.021089934344226843)), ((0, 31), np.float64(0.09033848840555651)), ((0, 32), np.float64(0.03400243004753242)), ((0, 33), np.float64(0.5347029959657695)), ((0, 34), np.float64(0.35272769899468254)), ((0, 35), np.float64(0.17623775856113627)), ((0, 36), np.float64(0.19990334127287857)), ((0, 37), np.float64(0.19453642415257458)), ((0, 38), np.float64(0.04462407192179209)), ((0, 39), np.float64(0.26339106547731184)), ((1, 0), np.float64(0.31570251915669445)), ((1, 1), np.float64(0.2244438862991406)), ((1, 2), np.float64(0.13897862044177334)), ((1, 3), np.float64(0.2976035978365921)), ((1, 4), np.float64(0.1459882327819735)), ((1, 5), np.float64(0.01754268710851618)), ((1, 6), np.float64(0.15051083467616155)), ((1, 7), np.float64(0.28511214862022255)), ((1, 8), np.float64(0.19437648441398445)), ((1, 9), np.float64(0.23722829441650142)), ((1, 10), np.float64(0.16578250464565902)), ((1, 11), np.float64(0.0005168398675861153)), ((1, 12), np.float64(0.07849961961771193)), ((1, 13), np.float64(0.21753885960528524)), ((1, 14), np.float64(0.26387142954829845)), ((1, 15), np.float64(0.11443570328364984)), ((1, 16), np.float64(0.21749434091605288)), ((1, 17), np.float64(0.28968382495543515)), ((1, 18), np.float64(0.32316584884665217)), ((1, 19), np.float64(0.2247469606159078)), ((1, 20), np.float64(0.014500507865088622)), ((1, 21), np.float64(0.23945944799047492)), ((1, 22), np.float64(0.1765286067739068)), ((1, 23), np.float64(0.12123314114230546)), ((1, 24), np.float64(0.2254862017944921)), ((1, 25), np.float64(0.010348670126484055)), ((1, 26), np.float64(0.14074538641655995)), ((1, 27), np.float64(0.0033279572760418863)), ((1, 28), np.float64(0.22550933946347268)), ((1, 29), np.float64(0.046693417976119755)), ((1, 30), np.float64(0.013127088616894843)), ((1, 31), np.float64(0.05622973137138717)), ((1, 32), np.float64(0.021164262777608443)), ((1, 33), np.float64(0.3328172339087072)), ((1, 34), np.float64(0.21954965277566654)), ((1, 35), np.float64(0.10969634312343168)), ((1, 36), np.float64(0.12442660241949895)), ((1, 37), np.float64(0.12108605163883489)), ((1, 38), np.float64(0.027775532014608015)), ((1, 39), np.float64(0.16394350977984418))])\n",
      "Join Part: (1, [((0, 0), np.float64(0.6789154757572519)), ((0, 1), np.float64(0.4521848812271233)), ((0, 2), np.float64(0.6070643530475619)), ((0, 3), np.float64(0.5647638894351293)), ((0, 4), np.float64(0.08996440820841665)), ((0, 5), np.float64(0.5763038524735998)), ((0, 6), np.float64(0.5816361689525302)), ((0, 7), np.float64(0.20739965533128848)), ((0, 8), np.float64(0.30806514111222166)), ((0, 9), np.float64(0.49269505012224607)), ((0, 10), np.float64(0.0065860096963692395)), ((0, 11), np.float64(0.33241867308303474)), ((0, 12), np.float64(0.3499553002205623)), ((0, 13), np.float64(0.2664740847361071)), ((0, 14), np.float64(0.7483789393956068)), ((0, 15), np.float64(0.3712577432848025)), ((0, 16), np.float64(0.21893739450655178)), ((0, 17), np.float64(0.6859393219303397)), ((0, 18), np.float64(0.2732632562552717)), ((0, 19), np.float64(0.3705160242108145)), ((0, 20), np.float64(0.1433464415065233)), ((0, 21), np.float64(0.44247854655034263)), ((0, 22), np.float64(0.5025791972713665)), ((0, 23), np.float64(0.24302805328968877)), ((0, 24), np.float64(0.5604021686257039)), ((0, 25), np.float64(0.6549679632861232)), ((0, 26), np.float64(0.005228424258358631)), ((0, 27), np.float64(0.5255067939940802)), ((0, 28), np.float64(0.7658885319154969)), ((0, 29), np.float64(0.03191373847070894)), ((0, 30), np.float64(0.6066985419472245)), ((0, 31), np.float64(0.6764916676490987)), ((0, 32), np.float64(0.5463293787039156)), ((0, 33), np.float64(0.22167798357282947)), ((0, 34), np.float64(0.07170009940857802)), ((0, 35), np.float64(0.484767996214978)), ((0, 36), np.float64(0.6948759644922284)), ((0, 37), np.float64(0.34219237894432525)), ((0, 38), np.float64(0.1052154247874908)), ((0, 39), np.float64(0.028216717077070207)), ((1, 0), np.float64(0.33393757451137657)), ((1, 1), np.float64(0.22241579086008564)), ((1, 2), np.float64(0.2985962242249792)), ((1, 3), np.float64(0.2777899313596017)), ((1, 4), np.float64(0.04425071653575299)), ((1, 5), np.float64(0.2834660831113636)), ((1, 6), np.float64(0.28608888505812285)), ((1, 7), np.float64(0.1020134911176919)), ((1, 8), np.float64(0.1515277375284097)), ((1, 9), np.float64(0.24234149299376395)), ((1, 10), np.float64(0.0032394549575716597)), ((1, 11), np.float64(0.16350648847387558)), ((1, 12), np.float64(0.17213221426821618)), ((1, 13), np.float64(0.13107038019373674)), ((1, 14), np.float64(0.3681045089720743)), ((1, 15), np.float64(0.18261022872223132)), ((1, 16), np.float64(0.10768854901975969)), ((1, 17), np.float64(0.3373923877223522)), ((1, 18), np.float64(0.13440976418336045)), ((1, 19), np.float64(0.18224539999556233)), ((1, 20), np.float64(0.07050769160643042)), ((1, 21), np.float64(0.21764154432262894)), ((1, 22), np.float64(0.24720319999994061)), ((1, 23), np.float64(0.11953800075518954)), ((1, 24), np.float64(0.27564453547483314)), ((1, 25), np.float64(0.322158532030028)), ((1, 26), np.float64(0.0025717005690661264)), ((1, 27), np.float64(0.2584805773942594)), ((1, 28), np.float64(0.3767169372721552)), ((1, 29), np.float64(0.01569738325173996)), ((1, 30), np.float64(0.29841629303186606)), ((1, 31), np.float64(0.3327453780898487)), ((1, 32), np.float64(0.26872256432982655)), ((1, 33), np.float64(0.10903656022027679)), ((1, 34), np.float64(0.03526706658442139)), ((1, 35), np.float64(0.23844241976692163)), ((1, 36), np.float64(0.34178804645743066)), ((1, 37), np.float64(0.16831387281824714)), ((1, 38), np.float64(0.05175222101916204)), ((1, 39), np.float64(0.013878932500221352))])\n",
      "240 key-value pairs were sent over a network.\n",
      "[(0, [((0, 1), np.float64(1.3358319916258599)), ((0, 2), np.float64(1.3965567187212928)), ((0, 4), np.float64(0.7643088363027511)), ((0, 5), np.float64(1.0019463145301142)), ((0, 8), np.float64(1.0979207185064126)), ((0, 9), np.float64(1.0968852315477837)), ((0, 11), np.float64(0.4455683220087518)), ((0, 12), np.float64(0.7598288595820041)), ((0, 15), np.float64(1.125348520854918)), ((0, 16), np.float64(1.0966174878692188)), ((0, 18), np.float64(1.0710375489172173)), ((0, 19), np.float64(0.7545293556728165)), ((0, 22), np.float64(1.2884528734896996)), ((0, 23), np.float64(0.6619808782833418)), ((0, 25), np.float64(0.7186942622802204)), ((0, 26), np.float64(0.23909038313044173)), ((0, 29), np.float64(0.43203272487058403)), ((0, 32), np.float64(0.6540555332004916)), ((0, 33), np.float64(1.1978772445979018)), ((0, 36), np.float64(1.334444548297237)), ((0, 39), np.float64(0.5003225930998892)), ((1, 0), np.float64(0.9457475434786125)), ((1, 1), np.float64(0.8233436168938825)), ((1, 3), np.float64(0.7589348820588182)), ((1, 4), np.float64(0.5067970579668194)), ((1, 7), np.float64(0.39091557220277895)), ((1, 10), np.float64(0.3985401200681418)), ((1, 11), np.float64(0.2448681756491163)), ((1, 14), np.float64(0.7693305415569623)), ((1, 17), np.float64(0.8401100430767088)), ((1, 18), np.float64(0.6580890622229096)), ((1, 21), np.float64(0.8172687717599583)), ((1, 24), np.float64(0.746018326780902)), ((1, 25), np.float64(0.3664088161083323)), ((1, 27), np.float64(0.4163257385313686)), ((1, 28), np.float64(0.8112580861656296)), ((1, 31), np.float64(0.4364802752805242)), ((1, 32), np.float64(0.3429514693206166)), ((1, 34), np.float64(0.4012076019247365)), ((1, 35), np.float64(0.49913679967078817)), ((1, 38), np.float64(0.14888342009699035)), ((1, 39), np.float64(0.32805056530231486))]), (1, [((0, 0), np.float64(1.5975097864080827)), ((0, 3), np.float64(1.2978903009288572)), ((0, 6), np.float64(1.2545650675442754)), ((0, 7), np.float64(0.6707252550785745)), ((0, 10), np.float64(0.5918055770645363)), ((0, 13), np.float64(0.6442176405003796)), ((0, 14), np.float64(1.3631432313710259)), ((0, 17), np.float64(1.447316318488916)), ((0, 20), np.float64(0.7469558113423679)), ((0, 21), np.float64(1.3275812512854885)), ((0, 24), np.float64(1.2628945279244967)), ((0, 27), np.float64(0.7455271911924222)), ((0, 28), np.float64(1.4186029416424872)), ((0, 30), np.float64(0.7272652273969176)), ((0, 31), np.float64(0.8328299933982743)), ((0, 34), np.float64(0.6278114572375326)), ((0, 35), np.float64(0.8707902212618229)), ((0, 37), np.float64(0.9395494964208444)), ((0, 38), np.float64(0.24619665421176606)), ((1, 2), np.float64(0.8451196460781435)), ((1, 5), np.float64(0.5870902211428994)), ((1, 6), np.float64(0.7469090656847726)), ((1, 8), np.float64(0.6896488515589407)), ((1, 9), np.float64(0.6401232761478148)), ((1, 12), np.float64(0.45487312985626005)), ((1, 13), np.float64(0.36894034203448695)), ((1, 15), np.float64(0.70749069785522)), ((1, 16), np.float64(0.7054083011994619)), ((1, 19), np.float64(0.42350091858692385)), ((1, 20), np.float64(0.5027040891425938)), ((1, 22), np.float64(0.7852494843679374)), ((1, 23), np.float64(0.4021308156813164)), ((1, 26), np.float64(0.14888882088802274)), ((1, 29), np.float64(0.2963913919727685)), ((1, 30), np.float64(0.383144460479088)), ((1, 33), np.float64(0.7596326572956269)), ((1, 36), np.float64(0.7826755841171849)), ((1, 37), np.float64(0.5793410001019411))])]\n",
      "True\n"
     ]
    }
   ],
   "source": [
    "import numpy as np\n",
    "\n",
    "# Matrix\n",
    "rows_A = 2\n",
    "cols_A = 3\n",
    "cols_B = 4 * 10\n",
    "\n",
    "# Generation\n",
    "matrix_A = np.random.rand(rows_A, cols_A)\n",
    "matrix_B = np.random.rand(cols_A, cols_B)\n",
    "\n",
    "\n",
    "reference_solution = np.matmul(matrix_A, matrix_B)\n",
    "\n",
    "def flatten(nested_iterable):\n",
    "    \"\"\"A function for aligning nested iterable objects.\"\"\"\n",
    "    for iterable in nested_iterable:\n",
    "        for element in iterable:\n",
    "            yield element\n",
    "\n",
    "def group_by_key(iterable):\n",
    "    grouped = {}\n",
    "    for (key, value) in iterable:\n",
    "        grouped[key] = grouped.get(key, []) + [value]\n",
    "    return grouped.items()\n",
    "\n",
    "def group_by_key_distributed(map_partitions, partitioner):\n",
    "    \"\"\"Distributed grouping by key.\"\"\"\n",
    "    global num_reducers\n",
    "    partitions = [dict() for _ in range(num_reducers)]\n",
    "    for map_partition in map_partitions:\n",
    "        for (key, value) in map_partition:\n",
    "            partition_id = partitions[partitioner(key)]\n",
    "            partition_id[key] = partition_id.get(key, []) + [value]\n",
    "    return [(i, sorted(partition.items(), key=lambda x: x[0])) for i, partition in enumerate(partitions)]\n",
    "\n",
    "def partitioner(obj):\n",
    "    \"\"\"Function for determining the batch number.\"\"\"\n",
    "    global num_reducers\n",
    "    return hash(obj) % num_reducers\n",
    "\n",
    "def MapReduceDistributed(input_format, map_func, reduce_func, partitioner=partitioner, combiner=None):\n",
    "\n",
    "    map_partitions = map(lambda record_reader: flatten(map(lambda k1v1: map_func(*k1v1), record_reader)), input_format())\n",
    "    if combiner is not None:\n",
    "        map_partitions = map(lambda map_partition: flatten(map(lambda k2v2: combiner(*k2v2), group_by_key(map_partition))), map_partitions)\n",
    "    reduce_partitions = group_by_key_distributed(map_partitions, partitioner)\n",
    "    reduce_outputs = map(lambda reduce_partition: (reduce_partition[0], flatten(map(lambda reduce_input_group: reduce_func(*reduce_input_group), reduce_partition[1]))), reduce_partitions)\n",
    "\n",
    "    print(\"{} key-value pairs were sent over a network.\".format(sum(len(vs) for (k, vs) in flatten([partition for (partition_id, partition) in reduce_partitions]))))\n",
    "    return reduce_outputs\n",
    "\n",
    "def as_matrix(reduce_output):\n",
    "    \"\"\"Converting the reduction output to a matrix.\"\"\"\n",
    "    reduce_output = list(reduce_output)\n",
    "    rows = max(i for ((i, k), vw) in reduce_output) + 1\n",
    "    cols = max(k for ((i, k), vw) in reduce_output) + 1\n",
    "    result_matrix = np.empty(shape=(rows, cols))\n",
    "    \n",
    "    for ((i, k), vw) in reduce_output:\n",
    "        result_matrix[i, k] = vw\n",
    "        \n",
    "    return result_matrix\n",
    "\n",
    "def input_format():\n",
    "\n",
    "# Generating data for the first matrix\n",
    "    first_matrix_data = []\n",
    "    for i in range(matrix_A.shape[0]):\n",
    "        for j in range(matrix_A.shape[1]):\n",
    "            first_matrix_data.append(((0, i, j), matrix_A[i, j]))\n",
    "    yield first_matrix_data\n",
    "\n",
    "# Generating data for the second matrix\n",
    "    second_matrix_data = []\n",
    "    for j in range(matrix_B.shape[0]):\n",
    "        for k in range(matrix_B.shape[1]):\n",
    "            second_matrix_data.append(((1, j, k), matrix_B[j, k]))\n",
    "    yield second_matrix_data\n",
    "\n",
    "def map_join(k1, v1):\n",
    "\n",
    "    (matrix_id, i, j) = k1\n",
    "    value = v1\n",
    "    if matrix_id == 0:\n",
    "        yield (j, (matrix_id, i, value))\n",
    "    else:\n",
    "        yield (i, (matrix_id, j, value))\n",
    "\n",
    "def reduce_join(key, values):\n",
    "\n",
    "    from_first_matrix = [v for v in values if v[0] == 0]\n",
    "    from_second_matrix = [v for v in values if v[0] == 1]\n",
    "    \n",
    "    for f in from_first_matrix:\n",
    "        for s in from_second_matrix:\n",
    "            yield ((f[1], s[1]), f[2] * s[2])\n",
    "\n",
    "def get_joined():\n",
    "    for j in joined_data:\n",
    "        print(\"Join Part:\", j)\n",
    "        yield j[1]\n",
    "\n",
    "def map_multiply(k1, v1):\n",
    "    yield (k1, v1)\n",
    "\n",
    "def reduce_multiply(key, values):\n",
    "    result_value = sum(values)\n",
    "    yield (key, result_value)\n",
    "\n",
    "num_maps = 4\n",
    "num_reducers = 2\n",
    "partitioned_output = MapReduceDistributed(input_format, map_join, reduce_join)\n",
    "joined_data = [(partition_id, list(partition)) for (partition_id, partition) in partitioned_output]\n",
    "\n",
    "print(joined_data)\n",
    "\n",
    "\n",
    "mul_output = MapReduceDistributed(get_joined, map_multiply, reduce_multiply)\n",
    "pre_result = [(partition_id, list(partition)) for (partition_id, partition) in mul_output]\n",
    "print(pre_result)\n",
    "solution_values = []\n",
    "for p in pre_result:\n",
    "    solution_values.extend(p[1])\n",
    "\n",
    "\n",
    "print(np.allclose(reference_solution, as_matrix(solution_values)))\n"
   ]
  },
  {
   "cell_type": "markdown",
   "metadata": {
    "id": "ZuSA2P9Db6UM"
   },
   "source": [
    "Обобщите предыдущее решение на случай, когда каждая матрица генерируется несколькими RECORDREADER-ами, и проверьте его работоспособность. Будет ли работать решение, если RECORDREADER-ы будут генерировать случайное подмножество элементов матрицы?"
   ]
  },
  {
   "cell_type": "code",
   "execution_count": 97,
   "metadata": {
    "id": "ehN0FqRDcwU5"
   },
   "outputs": [
    {
     "name": "stdout",
     "output_type": "stream",
     "text": [
      "126 key-value pairs were sent over a network.\n",
      "[(0, [((0, 0), np.float64(0.37131011953485565)), ((0, 1), np.float64(0.32758719118469354)), ((0, 2), np.float64(0.6856347584485643)), ((0, 3), np.float64(0.31475290155183705)), ((0, 4), np.float64(0.09087196343537426)), ((0, 5), np.float64(0.21526645884258458)), ((0, 6), np.float64(0.9025232994159627)), ((0, 7), np.float64(0.24067901842124323)), ((0, 8), np.float64(0.6062814036523346)), ((0, 9), np.float64(0.22592367409318795)), ((0, 10), np.float64(0.06346516252972251)), ((0, 11), np.float64(0.6869188619629196)), ((0, 12), np.float64(0.6101240167551565)), ((0, 13), np.float64(0.9025452499522808)), ((0, 14), np.float64(0.000391931434898517)), ((0, 15), np.float64(0.5643932798068266)), ((0, 16), np.float64(0.3272873009010495)), ((0, 17), np.float64(0.5676019235080854)), ((0, 18), np.float64(0.46796960776738483)), ((0, 19), np.float64(0.36219992297444115)), ((0, 20), np.float64(0.7938579934743573)), ((0, 21), np.float64(0.2648026897764115)), ((0, 22), np.float64(0.5989489487752185)), ((0, 23), np.float64(0.46228880635394815)), ((0, 24), np.float64(0.5330177911392513)), ((0, 25), np.float64(0.8585364663095748)), ((0, 26), np.float64(0.6499322810701663)), ((0, 27), np.float64(0.5295959826180042)), ((0, 28), np.float64(0.9330409050784959)), ((0, 29), np.float64(0.8676675199093603)), ((0, 30), np.float64(0.6088810777123291)), ((0, 31), np.float64(0.47977926538520876)), ((0, 32), np.float64(0.07812417382251054)), ((0, 33), np.float64(0.4343390777938703)), ((0, 34), np.float64(0.5158055375934245)), ((0, 35), np.float64(0.5374748527097385)), ((0, 36), np.float64(0.238162051433986)), ((0, 37), np.float64(0.7455732302820658)), ((0, 38), np.float64(0.44591405549695556)), ((0, 39), np.float64(0.6613918982247381)), ((1, 0), np.float64(0.2902375006571075)), ((1, 1), np.float64(0.2560611268441401)), ((1, 2), np.float64(0.5359318483025364)), ((1, 3), np.float64(0.24602910253406735)), ((1, 4), np.float64(0.07103079113579414)), ((1, 5), np.float64(0.16826473533240957)), ((1, 6), np.float64(0.7054644969963063)), ((1, 7), np.float64(0.1881286641330825)), ((1, 8), np.float64(0.4739046689903594)), ((1, 9), np.float64(0.1765950321801624)), ((1, 10), np.float64(0.04960804778091875)), ((1, 11), np.float64(0.5369355780017387)), ((1, 12), np.float64(0.47690827800686664)), ((1, 13), np.float64(0.7054816548071601)), ((1, 14), np.float64(0.00030635631540664533)), ((1, 15), np.float64(0.44116248467454955)), ((1, 16), np.float64(0.2558267152248036)), ((1, 17), np.float64(0.44367054647884163)), ((1, 18), np.float64(0.3657921564648948)), ((1, 19), np.float64(0.283116443241538)), ((1, 20), np.float64(0.6205253985302035)), ((1, 21), np.float64(0.20698512322869908)), ((1, 22), np.float64(0.468173197464937)), ((1, 23), np.float64(0.361351712972456)), ((1, 24), np.float64(0.41663758504568915)), ((1, 25), np.float64(0.6710818399369937)), ((1, 26), np.float64(0.5080247236204675)), ((1, 27), np.float64(0.41396290126874813)), ((1, 28), np.float64(0.7293188255684135)), ((1, 29), np.float64(0.6782192004228531)), ((1, 30), np.float64(0.47593672484340516)), ((1, 31), np.float64(0.37502326903168176)), ((1, 32), np.float64(0.06106638025258122)), ((1, 33), np.float64(0.3395045859092786)), ((1, 34), np.float64(0.4031834905112464)), ((1, 35), np.float64(0.42012148258156445)), ((1, 36), np.float64(0.18616125691958366)), ((1, 37), np.float64(0.5827832303223817)), ((1, 38), np.float64(0.34855225905891885)), ((1, 39), np.float64(0.5169822242821698)), ((0, 0), np.float64(0.5216031064166242)), ((0, 1), np.float64(0.33553760998615906)), ((0, 2), np.float64(0.6028542602147561)), ((0, 3), np.float64(0.11708621593245437)), ((0, 4), np.float64(0.7901701079118553)), ((0, 5), np.float64(0.6844520756301452)), ((0, 6), np.float64(0.5744235707939019)), ((0, 7), np.float64(0.742768278998313)), ((0, 8), np.float64(0.5032643595328551)), ((0, 9), np.float64(0.7332614820659028)), ((0, 10), np.float64(0.22736703068098288)), ((0, 11), np.float64(0.5190707924312596)), ((0, 12), np.float64(0.5109780512782739)), ((0, 13), np.float64(0.20739253227235066)), ((0, 14), np.float64(0.7575641650486039)), ((0, 15), np.float64(0.20962424439972893)), ((0, 16), np.float64(0.6771438235658656)), ((0, 17), np.float64(0.13895155298001938)), ((0, 18), np.float64(0.5671456149088425)), ((0, 19), np.float64(0.09087480548734618)), ((0, 20), np.float64(0.7779509090321359)), ((0, 21), np.float64(0.36268428680054987)), ((0, 22), np.float64(0.6694472631590661)), ((0, 23), np.float64(0.35581010100607335)), ((0, 24), np.float64(0.5346854074345704)), ((0, 25), np.float64(0.7495948817103588)), ((0, 26), np.float64(0.6784566576639877)), ((0, 27), np.float64(0.6257032939686915)), ((0, 28), np.float64(0.7091231257564141)), ((0, 29), np.float64(0.43033663073053385)), ((0, 30), np.float64(0.31149307528523534)), ((0, 31), np.float64(0.7942353310051128)), ((0, 32), np.float64(0.32740485520039403)), ((0, 33), np.float64(0.7260310221980163)), ((0, 34), np.float64(0.4669394606659239)), ((0, 35), np.float64(0.3833640399190744)), ((0, 36), np.float64(0.3012361502032356)), ((0, 37), np.float64(0.4896582381411918)), ((0, 38), np.float64(0.46374929615190774)), ((0, 39), np.float64(0.41460648743243117)), ((1, 0), np.float64(0.025362489473408887)), ((1, 1), np.float64(0.016315219362227913)), ((1, 2), np.float64(0.029313254926215566)), ((1, 3), np.float64(0.005693213637988235)), ((1, 4), np.float64(0.03842132226127798)), ((1, 5), np.float64(0.033280876493394194)), ((1, 6), np.float64(0.027930837811961987)), ((1, 7), np.float64(0.03611645027709969)), ((1, 8), np.float64(0.024470784134477105)), ((1, 9), np.float64(0.035654190688999186)), ((1, 10), np.float64(0.011055520665631669)), ((1, 11), np.float64(0.025239357946761354)), ((1, 12), np.float64(0.024845855569611622)), ((1, 13), np.float64(0.010084278356309772)), ((1, 14), np.float64(0.03683588714314574)), ((1, 15), np.float64(0.010192793383620787)), ((1, 16), np.float64(0.0329255192039741)), ((1, 17), np.float64(0.0067563963028906505)), ((1, 18), np.float64(0.02757695364744684)), ((1, 19), np.float64(0.004418707000049876)), ((1, 20), np.float64(0.03782717452874352)), ((1, 21), np.float64(0.01763520249973838)), ((1, 22), np.float64(0.03255128076502012)), ((1, 23), np.float64(0.017300951298574306)), ((1, 24), np.float64(0.02599860478363981)), ((1, 25), np.float64(0.03644838779298771)), ((1, 26), np.float64(0.03298935460024446)), ((1, 27), np.float64(0.03042426897297409)), ((1, 28), np.float64(0.03448048447392193)), ((1, 29), np.float64(0.020924737856541174)), ((1, 30), np.float64(0.01514607513984267)), ((1, 31), np.float64(0.03861899013679759)), ((1, 32), np.float64(0.01591977135759309)), ((1, 33), np.float64(0.03530261597628898)), ((1, 34), np.float64(0.02270451807163791)), ((1, 35), np.float64(0.018640737195236037)), ((1, 36), np.float64(0.014647341234270457)), ((1, 37), np.float64(0.023809198522112385)), ((1, 38), np.float64(0.02254939914517862)), ((1, 39), np.float64(0.02015987355856155))]), (1, [((0, 0), np.float64(0.7283226430306011)), ((0, 1), np.float64(0.7972188290925447)), ((0, 2), np.float64(0.6450209652323026)), ((0, 3), np.float64(0.9701045231775841)), ((0, 4), np.float64(0.2116443426194296)), ((0, 5), np.float64(0.19691373268800152)), ((0, 6), np.float64(0.5470791565254809)), ((0, 7), np.float64(0.6827266253903703)), ((0, 8), np.float64(0.5673738895225559)), ((0, 9), np.float64(0.4171262146101505)), ((0, 10), np.float64(0.22241372509618482)), ((0, 11), np.float64(0.029777030023317542)), ((0, 12), np.float64(0.10628114863557742)), ((0, 13), np.float64(0.21534140348655129)), ((0, 14), np.float64(0.3902127196305557)), ((0, 15), np.float64(0.9188708009875889)), ((0, 16), np.float64(0.7857552318802105)), ((0, 17), np.float64(0.3287350306734341)), ((0, 18), np.float64(0.6529752924049206)), ((0, 19), np.float64(0.49416023368388534)), ((0, 20), np.float64(0.9332321682378587)), ((0, 21), np.float64(0.46680371544358423)), ((0, 22), np.float64(0.43224690552274675)), ((0, 23), np.float64(0.42124916041898003)), ((0, 24), np.float64(0.2857400634953654)), ((0, 25), np.float64(0.7747021971566187)), ((0, 26), np.float64(0.18205826200110667)), ((0, 27), np.float64(0.12710812759594392)), ((0, 28), np.float64(0.22139220604279644)), ((0, 29), np.float64(0.902538692453252)), ((0, 30), np.float64(0.8252550015287081)), ((0, 31), np.float64(0.20028669749750044)), ((0, 32), np.float64(0.3516934574425473)), ((0, 33), np.float64(0.4137376328501108)), ((0, 34), np.float64(0.7113390346273877)), ((0, 35), np.float64(0.9066070482703379)), ((0, 36), np.float64(0.5365616453562922)), ((0, 37), np.float64(0.23439832470223623)), ((0, 38), np.float64(0.36747063071674047)), ((0, 39), np.float64(0.4551266139910774)), ((1, 0), np.float64(0.43260222508289303)), ((1, 1), np.float64(0.4735245329025465)), ((1, 2), np.float64(0.3831234789344391)), ((1, 3), np.float64(0.5762135494556759)), ((1, 4), np.float64(0.12571051362949942)), ((1, 5), np.float64(0.11696096465674256)), ((1, 6), np.float64(0.32494892569123596)), ((1, 7), np.float64(0.405519531890758)), ((1, 8), np.float64(0.3370034000866296)), ((1, 9), np.float64(0.2477607009853375)), ((1, 10), np.float64(0.13210721002057574)), ((1, 11), np.float64(0.017686679890722617)), ((1, 12), np.float64(0.06312787584469579)), ((1, 13), np.float64(0.12790645902909417)), ((1, 14), np.float64(0.23177487667472246)), ((1, 15), np.float64(0.5457822256038655)), ((1, 16), np.float64(0.46671549338007007)), ((1, 17), np.float64(0.19525893790733836)), ((1, 18), np.float64(0.3878481152846058)), ((1, 19), np.float64(0.2935166422254831)), ((1, 20), np.float64(0.55431245528593)), ((1, 21), np.float64(0.27726767513030826)), ((1, 22), np.float64(0.25674194658599775)), ((1, 23), np.float64(0.2502096095121604)), ((1, 24), np.float64(0.16972119217530432)), ((1, 25), np.float64(0.460150315898497)), ((1, 26), np.float64(0.10813725206823474)), ((1, 27), np.float64(0.07549848868534392)), ((1, 28), np.float64(0.1315004577526227)), ((1, 29), np.float64(0.5360814335718477)), ((1, 30), np.float64(0.49017719459685327)), ((1, 31), np.float64(0.11896440653195861)), ((1, 32), np.float64(0.2088955680461376)), ((1, 33), np.float64(0.2457479831009)), ((1, 34), np.float64(0.4225144612937643)), ((1, 35), np.float64(0.5384979172494344)), ((1, 36), np.float64(0.3187018334476216)), ((1, 37), np.float64(0.1392257096387286)), ((1, 38), np.float64(0.21826674485801595)), ((1, 39), np.float64(0.2703318203697679))])]\n",
      "Join Part: (0, [((0, 0), np.float64(0.37131011953485565)), ((0, 1), np.float64(0.32758719118469354)), ((0, 2), np.float64(0.6856347584485643)), ((0, 3), np.float64(0.31475290155183705)), ((0, 4), np.float64(0.09087196343537426)), ((0, 5), np.float64(0.21526645884258458)), ((0, 6), np.float64(0.9025232994159627)), ((0, 7), np.float64(0.24067901842124323)), ((0, 8), np.float64(0.6062814036523346)), ((0, 9), np.float64(0.22592367409318795)), ((0, 10), np.float64(0.06346516252972251)), ((0, 11), np.float64(0.6869188619629196)), ((0, 12), np.float64(0.6101240167551565)), ((0, 13), np.float64(0.9025452499522808)), ((0, 14), np.float64(0.000391931434898517)), ((0, 15), np.float64(0.5643932798068266)), ((0, 16), np.float64(0.3272873009010495)), ((0, 17), np.float64(0.5676019235080854)), ((0, 18), np.float64(0.46796960776738483)), ((0, 19), np.float64(0.36219992297444115)), ((0, 20), np.float64(0.7938579934743573)), ((0, 21), np.float64(0.2648026897764115)), ((0, 22), np.float64(0.5989489487752185)), ((0, 23), np.float64(0.46228880635394815)), ((0, 24), np.float64(0.5330177911392513)), ((0, 25), np.float64(0.8585364663095748)), ((0, 26), np.float64(0.6499322810701663)), ((0, 27), np.float64(0.5295959826180042)), ((0, 28), np.float64(0.9330409050784959)), ((0, 29), np.float64(0.8676675199093603)), ((0, 30), np.float64(0.6088810777123291)), ((0, 31), np.float64(0.47977926538520876)), ((0, 32), np.float64(0.07812417382251054)), ((0, 33), np.float64(0.4343390777938703)), ((0, 34), np.float64(0.5158055375934245)), ((0, 35), np.float64(0.5374748527097385)), ((0, 36), np.float64(0.238162051433986)), ((0, 37), np.float64(0.7455732302820658)), ((0, 38), np.float64(0.44591405549695556)), ((0, 39), np.float64(0.6613918982247381)), ((1, 0), np.float64(0.2902375006571075)), ((1, 1), np.float64(0.2560611268441401)), ((1, 2), np.float64(0.5359318483025364)), ((1, 3), np.float64(0.24602910253406735)), ((1, 4), np.float64(0.07103079113579414)), ((1, 5), np.float64(0.16826473533240957)), ((1, 6), np.float64(0.7054644969963063)), ((1, 7), np.float64(0.1881286641330825)), ((1, 8), np.float64(0.4739046689903594)), ((1, 9), np.float64(0.1765950321801624)), ((1, 10), np.float64(0.04960804778091875)), ((1, 11), np.float64(0.5369355780017387)), ((1, 12), np.float64(0.47690827800686664)), ((1, 13), np.float64(0.7054816548071601)), ((1, 14), np.float64(0.00030635631540664533)), ((1, 15), np.float64(0.44116248467454955)), ((1, 16), np.float64(0.2558267152248036)), ((1, 17), np.float64(0.44367054647884163)), ((1, 18), np.float64(0.3657921564648948)), ((1, 19), np.float64(0.283116443241538)), ((1, 20), np.float64(0.6205253985302035)), ((1, 21), np.float64(0.20698512322869908)), ((1, 22), np.float64(0.468173197464937)), ((1, 23), np.float64(0.361351712972456)), ((1, 24), np.float64(0.41663758504568915)), ((1, 25), np.float64(0.6710818399369937)), ((1, 26), np.float64(0.5080247236204675)), ((1, 27), np.float64(0.41396290126874813)), ((1, 28), np.float64(0.7293188255684135)), ((1, 29), np.float64(0.6782192004228531)), ((1, 30), np.float64(0.47593672484340516)), ((1, 31), np.float64(0.37502326903168176)), ((1, 32), np.float64(0.06106638025258122)), ((1, 33), np.float64(0.3395045859092786)), ((1, 34), np.float64(0.4031834905112464)), ((1, 35), np.float64(0.42012148258156445)), ((1, 36), np.float64(0.18616125691958366)), ((1, 37), np.float64(0.5827832303223817)), ((1, 38), np.float64(0.34855225905891885)), ((1, 39), np.float64(0.5169822242821698)), ((0, 0), np.float64(0.5216031064166242)), ((0, 1), np.float64(0.33553760998615906)), ((0, 2), np.float64(0.6028542602147561)), ((0, 3), np.float64(0.11708621593245437)), ((0, 4), np.float64(0.7901701079118553)), ((0, 5), np.float64(0.6844520756301452)), ((0, 6), np.float64(0.5744235707939019)), ((0, 7), np.float64(0.742768278998313)), ((0, 8), np.float64(0.5032643595328551)), ((0, 9), np.float64(0.7332614820659028)), ((0, 10), np.float64(0.22736703068098288)), ((0, 11), np.float64(0.5190707924312596)), ((0, 12), np.float64(0.5109780512782739)), ((0, 13), np.float64(0.20739253227235066)), ((0, 14), np.float64(0.7575641650486039)), ((0, 15), np.float64(0.20962424439972893)), ((0, 16), np.float64(0.6771438235658656)), ((0, 17), np.float64(0.13895155298001938)), ((0, 18), np.float64(0.5671456149088425)), ((0, 19), np.float64(0.09087480548734618)), ((0, 20), np.float64(0.7779509090321359)), ((0, 21), np.float64(0.36268428680054987)), ((0, 22), np.float64(0.6694472631590661)), ((0, 23), np.float64(0.35581010100607335)), ((0, 24), np.float64(0.5346854074345704)), ((0, 25), np.float64(0.7495948817103588)), ((0, 26), np.float64(0.6784566576639877)), ((0, 27), np.float64(0.6257032939686915)), ((0, 28), np.float64(0.7091231257564141)), ((0, 29), np.float64(0.43033663073053385)), ((0, 30), np.float64(0.31149307528523534)), ((0, 31), np.float64(0.7942353310051128)), ((0, 32), np.float64(0.32740485520039403)), ((0, 33), np.float64(0.7260310221980163)), ((0, 34), np.float64(0.4669394606659239)), ((0, 35), np.float64(0.3833640399190744)), ((0, 36), np.float64(0.3012361502032356)), ((0, 37), np.float64(0.4896582381411918)), ((0, 38), np.float64(0.46374929615190774)), ((0, 39), np.float64(0.41460648743243117)), ((1, 0), np.float64(0.025362489473408887)), ((1, 1), np.float64(0.016315219362227913)), ((1, 2), np.float64(0.029313254926215566)), ((1, 3), np.float64(0.005693213637988235)), ((1, 4), np.float64(0.03842132226127798)), ((1, 5), np.float64(0.033280876493394194)), ((1, 6), np.float64(0.027930837811961987)), ((1, 7), np.float64(0.03611645027709969)), ((1, 8), np.float64(0.024470784134477105)), ((1, 9), np.float64(0.035654190688999186)), ((1, 10), np.float64(0.011055520665631669)), ((1, 11), np.float64(0.025239357946761354)), ((1, 12), np.float64(0.024845855569611622)), ((1, 13), np.float64(0.010084278356309772)), ((1, 14), np.float64(0.03683588714314574)), ((1, 15), np.float64(0.010192793383620787)), ((1, 16), np.float64(0.0329255192039741)), ((1, 17), np.float64(0.0067563963028906505)), ((1, 18), np.float64(0.02757695364744684)), ((1, 19), np.float64(0.004418707000049876)), ((1, 20), np.float64(0.03782717452874352)), ((1, 21), np.float64(0.01763520249973838)), ((1, 22), np.float64(0.03255128076502012)), ((1, 23), np.float64(0.017300951298574306)), ((1, 24), np.float64(0.02599860478363981)), ((1, 25), np.float64(0.03644838779298771)), ((1, 26), np.float64(0.03298935460024446)), ((1, 27), np.float64(0.03042426897297409)), ((1, 28), np.float64(0.03448048447392193)), ((1, 29), np.float64(0.020924737856541174)), ((1, 30), np.float64(0.01514607513984267)), ((1, 31), np.float64(0.03861899013679759)), ((1, 32), np.float64(0.01591977135759309)), ((1, 33), np.float64(0.03530261597628898)), ((1, 34), np.float64(0.02270451807163791)), ((1, 35), np.float64(0.018640737195236037)), ((1, 36), np.float64(0.014647341234270457)), ((1, 37), np.float64(0.023809198522112385)), ((1, 38), np.float64(0.02254939914517862)), ((1, 39), np.float64(0.02015987355856155))])\n",
      "Join Part: (1, [((0, 0), np.float64(0.7283226430306011)), ((0, 1), np.float64(0.7972188290925447)), ((0, 2), np.float64(0.6450209652323026)), ((0, 3), np.float64(0.9701045231775841)), ((0, 4), np.float64(0.2116443426194296)), ((0, 5), np.float64(0.19691373268800152)), ((0, 6), np.float64(0.5470791565254809)), ((0, 7), np.float64(0.6827266253903703)), ((0, 8), np.float64(0.5673738895225559)), ((0, 9), np.float64(0.4171262146101505)), ((0, 10), np.float64(0.22241372509618482)), ((0, 11), np.float64(0.029777030023317542)), ((0, 12), np.float64(0.10628114863557742)), ((0, 13), np.float64(0.21534140348655129)), ((0, 14), np.float64(0.3902127196305557)), ((0, 15), np.float64(0.9188708009875889)), ((0, 16), np.float64(0.7857552318802105)), ((0, 17), np.float64(0.3287350306734341)), ((0, 18), np.float64(0.6529752924049206)), ((0, 19), np.float64(0.49416023368388534)), ((0, 20), np.float64(0.9332321682378587)), ((0, 21), np.float64(0.46680371544358423)), ((0, 22), np.float64(0.43224690552274675)), ((0, 23), np.float64(0.42124916041898003)), ((0, 24), np.float64(0.2857400634953654)), ((0, 25), np.float64(0.7747021971566187)), ((0, 26), np.float64(0.18205826200110667)), ((0, 27), np.float64(0.12710812759594392)), ((0, 28), np.float64(0.22139220604279644)), ((0, 29), np.float64(0.902538692453252)), ((0, 30), np.float64(0.8252550015287081)), ((0, 31), np.float64(0.20028669749750044)), ((0, 32), np.float64(0.3516934574425473)), ((0, 33), np.float64(0.4137376328501108)), ((0, 34), np.float64(0.7113390346273877)), ((0, 35), np.float64(0.9066070482703379)), ((0, 36), np.float64(0.5365616453562922)), ((0, 37), np.float64(0.23439832470223623)), ((0, 38), np.float64(0.36747063071674047)), ((0, 39), np.float64(0.4551266139910774)), ((1, 0), np.float64(0.43260222508289303)), ((1, 1), np.float64(0.4735245329025465)), ((1, 2), np.float64(0.3831234789344391)), ((1, 3), np.float64(0.5762135494556759)), ((1, 4), np.float64(0.12571051362949942)), ((1, 5), np.float64(0.11696096465674256)), ((1, 6), np.float64(0.32494892569123596)), ((1, 7), np.float64(0.405519531890758)), ((1, 8), np.float64(0.3370034000866296)), ((1, 9), np.float64(0.2477607009853375)), ((1, 10), np.float64(0.13210721002057574)), ((1, 11), np.float64(0.017686679890722617)), ((1, 12), np.float64(0.06312787584469579)), ((1, 13), np.float64(0.12790645902909417)), ((1, 14), np.float64(0.23177487667472246)), ((1, 15), np.float64(0.5457822256038655)), ((1, 16), np.float64(0.46671549338007007)), ((1, 17), np.float64(0.19525893790733836)), ((1, 18), np.float64(0.3878481152846058)), ((1, 19), np.float64(0.2935166422254831)), ((1, 20), np.float64(0.55431245528593)), ((1, 21), np.float64(0.27726767513030826)), ((1, 22), np.float64(0.25674194658599775)), ((1, 23), np.float64(0.2502096095121604)), ((1, 24), np.float64(0.16972119217530432)), ((1, 25), np.float64(0.460150315898497)), ((1, 26), np.float64(0.10813725206823474)), ((1, 27), np.float64(0.07549848868534392)), ((1, 28), np.float64(0.1315004577526227)), ((1, 29), np.float64(0.5360814335718477)), ((1, 30), np.float64(0.49017719459685327)), ((1, 31), np.float64(0.11896440653195861)), ((1, 32), np.float64(0.2088955680461376)), ((1, 33), np.float64(0.2457479831009)), ((1, 34), np.float64(0.4225144612937643)), ((1, 35), np.float64(0.5384979172494344)), ((1, 36), np.float64(0.3187018334476216)), ((1, 37), np.float64(0.1392257096387286)), ((1, 38), np.float64(0.21826674485801595)), ((1, 39), np.float64(0.2703318203697679))])\n",
      "240 key-value pairs were sent over a network.\n",
      "[(0, [((0, 1), np.float64(1.4603436302633974)), ((0, 2), np.float64(1.9335099838956231)), ((0, 4), np.float64(1.0926864139666592)), ((0, 5), np.float64(1.0966322671607314)), ((0, 8), np.float64(1.6769196527077455)), ((0, 9), np.float64(1.3763113707692411)), ((0, 11), np.float64(1.2357666844174968)), ((0, 12), np.float64(1.227383216669008)), ((0, 15), np.float64(1.6928883251941444)), ((0, 16), np.float64(1.7901863563471254)), ((0, 18), np.float64(1.688090515081148)), ((0, 19), np.float64(0.9472349621456726)), ((0, 22), np.float64(1.7006431174570313)), ((0, 23), np.float64(1.2393480677790016)), ((0, 25), np.float64(2.382833545176552)), ((0, 26), np.float64(1.5104472007352605)), ((0, 29), np.float64(2.200542843093146)), ((0, 32), np.float64(0.7572224864654519)), ((0, 33), np.float64(1.5741077328419975)), ((0, 36), np.float64(1.0759598469935139)), ((0, 39), np.float64(1.5311249996482468)), ((1, 0), np.float64(0.7482022152134095)), ((1, 1), np.float64(0.7459008791089146)), ((1, 3), np.float64(0.8279358656277316)), ((1, 4), np.float64(0.23516262702657154)), ((1, 7), np.float64(0.6297646463009402)), ((1, 10), np.float64(0.19277077846712615)), ((1, 11), np.float64(0.5798616158392227)), ((1, 14), np.float64(0.26891712013327485)), ((1, 17), np.float64(0.6456858806890706)), ((1, 18), np.float64(0.7812172253969474)), ((1, 21), np.float64(0.5018880008587457)), ((1, 24), np.float64(0.6123573820046333)), ((1, 25), np.float64(1.1676805436284785)), ((1, 27), np.float64(0.5198856589270662)), ((1, 28), np.float64(0.8952997677949581)), ((1, 31), np.float64(0.532606665700438)), ((1, 32), np.float64(0.28588171965631193)), ((1, 34), np.float64(0.8484024698766486)), ((1, 35), np.float64(0.9772601370262348)), ((1, 38), np.float64(0.5893684030621134)), ((1, 39), np.float64(0.8074739182104992))]), (1, [((0, 0), np.float64(1.621235868982081)), ((0, 3), np.float64(1.4019436406618755)), ((0, 6), np.float64(2.0240260267353456)), ((0, 7), np.float64(1.6661739228099266)), ((0, 10), np.float64(0.5132459183068903)), ((0, 13), np.float64(1.3252791857111828)), ((0, 14), np.float64(1.1481688161140582)), ((0, 17), np.float64(1.035288507161539)), ((0, 20), np.float64(2.505041070744352)), ((0, 21), np.float64(1.0942906920205457)), ((0, 24), np.float64(1.3534432620691872)), ((0, 27), np.float64(1.2824074041826394)), ((0, 28), np.float64(1.8635562368777063)), ((0, 30), np.float64(1.7456291545262725)), ((0, 31), np.float64(1.474301293887822)), ((0, 34), np.float64(1.6940840328867361)), ((0, 35), np.float64(1.8274459408991508)), ((0, 37), np.float64(1.469629793125494)), ((0, 38), np.float64(1.2771339823656036)), ((1, 2), np.float64(0.9483685821631911)), ((1, 5), np.float64(0.3185065764825463)), ((1, 6), np.float64(1.0583442604995044)), ((1, 8), np.float64(0.8353788532114661)), ((1, 9), np.float64(0.4600099238544991)), ((1, 12), np.float64(0.5648820094211741)), ((1, 13), np.float64(0.843472392192564)), ((1, 15), np.float64(0.9971375036620358)), ((1, 16), np.float64(0.7554677278088477)), ((1, 19), np.float64(0.5810517924670711)), ((1, 20), np.float64(1.212665028344877)), ((1, 22), np.float64(0.7574664248159548)), ((1, 23), np.float64(0.6288622737831907)), ((1, 26), np.float64(0.6491513302889467)), ((1, 29), np.float64(1.235225371851242)), ((1, 30), np.float64(0.981259994580101)), ((1, 33), np.float64(0.6205551849864677)), ((1, 36), np.float64(0.5195104316014757)), ((1, 37), np.float64(0.7458181384832226))])]\n",
      "[((0, 1), np.float64(1.4603436302633974)), ((0, 2), np.float64(1.9335099838956231)), ((0, 4), np.float64(1.0926864139666592)), ((0, 5), np.float64(1.0966322671607314)), ((0, 8), np.float64(1.6769196527077455)), ((0, 9), np.float64(1.3763113707692411)), ((0, 11), np.float64(1.2357666844174968)), ((0, 12), np.float64(1.227383216669008)), ((0, 15), np.float64(1.6928883251941444)), ((0, 16), np.float64(1.7901863563471254)), ((0, 18), np.float64(1.688090515081148)), ((0, 19), np.float64(0.9472349621456726)), ((0, 22), np.float64(1.7006431174570313)), ((0, 23), np.float64(1.2393480677790016)), ((0, 25), np.float64(2.382833545176552)), ((0, 26), np.float64(1.5104472007352605)), ((0, 29), np.float64(2.200542843093146)), ((0, 32), np.float64(0.7572224864654519)), ((0, 33), np.float64(1.5741077328419975)), ((0, 36), np.float64(1.0759598469935139)), ((0, 39), np.float64(1.5311249996482468)), ((1, 0), np.float64(0.7482022152134095)), ((1, 1), np.float64(0.7459008791089146)), ((1, 3), np.float64(0.8279358656277316)), ((1, 4), np.float64(0.23516262702657154)), ((1, 7), np.float64(0.6297646463009402)), ((1, 10), np.float64(0.19277077846712615)), ((1, 11), np.float64(0.5798616158392227)), ((1, 14), np.float64(0.26891712013327485)), ((1, 17), np.float64(0.6456858806890706)), ((1, 18), np.float64(0.7812172253969474)), ((1, 21), np.float64(0.5018880008587457)), ((1, 24), np.float64(0.6123573820046333)), ((1, 25), np.float64(1.1676805436284785)), ((1, 27), np.float64(0.5198856589270662)), ((1, 28), np.float64(0.8952997677949581)), ((1, 31), np.float64(0.532606665700438)), ((1, 32), np.float64(0.28588171965631193)), ((1, 34), np.float64(0.8484024698766486)), ((1, 35), np.float64(0.9772601370262348)), ((1, 38), np.float64(0.5893684030621134)), ((1, 39), np.float64(0.8074739182104992)), ((0, 0), np.float64(1.621235868982081)), ((0, 3), np.float64(1.4019436406618755)), ((0, 6), np.float64(2.0240260267353456)), ((0, 7), np.float64(1.6661739228099266)), ((0, 10), np.float64(0.5132459183068903)), ((0, 13), np.float64(1.3252791857111828)), ((0, 14), np.float64(1.1481688161140582)), ((0, 17), np.float64(1.035288507161539)), ((0, 20), np.float64(2.505041070744352)), ((0, 21), np.float64(1.0942906920205457)), ((0, 24), np.float64(1.3534432620691872)), ((0, 27), np.float64(1.2824074041826394)), ((0, 28), np.float64(1.8635562368777063)), ((0, 30), np.float64(1.7456291545262725)), ((0, 31), np.float64(1.474301293887822)), ((0, 34), np.float64(1.6940840328867361)), ((0, 35), np.float64(1.8274459408991508)), ((0, 37), np.float64(1.469629793125494)), ((0, 38), np.float64(1.2771339823656036)), ((1, 2), np.float64(0.9483685821631911)), ((1, 5), np.float64(0.3185065764825463)), ((1, 6), np.float64(1.0583442604995044)), ((1, 8), np.float64(0.8353788532114661)), ((1, 9), np.float64(0.4600099238544991)), ((1, 12), np.float64(0.5648820094211741)), ((1, 13), np.float64(0.843472392192564)), ((1, 15), np.float64(0.9971375036620358)), ((1, 16), np.float64(0.7554677278088477)), ((1, 19), np.float64(0.5810517924670711)), ((1, 20), np.float64(1.212665028344877)), ((1, 22), np.float64(0.7574664248159548)), ((1, 23), np.float64(0.6288622737831907)), ((1, 26), np.float64(0.6491513302889467)), ((1, 29), np.float64(1.235225371851242)), ((1, 30), np.float64(0.981259994580101)), ((1, 33), np.float64(0.6205551849864677)), ((1, 36), np.float64(0.5195104316014757)), ((1, 37), np.float64(0.7458181384832226))]\n",
      "Are the results close?  True\n"
     ]
    }
   ],
   "source": [
    "import numpy as np\n",
    "\n",
    "\n",
    "ROWS_A = 2\n",
    "COLS_A = 3\n",
    "COLS_B = 4 * 10\n",
    "\n",
    "small_matrix = np.random.rand(ROWS_A, COLS_A)\n",
    "large_matrix = np.random.rand(COLS_A, COLS_B)\n",
    "\n",
    "\n",
    "reference_solution = np.matmul(small_matrix, large_matrix)\n",
    "\n",
    "def flatten(nested_iterable):\n",
    "\n",
    "    for iterable in nested_iterable:\n",
    "        for element in iterable:\n",
    "            yield element\n",
    "\n",
    "def group_by_key(iterable):\n",
    "\n",
    "    grouped = {}\n",
    "    for (key, value) in iterable:\n",
    "        grouped[key] = grouped.get(key, []) + [value]\n",
    "    return grouped.items()\n",
    "\n",
    "def group_by_key_distributed(map_partitions, partitioner):\n",
    "\n",
    "    partitions = [dict() for _ in range(reducers)]\n",
    "    for map_partition in map_partitions:\n",
    "        for (key, value) in map_partition:\n",
    "            partition_id = partitioner(key)\n",
    "            partitions[partition_id][key] = partitions[partition_id].get(key, []) + [value]\n",
    "    return [(partition_id, sorted(partition.items(), key=lambda x: x[0])) for partition_id, partition in enumerate(partitions)]\n",
    "\n",
    "def partitioner(obj):\n",
    "\n",
    "    return hash(obj) % reducers\n",
    "\n",
    "def MapReduceDistributed(input_format, map_func, reduce_func, partitioner=partitioner, combiner=None):\n",
    "\n",
    "    map_partitions = map(lambda record_reader: flatten(map(lambda k1v1: map_func(*k1v1), record_reader)), input_format())\n",
    "\n",
    "    if combiner is not None:\n",
    "        map_partitions = map(lambda map_partition: flatten(map(lambda k2v2: combiner(*k2v2), group_by_key(map_partition))), map_partitions)\n",
    "\n",
    "    reduce_partitions = group_by_key_distributed(map_partitions, partitioner)  # Shuffle\n",
    "\n",
    "    reduce_outputs = map(lambda reduce_partition: (reduce_partition[0], flatten(map(lambda reduce_input_group: reduce_func(*reduce_input_group), reduce_partition[1]))), reduce_partitions)\n",
    "\n",
    "    print(\"{} key-value pairs were sent over a network.\".format(sum(len(vs) for (k, vs) in flatten([partition for (partition_id, partition) in reduce_partitions]))))\n",
    "    return reduce_outputs\n",
    "\n",
    "def as_matrix(reduce_output):\n",
    "\n",
    "    reduce_output = list(reduce_output)\n",
    "    num_rows = max(i for ((i, k), vw) in reduce_output) + 1\n",
    "    num_cols = max(k for ((i, k), vw) in reduce_output) + 1\n",
    "    result_matrix = np.empty(shape=(num_rows, num_cols))\n",
    "    \n",
    "    for ((i, k), vw) in reduce_output:\n",
    "        result_matrix[i, k] = vw\n",
    "    return result_matrix\n",
    "\n",
    "def input_format():\n",
    "\n",
    "    first_matrix_data = []\n",
    "    for i in range(small_matrix.shape[0]):\n",
    "        for j in range(small_matrix.shape[1]):\n",
    "            first_matrix_data.append(((0, i, j), small_matrix[i, j]))\n",
    "\n",
    "    global num_maps\n",
    "    split_size = int(np.ceil(len(first_matrix_data) / num_maps))\n",
    "\n",
    "    for i in range(0, len(first_matrix_data), split_size):\n",
    "        yield first_matrix_data[i:i + split_size]\n",
    "\n",
    "    second_matrix_data = []\n",
    "    for j in range(large_matrix.shape[0]):\n",
    "        for k in range(large_matrix.shape[1]):\n",
    "            second_matrix_data.append(((1, j, k), large_matrix[j, k]))\n",
    "\n",
    "    split_size = int(np.ceil(len(second_matrix_data) / num_maps))\n",
    "\n",
    "    for i in range(0, len(second_matrix_data), split_size):\n",
    "        yield second_matrix_data[i:i + split_size]\n",
    "\n",
    "def map_join(key1, value1):\n",
    "\n",
    "    matrix_id, i, j = key1\n",
    "    value = value1\n",
    "\n",
    "    if matrix_id == 0:\n",
    "        yield (j, (matrix_id, i, value))\n",
    "    else:\n",
    "        yield (i, (matrix_id, j, value))\n",
    "\n",
    "def reduce_join(key, values):\n",
    "\n",
    "    from_first_matrix = [v for v in values if v[0] == 0]\n",
    "    from_second_matrix = [v for v in values if v[0] == 1]\n",
    "\n",
    "    for f in from_first_matrix:\n",
    "        for s in from_second_matrix:\n",
    "            yield ((f[1], s[1]), f[2] * s[2])\n",
    "\n",
    "def get_joined():\n",
    "\n",
    "    for j in joined:\n",
    "        print(\"Join Part:\", j)\n",
    "        yield j[1]\n",
    "\n",
    "def map_multiply(key1, value1):\n",
    "\n",
    "    yield (key1, value1)\n",
    "\n",
    "def reduce_multiply(key, values):\n",
    "\n",
    "    yield (key, sum(values))\n",
    "\n",
    "\n",
    "num_maps = 3\n",
    "reducers = 2\n",
    "\n",
    "\n",
    "partitioned_output = MapReduceDistributed(input_format, map_join, reduce_join)\n",
    "joined = [(partition_id, list(partition)) for (partition_id, partition) in partitioned_output]\n",
    "print(joined)\n",
    "\n",
    "mul_output = MapReduceDistributed(get_joined, map_multiply, reduce_multiply)\n",
    "pre_result = [(partition_id, list(partition)) for (partition_id, partition) in mul_output]\n",
    "print(pre_result)\n",
    "\n",
    "\n",
    "solution_values = []\n",
    "for p in pre_result:\n",
    "    solution_values.extend(p[1])\n",
    "\n",
    "print(solution_values)\n",
    "\n",
    "\n",
    "is_close = np.allclose(reference_solution, as_matrix(solution_values))\n",
    "print(\"Are the results close? \", is_close)\n"
   ]
  }
 ],
 "metadata": {
  "colab": {
   "provenance": []
  },
  "kernelspec": {
   "display_name": "Python 3 (ipykernel)",
   "language": "python",
   "name": "python3"
  },
  "language_info": {
   "codemirror_mode": {
    "name": "ipython",
    "version": 3
   },
   "file_extension": ".py",
   "mimetype": "text/x-python",
   "name": "python",
   "nbconvert_exporter": "python",
   "pygments_lexer": "ipython3",
   "version": "3.12.6"
  }
 },
 "nbformat": 4,
 "nbformat_minor": 4
}
