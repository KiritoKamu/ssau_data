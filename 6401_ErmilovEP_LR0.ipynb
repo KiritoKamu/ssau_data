{
 "cells": [
  {
   "cell_type": "markdown",
   "metadata": {
    "id": "82OvPKEiEqjc"
   },
   "source": [
    "# Введение в MapReduce модель на Python\n"
   ]
  },
  {
   "cell_type": "code",
   "execution_count": 8,
   "metadata": {
    "id": "JQ2cvXLjICmI"
   },
   "outputs": [],
   "source": [
    "from typing import NamedTuple # requires python 3.6+\n",
    "from typing import Iterator"
   ]
  },
  {
   "cell_type": "code",
   "execution_count": 9,
   "metadata": {
    "id": "yjPHumVwEyEg"
   },
   "outputs": [],
   "source": [
    "def MAP(_, row:NamedTuple):\n",
    "  if (row.gender == 'female'):\n",
    "    yield (row.age, row)\n",
    "    \n",
    "def REDUCE(age:str, rows:Iterator[NamedTuple]):\n",
    "  sum = 0\n",
    "  count = 0\n",
    "  for row in rows:\n",
    "    sum += row.social_contacts\n",
    "    count += 1\n",
    "  if (count > 0):\n",
    "    yield (age, sum/count)\n",
    "  else:\n",
    "    yield (age, 0)"
   ]
  },
  {
   "cell_type": "markdown",
   "metadata": {
    "id": "vBKMgpG_ilaZ"
   },
   "source": [
    "Модель элемента данных"
   ]
  },
  {
   "cell_type": "code",
   "execution_count": 10,
   "metadata": {
    "id": "Rv-XIjhTJPx3"
   },
   "outputs": [],
   "source": [
    "class User(NamedTuple):\n",
    "  id: int\n",
    "  age: str\n",
    "  social_contacts: int\n",
    "  gender: str"
   ]
  },
  {
   "cell_type": "code",
   "execution_count": 11,
   "metadata": {
    "id": "5KV0Ze2vQgu5"
   },
   "outputs": [],
   "source": [
    "input_collection = [\n",
    "    User(id=0, age=55, gender='male', social_contacts=20),\n",
    "    User(id=1, age=25, gender='female', social_contacts=240),\n",
    "    User(id=2, age=25, gender='female', social_contacts=500),\n",
    "    User(id=3, age=33, gender='female', social_contacts=800)\n",
    "]"
   ]
  },
  {
   "cell_type": "markdown",
   "metadata": {
    "id": "YFeqzyZxZIFZ"
   },
   "source": [
    "Функция RECORDREADER моделирует чтение элементов с диска или по сети."
   ]
  },
  {
   "cell_type": "code",
   "execution_count": 12,
   "metadata": {
    "id": "S5HR4E_GQoMJ"
   },
   "outputs": [],
   "source": [
    "def RECORDREADER():\n",
    "  return [(u.id, u) for u in input_collection]"
   ]
  },
  {
   "cell_type": "code",
   "execution_count": 13,
   "metadata": {
    "colab": {
     "base_uri": "https://localhost:8080/",
     "height": 85
    },
    "id": "NeEoWla-ROUy",
    "outputId": "94ca6e0e-4644-4282-acbf-1759d7ba2918"
   },
   "outputs": [
    {
     "data": {
      "text/plain": [
       "[(0, User(id=0, age=55, social_contacts=20, gender='male')),\n",
       " (1, User(id=1, age=25, social_contacts=240, gender='female')),\n",
       " (2, User(id=2, age=25, social_contacts=500, gender='female')),\n",
       " (3, User(id=3, age=33, social_contacts=800, gender='female'))]"
      ]
     },
     "execution_count": 13,
     "metadata": {},
     "output_type": "execute_result"
    }
   ],
   "source": [
    "list(RECORDREADER())"
   ]
  },
  {
   "cell_type": "code",
   "execution_count": 14,
   "metadata": {
    "id": "YB8orgPSZs8M"
   },
   "outputs": [],
   "source": [
    "def flatten(nested_iterable):\n",
    "  for iterable in nested_iterable:\n",
    "    for element in iterable:\n",
    "      yield element"
   ]
  },
  {
   "cell_type": "code",
   "execution_count": 15,
   "metadata": {
    "colab": {
     "base_uri": "https://localhost:8080/",
     "height": 68
    },
    "id": "74oyvDLaRmd5",
    "outputId": "c6147702-7153-47c7-a574-d5fe6abe29a8"
   },
   "outputs": [
    {
     "data": {
      "text/plain": [
       "[(25, User(id=1, age=25, social_contacts=240, gender='female')),\n",
       " (25, User(id=2, age=25, social_contacts=500, gender='female')),\n",
       " (33, User(id=3, age=33, social_contacts=800, gender='female'))]"
      ]
     },
     "execution_count": 15,
     "metadata": {},
     "output_type": "execute_result"
    }
   ],
   "source": [
    "map_output = flatten(map(lambda x: MAP(*x), RECORDREADER()))\n",
    "map_output = list(map_output) # materialize\n",
    "map_output"
   ]
  },
  {
   "cell_type": "code",
   "execution_count": 16,
   "metadata": {
    "id": "8ncYDJ3-VzDn"
   },
   "outputs": [],
   "source": [
    "def groupbykey(iterable):\n",
    "  t = {}\n",
    "  for (k2, v2) in iterable:\n",
    "    t[k2] = t.get(k2, []) + [v2]\n",
    "  return t.items()"
   ]
  },
  {
   "cell_type": "code",
   "execution_count": 17,
   "metadata": {
    "colab": {
     "base_uri": "https://localhost:8080/",
     "height": 85
    },
    "id": "cKzY_6COWOA2",
    "outputId": "e6791b12-e409-47e9-bcd4-e9f8ca8611bd"
   },
   "outputs": [
    {
     "data": {
      "text/plain": [
       "[(25,\n",
       "  [User(id=1, age=25, social_contacts=240, gender='female'),\n",
       "   User(id=2, age=25, social_contacts=500, gender='female')]),\n",
       " (33, [User(id=3, age=33, social_contacts=800, gender='female')])]"
      ]
     },
     "execution_count": 17,
     "metadata": {},
     "output_type": "execute_result"
    }
   ],
   "source": [
    "shuffle_output = groupbykey(map_output)\n",
    "shuffle_output = list(shuffle_output)\n",
    "shuffle_output"
   ]
  },
  {
   "cell_type": "code",
   "execution_count": 18,
   "metadata": {
    "colab": {
     "base_uri": "https://localhost:8080/",
     "height": 34
    },
    "id": "NlA7lkDDYL0t",
    "outputId": "6b25d03f-5c92-4f3b-f500-6d70acd598b7"
   },
   "outputs": [
    {
     "data": {
      "text/plain": [
       "[(25, 370.0), (33, 800.0)]"
      ]
     },
     "execution_count": 18,
     "metadata": {},
     "output_type": "execute_result"
    }
   ],
   "source": [
    "reduce_output = flatten(map(lambda x: REDUCE(*x), shuffle_output))\n",
    "reduce_output = list(reduce_output)\n",
    "reduce_output"
   ]
  },
  {
   "cell_type": "markdown",
   "metadata": {
    "id": "xf6qhHEtd6bI"
   },
   "source": [
    "Все действия одним конвейером!"
   ]
  },
  {
   "cell_type": "code",
   "execution_count": 19,
   "metadata": {
    "colab": {
     "base_uri": "https://localhost:8080/",
     "height": 34
    },
    "id": "dZaQGYxCdpw5",
    "outputId": "3f5c6425-e5c5-49d2-b2cd-ce58a9acc33c"
   },
   "outputs": [
    {
     "data": {
      "text/plain": [
       "[(25, 370.0), (33, 800.0)]"
      ]
     },
     "execution_count": 19,
     "metadata": {},
     "output_type": "execute_result"
    }
   ],
   "source": [
    "list(flatten(map(lambda x: REDUCE(*x), groupbykey(flatten(map(lambda x: MAP(*x), RECORDREADER()))))))"
   ]
  },
  {
   "cell_type": "markdown",
   "metadata": {
    "id": "Vq3EWRIpwSiJ"
   },
   "source": [
    "# **MapReduce**\n",
    "Выделим общую для всех пользователей часть системы в отдельную функцию высшего порядка. Это наиболее простая модель MapReduce, без учёта распределённого хранения данных. \n",
    "\n",
    "Пользователь для решения своей задачи реализует RECORDREADER, MAP, REDUCE."
   ]
  },
  {
   "cell_type": "code",
   "execution_count": 20,
   "metadata": {
    "id": "V1PZeQMwwVjc"
   },
   "outputs": [],
   "source": [
    "def flatten(nested_iterable):\n",
    "  for iterable in nested_iterable:\n",
    "    for element in iterable:\n",
    "      yield element\n",
    "\n",
    "def groupbykey(iterable):\n",
    "  t = {}\n",
    "  for (k2, v2) in iterable:\n",
    "    t[k2] = t.get(k2, []) + [v2]\n",
    "  return t.items()\n",
    "\n",
    "def MapReduce(RECORDREADER, MAP, REDUCE):\n",
    "  return flatten(map(lambda x: REDUCE(*x), groupbykey(flatten(map(lambda x: MAP(*x), RECORDREADER())))))"
   ]
  },
  {
   "cell_type": "markdown",
   "metadata": {
    "id": "iFIVrimep678"
   },
   "source": [
    "## Спецификация MapReduce\n",
    "\n",
    "\n",
    "\n",
    "```\n",
    "f (k1, v1) -> (k2,v2)*\n",
    "g (k2, v2*) -> (k3,v3)*\n",
    " \n",
    "mapreduce ((k1,v1)*) -> (k3,v3)*\n",
    "groupby ((k2,v2)*) -> (k2,v2*)*\n",
    "flatten (e2**) -> e2*\n",
    " \n",
    "mapreduce .map(f).flatten.groupby(k2).map(g).flatten\n",
    "```\n",
    "\n",
    "\n"
   ]
  },
  {
   "cell_type": "markdown",
   "metadata": {
    "id": "QtTFyqke3KGe"
   },
   "source": [
    "# Примеры"
   ]
  },
  {
   "cell_type": "markdown",
   "metadata": {
    "id": "BNhh5763w5Vn"
   },
   "source": [
    "## SQL "
   ]
  },
  {
   "cell_type": "code",
   "execution_count": 21,
   "metadata": {
    "colab": {
     "base_uri": "https://localhost:8080/",
     "height": 34
    },
    "id": "QkyurnvGxBGk",
    "outputId": "84761282-d2ba-435a-e8d7-a85150730e10"
   },
   "outputs": [
    {
     "data": {
      "text/plain": [
       "[(25, 370.0), (33, 800.0)]"
      ]
     },
     "execution_count": 21,
     "metadata": {},
     "output_type": "execute_result"
    }
   ],
   "source": [
    "from typing import NamedTuple # requires python 3.6+\n",
    "from typing import Iterator\n",
    "\n",
    "class User(NamedTuple):\n",
    "  id: int\n",
    "  age: str\n",
    "  social_contacts: int\n",
    "  gender: str\n",
    "    \n",
    "input_collection = [\n",
    "    User(id=0, age=55, gender='male', social_contacts=20),\n",
    "    User(id=1, age=25, gender='female', social_contacts=240),\n",
    "    User(id=2, age=25, gender='female', social_contacts=500),\n",
    "    User(id=3, age=33, gender='female', social_contacts=800)\n",
    "]\n",
    "\n",
    "def MAP(_, row:NamedTuple):\n",
    "  if (row.gender == 'female'):\n",
    "    yield (row.age, row)\n",
    "    \n",
    "def REDUCE(age:str, rows:Iterator[NamedTuple]):\n",
    "  sum = 0\n",
    "  count = 0\n",
    "  for row in rows:\n",
    "    sum += row.social_contacts\n",
    "    count += 1\n",
    "  if (count > 0):\n",
    "    yield (age, sum/count)\n",
    "  else:\n",
    "    yield (age, 0)\n",
    " \n",
    "def RECORDREADER():\n",
    "  return [(u.id, u) for u in input_collection]\n",
    "\n",
    "output = MapReduce(RECORDREADER, MAP, REDUCE)\n",
    "output = list(output)\n",
    "output"
   ]
  },
  {
   "cell_type": "markdown",
   "metadata": {
    "id": "kNKYIeerx0nY"
   },
   "source": [
    "## Matrix-Vector multiplication "
   ]
  },
  {
   "cell_type": "code",
   "execution_count": 22,
   "metadata": {
    "colab": {
     "base_uri": "https://localhost:8080/",
     "height": 102
    },
    "id": "rwcntRcCyi1V",
    "outputId": "606737ab-6b55-455c-931f-4fc45155f8a9"
   },
   "outputs": [
    {
     "data": {
      "text/plain": [
       "[(0, 1.232319248988338),\n",
       " (1, 1.232319248988338),\n",
       " (2, 1.232319248988338),\n",
       " (3, 1.232319248988338),\n",
       " (4, 1.232319248988338)]"
      ]
     },
     "execution_count": 22,
     "metadata": {},
     "output_type": "execute_result"
    }
   ],
   "source": [
    "from typing import Iterator\n",
    "import numpy as np\n",
    "\n",
    "mat = np.ones((5,4))\n",
    "vec = np.random.rand(4) # in-memory vector in all map tasks\n",
    "\n",
    "def MAP(coordinates:(int, int), value:int):\n",
    "  i, j = coordinates\n",
    "  yield (i, value*vec[j])\n",
    " \n",
    "def REDUCE(i:int, products:Iterator[NamedTuple]):\n",
    "  sum = 0\n",
    "  for p in products:\n",
    "    sum += p\n",
    "  yield (i, sum)\n",
    "\n",
    "def RECORDREADER():\n",
    "  for i in range(mat.shape[0]):\n",
    "    for j in range(mat.shape[1]):\n",
    "      yield ((i, j), mat[i,j])\n",
    "      \n",
    "output = MapReduce(RECORDREADER, MAP, REDUCE)\n",
    "output = list(output)\n",
    "output"
   ]
  },
  {
   "cell_type": "markdown",
   "metadata": {
    "id": "ruZREYdi2o4O"
   },
   "source": [
    "## Inverted index "
   ]
  },
  {
   "cell_type": "code",
   "execution_count": 23,
   "metadata": {
    "colab": {
     "base_uri": "https://localhost:8080/",
     "height": 102
    },
    "id": "vt9H9Alf3TYv",
    "outputId": "51aeffc9-e111-4607-bd84-cfcc7b56f238"
   },
   "outputs": [
    {
     "data": {
      "text/plain": [
       "[('what', ['0', '1']),\n",
       " ('is', ['0', '1', '2']),\n",
       " ('it', ['0', '1', '2']),\n",
       " ('a', ['2']),\n",
       " ('banana', ['2'])]"
      ]
     },
     "execution_count": 23,
     "metadata": {},
     "output_type": "execute_result"
    }
   ],
   "source": [
    "from typing import Iterator\n",
    "\n",
    "d1 = \"it is what it is\"\n",
    "d2 = \"what is it\"\n",
    "d3 = \"it is a banana\"\n",
    "documents = [d1, d2, d3]\n",
    "\n",
    "def RECORDREADER():\n",
    "  for (docid, document) in enumerate(documents):\n",
    "    yield (\"{}\".format(docid), document)\n",
    "      \n",
    "def MAP(docId:str, body:str):\n",
    "  for word in set(body.split(' ')):\n",
    "    yield (word, docId)\n",
    " \n",
    "def REDUCE(word:str, docIds:Iterator[str]):\n",
    "  yield (word, sorted(docIds))\n",
    "\n",
    "output = MapReduce(RECORDREADER, MAP, REDUCE)\n",
    "output = list(output)\n",
    "output"
   ]
  },
  {
   "cell_type": "markdown",
   "metadata": {
    "id": "R7az-6DA6qr2"
   },
   "source": [
    "## WordCount"
   ]
  },
  {
   "cell_type": "code",
   "execution_count": 24,
   "metadata": {
    "colab": {
     "base_uri": "https://localhost:8080/",
     "height": 34
    },
    "id": "dN-nbtgG6uYG",
    "outputId": "24117576-7931-401d-a581-28e246b23453"
   },
   "outputs": [
    {
     "data": {
      "text/plain": [
       "[('', 3), ('it', 9), ('is', 9), ('what', 5), ('a', 1), ('banana', 1)]"
      ]
     },
     "execution_count": 24,
     "metadata": {},
     "output_type": "execute_result"
    }
   ],
   "source": [
    "from typing import Iterator\n",
    "\n",
    "d1 = \"\"\"\n",
    "it is what it is\n",
    "it is what it is\n",
    "it is what it is\"\"\"\n",
    "d2 = \"\"\"\n",
    "what is it\n",
    "what is it\"\"\"\n",
    "d3 = \"\"\"\n",
    "it is a banana\"\"\"\n",
    "documents = [d1, d2, d3]\n",
    "\n",
    "def RECORDREADER():\n",
    "  for (docid, document) in enumerate(documents):\n",
    "    for (lineid, line) in enumerate(document.split('\\n')):\n",
    "      yield (\"{}:{}\".format(docid,lineid), line)\n",
    "\n",
    "def MAP(docId:str, line:str):\n",
    "  for word in line.split(\" \"):  \n",
    "    yield (word, 1)\n",
    " \n",
    "def REDUCE(word:str, counts:Iterator[int]):\n",
    "  sum = 0\n",
    "  for c in counts:\n",
    "    sum += c\n",
    "  yield (word, sum)\n",
    "\n",
    "output = MapReduce(RECORDREADER, MAP, REDUCE)\n",
    "output = list(output)\n",
    "output"
   ]
  },
  {
   "cell_type": "markdown",
   "metadata": {
    "id": "h-jRAcYCAkkk"
   },
   "source": [
    "# MapReduce Distributed\n",
    "\n",
    "Добавляется в модель фабрика RECORDREARER-ов --- INPUTFORMAT, функция распределения промежуточных результатов по партициям PARTITIONER, и функция COMBINER для частичной аггрегации промежуточных результатов до распределения по новым партициям."
   ]
  },
  {
   "cell_type": "code",
   "execution_count": 25,
   "metadata": {
    "id": "nw-b-xJsApgW"
   },
   "outputs": [],
   "source": [
    "def flatten(nested_iterable):\n",
    "  for iterable in nested_iterable:\n",
    "    for element in iterable:\n",
    "      yield element\n",
    "\n",
    "def groupbykey(iterable):\n",
    "  t = {}\n",
    "  for (k2, v2) in iterable:\n",
    "    t[k2] = t.get(k2, []) + [v2]\n",
    "  return t.items()\n",
    "      \n",
    "def groupbykey_distributed(map_partitions, PARTITIONER):\n",
    "  global reducers\n",
    "  partitions = [dict() for _ in range(reducers)]\n",
    "  for map_partition in map_partitions:\n",
    "    for (k2, v2) in map_partition:\n",
    "      p = partitions[PARTITIONER(k2)]\n",
    "      p[k2] = p.get(k2, []) + [v2]\n",
    "  return [(partition_id, sorted(partition.items(), key=lambda x: x[0])) for (partition_id, partition) in enumerate(partitions)]\n",
    " \n",
    "def PARTITIONER(obj):\n",
    "  global reducers\n",
    "  return hash(obj) % reducers\n",
    "  \n",
    "def MapReduceDistributed(INPUTFORMAT, MAP, REDUCE, PARTITIONER=PARTITIONER, COMBINER=None):\n",
    "  map_partitions = map(lambda record_reader: flatten(map(lambda k1v1: MAP(*k1v1), record_reader)), INPUTFORMAT())\n",
    "  if COMBINER != None:\n",
    "    map_partitions = map(lambda map_partition: flatten(map(lambda k2v2: COMBINER(*k2v2), groupbykey(map_partition))), map_partitions)\n",
    "  reduce_partitions = groupbykey_distributed(map_partitions, PARTITIONER) # shuffle\n",
    "  reduce_outputs = map(lambda reduce_partition: (reduce_partition[0], flatten(map(lambda reduce_input_group: REDUCE(*reduce_input_group), reduce_partition[1]))), reduce_partitions)\n",
    "  \n",
    "  print(\"{} key-value pairs were sent over a network.\".format(sum([len(vs) for (k,vs) in flatten([partition for (partition_id, partition) in reduce_partitions])])))\n",
    "  return reduce_outputs"
   ]
  },
  {
   "cell_type": "markdown",
   "metadata": {
    "id": "kxirlf3XqZxY"
   },
   "source": [
    "## Спецификация MapReduce Distributed\n",
    "\n",
    "\n",
    "```\n",
    "f (k1, v1) -> (k2,v2)*\n",
    "g (k2, v2*) -> (k3,v3)*\n",
    " \n",
    "e1 (k1, v1)\n",
    "e2 (k2, v2)\n",
    "partition1 (k2, v2)*\n",
    "partition2 (k2, v2*)*\n",
    " \n",
    "flatmap (e1->e2*, e1*) -> partition1*\n",
    "groupby (partition1*) -> partition2*\n",
    "\n",
    "mapreduce ((k1,v1)*) -> (k3,v3)*\n",
    "mapreduce .flatmap(f).groupby(k2).flatmap(g)\n",
    "```\n",
    "\n"
   ]
  },
  {
   "cell_type": "markdown",
   "metadata": {
    "id": "CWYw_CpbbY3C"
   },
   "source": [
    "## WordCount "
   ]
  },
  {
   "cell_type": "code",
   "execution_count": 26,
   "metadata": {
    "colab": {
     "base_uri": "https://localhost:8080/",
     "height": 68
    },
    "id": "uR_zfGFkMZlp",
    "outputId": "c8d46167-473d-43b9-881a-2396991b3731"
   },
   "outputs": [
    {
     "name": "stdout",
     "output_type": "stream",
     "text": [
      "56 key-value pairs were sent over a network.\n"
     ]
    },
    {
     "data": {
      "text/plain": [
       "[(0, [('', 6), ('what', 10)]),\n",
       " (1, [('a', 2), ('banana', 2), ('is', 18), ('it', 18)])]"
      ]
     },
     "execution_count": 26,
     "metadata": {},
     "output_type": "execute_result"
    }
   ],
   "source": [
    "from typing import Iterator\n",
    "import numpy as np\n",
    "\n",
    "d1 = \"\"\"\n",
    "it is what it is\n",
    "it is what it is\n",
    "it is what it is\"\"\"\n",
    "d2 = \"\"\"\n",
    "what is it\n",
    "what is it\"\"\"\n",
    "d3 = \"\"\"\n",
    "it is a banana\"\"\"\n",
    "documents = [d1, d2, d3, d1, d2, d3]\n",
    "\n",
    "maps = 3\n",
    "reducers = 2\n",
    "\n",
    "def INPUTFORMAT():\n",
    "  global maps\n",
    "  \n",
    "  def RECORDREADER(split):\n",
    "    for (docid, document) in enumerate(split):\n",
    "      for (lineid, line) in enumerate(document.split('\\n')):\n",
    "        yield (\"{}:{}\".format(docid,lineid), line)\n",
    "      \n",
    "  split_size =  int(np.ceil(len(documents)/maps))\n",
    "  for i in range(0, len(documents), split_size):\n",
    "    yield RECORDREADER(documents[i:i+split_size])\n",
    "\n",
    "def MAP(docId:str, line:str):\n",
    "  for word in line.split(\" \"):  \n",
    "    yield (word, 1)\n",
    " \n",
    "def REDUCE(word:str, counts:Iterator[int]):\n",
    "  sum = 0\n",
    "  for c in counts:\n",
    "    sum += c\n",
    "  yield (word, sum)\n",
    "  \n",
    "# try to set COMBINER=REDUCER and look at the number of values sent over the network \n",
    "partitioned_output = MapReduceDistributed(INPUTFORMAT, MAP, REDUCE, COMBINER=None) \n",
    "partitioned_output = [(partition_id, list(partition)) for (partition_id, partition) in partitioned_output]\n",
    "partitioned_output"
   ]
  },
  {
   "cell_type": "markdown",
   "metadata": {
    "id": "gCJGx8IQ87xS"
   },
   "source": [
    "## TeraSort"
   ]
  },
  {
   "cell_type": "code",
   "execution_count": 27,
   "metadata": {
    "colab": {
     "base_uri": "https://localhost:8080/",
     "height": 578
    },
    "id": "P2v8v1v_8_YR",
    "outputId": "e0987c25-9757-46cb-8e55-d5d2adfbee2b"
   },
   "outputs": [
    {
     "name": "stdout",
     "output_type": "stream",
     "text": [
      "30 key-value pairs were sent over a network.\n"
     ]
    },
    {
     "data": {
      "text/plain": [
       "[(0,\n",
       "  [(None, 0.06541533234668384),\n",
       "   (None, 0.10198879314843423),\n",
       "   (None, 0.11583145896736213),\n",
       "   (None, 0.22023053253175662),\n",
       "   (None, 0.2630642142888373),\n",
       "   (None, 0.2693043938078179),\n",
       "   (None, 0.3354924177543577),\n",
       "   (None, 0.4070553080347965),\n",
       "   (None, 0.41963720037608665),\n",
       "   (None, 0.4231451675736174),\n",
       "   (None, 0.43164947830421796),\n",
       "   (None, 0.4357987993340934),\n",
       "   (None, 0.47098715819013215),\n",
       "   (None, 0.4838982126729885)]),\n",
       " (1,\n",
       "  [(None, 0.5066609854666776),\n",
       "   (None, 0.5411986256138147),\n",
       "   (None, 0.5798491803152442),\n",
       "   (None, 0.5829963061123334),\n",
       "   (None, 0.5960590031032266),\n",
       "   (None, 0.6178199295659546),\n",
       "   (None, 0.6613010193137099),\n",
       "   (None, 0.7724544564699329),\n",
       "   (None, 0.7898604580456244),\n",
       "   (None, 0.7975191958004487),\n",
       "   (None, 0.8004200688423206),\n",
       "   (None, 0.8111704844069557),\n",
       "   (None, 0.8310298391825287),\n",
       "   (None, 0.8892086575891816),\n",
       "   (None, 0.9158778892345327),\n",
       "   (None, 0.9245558147612012)])]"
      ]
     },
     "execution_count": 27,
     "metadata": {},
     "output_type": "execute_result"
    }
   ],
   "source": [
    "import numpy as np\n",
    "\n",
    "input_values = np.random.rand(30)\n",
    "maps = 3\n",
    "reducers = 2\n",
    "min_value = 0.0\n",
    "max_value = 1.0\n",
    "\n",
    "def INPUTFORMAT():\n",
    "  global maps\n",
    "  \n",
    "  def RECORDREADER(split):\n",
    "    for value in split:\n",
    "        yield (value, None)\n",
    "      \n",
    "  split_size =  int(np.ceil(len(input_values)/maps))\n",
    "  for i in range(0, len(input_values), split_size):\n",
    "    yield RECORDREADER(input_values[i:i+split_size])\n",
    "    \n",
    "def MAP(value:int, _):\n",
    "  yield (value, None)\n",
    "  \n",
    "def PARTITIONER(key):\n",
    "  global reducers\n",
    "  global max_value\n",
    "  global min_value\n",
    "  bucket_size = (max_value-min_value)/reducers\n",
    "  bucket_id = 0\n",
    "  while((key>(bucket_id+1)*bucket_size) and ((bucket_id+1)*bucket_size<max_value)):\n",
    "    bucket_id += 1\n",
    "  return bucket_id\n",
    "\n",
    "def REDUCE(value:int, _):\n",
    "  yield (None,value)\n",
    "  \n",
    "partitioned_output = MapReduceDistributed(INPUTFORMAT, MAP, REDUCE, COMBINER=None, PARTITIONER=PARTITIONER)\n",
    "partitioned_output = [(partition_id, list(partition)) for (partition_id, partition) in partitioned_output]\n",
    "partitioned_output"
   ]
  },
  {
   "cell_type": "markdown",
   "metadata": {
    "id": "Iy65YJTH99iT"
   },
   "source": [
    "# Упражнения\n",
    "Упражнения взяты из Rajaraman A., Ullman J. D. Mining of massive datasets. – Cambridge University Press, 2011.\n",
    "\n",
    "\n",
    "Для выполнения заданий переопределите функции RECORDREADER, MAP, REDUCE. Для модели распределённой системы может потребоваться переопределение функций PARTITION и COMBINER."
   ]
  },
  {
   "cell_type": "markdown",
   "metadata": {
    "id": "cfvAeZm3S8S8"
   },
   "source": [
    "### Максимальное значение ряда\n",
    "\n",
    "Разработайте MapReduce алгоритм, который находит максимальное число входного списка чисел."
   ]
  },
  {
   "cell_type": "code",
   "execution_count": 28,
   "metadata": {
    "id": "3GRA1JR-Tkbg"
   },
   "outputs": [
    {
     "name": "stdout",
     "output_type": "stream",
     "text": [
      "Максимальное число: 999996753\n"
     ]
    }
   ],
   "source": [
    "import random\n",
    "from collections import defaultdict\n",
    "\n",
    "def mapper(numbers):\n",
    "    for number in numbers:\n",
    "        yield (None, number)\n",
    "        \n",
    "def reducer(key, values):\n",
    "    return max(values)\n",
    "\n",
    "def map_reduce(numbers):\n",
    "    mapped = []\n",
    "    for number in numbers:\n",
    "        mapped.append((None, number))\n",
    "\n",
    "    \n",
    "    grouped = defaultdict(list)\n",
    "    for key, value in mapped:\n",
    "        grouped[key].append(value)\n",
    "    \n",
    "    results = {}\n",
    "    for key, values in grouped.items():\n",
    "        results[key] = reducer(key, values)\n",
    "    \n",
    "    return results\n",
    "\n",
    "numbers = [random.randint(0, 1000000000) for i in range(1000000)]\n",
    "# Пример использования\n",
    "result = map_reduce(numbers)\n",
    "max_value = result[None]\n",
    "print(\"Максимальное число:\", max_value)\n"
   ]
  },
  {
   "cell_type": "markdown",
   "metadata": {
    "id": "k86bXnqZTk-U"
   },
   "source": [
    "### Арифметическое среднее\n",
    "\n",
    "Разработайте MapReduce алгоритм, который находит арифметическое среднее.\n",
    "\n",
    "$$\\overline{X} = \\frac{1}{n}\\sum_{i=0}^{n} x_i$$\n"
   ]
  },
  {
   "cell_type": "code",
   "execution_count": 29,
   "metadata": {
    "id": "MPoY5pkfUNZf"
   },
   "outputs": [
    {
     "name": "stdout",
     "output_type": "stream",
     "text": [
      "Арифметическое среднее: 500222407.350149\n"
     ]
    }
   ],
   "source": [
    "def mapper(numbers):\n",
    "    for number in numbers:\n",
    "        yield (None, (number, 1))  \n",
    "\n",
    "def reducer(key, values):\n",
    "    total_sum = 0\n",
    "    count = 0\n",
    "    for value in values:\n",
    "        total_sum += value[0]  # Суммируем числа\n",
    "        count += value[1]      # Считаем количество\n",
    "    return total_sum, count\n",
    "\n",
    "def map_reduce(numbers):\n",
    "    mapped = []\n",
    "    for number in numbers:\n",
    "        mapped.append((None, (number, 1))) \n",
    "    \n",
    "    grouped = defaultdict(list)\n",
    "    for key, value in mapped:\n",
    "        grouped[key].append(value)  \n",
    "    \n",
    "    results = {}\n",
    "    for key, values in grouped.items():\n",
    "        results[key] = reducer(key, values)  \n",
    "    \n",
    "    return results\n",
    "\n",
    "numbers = [random.randint(0, 1000000000) for k in range(1000000)]\n",
    "\n",
    "# Пример использования\n",
    "result = map_reduce(numbers)\n",
    "total_sum, count = result[None]\n",
    "\n",
    "if count > 0:\n",
    "    average = total_sum / count  # Вычисляем среднее\n",
    "else:\n",
    "    average = 0\n",
    "\n",
    "print(\"Арифметическое среднее:\", average)\n"
   ]
  },
  {
   "cell_type": "markdown",
   "metadata": {
    "id": "xanzszhsIlLe"
   },
   "source": [
    "### GroupByKey на основе сортировки\n",
    "\n",
    "Реализуйте groupByKey на основе сортировки, проверьте его работу на примерах"
   ]
  },
  {
   "cell_type": "code",
   "execution_count": 30,
   "metadata": {
    "id": "hQPn3USsIkEC"
   },
   "outputs": [
    {
     "name": "stdout",
     "output_type": "stream",
     "text": [
      "Результат для data1:\n",
      "{1: ['a', 'c'], 2: ['b', 'e'], 3: ['d']}\n",
      "\n",
      "Результат для data2:\n",
      "{1: ['w'], 2: ['y', 'v'], 4: ['x', 'z']}\n"
     ]
    }
   ],
   "source": [
    "def groupbykey(iterable):\n",
    "    # Сортируем входные данные по ключу\n",
    "    sorted_iterable = sorted(iterable, key=lambda x: x[0])\n",
    "    \n",
    "    grouped = {}\n",
    "    \n",
    "    for (k2, v2) in sorted_iterable:\n",
    "        # Добавляем значение к соответствующему ключу\n",
    "        if k2 not in grouped:\n",
    "            grouped[k2] = []\n",
    "        grouped[k2].append(v2)\n",
    "    \n",
    "    return grouped.items()\n",
    "\n",
    "# Примеры использования\n",
    "data1 = [\n",
    "    (1, 'a'),\n",
    "    (2, 'b'),\n",
    "    (1, 'c'),\n",
    "    (3, 'd'),\n",
    "    (2, 'e'),\n",
    "]\n",
    "\n",
    "data2 = [\n",
    "    (4, 'x'),\n",
    "    (2, 'y'),\n",
    "    (4, 'z'),\n",
    "    (1, 'w'),\n",
    "    (2, 'v'),\n",
    "]\n",
    "\n",
    "print(\"Результат для data1:\")\n",
    "print(dict(groupbykey(data1)))  \n",
    "\n",
    "print(\"\\nРезультат для data2:\")\n",
    "print(dict(groupbykey(data2)))"
   ]
  },
  {
   "cell_type": "markdown",
   "metadata": {
    "id": "5SgEjCZyGnu6"
   },
   "source": [
    "### Drop duplicates (set construction, unique elements, distinct)\n",
    "\n",
    "Реализуйте распределённую операцию исключения дубликатов"
   ]
  },
  {
   "cell_type": "code",
   "execution_count": 31,
   "metadata": {
    "id": "okjbyApjGhMt"
   },
   "outputs": [
    {
     "name": "stdout",
     "output_type": "stream",
     "text": [
      "Отсортированные данные:\n",
      "User(id=4, age='25', social_contacts=240, gender='female')\n",
      "User(id=2, age='25', social_contacts=500, gender='female')\n",
      "User(id=3, age='33', social_contacts=800, gender='female')\n",
      "User(id=0, age='55', social_contacts=20, gender='male')\n",
      "\n",
      "Элементы с совпадениями:\n",
      "User(id=1, age='25', social_contacts=240, gender='female')\n",
      "User(id=4, age='25', social_contacts=240, gender='female')\n"
     ]
    }
   ],
   "source": [
    "from typing import NamedTuple, Iterator, List, Set, Dict\n",
    "# В данной задаче исключаем дубликаты для полей - год, социальные контакты и пол.\n",
    "class User(NamedTuple):\n",
    "    id: int\n",
    "    age: str\n",
    "    social_contacts: int\n",
    "    gender: str\n",
    "\n",
    "def MAP(_, row: User) -> Iterator:\n",
    "    # Возвращаем все пользователи без фильтрации\n",
    "    yield (row.id, row)\n",
    "\n",
    "def RECORDREADER() -> List[User]:\n",
    "    return [\n",
    "        User(id=0, age='55', gender='male', social_contacts=20),\n",
    "        User(id=1, age='25', gender='female', social_contacts=240),\n",
    "        User(id=2, age='25', gender='female', social_contacts=500),\n",
    "        User(id=3, age='33', gender='female', social_contacts=800),\n",
    "        User(id=4, age='25', gender='female', social_contacts=240)  # Дубликат по всем полям, кроме id\n",
    "    ]\n",
    "\n",
    "def drop_duplicates(users: List[User]) -> Set[User]:\n",
    "    # Используем словарь для исключения дубликатов по всем полям, кроме id\n",
    "    unique_users = {}\n",
    "    for user in users:\n",
    "        # Создаем ключ на основе всех полей, кроме id\n",
    "        key = (user.age, user.social_contacts, user.gender)\n",
    "        unique_users[key] = user  # Сохраняем пользователя по этому ключу\n",
    "\n",
    "    return set(unique_users.values()), unique_users\n",
    "\n",
    "def find_non_unique(users: List[User]) -> List[User]:\n",
    "    # Используем словарь для подсчета количества вхождений пользователей\n",
    "    user_count = {}\n",
    "    for user in users:\n",
    "        key = (user.age, user.social_contacts, user.gender)\n",
    "        if key in user_count:\n",
    "            user_count[key].append(user)\n",
    "        else:\n",
    "            user_count[key] = [user]\n",
    "\n",
    "    # Извлекаем только тех пользователей, которые встречаются более одного раза\n",
    "    non_unique_users = [user for user_list in user_count.values() if len(user_list) > 1 for user in user_list]\n",
    "\n",
    "    return non_unique_users\n",
    "\n",
    "def distributed_drop_duplicates(input_data: List[User]) -> Set[User]:\n",
    "    # Шаг 1: Применяем MAP к каждому элементу входной коллекции\n",
    "    mapped_results = [list(MAP(None, user)) for user in input_data]\n",
    "    \n",
    "    # Извлекаем только значения (вторые элементы кортежей)\n",
    "    filtered_users = [user for sublist in mapped_results for _, user in sublist]\n",
    "\n",
    "    # Шаг 2: Удаляем дубликаты\n",
    "    unique_users, _ = drop_duplicates(filtered_users)\n",
    "\n",
    "    return unique_users\n",
    "\n",
    "# Подготовка данных\n",
    "input_collection = RECORDREADER()\n",
    "\n",
    "# Выполнение распределенной операции исключения дубликатов\n",
    "result = distributed_drop_duplicates(input_collection)\n",
    "\n",
    "# Находим не уникальные элементы\n",
    "non_unique_result = find_non_unique(input_collection)\n",
    "\n",
    "# Проверка работы функции\n",
    "print(\"Отсортированные данные:\")\n",
    "for user in result:\n",
    "    print(user)\n",
    "\n",
    "print(\"\\nЭлементы с совпадениями:\")\n",
    "for user in non_unique_result:\n",
    "    print(user)\n"
   ]
  },
  {
   "cell_type": "markdown",
   "metadata": {
    "id": "e7sRGoTXuJze"
   },
   "source": [
    "### Операторы реляционной алгебры\n",
    "### Selection (Выборка)\n",
    "\n",
    "**The Map Function**: Для  каждого кортежа $t \\in R$ вычисляется истинность предиката $C$. В случае истины создаётся пара ключ-значение $(t, t)$. В паре ключ и значение одинаковы, равны $t$.\n",
    "\n",
    "**The Reduce Function:** Роль функции Reduce выполняет функция идентичности, которая возвращает то же значение, что получила на вход.\n",
    "\n"
   ]
  },
  {
   "cell_type": "code",
   "execution_count": 32,
   "metadata": {
    "id": "4nKIKe59uIfc"
   },
   "outputs": [
    {
     "name": "stdout",
     "output_type": "stream",
     "text": [
      "Сгенерированные записи:\n",
      "[(2, 60, 100), (62, 11, 64), (46, 76, 13), (14, 8, 15), (5, 62, 44)]\n",
      "Записи, разделенные на части:\n",
      "[[(2, 60, 100), (62, 11, 64), (46, 76, 13), (14, 8, 15), (5, 62, 44)]]\n",
      "Результаты отображения:\n",
      "[dict_items([((2, 60, 100), [(2, 60, 100)]), ((62, 11, 64), [(62, 11, 64)]), ((46, 76, 13), [(46, 76, 13)]), ((14, 8, 15), [(14, 8, 15)])])]\n",
      "Сведенные результаты:\n",
      "[((2, 60, 100), [(2, 60, 100)]), ((62, 11, 64), [(62, 11, 64)]), ((46, 76, 13), [(46, 76, 13)]), ((14, 8, 15), [(14, 8, 15)])]\n"
     ]
    }
   ],
   "source": [
    "from collections import defaultdict\n",
    "import random\n",
    "\n",
    "def generate_records(count):\n",
    "    \"\"\"Создает список записей с случайными значениями.\"\"\"\n",
    "    return [(random.randint(0, 100), random.randint(0, 100), random.randint(0, 100)) for _ in range(count)]\n",
    "\n",
    "def filter_even(t):\n",
    "    \"\"\"Проверяет, является ли первый элемент кортежа четным.\"\"\"\n",
    "    return t[0] % 2 == 0\n",
    "\n",
    "def map_records(el_list):\n",
    "    \"\"\"Отображает записи, фильтруя их по условию.\"\"\"\n",
    "    mapped_result = defaultdict(list)\n",
    "    for t in el_list:\n",
    "        if filter_even(t):\n",
    "            mapped_result[t].append(t)\n",
    "    return mapped_result.items()\n",
    "\n",
    "def reduce_mapped_items(mapped_items):\n",
    "    \"\"\"Сводит отображенные элементы в один список.\"\"\"\n",
    "    reduced_result = []\n",
    "    for values in mapped_items:\n",
    "        for value in values:\n",
    "            reduced_result.append(value)\n",
    "    return reduced_result\n",
    "\n",
    "def partition_records(records, part_size):\n",
    "    \"\"\"Разделяет записи на части заданного размера.\"\"\"\n",
    "    return [records[i:i + part_size] for i in range(0, len(records), part_size)]\n",
    "\n",
    "# Основной код\n",
    "if __name__ == \"__main__\":\n",
    "    record_count = 5\n",
    "    records = generate_records(record_count)\n",
    "    \n",
    "    print(\"Сгенерированные записи:\")\n",
    "    print(records)\n",
    "\n",
    "    partition_size = 5\n",
    "    record_partitioned = partition_records(records, partition_size)\n",
    "    \n",
    "    print(\"Записи, разделенные на части:\")\n",
    "    print(record_partitioned)\n",
    "\n",
    "    # Применяем MAP и REDUCE\n",
    "    mapped_results = list(map(map_records, record_partitioned))\n",
    "    \n",
    "    print(\"Результаты отображения:\")\n",
    "    print(mapped_results)\n",
    "\n",
    "    reduced_results = reduce_mapped_items(mapped_results)\n",
    "    \n",
    "    print(\"Сведенные результаты:\")\n",
    "    print(reduced_results)\n"
   ]
  },
  {
   "cell_type": "markdown",
   "metadata": {
    "id": "w27Ca-_Ku85V"
   },
   "source": [
    "### Projection (Проекция)\n",
    "\n",
    "Проекция на множество атрибутов $S$.\n",
    "\n",
    "**The Map Function:** Для каждого кортежа $t \\in R$ создайте кортеж $t′$, исключая  из $t$ те значения, атрибуты которых не принадлежат  $S$. Верните пару $(t′, t′)$.\n",
    "\n",
    "**The Reduce Function:** Для каждого ключа $t′$, созданного любой Map задачей, вы получаете одну или несколько пар $(t′, t′)$. Reduce функция преобразует $(t′, [t′, t′, . . . , t′])$ в $(t′, t′)$, так, что для ключа $t′$ возвращается одна пара  $(t′, t′)$."
   ]
  },
  {
   "cell_type": "code",
   "execution_count": 33,
   "metadata": {
    "id": "BEvuY4GqvhS6"
   },
   "outputs": [
    {
     "name": "stdout",
     "output_type": "stream",
     "text": [
      "Сгенерированные записи: [(50, 19, 7), (53, 55, 83), (34, 22, 71), (47, 84, 43), (57, 65, 59)]\n",
      "MAP: [((), ()), ((), ()), ((), ()), ((), ()), ((), ()), ((), ()), ((), ()), ((), ()), ((), ()), ((), ()), ((), ()), ((), ()), ((), ()), ((), ()), ((), ()), ((), ()), ((), ()), ((), ()), ((), ()), ((), ()), ((), ()), ((), ()), ((), ()), ((), ()), ((), ()), ((), ()), ((), ()), ((), ()), ((), ()), ((), ()), ((), ()), ((), ()), ((), ()), ((), ()), ((), ()), ((), ()), ((), ()), ((), ()), ((), ()), ((66,), (66,)), ((), ()), ((), ()), ((), ()), ((), ()), ((), ()), ((), ()), ((), ()), ((), ()), ((), ()), ((), ()), ((), ()), ((), ()), ((), ()), ((), ()), ((), ()), ((), ()), ((), ()), ((), ()), ((), ()), ((), ()), ((), ()), ((), ()), ((), ()), ((), ()), ((), ()), ((), ()), ((), ()), ((), ()), ((), ()), ((), ()), ((), ()), ((), ()), ((), ()), ((), ()), ((), ()), ((), ()), ((), ()), ((), ()), ((), ()), ((63,), (63,)), ((), ()), ((), ()), ((), ()), ((), ()), ((), ()), ((), ()), ((), ()), ((), ()), ((), ()), ((), ()), ((), ()), ((), ()), ((), ()), ((), ()), ((), ()), ((), ()), ((), ()), ((66,), (66,)), ((), ()), ((), ())]\n",
      "Shuffle: [((), [(), (), (), (), (), (), (), (), (), (), (), (), (), (), (), (), (), (), (), (), (), (), (), (), (), (), (), (), (), (), (), (), (), (), (), (), (), (), (), (), (), (), (), (), (), (), (), (), (), (), (), (), (), (), (), (), (), (), (), (), (), (), (), (), (), (), (), (), (), (), (), (), (), (), (), (), (), (), (), (), (), (), (), (), (), (), (), (), (), (), (), (), (), (), (), (), ()]), ((66,), [(66,), (66,)]), ((63,), [(63,)])]\n",
      "Reduce: [(), (66,), (63,)]\n"
     ]
    }
   ],
   "source": [
    "import random\n",
    "from typing import Iterator, NamedTuple, List, Tuple\n",
    "\n",
    "# Константа для хранения значений\n",
    "S = {148, 66, 63}\n",
    "\n",
    "def MAP(t: Tuple[int, int, int]) -> Tuple[Tuple[int, int, int], Tuple[int, int, int]]:\n",
    "    \"\"\"Функция MAP фильтрует элементы кортежа t по наличию в множестве S.\"\"\"\n",
    "    res_list = [el for el in t if el in S]\n",
    "    return (tuple(res_list), tuple(res_list))\n",
    "\n",
    "def REDUCE(key: int, values: Iterator[NamedTuple]) -> Tuple[int, int]:\n",
    "    \"\"\"Функция REDUCE возвращает ключ и его значение.\"\"\"\n",
    "    return (key, key)\n",
    "\n",
    "def RECORDREADER(count: int) -> List[Tuple[int, int, int]]:\n",
    "    \"\"\"Создает список записей с случайными значениями.\"\"\"\n",
    "    return [(random.randint(0, 100), random.randint(0, 100), random.randint(0, 100)) for _ in range(count)]\n",
    "\n",
    "def group_by_key(iterable: List[Tuple[int, Tuple[int, int]]]) -> List[Tuple[int, List[Tuple[int, int]]]]:\n",
    "    \"\"\"Группирует элементы по ключу.\"\"\"\n",
    "    grouped = {}\n",
    "    for (k2, v2) in iterable:\n",
    "        grouped[k2] = grouped.get(k2, []) + [v2]\n",
    "    return list(grouped.items())\n",
    "\n",
    "def main():\n",
    "    # Генерация записей\n",
    "    record_count = 5\n",
    "    records = RECORDREADER(record_count)\n",
    "    print(\"Сгенерированные записи:\", records)\n",
    "\n",
    "    # Применение MAP\n",
    "    map_output = list(map(MAP, RECORDREADER(100)))\n",
    "    print(\"MAP:\", map_output)\n",
    "\n",
    "    # Shuffle (группировка по ключу)\n",
    "    shuffle_output = group_by_key(map_output)\n",
    "    print(\"Shuffle:\", shuffle_output)\n",
    "\n",
    "    # Применение REDUCE\n",
    "    reduce_output = list(map(lambda x: REDUCE(*x)[0], shuffle_output))\n",
    "    print(\"Reduce:\", reduce_output)\n",
    "\n",
    "if __name__ == \"__main__\":\n",
    "    main()\n"
   ]
  },
  {
   "cell_type": "markdown",
   "metadata": {
    "id": "7gau6lKXvn2R"
   },
   "source": [
    "### Union (Объединение)\n",
    "\n",
    "**The Map Function:** Превратите каждый входной кортеж $t$ в пару ключ-значение $(t, t)$.\n",
    "\n",
    "**The Reduce Function:** С каждым ключом $t$ будет ассоциировано одно или два значений. В обоих случаях создайте $(t, t)$ в качестве выходного значения."
   ]
  },
  {
   "cell_type": "code",
   "execution_count": 34,
   "metadata": {
    "id": "Sns7a5agv3nw"
   },
   "outputs": [
    {
     "name": "stdout",
     "output_type": "stream",
     "text": [
      "Сгенерированные записи: [(64, 52, 97), (45, 6, 81), (98, 3, 51), (39, 32, 90), (14, 44, 39)]\n",
      "MAP: [((95, 10, 41), (95, 10, 41)), ((4, 24, 64), (4, 24, 64)), ((46, 92, 96), (46, 92, 96)), ((59, 20, 21), (59, 20, 21)), ((86, 98, 69), (86, 98, 69)), ((83, 22, 96), (83, 22, 96)), ((82, 11, 82), (82, 11, 82)), ((100, 44, 2), (100, 44, 2)), ((87, 18, 39), (87, 18, 39)), ((19, 9, 94), (19, 9, 94)), ((50, 5, 30), (50, 5, 30)), ((77, 33, 85), (77, 33, 85)), ((86, 46, 33), (86, 46, 33)), ((45, 19, 22), (45, 19, 22)), ((84, 32, 61), (84, 32, 61)), ((2, 58, 25), (2, 58, 25)), ((99, 65, 75), (99, 65, 75)), ((18, 44, 41), (18, 44, 41)), ((57, 63, 60), (57, 63, 60)), ((69, 79, 9), (69, 79, 9)), ((2, 62, 68), (2, 62, 68)), ((3, 32, 59), (3, 32, 59)), ((10, 2, 32), (10, 2, 32)), ((67, 100, 65), (67, 100, 65)), ((15, 1, 47), (15, 1, 47)), ((3, 88, 41), (3, 88, 41)), ((19, 73, 0), (19, 73, 0)), ((63, 73, 85), (63, 73, 85)), ((58, 30, 29), (58, 30, 29)), ((86, 63, 19), (86, 63, 19)), ((64, 83, 34), (64, 83, 34)), ((17, 39, 37), (17, 39, 37)), ((85, 8, 48), (85, 8, 48)), ((76, 96, 88), (76, 96, 88)), ((52, 7, 30), (52, 7, 30)), ((83, 40, 75), (83, 40, 75)), ((10, 84, 26), (10, 84, 26)), ((24, 56, 46), (24, 56, 46)), ((37, 33, 52), (37, 33, 52)), ((82, 47, 42), (82, 47, 42)), ((54, 52, 22), (54, 52, 22)), ((61, 47, 28), (61, 47, 28)), ((91, 38, 69), (91, 38, 69)), ((65, 93, 64), (65, 93, 64)), ((88, 14, 79), (88, 14, 79)), ((8, 29, 40), (8, 29, 40)), ((91, 7, 71), (91, 7, 71)), ((48, 56, 56), (48, 56, 56)), ((30, 47, 31), (30, 47, 31)), ((68, 9, 11), (68, 9, 11)), ((61, 43, 8), (61, 43, 8)), ((51, 71, 3), (51, 71, 3)), ((84, 5, 14), (84, 5, 14)), ((37, 42, 59), (37, 42, 59)), ((50, 0, 22), (50, 0, 22)), ((48, 95, 67), (48, 95, 67)), ((65, 28, 99), (65, 28, 99)), ((96, 53, 82), (96, 53, 82)), ((61, 28, 83), (61, 28, 83)), ((15, 41, 43), (15, 41, 43)), ((42, 58, 93), (42, 58, 93)), ((75, 85, 5), (75, 85, 5)), ((88, 70, 52), (88, 70, 52)), ((12, 37, 3), (12, 37, 3)), ((69, 41, 37), (69, 41, 37)), ((85, 18, 88), (85, 18, 88)), ((35, 22, 49), (35, 22, 49)), ((25, 43, 6), (25, 43, 6)), ((20, 65, 12), (20, 65, 12)), ((68, 49, 33), (68, 49, 33)), ((31, 60, 81), (31, 60, 81)), ((49, 29, 67), (49, 29, 67)), ((62, 70, 49), (62, 70, 49)), ((44, 55, 76), (44, 55, 76)), ((27, 10, 50), (27, 10, 50)), ((98, 79, 41), (98, 79, 41)), ((92, 78, 5), (92, 78, 5)), ((90, 68, 56), (90, 68, 56)), ((31, 46, 23), (31, 46, 23)), ((27, 67, 30), (27, 67, 30)), ((56, 13, 0), (56, 13, 0)), ((15, 68, 81), (15, 68, 81)), ((20, 39, 37), (20, 39, 37)), ((55, 53, 55), (55, 53, 55)), ((43, 29, 10), (43, 29, 10)), ((29, 71, 83), (29, 71, 83)), ((69, 67, 22), (69, 67, 22)), ((43, 33, 16), (43, 33, 16)), ((100, 80, 34), (100, 80, 34)), ((22, 48, 29), (22, 48, 29)), ((28, 0, 15), (28, 0, 15)), ((63, 0, 54), (63, 0, 54)), ((88, 17, 30), (88, 17, 30)), ((9, 53, 85), (9, 53, 85)), ((98, 59, 45), (98, 59, 45)), ((32, 23, 30), (32, 23, 30)), ((33, 71, 95), (33, 71, 95)), ((41, 17, 29), (41, 17, 29)), ((19, 0, 5), (19, 0, 5)), ((96, 92, 72), (96, 92, 72))]\n",
      "Shuffle: [((95, 10, 41), [(95, 10, 41)]), ((4, 24, 64), [(4, 24, 64)]), ((46, 92, 96), [(46, 92, 96)]), ((59, 20, 21), [(59, 20, 21)]), ((86, 98, 69), [(86, 98, 69)]), ((83, 22, 96), [(83, 22, 96)]), ((82, 11, 82), [(82, 11, 82)]), ((100, 44, 2), [(100, 44, 2)]), ((87, 18, 39), [(87, 18, 39)]), ((19, 9, 94), [(19, 9, 94)]), ((50, 5, 30), [(50, 5, 30)]), ((77, 33, 85), [(77, 33, 85)]), ((86, 46, 33), [(86, 46, 33)]), ((45, 19, 22), [(45, 19, 22)]), ((84, 32, 61), [(84, 32, 61)]), ((2, 58, 25), [(2, 58, 25)]), ((99, 65, 75), [(99, 65, 75)]), ((18, 44, 41), [(18, 44, 41)]), ((57, 63, 60), [(57, 63, 60)]), ((69, 79, 9), [(69, 79, 9)]), ((2, 62, 68), [(2, 62, 68)]), ((3, 32, 59), [(3, 32, 59)]), ((10, 2, 32), [(10, 2, 32)]), ((67, 100, 65), [(67, 100, 65)]), ((15, 1, 47), [(15, 1, 47)]), ((3, 88, 41), [(3, 88, 41)]), ((19, 73, 0), [(19, 73, 0)]), ((63, 73, 85), [(63, 73, 85)]), ((58, 30, 29), [(58, 30, 29)]), ((86, 63, 19), [(86, 63, 19)]), ((64, 83, 34), [(64, 83, 34)]), ((17, 39, 37), [(17, 39, 37)]), ((85, 8, 48), [(85, 8, 48)]), ((76, 96, 88), [(76, 96, 88)]), ((52, 7, 30), [(52, 7, 30)]), ((83, 40, 75), [(83, 40, 75)]), ((10, 84, 26), [(10, 84, 26)]), ((24, 56, 46), [(24, 56, 46)]), ((37, 33, 52), [(37, 33, 52)]), ((82, 47, 42), [(82, 47, 42)]), ((54, 52, 22), [(54, 52, 22)]), ((61, 47, 28), [(61, 47, 28)]), ((91, 38, 69), [(91, 38, 69)]), ((65, 93, 64), [(65, 93, 64)]), ((88, 14, 79), [(88, 14, 79)]), ((8, 29, 40), [(8, 29, 40)]), ((91, 7, 71), [(91, 7, 71)]), ((48, 56, 56), [(48, 56, 56)]), ((30, 47, 31), [(30, 47, 31)]), ((68, 9, 11), [(68, 9, 11)]), ((61, 43, 8), [(61, 43, 8)]), ((51, 71, 3), [(51, 71, 3)]), ((84, 5, 14), [(84, 5, 14)]), ((37, 42, 59), [(37, 42, 59)]), ((50, 0, 22), [(50, 0, 22)]), ((48, 95, 67), [(48, 95, 67)]), ((65, 28, 99), [(65, 28, 99)]), ((96, 53, 82), [(96, 53, 82)]), ((61, 28, 83), [(61, 28, 83)]), ((15, 41, 43), [(15, 41, 43)]), ((42, 58, 93), [(42, 58, 93)]), ((75, 85, 5), [(75, 85, 5)]), ((88, 70, 52), [(88, 70, 52)]), ((12, 37, 3), [(12, 37, 3)]), ((69, 41, 37), [(69, 41, 37)]), ((85, 18, 88), [(85, 18, 88)]), ((35, 22, 49), [(35, 22, 49)]), ((25, 43, 6), [(25, 43, 6)]), ((20, 65, 12), [(20, 65, 12)]), ((68, 49, 33), [(68, 49, 33)]), ((31, 60, 81), [(31, 60, 81)]), ((49, 29, 67), [(49, 29, 67)]), ((62, 70, 49), [(62, 70, 49)]), ((44, 55, 76), [(44, 55, 76)]), ((27, 10, 50), [(27, 10, 50)]), ((98, 79, 41), [(98, 79, 41)]), ((92, 78, 5), [(92, 78, 5)]), ((90, 68, 56), [(90, 68, 56)]), ((31, 46, 23), [(31, 46, 23)]), ((27, 67, 30), [(27, 67, 30)]), ((56, 13, 0), [(56, 13, 0)]), ((15, 68, 81), [(15, 68, 81)]), ((20, 39, 37), [(20, 39, 37)]), ((55, 53, 55), [(55, 53, 55)]), ((43, 29, 10), [(43, 29, 10)]), ((29, 71, 83), [(29, 71, 83)]), ((69, 67, 22), [(69, 67, 22)]), ((43, 33, 16), [(43, 33, 16)]), ((100, 80, 34), [(100, 80, 34)]), ((22, 48, 29), [(22, 48, 29)]), ((28, 0, 15), [(28, 0, 15)]), ((63, 0, 54), [(63, 0, 54)]), ((88, 17, 30), [(88, 17, 30)]), ((9, 53, 85), [(9, 53, 85)]), ((98, 59, 45), [(98, 59, 45)]), ((32, 23, 30), [(32, 23, 30)]), ((33, 71, 95), [(33, 71, 95)]), ((41, 17, 29), [(41, 17, 29)]), ((19, 0, 5), [(19, 0, 5)]), ((96, 92, 72), [(96, 92, 72)])]\n",
      "Reduce: [(95, 10, 41), (4, 24, 64), (46, 92, 96), (59, 20, 21), (86, 98, 69), (83, 22, 96), (82, 11, 82), (100, 44, 2), (87, 18, 39), (19, 9, 94), (50, 5, 30), (77, 33, 85), (86, 46, 33), (45, 19, 22), (84, 32, 61), (2, 58, 25), (99, 65, 75), (18, 44, 41), (57, 63, 60), (69, 79, 9), (2, 62, 68), (3, 32, 59), (10, 2, 32), (67, 100, 65), (15, 1, 47), (3, 88, 41), (19, 73, 0), (63, 73, 85), (58, 30, 29), (86, 63, 19), (64, 83, 34), (17, 39, 37), (85, 8, 48), (76, 96, 88), (52, 7, 30), (83, 40, 75), (10, 84, 26), (24, 56, 46), (37, 33, 52), (82, 47, 42), (54, 52, 22), (61, 47, 28), (91, 38, 69), (65, 93, 64), (88, 14, 79), (8, 29, 40), (91, 7, 71), (48, 56, 56), (30, 47, 31), (68, 9, 11), (61, 43, 8), (51, 71, 3), (84, 5, 14), (37, 42, 59), (50, 0, 22), (48, 95, 67), (65, 28, 99), (96, 53, 82), (61, 28, 83), (15, 41, 43), (42, 58, 93), (75, 85, 5), (88, 70, 52), (12, 37, 3), (69, 41, 37), (85, 18, 88), (35, 22, 49), (25, 43, 6), (20, 65, 12), (68, 49, 33), (31, 60, 81), (49, 29, 67), (62, 70, 49), (44, 55, 76), (27, 10, 50), (98, 79, 41), (92, 78, 5), (90, 68, 56), (31, 46, 23), (27, 67, 30), (56, 13, 0), (15, 68, 81), (20, 39, 37), (55, 53, 55), (43, 29, 10), (29, 71, 83), (69, 67, 22), (43, 33, 16), (100, 80, 34), (22, 48, 29), (28, 0, 15), (63, 0, 54), (88, 17, 30), (9, 53, 85), (98, 59, 45), (32, 23, 30), (33, 71, 95), (41, 17, 29), (19, 0, 5), (96, 92, 72)]\n"
     ]
    }
   ],
   "source": [
    "import random\n",
    "from typing import Iterator, NamedTuple, List, Tuple\n",
    "\n",
    "def MAP(t: Tuple[int, int, int]) -> Tuple[Tuple[int, int, int], Tuple[int, int, int]]:\n",
    "    \"\"\"Функция MAP возвращает входной кортеж дважды.\"\"\"\n",
    "    return (t, t)\n",
    "\n",
    "def REDUCE(key: int, values: Iterator[NamedTuple]) -> Tuple[int, int]:\n",
    "    \"\"\"Функция REDUCE возвращает ключ и его значение.\"\"\"\n",
    "    return (key, key)\n",
    "\n",
    "def RECORDREADER(count: int) -> List[Tuple[int, int, int]]:\n",
    "    \"\"\"Создает список записей с случайными значениями.\"\"\"\n",
    "    return [(random.randint(0, 100), random.randint(0, 100), random.randint(0, 100)) for _ in range(count)]\n",
    "\n",
    "def group_by_key(iterable: List[Tuple[int, Tuple[int, int]]]) -> List[Tuple[int, List[Tuple[int, int]]]]:\n",
    "    \"\"\"Группирует элементы по ключу.\"\"\"\n",
    "    grouped = {}\n",
    "    for (k2, v2) in iterable:\n",
    "        grouped[k2] = grouped.get(k2, []) + [v2]\n",
    "    return list(grouped.items())\n",
    "\n",
    "def main():\n",
    "    # Генерация записей\n",
    "    record_count = 5\n",
    "    records = RECORDREADER(record_count)\n",
    "    print(\"Сгенерированные записи:\", records)\n",
    "\n",
    "    # Применение MAP\n",
    "    map_output = list(map(MAP, RECORDREADER(100)))\n",
    "    print(\"MAP:\", map_output)\n",
    "\n",
    "    # Shuffle (группировка по ключу)\n",
    "    shuffle_output = group_by_key(map_output)\n",
    "    print(\"Shuffle:\", shuffle_output)\n",
    "\n",
    "    # Применение REDUCE\n",
    "    reduce_output = list(map(lambda x: REDUCE(*x)[0], shuffle_output))\n",
    "    print(\"Reduce:\", reduce_output)\n",
    "\n",
    "if __name__ == \"__main__\":\n",
    "    main()\n"
   ]
  },
  {
   "cell_type": "markdown",
   "metadata": {
    "id": "dQ8TuEbjv4J8"
   },
   "source": [
    "### Intersection (Пересечение)\n",
    "\n",
    "**The Map Function:** Превратите каждый кортеж $t$ в пары ключ-значение $(t, t)$.\n",
    "\n",
    "**The Reduce Function:** Если для ключа $t$ есть список из двух элементов $[t, t]$ $-$ создайте пару $(t, t)$. Иначе, ничего не создавайте."
   ]
  },
  {
   "cell_type": "code",
   "execution_count": 35,
   "metadata": {
    "id": "XKlBZh4IwERR"
   },
   "outputs": [
    {
     "name": "stdout",
     "output_type": "stream",
     "text": [
      "Сгенерированные записи: [(0, 0), (0, 1), (1, 3), (0, 3), (3, 1), (2, 2), (1, 1), (0, 2), (1, 0), (2, 1), (3, 1), (3, 1), (1, 1), (2, 3), (0, 3), (1, 3), (3, 0), (0, 2), (3, 1), (2, 0), (0, 2), (1, 2), (0, 3), (3, 1), (2, 3), (2, 2), (1, 3), (0, 0), (1, 2), (2, 3), (0, 0), (2, 2), (3, 2), (1, 0), (1, 3), (0, 1), (2, 1), (3, 1), (3, 3), (0, 2), (1, 1), (2, 3), (1, 1), (0, 1), (0, 1), (1, 1), (0, 2), (1, 0), (1, 1), (3, 3), (2, 0), (0, 2), (3, 1), (0, 1), (3, 3), (2, 3), (2, 2), (1, 1), (2, 2), (3, 1), (2, 0), (2, 1), (1, 1), (0, 1), (2, 3), (1, 3), (3, 3), (0, 0), (0, 3), (3, 3), (3, 3), (0, 2), (3, 1), (1, 1), (0, 2), (3, 1), (1, 1), (3, 2), (2, 3), (0, 1), (2, 1), (0, 2), (0, 2), (0, 3), (3, 2), (3, 0), (1, 2), (2, 3), (3, 3), (0, 3), (1, 2), (3, 1), (3, 0), (2, 1), (1, 1), (0, 3), (0, 3), (3, 1), (1, 2), (3, 1)]\n",
      "MAP: [((0, 0), (0, 0)), ((0, 1), (0, 1)), ((1, 3), (1, 3)), ((0, 3), (0, 3)), ((3, 1), (3, 1)), ((2, 2), (2, 2)), ((1, 1), (1, 1)), ((0, 2), (0, 2)), ((1, 0), (1, 0)), ((2, 1), (2, 1)), ((3, 1), (3, 1)), ((3, 1), (3, 1)), ((1, 1), (1, 1)), ((2, 3), (2, 3)), ((0, 3), (0, 3)), ((1, 3), (1, 3)), ((3, 0), (3, 0)), ((0, 2), (0, 2)), ((3, 1), (3, 1)), ((2, 0), (2, 0)), ((0, 2), (0, 2)), ((1, 2), (1, 2)), ((0, 3), (0, 3)), ((3, 1), (3, 1)), ((2, 3), (2, 3)), ((2, 2), (2, 2)), ((1, 3), (1, 3)), ((0, 0), (0, 0)), ((1, 2), (1, 2)), ((2, 3), (2, 3)), ((0, 0), (0, 0)), ((2, 2), (2, 2)), ((3, 2), (3, 2)), ((1, 0), (1, 0)), ((1, 3), (1, 3)), ((0, 1), (0, 1)), ((2, 1), (2, 1)), ((3, 1), (3, 1)), ((3, 3), (3, 3)), ((0, 2), (0, 2)), ((1, 1), (1, 1)), ((2, 3), (2, 3)), ((1, 1), (1, 1)), ((0, 1), (0, 1)), ((0, 1), (0, 1)), ((1, 1), (1, 1)), ((0, 2), (0, 2)), ((1, 0), (1, 0)), ((1, 1), (1, 1)), ((3, 3), (3, 3)), ((2, 0), (2, 0)), ((0, 2), (0, 2)), ((3, 1), (3, 1)), ((0, 1), (0, 1)), ((3, 3), (3, 3)), ((2, 3), (2, 3)), ((2, 2), (2, 2)), ((1, 1), (1, 1)), ((2, 2), (2, 2)), ((3, 1), (3, 1)), ((2, 0), (2, 0)), ((2, 1), (2, 1)), ((1, 1), (1, 1)), ((0, 1), (0, 1)), ((2, 3), (2, 3)), ((1, 3), (1, 3)), ((3, 3), (3, 3)), ((0, 0), (0, 0)), ((0, 3), (0, 3)), ((3, 3), (3, 3)), ((3, 3), (3, 3)), ((0, 2), (0, 2)), ((3, 1), (3, 1)), ((1, 1), (1, 1)), ((0, 2), (0, 2)), ((3, 1), (3, 1)), ((1, 1), (1, 1)), ((3, 2), (3, 2)), ((2, 3), (2, 3)), ((0, 1), (0, 1)), ((2, 1), (2, 1)), ((0, 2), (0, 2)), ((0, 2), (0, 2)), ((0, 3), (0, 3)), ((3, 2), (3, 2)), ((3, 0), (3, 0)), ((1, 2), (1, 2)), ((2, 3), (2, 3)), ((3, 3), (3, 3)), ((0, 3), (0, 3)), ((1, 2), (1, 2)), ((3, 1), (3, 1)), ((3, 0), (3, 0)), ((2, 1), (2, 1)), ((1, 1), (1, 1)), ((0, 3), (0, 3)), ((0, 3), (0, 3)), ((3, 1), (3, 1)), ((1, 2), (1, 2)), ((3, 1), (3, 1))]\n",
      "Shuffle: [((0, 0), [(0, 0), (0, 0), (0, 0), (0, 0)]), ((0, 1), [(0, 1), (0, 1), (0, 1), (0, 1), (0, 1), (0, 1), (0, 1)]), ((1, 3), [(1, 3), (1, 3), (1, 3), (1, 3), (1, 3)]), ((0, 3), [(0, 3), (0, 3), (0, 3), (0, 3), (0, 3), (0, 3), (0, 3), (0, 3)]), ((3, 1), [(3, 1), (3, 1), (3, 1), (3, 1), (3, 1), (3, 1), (3, 1), (3, 1), (3, 1), (3, 1), (3, 1), (3, 1), (3, 1)]), ((2, 2), [(2, 2), (2, 2), (2, 2), (2, 2), (2, 2)]), ((1, 1), [(1, 1), (1, 1), (1, 1), (1, 1), (1, 1), (1, 1), (1, 1), (1, 1), (1, 1), (1, 1), (1, 1)]), ((0, 2), [(0, 2), (0, 2), (0, 2), (0, 2), (0, 2), (0, 2), (0, 2), (0, 2), (0, 2), (0, 2)]), ((1, 0), [(1, 0), (1, 0), (1, 0)]), ((2, 1), [(2, 1), (2, 1), (2, 1), (2, 1), (2, 1)]), ((2, 3), [(2, 3), (2, 3), (2, 3), (2, 3), (2, 3), (2, 3), (2, 3), (2, 3)]), ((3, 0), [(3, 0), (3, 0), (3, 0)]), ((2, 0), [(2, 0), (2, 0), (2, 0)]), ((1, 2), [(1, 2), (1, 2), (1, 2), (1, 2), (1, 2)]), ((3, 2), [(3, 2), (3, 2), (3, 2)]), ((3, 3), [(3, 3), (3, 3), (3, 3), (3, 3), (3, 3), (3, 3), (3, 3)])]\n",
      "Reduce: []\n"
     ]
    }
   ],
   "source": [
    "import random\n",
    "from typing import Iterator, NamedTuple, List, Tuple\n",
    "\n",
    "def MAP(t: Tuple[int, int]) -> Tuple[Tuple[int, int], Tuple[int, int]]:\n",
    "    \"\"\"Функция MAP возвращает входной кортеж дважды.\"\"\"\n",
    "    return (t, t)\n",
    "\n",
    "def REDUCE(key: int, values: List[int]) -> Tuple[int, int]:\n",
    "    \"\"\"Функция REDUCE возвращает ключ и его значение, если длина значений равна 2.\"\"\"\n",
    "    if len(values) == 2:\n",
    "        return (key, key)\n",
    "    return None\n",
    "\n",
    "def RECORDREADER(count: int) -> List[Tuple[int, int]]:\n",
    "    \"\"\"Создает список записей с случайными значениями.\"\"\"\n",
    "    return [(random.randint(0, 3), random.randint(0, 3)) for _ in range(count)]\n",
    "\n",
    "def group_by_key(iterable: List[Tuple[int, int]]) -> List[Tuple[int, List[int]]]:\n",
    "    \"\"\"Группирует элементы по ключу.\"\"\"\n",
    "    grouped = {}\n",
    "    for (k2, v2) in iterable:\n",
    "        grouped[k2] = grouped.get(k2, []) + [v2]\n",
    "    return list(grouped.items())\n",
    "\n",
    "def main():\n",
    "    # Генерация записей\n",
    "    record_count = 100\n",
    "    records = RECORDREADER(record_count)\n",
    "    print(\"Сгенерированные записи:\", records)\n",
    "\n",
    "    # Применение MAP\n",
    "    map_output = list(map(MAP, records))\n",
    "    print(\"MAP:\", map_output)\n",
    "\n",
    "    # Shuffle (группировка по ключу)\n",
    "    shuffle_output = group_by_key(map_output)\n",
    "    print(\"Shuffle:\", shuffle_output)\n",
    "\n",
    "    # Применение REDUCE\n",
    "    reduce_output = [el[0] for el in map(lambda x: REDUCE(*x), shuffle_output) if el is not None]\n",
    "    print(\"Reduce:\", reduce_output)\n",
    "\n",
    "if __name__ == \"__main__\":\n",
    "    main()\n"
   ]
  },
  {
   "cell_type": "markdown",
   "metadata": {
    "id": "AVOpqoY3wE5k"
   },
   "source": [
    "### Difference (Разница)\n",
    "\n",
    "**The Map Function:** Для кортежа $t \\in R$, создайте пару $(t, R)$, и для кортежа $t \\in S$, создайте пару $(t, S)$. Задумка заключается в том, чтобы значение пары было именем отношения $R$ or $S$, которому принадлежит кортеж (а лучше, единичный бит, по которому можно два отношения различить $R$ or $S$), а не весь набор атрибутов отношения.\n",
    "\n",
    "**The Reduce Function:** Для каждого ключа $t$, если соответствующее значение является списком $[R]$, создайте пару $(t, t)$. В иных случаях не предпринимайте действий."
   ]
  },
  {
   "cell_type": "code",
   "execution_count": 36,
   "metadata": {
    "id": "QE_AC09lwZIZ"
   },
   "outputs": [
    {
     "name": "stdout",
     "output_type": "stream",
     "text": [
      "MAP: [(((2, 3), (0, 3), (0, 0)), 2), (((0, 0), (1, 2), (2, 0)), 1), (((1, 2), (1, 0), (3, 3)), 1), (((2, 3), (0, 2), (0, 3)), 1), (((2, 1), (3, 2), (3, 3)), 1), (((1, 1), (3, 0), (3, 1)), 2), (((0, 1), (1, 1), (3, 0)), 2), (((3, 1), (0, 1), (1, 2)), 1), (((3, 3), (1, 0), (3, 3)), 1), (((3, 0), (0, 2), (2, 3)), 2), (((3, 1), (1, 0), (2, 2)), 1), (((0, 2), (3, 3), (2, 0)), 1), (((2, 3), (0, 3), (2, 2)), 2), (((1, 1), (0, 1), (1, 1)), 2), (((2, 0), (0, 3), (3, 2)), 1), (((3, 0), (0, 1), (3, 2)), 2), (((3, 0), (0, 2), (2, 1)), 2), (((3, 3), (3, 1), (1, 1)), 1), (((1, 0), (2, 0), (3, 0)), 2), (((0, 1), (0, 1), (1, 1)), 1), (((0, 2), (3, 0), (1, 3)), 1), (((3, 0), (3, 1), (2, 2)), 2), (((0, 1), (1, 1), (1, 2)), 2), (((0, 0), (3, 3), (1, 1)), 1), (((2, 1), (1, 3), (3, 3)), 1), (((2, 2), (2, 0), (1, 1)), 1), (((3, 1), (1, 2), (3, 3)), 1), (((3, 3), (3, 3), (0, 0)), 1), (((2, 0), (3, 0), (1, 1)), 1), (((0, 3), (1, 0), (1, 2)), 2), (((0, 0), (2, 3), (2, 3)), 1), (((2, 3), (0, 3), (2, 2)), 1), (((1, 0), (0, 2), (0, 0)), 2), (((0, 2), (3, 1), (2, 3)), 2), (((3, 2), (1, 1), (3, 1)), 1), (((3, 1), (3, 0), (1, 1)), 2), (((2, 2), (3, 2), (2, 1)), 2), (((2, 2), (0, 2), (2, 1)), 2), (((1, 2), (3, 1), (1, 3)), 1), (((3, 3), (1, 3), (0, 1)), 1), (((0, 2), (1, 2), (3, 2)), 2), (((3, 1), (2, 3), (2, 3)), 2), (((2, 3), (0, 0), (1, 3)), 1), (((1, 0), (0, 1), (3, 1)), 1), (((3, 0), (3, 0), (0, 1)), 1), (((0, 0), (0, 1), (1, 1)), 2), (((3, 3), (2, 2), (0, 2)), 2), (((1, 0), (1, 0), (1, 2)), 2), (((2, 0), (1, 1), (2, 1)), 1), (((1, 1), (0, 2), (3, 3)), 2), (((2, 2), (3, 1), (0, 2)), 1), (((2, 2), (0, 3), (2, 2)), 1), (((0, 1), (2, 0), (0, 1)), 1), (((2, 0), (1, 1), (1, 1)), 1), (((1, 3), (0, 1), (3, 0)), 2), (((1, 0), (3, 2), (3, 2)), 1), (((2, 2), (2, 2), (3, 2)), 2), (((2, 2), (2, 3), (3, 3)), 1), (((2, 1), (0, 0), (1, 0)), 2), (((0, 3), (3, 0), (3, 2)), 1), (((2, 3), (1, 1), (3, 0)), 2), (((3, 1), (3, 3), (1, 3)), 2), (((1, 1), (2, 0), (3, 2)), 2), (((2, 1), (3, 0), (1, 1)), 1), (((0, 3), (2, 2), (3, 0)), 1), (((2, 2), (0, 2), (1, 2)), 1), (((2, 1), (0, 3), (2, 1)), 1), (((3, 1), (2, 1), (0, 2)), 2), (((2, 0), (2, 1), (0, 3)), 1), (((1, 2), (1, 1), (1, 3)), 2), (((0, 0), (3, 3), (1, 2)), 2), (((0, 1), (0, 3), (2, 2)), 2), (((0, 1), (0, 0), (1, 0)), 2), (((1, 3), (0, 3), (2, 0)), 2), (((2, 2), (1, 2), (1, 2)), 1), (((2, 3), (1, 2), (0, 1)), 2), (((0, 0), (1, 2), (2, 0)), 1), (((0, 3), (0, 1), (3, 1)), 2), (((0, 3), (3, 1), (0, 0)), 1), (((1, 2), (2, 2), (3, 2)), 1), (((0, 1), (0, 1), (3, 2)), 1), (((0, 2), (2, 3), (1, 3)), 1), (((2, 3), (3, 1), (0, 3)), 2), (((1, 3), (2, 3), (1, 1)), 2), (((0, 1), (1, 2), (0, 1)), 1), (((0, 1), (0, 0), (1, 2)), 1), (((2, 0), (1, 0), (3, 2)), 2), (((1, 0), (1, 3), (0, 2)), 2), (((0, 2), (3, 2), (0, 0)), 2), (((1, 0), (2, 1), (3, 0)), 1), (((1, 0), (1, 1), (3, 1)), 1), (((0, 2), (3, 2), (2, 3)), 1), (((1, 1), (1, 1), (2, 2)), 1), (((3, 1), (3, 1), (3, 1)), 1), (((2, 1), (1, 1), (1, 1)), 1), (((1, 3), (2, 0), (1, 3)), 1), (((0, 0), (2, 2), (3, 3)), 1), (((1, 2), (1, 0), (3, 2)), 1), (((3, 0), (3, 1), (1, 3)), 2), (((2, 3), (0, 3), (0, 0)), 2)]\n",
      "Shuffle: [(((2, 3), (0, 3), (0, 0)), [2, 2]), (((0, 0), (1, 2), (2, 0)), [1, 1]), (((1, 2), (1, 0), (3, 3)), [1]), (((2, 3), (0, 2), (0, 3)), [1]), (((2, 1), (3, 2), (3, 3)), [1]), (((1, 1), (3, 0), (3, 1)), [2]), (((0, 1), (1, 1), (3, 0)), [2]), (((3, 1), (0, 1), (1, 2)), [1]), (((3, 3), (1, 0), (3, 3)), [1]), (((3, 0), (0, 2), (2, 3)), [2]), (((3, 1), (1, 0), (2, 2)), [1]), (((0, 2), (3, 3), (2, 0)), [1]), (((2, 3), (0, 3), (2, 2)), [2, 1]), (((1, 1), (0, 1), (1, 1)), [2]), (((2, 0), (0, 3), (3, 2)), [1]), (((3, 0), (0, 1), (3, 2)), [2]), (((3, 0), (0, 2), (2, 1)), [2]), (((3, 3), (3, 1), (1, 1)), [1]), (((1, 0), (2, 0), (3, 0)), [2]), (((0, 1), (0, 1), (1, 1)), [1]), (((0, 2), (3, 0), (1, 3)), [1]), (((3, 0), (3, 1), (2, 2)), [2]), (((0, 1), (1, 1), (1, 2)), [2]), (((0, 0), (3, 3), (1, 1)), [1]), (((2, 1), (1, 3), (3, 3)), [1]), (((2, 2), (2, 0), (1, 1)), [1]), (((3, 1), (1, 2), (3, 3)), [1]), (((3, 3), (3, 3), (0, 0)), [1]), (((2, 0), (3, 0), (1, 1)), [1]), (((0, 3), (1, 0), (1, 2)), [2]), (((0, 0), (2, 3), (2, 3)), [1]), (((1, 0), (0, 2), (0, 0)), [2]), (((0, 2), (3, 1), (2, 3)), [2]), (((3, 2), (1, 1), (3, 1)), [1]), (((3, 1), (3, 0), (1, 1)), [2]), (((2, 2), (3, 2), (2, 1)), [2]), (((2, 2), (0, 2), (2, 1)), [2]), (((1, 2), (3, 1), (1, 3)), [1]), (((3, 3), (1, 3), (0, 1)), [1]), (((0, 2), (1, 2), (3, 2)), [2]), (((3, 1), (2, 3), (2, 3)), [2]), (((2, 3), (0, 0), (1, 3)), [1]), (((1, 0), (0, 1), (3, 1)), [1]), (((3, 0), (3, 0), (0, 1)), [1]), (((0, 0), (0, 1), (1, 1)), [2]), (((3, 3), (2, 2), (0, 2)), [2]), (((1, 0), (1, 0), (1, 2)), [2]), (((2, 0), (1, 1), (2, 1)), [1]), (((1, 1), (0, 2), (3, 3)), [2]), (((2, 2), (3, 1), (0, 2)), [1]), (((2, 2), (0, 3), (2, 2)), [1]), (((0, 1), (2, 0), (0, 1)), [1]), (((2, 0), (1, 1), (1, 1)), [1]), (((1, 3), (0, 1), (3, 0)), [2]), (((1, 0), (3, 2), (3, 2)), [1]), (((2, 2), (2, 2), (3, 2)), [2]), (((2, 2), (2, 3), (3, 3)), [1]), (((2, 1), (0, 0), (1, 0)), [2]), (((0, 3), (3, 0), (3, 2)), [1]), (((2, 3), (1, 1), (3, 0)), [2]), (((3, 1), (3, 3), (1, 3)), [2]), (((1, 1), (2, 0), (3, 2)), [2]), (((2, 1), (3, 0), (1, 1)), [1]), (((0, 3), (2, 2), (3, 0)), [1]), (((2, 2), (0, 2), (1, 2)), [1]), (((2, 1), (0, 3), (2, 1)), [1]), (((3, 1), (2, 1), (0, 2)), [2]), (((2, 0), (2, 1), (0, 3)), [1]), (((1, 2), (1, 1), (1, 3)), [2]), (((0, 0), (3, 3), (1, 2)), [2]), (((0, 1), (0, 3), (2, 2)), [2]), (((0, 1), (0, 0), (1, 0)), [2]), (((1, 3), (0, 3), (2, 0)), [2]), (((2, 2), (1, 2), (1, 2)), [1]), (((2, 3), (1, 2), (0, 1)), [2]), (((0, 3), (0, 1), (3, 1)), [2]), (((0, 3), (3, 1), (0, 0)), [1]), (((1, 2), (2, 2), (3, 2)), [1]), (((0, 1), (0, 1), (3, 2)), [1]), (((0, 2), (2, 3), (1, 3)), [1]), (((2, 3), (3, 1), (0, 3)), [2]), (((1, 3), (2, 3), (1, 1)), [2]), (((0, 1), (1, 2), (0, 1)), [1]), (((0, 1), (0, 0), (1, 2)), [1]), (((2, 0), (1, 0), (3, 2)), [2]), (((1, 0), (1, 3), (0, 2)), [2]), (((0, 2), (3, 2), (0, 0)), [2]), (((1, 0), (2, 1), (3, 0)), [1]), (((1, 0), (1, 1), (3, 1)), [1]), (((0, 2), (3, 2), (2, 3)), [1]), (((1, 1), (1, 1), (2, 2)), [1]), (((3, 1), (3, 1), (3, 1)), [1]), (((2, 1), (1, 1), (1, 1)), [1]), (((1, 3), (2, 0), (1, 3)), [1]), (((0, 0), (2, 2), (3, 3)), [1]), (((1, 2), (1, 0), (3, 2)), [1]), (((3, 0), (3, 1), (1, 3)), [2])]\n",
      "Reduce: [((1, 2), (1, 0), (3, 3)), ((2, 3), (0, 2), (0, 3)), ((2, 1), (3, 2), (3, 3)), ((3, 1), (0, 1), (1, 2)), ((3, 3), (1, 0), (3, 3)), ((3, 1), (1, 0), (2, 2)), ((0, 2), (3, 3), (2, 0)), ((2, 0), (0, 3), (3, 2)), ((3, 3), (3, 1), (1, 1)), ((0, 1), (0, 1), (1, 1)), ((0, 2), (3, 0), (1, 3)), ((0, 0), (3, 3), (1, 1)), ((2, 1), (1, 3), (3, 3)), ((2, 2), (2, 0), (1, 1)), ((3, 1), (1, 2), (3, 3)), ((3, 3), (3, 3), (0, 0)), ((2, 0), (3, 0), (1, 1)), ((0, 0), (2, 3), (2, 3)), ((3, 2), (1, 1), (3, 1)), ((1, 2), (3, 1), (1, 3)), ((3, 3), (1, 3), (0, 1)), ((2, 3), (0, 0), (1, 3)), ((1, 0), (0, 1), (3, 1)), ((3, 0), (3, 0), (0, 1)), ((2, 0), (1, 1), (2, 1)), ((2, 2), (3, 1), (0, 2)), ((2, 2), (0, 3), (2, 2)), ((0, 1), (2, 0), (0, 1)), ((2, 0), (1, 1), (1, 1)), ((1, 0), (3, 2), (3, 2)), ((2, 2), (2, 3), (3, 3)), ((0, 3), (3, 0), (3, 2)), ((2, 1), (3, 0), (1, 1)), ((0, 3), (2, 2), (3, 0)), ((2, 2), (0, 2), (1, 2)), ((2, 1), (0, 3), (2, 1)), ((2, 0), (2, 1), (0, 3)), ((2, 2), (1, 2), (1, 2)), ((0, 3), (3, 1), (0, 0)), ((1, 2), (2, 2), (3, 2)), ((0, 1), (0, 1), (3, 2)), ((0, 2), (2, 3), (1, 3)), ((0, 1), (1, 2), (0, 1)), ((0, 1), (0, 0), (1, 2)), ((1, 0), (2, 1), (3, 0)), ((1, 0), (1, 1), (3, 1)), ((0, 2), (3, 2), (2, 3)), ((1, 1), (1, 1), (2, 2)), ((3, 1), (3, 1), (3, 1)), ((2, 1), (1, 1), (1, 1)), ((1, 3), (2, 0), (1, 3)), ((0, 0), (2, 2), (3, 3)), ((1, 2), (1, 0), (3, 2))]\n"
     ]
    }
   ],
   "source": [
    "import random\n",
    "from typing import List, Tuple as PyTuple, Iterator, NamedTuple\n",
    "\n",
    "# Определяем классы и функции\n",
    "class Tuple:\n",
    "    def __init__(self, data: PyTuple[int, int], rel_id: int):\n",
    "        self.data = data\n",
    "        self.rel_id = rel_id\n",
    "\n",
    "# Генерация случайного кортежа\n",
    "def get_random_tuple(count: int) -> Tuple:\n",
    "    data = tuple((random.randint(0, 3), random.randint(0, 3)) for _ in range(count))\n",
    "    rel_id = rels[random.randint(0, len(rels) - 1)]\n",
    "    return Tuple(data, rel_id)\n",
    "\n",
    "# Чтение записей\n",
    "def RECORDREADER(count: int) -> List[Tuple]:\n",
    "    return [get_random_tuple(3) for _ in range(count)]\n",
    "\n",
    "# Функция MAP\n",
    "def MAP(t: Tuple) -> PyTuple[PyTuple[int, int], int]:\n",
    "    return (t.data, t.rel_id)\n",
    "\n",
    "# Функция REDUCE\n",
    "def REDUCE(key: int, values: List[int]) -> PyTuple[int, int]:\n",
    "    if values == [rels[0]]:\n",
    "        return (key, key)\n",
    "    return None\n",
    "\n",
    "# Группировка по ключу\n",
    "def group_by_key(iterable: List[PyTuple[PyTuple[int, int], int]]) -> dict:\n",
    "    grouped = {}\n",
    "    for (k2, v2) in iterable:\n",
    "        grouped[k2] = grouped.get(k2, []) + [v2]\n",
    "    return grouped\n",
    "\n",
    "def main():\n",
    "    # Инициализация переменных\n",
    "    global rels\n",
    "    rels = [1, 2]\n",
    "\n",
    "    # Генерация записей\n",
    "    record_count = 100\n",
    "    records = RECORDREADER(record_count)\n",
    "\n",
    "    # Применение MAP\n",
    "    map_out = list(map(MAP, records))\n",
    "    print(\"MAP:\", map_out)\n",
    "\n",
    "    # Shuffle (группировка по ключу)\n",
    "    shuffle_out = group_by_key(map_out)\n",
    "    print(\"Shuffle:\", list(shuffle_out.items()))\n",
    "\n",
    "    # Применение REDUCE\n",
    "    reduce_out = [el[0] for el in (map(lambda x: REDUCE(*x), shuffle_out.items())) if el is not None]\n",
    "    print(\"Reduce:\", reduce_out)\n",
    "\n",
    "if __name__ == \"__main__\":\n",
    "    main()\n"
   ]
  },
  {
   "cell_type": "markdown",
   "metadata": {
    "id": "j8I58V2VwhSm"
   },
   "source": [
    "### Natural Join\n",
    "\n",
    "**The Map Function:** Для каждого кортежа $(a, b)$ отношения $R$, создайте пару $(b,(R, a))$. Для каждого кортежа $(b, c)$ отношения $S$, создайте пару $(b,(S, c))$.\n",
    "\n",
    "**The Reduce Function:** Каждый ключ $b$ будет асоциирован со списком пар, которые принимают форму либо $(R, a)$, либо $(S, c)$. Создайте все пары, одни, состоящие из  первого компонента $R$, а другие, из первого компонента $S$, то есть $(R, a)$ и $(S, c)$. На выходе вы получаете последовательность пар ключ-значение из списков ключей и значений. Ключ не нужен. Каждое значение, это тройка $(a, b, c)$ такая, что $(R, a)$ и $(S, c)$ это принадлежат входному списку значений."
   ]
  },
  {
   "cell_type": "code",
   "execution_count": 37,
   "metadata": {
    "id": "yHiuuTctw86I"
   },
   "outputs": [
    {
     "name": "stdout",
     "output_type": "stream",
     "text": [
      "MAP: [(0, (2, 1)), (2, (1, 0)), (0, (1, 3)), (1, (1, 3)), (2, (2, 1)), (0, (2, 0)), (1, (1, 1)), (0, (1, 1)), (2, (2, 2)), (0, (2, 2)), (2, (2, 3)), (1, (1, 2)), (0, (2, 2)), (0, (2, 3)), (0, (2, 2)), (3, (1, 3)), (1, (1, 1)), (1, (1, 1)), (0, (2, 2)), (1, (2, 2)), (1, (2, 2)), (1, (1, 3)), (2, (2, 3)), (2, (2, 0)), (0, (2, 2)), (3, (1, 3)), (3, (2, 1)), (3, (1, 2)), (1, (1, 2)), (0, (1, 0)), (3, (2, 0)), (3, (2, 3)), (3, (2, 1)), (0, (2, 2)), (3, (1, 0)), (3, (1, 1)), (2, (2, 3)), (1, (1, 3)), (3, (2, 2)), (2, (1, 3)), (1, (2, 3)), (0, (1, 0)), (0, (1, 0)), (1, (1, 0)), (1, (1, 3)), (1, (1, 2)), (0, (2, 1)), (0, (2, 1)), (1, (1, 0)), (3, (2, 2)), (2, (1, 3)), (0, (1, 3)), (1, (2, 3)), (2, (2, 2)), (3, (2, 3)), (1, (1, 1)), (0, (2, 1)), (0, (2, 1)), (0, (2, 1)), (2, (2, 1)), (2, (2, 0)), (1, (2, 2)), (0, (2, 0)), (0, (1, 3)), (0, (1, 0)), (0, (1, 2)), (2, (2, 3)), (2, (2, 0)), (3, (1, 1)), (2, (2, 0)), (3, (2, 2)), (0, (2, 2)), (0, (1, 2)), (2, (1, 3)), (2, (1, 3)), (1, (2, 0)), (2, (2, 1)), (3, (1, 0)), (2, (2, 3)), (1, (2, 1)), (1, (1, 3)), (0, (2, 3)), (1, (1, 2)), (3, (2, 1)), (0, (1, 1)), (1, (1, 3)), (3, (2, 3)), (1, (2, 0)), (0, (1, 3)), (3, (1, 1)), (0, (1, 1)), (3, (2, 3)), (1, (2, 3)), (1, (1, 2)), (2, (2, 0)), (0, (1, 0)), (3, (1, 0)), (1, (1, 1)), (3, (1, 3)), (0, (1, 2))]\n",
      "Shuffle: [(0, [(2, 1), (1, 3), (2, 0), (1, 1), (2, 2), (2, 2), (2, 3), (2, 2), (2, 2), (2, 2), (1, 0), (2, 2), (1, 0), (1, 0), (2, 1), (2, 1), (1, 3), (2, 1), (2, 1), (2, 1), (2, 0), (1, 3), (1, 0), (1, 2), (2, 2), (1, 2), (2, 3), (1, 1), (1, 3), (1, 1), (1, 0), (1, 2)]), (2, [(1, 0), (2, 1), (2, 2), (2, 3), (2, 3), (2, 0), (2, 3), (1, 3), (1, 3), (2, 2), (2, 1), (2, 0), (2, 3), (2, 0), (2, 0), (1, 3), (1, 3), (2, 1), (2, 3), (2, 0)]), (1, [(1, 3), (1, 1), (1, 2), (1, 1), (1, 1), (2, 2), (2, 2), (1, 3), (1, 2), (1, 3), (2, 3), (1, 0), (1, 3), (1, 2), (1, 0), (2, 3), (1, 1), (2, 2), (2, 0), (2, 1), (1, 3), (1, 2), (1, 3), (2, 0), (2, 3), (1, 2), (1, 1)]), (3, [(1, 3), (1, 3), (2, 1), (1, 2), (2, 0), (2, 3), (2, 1), (1, 0), (1, 1), (2, 2), (2, 2), (2, 3), (1, 1), (2, 2), (1, 0), (2, 1), (2, 3), (1, 1), (2, 3), (1, 0), (1, 3)])]\n",
      "Reduce: [[(2, 0, 1), (1, 0, 3), (2, 0, 0), (1, 0, 1), (2, 0, 2), (2, 0, 2), (2, 0, 3), (2, 0, 2), (2, 0, 2), (2, 0, 2), (1, 0, 0), (2, 0, 2), (1, 0, 0), (1, 0, 0), (2, 0, 1), (2, 0, 1), (1, 0, 3), (2, 0, 1), (2, 0, 1), (2, 0, 1), (2, 0, 0), (1, 0, 3), (1, 0, 0), (1, 0, 2), (2, 0, 2), (1, 0, 2), (2, 0, 3), (1, 0, 1), (1, 0, 3), (1, 0, 1), (1, 0, 0), (1, 0, 2)], [(1, 2, 0), (2, 2, 1), (2, 2, 2), (2, 2, 3), (2, 2, 3), (2, 2, 0), (2, 2, 3), (1, 2, 3), (1, 2, 3), (2, 2, 2), (2, 2, 1), (2, 2, 0), (2, 2, 3), (2, 2, 0), (2, 2, 0), (1, 2, 3), (1, 2, 3), (2, 2, 1), (2, 2, 3), (2, 2, 0)], [(1, 1, 3), (1, 1, 1), (1, 1, 2), (1, 1, 1), (1, 1, 1), (2, 1, 2), (2, 1, 2), (1, 1, 3), (1, 1, 2), (1, 1, 3), (2, 1, 3), (1, 1, 0), (1, 1, 3), (1, 1, 2), (1, 1, 0), (2, 1, 3), (1, 1, 1), (2, 1, 2), (2, 1, 0), (2, 1, 1), (1, 1, 3), (1, 1, 2), (1, 1, 3), (2, 1, 0), (2, 1, 3), (1, 1, 2), (1, 1, 1)], [(1, 3, 3), (1, 3, 3), (2, 3, 1), (1, 3, 2), (2, 3, 0), (2, 3, 3), (2, 3, 1), (1, 3, 0), (1, 3, 1), (2, 3, 2), (2, 3, 2), (2, 3, 3), (1, 3, 1), (2, 3, 2), (1, 3, 0), (2, 3, 1), (2, 3, 3), (1, 3, 1), (2, 3, 3), (1, 3, 0), (1, 3, 3)]]\n"
     ]
    }
   ],
   "source": [
    "import random\n",
    "from typing import List, Tuple as PyTuple, Iterator, NamedTuple\n",
    "\n",
    "# Глобальная переменная для отношений\n",
    "rels = [1, 2]\n",
    "\n",
    "# Определение класса Tuple\n",
    "class CustomTuple:\n",
    "    def __init__(self, data: PyTuple[int, int], rel_id: int):\n",
    "        self.data = data\n",
    "        self.rel_id = rel_id\n",
    "\n",
    "# Генерация случайного кортежа\n",
    "def get_random_tuple() -> CustomTuple:\n",
    "    data = (random.randint(0, 3), random.randint(0, 3))\n",
    "    rel_id = rels[random.randint(0, len(rels) - 1)]\n",
    "    return CustomTuple(data, rel_id)\n",
    "\n",
    "# Чтение записей\n",
    "def RECORDREADER(count: int) -> List[CustomTuple]:\n",
    "    return [get_random_tuple() for _ in range(count)]\n",
    "\n",
    "# Функция MAP\n",
    "def MAP(t: CustomTuple) -> PyTuple[int, PyTuple[int, int]]:\n",
    "    if t.rel_id == rels[0]:\n",
    "        return (t.data[1], (t.rel_id, t.data[0]))\n",
    "    else:\n",
    "        return (t.data[0], (t.rel_id, t.data[1]))\n",
    "\n",
    "# Функция REDUCE\n",
    "def REDUCE(key: int, values: Iterator[PyTuple[int, int]]) -> List[PyTuple[int, int, int]]:\n",
    "    res = []\n",
    "    for v in values:\n",
    "        res.append((v[0], key, v[1]))\n",
    "    return res\n",
    "\n",
    "# Группировка по ключу\n",
    "def group_by_key(iterable: List[PyTuple[int, PyTuple[int, int]]]) -> dict:\n",
    "    grouped = {}\n",
    "    for (k2, v2) in iterable:\n",
    "        grouped[k2] = grouped.get(k2, []) + [v2]\n",
    "    return grouped\n",
    "\n",
    "def main():\n",
    "    # Генерация записей\n",
    "    record_count = 100\n",
    "    records = RECORDREADER(record_count)\n",
    "\n",
    "    # Применение MAP\n",
    "    map_out = list(map(MAP, records))\n",
    "    print(\"MAP:\", map_out)\n",
    "\n",
    "    # Shuffle (группировка по ключу)\n",
    "    shuffle_out = group_by_key(map_out)\n",
    "    print(\"Shuffle:\", list(shuffle_out.items()))\n",
    "\n",
    "    # Применение REDUCE\n",
    "    reduce_out = [REDUCE(k, v) for k, v in shuffle_out.items()]\n",
    "    print(\"Reduce:\", reduce_out)\n",
    "\n",
    "if __name__ == \"__main__\":\n",
    "    main()\n"
   ]
  },
  {
   "cell_type": "markdown",
   "metadata": {
    "id": "kYdlr0YUxE27"
   },
   "source": [
    "### Grouping and Aggregation (Группировка и аггрегация)\n",
    "\n",
    "**The Map Function:** Для каждого кортежа $(a, b, c$) создайте пару $(a, b)$.\n",
    "\n",
    "**The Reduce Function:** Ключ представляет ту или иную группу. Примение аггрегирующую операцию $\\theta$ к списку значений $[b1, b2, . . . , bn]$ ассоциированных с ключом $a$. Возвращайте в выходной поток $(a, x)$, где $x$ результат применения  $\\theta$ к списку. Например, если $\\theta$ это $SUM$, тогда $x = b1 + b2 + · · · + bn$, а если $\\theta$ is $MAX$, тогда $x$ это максимальное из значений $b1, b2, . . . , bn$."
   ]
  },
  {
   "cell_type": "code",
   "execution_count": 38,
   "metadata": {
    "id": "MLPckfEGxico"
   },
   "outputs": [
    {
     "name": "stdout",
     "output_type": "stream",
     "text": [
      "MAP: [(2, 0), (3, 0), (3, 3), (0, 3), (1, 2), (1, 3), (3, 3), (0, 3), (2, 3), (0, 3), (3, 2), (1, 1), (2, 1), (3, 3), (2, 1), (1, 3), (1, 2), (2, 1), (1, 3), (3, 3), (3, 1), (3, 0), (1, 0), (0, 1), (1, 1), (1, 0), (3, 2), (2, 2), (2, 1), (2, 0), (0, 0), (2, 3), (1, 1), (3, 2), (0, 0), (2, 3), (0, 1), (0, 0), (1, 0), (1, 2), (3, 0), (0, 2), (0, 0), (3, 3), (1, 2), (1, 2), (2, 3), (2, 1), (2, 3), (3, 3), (0, 0), (0, 2), (2, 2), (1, 0), (2, 2), (2, 2), (1, 3), (1, 3), (2, 0), (2, 1), (2, 2), (3, 3), (3, 2), (3, 2), (1, 1), (3, 1), (0, 1), (2, 3), (1, 0), (3, 0), (0, 1), (2, 0), (2, 3), (3, 1), (0, 1), (3, 0), (2, 0), (3, 0), (0, 0), (1, 2), (0, 1), (2, 1), (2, 0), (1, 1), (0, 0), (3, 3), (2, 0), (2, 1), (3, 0), (1, 0), (1, 3), (3, 1), (1, 3), (0, 3), (3, 0), (3, 3), (3, 3), (2, 1), (0, 2), (2, 1)]\n",
      "Shuffle: [(2, [0, 3, 1, 1, 1, 2, 1, 0, 3, 3, 3, 1, 3, 2, 2, 2, 0, 1, 2, 3, 0, 3, 0, 1, 0, 0, 1, 1, 1]), (3, [0, 3, 3, 2, 3, 3, 1, 0, 2, 2, 0, 3, 3, 3, 2, 2, 1, 0, 1, 0, 0, 3, 0, 1, 0, 3, 3]), (0, [3, 3, 3, 1, 0, 0, 1, 0, 2, 0, 0, 2, 1, 1, 1, 0, 1, 0, 3, 2]), (1, [2, 3, 1, 3, 2, 3, 0, 1, 0, 1, 0, 2, 2, 2, 0, 3, 3, 1, 0, 2, 1, 0, 3, 3])]\n",
      "Reduce: [(2, 41), (3, 44), (0, 24), (1, 38)]\n"
     ]
    }
   ],
   "source": [
    "import random\n",
    "from typing import List, Tuple, Iterator, Dict, NamedTuple\n",
    "\n",
    "# Генерация случайного кортежа\n",
    "def get_random_tup() -> Tuple[int, int, int]:\n",
    "    return (random.randint(0, 3), random.randint(0, 3), random.randint(0, 3))\n",
    "\n",
    "# Чтение записей\n",
    "def RECORDREADER(count: int) -> List[Tuple[int, int, int]]:\n",
    "    return [get_random_tup() for _ in range(count)]\n",
    "\n",
    "# Функция MAP\n",
    "def MAP(t: Tuple[int, int, int]) -> Tuple[int, int]:\n",
    "    return (t[0], t[1])\n",
    "\n",
    "# Суммирование значений\n",
    "def tetta(values: List[int]) -> int:\n",
    "    return sum(values)\n",
    "\n",
    "# Функция REDUCE\n",
    "def REDUCE(key: int, values: Iterator[int]) -> Tuple[int, int]:\n",
    "    x = tetta(list(values))  # Преобразуем в список для суммирования\n",
    "    return (key, x)\n",
    "\n",
    "# Группировка по ключу\n",
    "def group_by_key(iterable: List[Tuple[int, int]]) -> Dict[int, List[int]]:\n",
    "    grouped = {}\n",
    "    for (k2, v2) in iterable:\n",
    "        grouped[k2] = grouped.get(k2, []) + [v2]\n",
    "    return grouped\n",
    "\n",
    "def main():\n",
    "    # Генерация записей\n",
    "    record_count = 100\n",
    "    records = RECORDREADER(record_count)\n",
    "\n",
    "    # Применение MAP\n",
    "    map_out = list(map(MAP, records))\n",
    "    print(\"MAP:\", map_out)\n",
    "\n",
    "    # Shuffle (группировка по ключу)\n",
    "    shuffle_out = group_by_key(map_out)\n",
    "    print(\"Shuffle:\", list(shuffle_out.items()))\n",
    "\n",
    "    # Применение REDUCE\n",
    "    reduce_out = [REDUCE(k, v) for k, v in shuffle_out.items()]\n",
    "    print(\"Reduce:\", reduce_out)\n",
    "\n",
    "if __name__ == \"__main__\":\n",
    "    main()\n"
   ]
  },
  {
   "cell_type": "markdown",
   "metadata": {
    "id": "03IffTEOJgOb"
   },
   "source": [
    "# "
   ]
  },
  {
   "cell_type": "markdown",
   "metadata": {
    "id": "IIrRgvG4RIS4"
   },
   "source": [
    "### Matrix-Vector multiplication\n",
    "\n",
    "Случай, когда вектор не помещается в памяти Map задачи\n"
   ]
  },
  {
   "cell_type": "markdown",
   "metadata": {
    "id": "GIo2t7nNxvA9"
   },
   "source": [
    "## Matrix multiplication (Перемножение матриц)\n",
    "\n",
    "Если у нас есть матрица $M$ с элементами $m_{ij}$ в строке $i$ и столбце $j$, и матрица $N$ с элементами $n_{jk}$ в строке $j$ и столбце $k$, тогда их произведение $P = MN$ есть матрица $P$ с элементами $p_{ik}$ в строке $i$ и столбце $k$, где\n",
    "\n",
    "$$p_{ik} =\\sum_{j} m_{ij}n_{jk}$$\n",
    "\n",
    "Необходимым требованием является одинаковое количество столбцов в $M$ и строк в $N$, чтобы операция суммирования по  $j$ была осмысленной. Мы можем размышлять о матрице, как об отношении с тремя атрибутами: номер строки, номер столбца, само значение. Таким образом матрица $M$ предстваляется как отношение $ M(I, J, V )$, с кортежами $(i, j, m_{ij})$, и, аналогично, матрица $N$ представляется как отношение $N(J, K, W)$, с кортежами $(j, k, n_{jk})$. Так как большие матрицы как правило разреженные (большинство значений равно 0), и так как мы можем нулевыми значениями пренебречь (не хранить), такое реляционное представление достаточно эффективно для больших матриц. Однако, возможно, что координаты $i$, $j$, и $k$ неявно закодированы в смещение позиции элемента относительно начала файла, вместо явного хранения. Тогда, функция Map (или Reader) должна быть разработана таким образом, чтобы реконструировать компоненты $I$, $J$, и $K$ кортежей из смещения.\n",
    "\n",
    "Произведение $MN$ это фактически join, за которым следуют группировка по ключу и аггрегация. Таким образом join отношений $M(I, J, V )$ и $N(J, K, W)$, имеющих общим только атрибут $J$, создаст кортежи $(i, j, k, v, w)$ из каждого кортежа $(i, j, v) \\in M$ и кортежа $(j, k, w) \\in N$. Такой 5 компонентный кортеж представляет пару элементов матрицы $(m_{ij} , n_{jk})$. Что нам хотелось бы получить на самом деле, это произведение этих элементов, то есть, 4 компонентный кортеж$(i, j, k, v \\times w)$, так как он представляет произведение $m_{ij}n_{jk}$. Мы представляем отношение как результат одной MapReduce операции, в которой мы можем произвести группировку и аггрегацию, с $I$ и $K$  атрибутами, по которым идёт группировка, и суммой  $V \\times W$. \n",
    "\n",
    "\n",
    "\n"
   ]
  },
  {
   "cell_type": "markdown",
   "metadata": {
    "id": "sMspsOT0ZB35"
   },
   "source": [
    "Реализуйте перемножение матриц с использованием модельного кода MapReduce для одной машины в случае, когда одна матрица хранится в памяти, а другая генерируется RECORDREADER-ом."
   ]
  },
  {
   "cell_type": "code",
   "execution_count": 39,
   "metadata": {
    "id": "psP1XekbsEjS"
   },
   "outputs": [],
   "source": [
    "import numpy as np\n",
    "# MapReduce model\n",
    "def flatten(nested_iterable):\n",
    "    for iterable in nested_iterable:\n",
    "        for element in iterable:\n",
    "            yield element\n",
    "\n",
    "def groupbykey(iterable):\n",
    "    t = {}\n",
    "    for (k2, v2) in iterable:\n",
    "        t[k2] = t.get(k2, []) + [v2]\n",
    "    return t.items()\n",
    "\n",
    "def MapReduce(RECORDREADER, MAP, REDUCE):\n",
    "    return flatten(map(lambda x: REDUCE(*x), groupbykey(flatten(map(lambda x: MAP(*x), RECORDREADER())))))\n",
    "\n",
    "# Dimensions\n",
    "I = 2  # Number of rows in small_mat\n",
    "J = 3  # Number of columns in small_mat / rows in big_mat\n",
    "K = 4 * 10  # Number of columns in big_mat\n",
    "\n",
    "# Generate random matrices\n",
    "small_mat = np.random.rand(I, J)  # Small matrix (I x J)\n",
    "big_mat = np.random.rand(J, K)     # Big matrix (J x K)\n",
    "\n",
    "def RECORDREADER():\n",
    "    for j in range(big_mat.shape[0]):\n",
    "        for k in range(big_mat.shape[1]):\n",
    "            yield ((j, k), big_mat[j, k])\n",
    "\n",
    "def MAP(k1, v1):\n",
    "    (j, k) = k1\n",
    "    w = v1\n",
    "    # Yielding the contributions to the result from the small matrix\n",
    "    for i in range(I):\n",
    "        yield ((i, k), small_mat[i, j] * w)\n",
    "\n",
    "def REDUCE(key, values):\n",
    "    (i, k) = key\n",
    "    # Summing up the contributions for each (i, k)\n",
    "    yield (key, sum(values))"
   ]
  },
  {
   "cell_type": "markdown",
   "metadata": {
    "id": "rnt306LHhHrm"
   },
   "source": [
    "Проверьте своё решение"
   ]
  },
  {
   "cell_type": "code",
   "execution_count": 40,
   "metadata": {
    "colab": {
     "base_uri": "https://localhost:8080/",
     "height": 34
    },
    "id": "Ewy_ZNYqW5a2",
    "outputId": "9ce264f2-9412-44e2-9b0a-cc780573ab3a"
   },
   "outputs": [
    {
     "name": "stdout",
     "output_type": "stream",
     "text": [
      "True\n"
     ]
    }
   ],
   "source": [
    "# CHECK THE SOLUTION\n",
    "reference_solution = np.matmul(small_mat, big_mat) \n",
    "solution = MapReduce(RECORDREADER, MAP, REDUCE)\n",
    "\n",
    "def asmatrix(reduce_output):\n",
    "    reduce_output = list(reduce_output)\n",
    "    I = max(i for ((i, k), vw) in reduce_output) + 1\n",
    "    K = max(k for ((i, k), vw) in reduce_output) + 1\n",
    "    mat = np.empty(shape=(I, K))\n",
    "    for ((i, k), vw) in reduce_output:\n",
    "        mat[i, k] = vw\n",
    "    return mat\n",
    "\n",
    "# Verify if the solution matches the reference\n",
    "print(np.allclose(reference_solution, asmatrix(solution)))  # should return true\n"
   ]
  },
  {
   "cell_type": "code",
   "execution_count": 41,
   "metadata": {
    "colab": {
     "base_uri": "https://localhost:8080/",
     "height": 34
    },
    "id": "TK7v4CEcfxqf",
    "outputId": "2c865d0a-4065-4e6b-c83f-5508ed5eb4fa"
   },
   "outputs": [
    {
     "data": {
      "text/plain": [
       "1"
      ]
     },
     "execution_count": 41,
     "metadata": {},
     "output_type": "execute_result"
    }
   ],
   "source": [
    "reduce_output = list(MapReduce(RECORDREADER, MAP, REDUCE))\n",
    "max(i for ((i,k), vw) in reduce_output)"
   ]
  },
  {
   "cell_type": "markdown",
   "metadata": {
    "id": "i4yyg3kOZqJJ"
   },
   "source": [
    "Реализуйте перемножение матриц  с использованием модельного кода MapReduce для одной машины в случае, когда обе матрицы генерируются в RECORDREADER. Например, сначала одна, а потом другая."
   ]
  },
  {
   "cell_type": "code",
   "execution_count": 42,
   "metadata": {
    "id": "3B7rIAJCaHZq"
   },
   "outputs": [],
   "source": [
    "import numpy as np\n",
    "\n",
    "# MapReduce model\n",
    "def flatten(nested_iterable):\n",
    "    for iterable in nested_iterable:\n",
    "        for element in iterable:\n",
    "            yield element\n",
    "\n",
    "def groupbykey(iterable):\n",
    "    t = {}\n",
    "    for (k2, v2) in iterable:\n",
    "        t[k2] = t.get(k2, []) + [v2]\n",
    "    return t.items()\n",
    "\n",
    "def MapReduce(RECORDREADER, MAP, REDUCE):\n",
    "    return flatten(map(lambda x: REDUCE(*x), groupbykey(flatten(map(lambda x: MAP(*x), RECORDREADER())))))\n",
    "\n",
    "# Dimensions\n",
    "I = 2  # Number of rows in small_mat\n",
    "J = 3  # Number of columns in small_mat / rows in big_mat\n",
    "K = 4 * 10  # Number of columns in big_mat\n",
    "\n",
    "# Generate random matrices\n",
    "small_mat = np.random.rand(I, J)  # Small matrix (I x J)\n",
    "big_mat = np.random.rand(J, K)     # Big matrix (J x K)\n",
    "\n",
    "def RECORDREADER():\n",
    "    # First yield the small matrix\n",
    "    for j in range(small_mat.shape[0]):\n",
    "        for i in range(small_mat.shape[1]):\n",
    "            yield (('small', j, i), small_mat[j, i])\n",
    "    \n",
    "    # Then yield the big matrix\n",
    "    for j in range(big_mat.shape[0]):\n",
    "        for k in range(big_mat.shape[1]):\n",
    "            yield (('big', j, k), big_mat[j, k])\n",
    "\n",
    "def MAP(k1, v1):\n",
    "    if k1[0] == 'small':\n",
    "        j, i = k1[1], k1[2]\n",
    "        # For each element in the small matrix, emit contributions for each column of the big matrix\n",
    "        for k in range(big_mat.shape[1]):\n",
    "            yield ((j, k), v1 * big_mat[i, k])  # Emit key as (row_index_of_small_matrix, column_index_of_big_matrix)\n",
    "    elif k1[0] == 'big':\n",
    "        j, k = k1[1], k1[2]\n",
    "        # For big matrix, we do not need to emit anything here\n",
    "        pass\n",
    "\n",
    "def REDUCE(key, values):\n",
    "    (i, k) = key\n",
    "    # Summing up the contributions for each (i, k)\n",
    "    yield (key, sum(values))\n",
    "\n",
    "# CHECK THE SOLUTION\n",
    "reference_solution = np.matmul(small_mat, big_mat)\n",
    "solution = MapReduce(RECORDREADER, MAP, REDUCE)\n"
   ]
  },
  {
   "cell_type": "code",
   "execution_count": 43,
   "metadata": {},
   "outputs": [],
   "source": [
    "def asmatrix(reduce_output):\n",
    "    reduce_output = list(reduce_output)\n",
    "    I = max(i for ((i, k), vw) in reduce_output) + 1\n",
    "    K = max(k for ((i, k), vw) in reduce_output) + 1\n",
    "    mat = np.zeros((I, K))  # Initialize with zeros\n",
    "    for ((i, k), vw) in reduce_output:\n",
    "        mat[i, k] += vw  # Use += to accumulate values\n",
    "    return mat\n"
   ]
  },
  {
   "cell_type": "code",
   "execution_count": 44,
   "metadata": {},
   "outputs": [
    {
     "name": "stdout",
     "output_type": "stream",
     "text": [
      "True\n"
     ]
    },
    {
     "data": {
      "text/plain": [
       "1"
      ]
     },
     "execution_count": 44,
     "metadata": {},
     "output_type": "execute_result"
    }
   ],
   "source": [
    "# Verify if the solution matches the reference\n",
    "print(np.allclose(reference_solution, asmatrix(solution)))  # should return true\n",
    "reduce_output = list(MapReduce(RECORDREADER, MAP, REDUCE))\n",
    "max(i for ((i,k), vw) in reduce_output)"
   ]
  },
  {
   "cell_type": "markdown",
   "metadata": {
    "id": "mXyzQi1DaIwo"
   },
   "source": [
    "Реализуйте перемножение матриц с использованием модельного кода MapReduce Distributed, когда каждая матрица генерируется в своём RECORDREADER. "
   ]
  },
  {
   "cell_type": "code",
   "execution_count": 45,
   "metadata": {
    "id": "TDM_s78Rb5eR"
   },
   "outputs": [
    {
     "name": "stdout",
     "output_type": "stream",
     "text": [
      "126 key-value pairs were sent over a network.\n",
      "[(0, [((0, 0), 0.015389429445823034), ((0, 1), 0.036898521172696805), ((0, 2), 0.04316493209409391), ((0, 3), 0.02437329621795089), ((0, 4), 0.03415714638246207), ((0, 5), 0.007133488057056619), ((0, 6), 0.019162468447168377), ((0, 7), 0.0797067840787825), ((0, 8), 0.031457121330428564), ((0, 9), 0.045623307833974135), ((0, 10), 0.02147379296416174), ((0, 11), 0.03644718158569349), ((0, 12), 0.06450593403406302), ((0, 13), 0.005598262400959731), ((0, 14), 0.0289555047757694), ((0, 15), 0.07050958926506035), ((0, 16), 0.02752328179667658), ((0, 17), 0.06974589752032252), ((0, 18), 0.07901765192101934), ((0, 19), 0.0636633375507631), ((0, 20), 0.03289432894894885), ((0, 21), 0.034456460457243474), ((0, 22), 0.08295971828416247), ((0, 23), 0.06396460994377069), ((0, 24), 0.08381654078878188), ((0, 25), 0.013123405732564701), ((0, 26), 0.01460692516401438), ((0, 27), 0.06039711901613763), ((0, 28), 0.006641752060098471), ((0, 29), 0.03757581516123174), ((0, 30), 0.0678405298221686), ((0, 31), 0.001446046042962927), ((0, 32), 0.048352897365215385), ((0, 33), 0.04592178192412907), ((0, 34), 0.08074744738578757), ((0, 35), 0.05524605999304592), ((0, 36), 0.06631426703730059), ((0, 37), 0.027008385120149414), ((0, 38), 0.0684951056841951), ((0, 39), 0.0008294339273481339), ((1, 0), 0.17512533463338323), ((1, 1), 0.4198898919933233), ((1, 2), 0.4911990534812959), ((1, 3), 0.27735801845764585), ((1, 4), 0.3886941820298404), ((1, 5), 0.08117614025218804), ((1, 6), 0.2180609561274439), ((1, 7), 0.9070301978047821), ((1, 8), 0.35796901496497413), ((1, 9), 0.5191743514360858), ((1, 10), 0.24436287205680066), ((1, 11), 0.4147538343840725), ((1, 12), 0.7340508186689362), ((1, 13), 0.0637059079925577), ((1, 14), 0.32950165444317103), ((1, 15), 0.8023699292021232), ((1, 16), 0.31320354999646405), ((1, 17), 0.7936794333767393), ((1, 18), 0.8991881592055114), ((1, 19), 0.7244624195916162), ((1, 20), 0.37432384254432455), ((1, 21), 0.39210025226078077), ((1, 22), 0.9440472420859245), ((1, 23), 0.7278907746730695), ((1, 24), 0.9537975273951447), ((1, 25), 0.14933892309235913), ((1, 26), 0.166220759926035), ((1, 27), 0.6872942051444396), ((1, 28), 0.07558038822501012), ((1, 29), 0.42759721712873006), ((1, 30), 0.7719971379470404), ((1, 31), 0.016455405189689857), ((1, 32), 0.5502359500322668), ((1, 33), 0.5225708629897979), ((1, 34), 0.9188725153202905), ((1, 35), 0.628677286413896), ((1, 36), 0.754628899450646), ((1, 37), 0.30734423902617264), ((1, 38), 0.7794459402099105), ((1, 39), 0.009438614640944209), ((0, 0), 0.05220042415839105), ((0, 1), 0.5146382260686749), ((0, 2), 0.6276734860751868), ((0, 3), 0.9074257371036449), ((0, 4), 0.3622149242809782), ((0, 5), 0.13675261114041448), ((0, 6), 0.6160614597023827), ((0, 7), 0.17152532118629923), ((0, 8), 0.5180879077443636), ((0, 9), 0.41962633704498914), ((0, 10), 0.8393440035062999), ((0, 11), 0.12193544343126408), ((0, 12), 0.3526082051880008), ((0, 13), 0.9157641119416459), ((0, 14), 0.034778532356250134), ((0, 15), 0.8581004415827296), ((0, 16), 0.5962471322033991), ((0, 17), 0.8670333167975177), ((0, 18), 0.5698926051704435), ((0, 19), 0.827059551812525), ((0, 20), 0.8399100105529962), ((0, 21), 0.8179752013971743), ((0, 22), 0.8949522581071528), ((0, 23), 0.3901303051177085), ((0, 24), 0.01229067312229452), ((0, 25), 0.7514794217499765), ((0, 26), 0.01571446517784363), ((0, 27), 0.5735932135140285), ((0, 28), 0.4211558441152437), ((0, 29), 0.23754465447013126), ((0, 30), 0.42103161672490835), ((0, 31), 0.3089479144616007), ((0, 32), 0.10069703971783561), ((0, 33), 0.19633104960389086), ((0, 34), 0.25320682982304665), ((0, 35), 0.8749852241506534), ((0, 36), 0.6828278223971417), ((0, 37), 0.7161715173226545), ((0, 38), 0.7559295332949382), ((0, 39), 0.8332084412590988), ((1, 0), 0.024231797651122954), ((1, 1), 0.238898621202571), ((1, 2), 0.2913703700835535), ((1, 3), 0.42123329837698315), ((1, 4), 0.16814267111625741), ((1, 5), 0.06348150718780222), ((1, 6), 0.28597998719065776), ((1, 7), 0.07962323950507887), ((1, 8), 0.24049998727715374), ((1, 9), 0.1947934456912181), ((1, 10), 0.38962928712866973), ((1, 11), 0.056603275535863244), ((1, 12), 0.16368316572132305), ((1, 13), 0.4251040296032384), ((1, 14), 0.016144435073986208), ((1, 15), 0.39833615530937205), ((1, 16), 0.2767820394289388), ((1, 17), 0.40248285771912024), ((1, 18), 0.2645480858442729), ((1, 19), 0.38392675975465224), ((1, 20), 0.3898920315114172), ((1, 21), 0.37970974150995873), ((1, 22), 0.4154430232226779), ((1, 23), 0.18110118382368626), ((1, 24), 0.005705415404132534), ((1, 25), 0.3488419410458212), ((1, 26), 0.0072947633381234495), ((1, 27), 0.26626593381224567), ((1, 28), 0.19550345344364387), ((1, 29), 0.1102698702746242), ((1, 30), 0.19544578623051548), ((1, 31), 0.14341575703013787), ((1, 32), 0.04674426175361738), ((1, 33), 0.0911382300687555), ((1, 34), 0.11754036031464132), ((1, 35), 0.40617418806802674), ((1, 36), 0.3169733941754708), ((1, 37), 0.3324517677979565), ((1, 38), 0.3509077135796849), ((1, 39), 0.38678111673068744)]), (1, [((0, 0), 0.024541243253501283), ((0, 1), 0.08518039681667343), ((0, 2), 0.1994971026809556), ((0, 3), 0.12349641249148868), ((0, 4), 0.10004313453542887), ((0, 5), 0.1364850924150301), ((0, 6), 0.3059113556180995), ((0, 7), 0.3297942783889572), ((0, 8), 0.14405225122172471), ((0, 9), 0.39688060815975346), ((0, 10), 0.013685401680683785), ((0, 11), 0.20310574377772944), ((0, 12), 0.18146410101953492), ((0, 13), 0.3856727227514972), ((0, 14), 0.06546936479918701), ((0, 15), 0.08387014512456373), ((0, 16), 0.19983090236541012), ((0, 17), 0.17434744978752628), ((0, 18), 0.0180085179230597), ((0, 19), 0.3010197052049895), ((0, 20), 0.28902398771958276), ((0, 21), 0.1956969311464584), ((0, 22), 0.017438403858881332), ((0, 23), 0.17683961357545688), ((0, 24), 0.015235198917104308), ((0, 25), 0.1989540535340917), ((0, 26), 0.3733297776143975), ((0, 27), 0.2524193864213362), ((0, 28), 0.18762076136797617), ((0, 29), 0.3094640858289864), ((0, 30), 0.33533665762021203), ((0, 31), 0.3142764569304124), ((0, 32), 0.2227483446151798), ((0, 33), 0.07113535806986325), ((0, 34), 0.2908675354783141), ((0, 35), 0.05388070019846337), ((0, 36), 0.19844049056367735), ((0, 37), 0.16888523176289796), ((0, 38), 0.10402315764182199), ((0, 39), 0.053230037651429134), ((1, 0), 0.046432216812237886), ((1, 1), 0.16116195142558495), ((1, 2), 0.37745001870570905), ((1, 3), 0.2336561412600916), ((1, 4), 0.1892823629732852), ((1, 5), 0.25823082136431136), ((1, 6), 0.5787865856127199), ((1, 7), 0.623973255120516), ((1, 8), 0.27254794273977195), ((1, 9), 0.7509010956084053), ((1, 10), 0.025892882908832092), ((1, 11), 0.38427759480167756), ((1, 12), 0.34333144393468257), ((1, 13), 0.7296956921206001), ((1, 14), 0.12386853060028438), ((1, 15), 0.15868294536960775), ((1, 16), 0.3780815702192305), ((1, 17), 0.3298666862788307), ((1, 18), 0.03407225135390332), ((1, 19), 0.5695315462406296), ((1, 20), 0.5468355585375089), ((1, 21), 0.3702600655810524), ((1, 22), 0.0329935912566053), ((1, 23), 0.3345818789093545), ((1, 24), 0.02882511093628617), ((1, 25), 0.37642256563552734), ((1, 26), 0.7063427470889501), ((1, 27), 0.47757937757515195), ((1, 28), 0.35497989161865834), ((1, 29), 0.5855083778920801), ((1, 30), 0.6344594783107186), ((1, 31), 0.5946134202101983), ((1, 32), 0.42144154331967365), ((1, 33), 0.13458863248278316), ((1, 34), 0.5503235647624958), ((1, 35), 0.10194269001646075), ((1, 36), 0.37545090063295605), ((1, 37), 0.3195321286944642), ((1, 38), 0.19681259662464665), ((1, 39), 0.10071163158378799)])]\n",
      "Join Part: (0, [((0, 0), 0.015389429445823034), ((0, 1), 0.036898521172696805), ((0, 2), 0.04316493209409391), ((0, 3), 0.02437329621795089), ((0, 4), 0.03415714638246207), ((0, 5), 0.007133488057056619), ((0, 6), 0.019162468447168377), ((0, 7), 0.0797067840787825), ((0, 8), 0.031457121330428564), ((0, 9), 0.045623307833974135), ((0, 10), 0.02147379296416174), ((0, 11), 0.03644718158569349), ((0, 12), 0.06450593403406302), ((0, 13), 0.005598262400959731), ((0, 14), 0.0289555047757694), ((0, 15), 0.07050958926506035), ((0, 16), 0.02752328179667658), ((0, 17), 0.06974589752032252), ((0, 18), 0.07901765192101934), ((0, 19), 0.0636633375507631), ((0, 20), 0.03289432894894885), ((0, 21), 0.034456460457243474), ((0, 22), 0.08295971828416247), ((0, 23), 0.06396460994377069), ((0, 24), 0.08381654078878188), ((0, 25), 0.013123405732564701), ((0, 26), 0.01460692516401438), ((0, 27), 0.06039711901613763), ((0, 28), 0.006641752060098471), ((0, 29), 0.03757581516123174), ((0, 30), 0.0678405298221686), ((0, 31), 0.001446046042962927), ((0, 32), 0.048352897365215385), ((0, 33), 0.04592178192412907), ((0, 34), 0.08074744738578757), ((0, 35), 0.05524605999304592), ((0, 36), 0.06631426703730059), ((0, 37), 0.027008385120149414), ((0, 38), 0.0684951056841951), ((0, 39), 0.0008294339273481339), ((1, 0), 0.17512533463338323), ((1, 1), 0.4198898919933233), ((1, 2), 0.4911990534812959), ((1, 3), 0.27735801845764585), ((1, 4), 0.3886941820298404), ((1, 5), 0.08117614025218804), ((1, 6), 0.2180609561274439), ((1, 7), 0.9070301978047821), ((1, 8), 0.35796901496497413), ((1, 9), 0.5191743514360858), ((1, 10), 0.24436287205680066), ((1, 11), 0.4147538343840725), ((1, 12), 0.7340508186689362), ((1, 13), 0.0637059079925577), ((1, 14), 0.32950165444317103), ((1, 15), 0.8023699292021232), ((1, 16), 0.31320354999646405), ((1, 17), 0.7936794333767393), ((1, 18), 0.8991881592055114), ((1, 19), 0.7244624195916162), ((1, 20), 0.37432384254432455), ((1, 21), 0.39210025226078077), ((1, 22), 0.9440472420859245), ((1, 23), 0.7278907746730695), ((1, 24), 0.9537975273951447), ((1, 25), 0.14933892309235913), ((1, 26), 0.166220759926035), ((1, 27), 0.6872942051444396), ((1, 28), 0.07558038822501012), ((1, 29), 0.42759721712873006), ((1, 30), 0.7719971379470404), ((1, 31), 0.016455405189689857), ((1, 32), 0.5502359500322668), ((1, 33), 0.5225708629897979), ((1, 34), 0.9188725153202905), ((1, 35), 0.628677286413896), ((1, 36), 0.754628899450646), ((1, 37), 0.30734423902617264), ((1, 38), 0.7794459402099105), ((1, 39), 0.009438614640944209), ((0, 0), 0.05220042415839105), ((0, 1), 0.5146382260686749), ((0, 2), 0.6276734860751868), ((0, 3), 0.9074257371036449), ((0, 4), 0.3622149242809782), ((0, 5), 0.13675261114041448), ((0, 6), 0.6160614597023827), ((0, 7), 0.17152532118629923), ((0, 8), 0.5180879077443636), ((0, 9), 0.41962633704498914), ((0, 10), 0.8393440035062999), ((0, 11), 0.12193544343126408), ((0, 12), 0.3526082051880008), ((0, 13), 0.9157641119416459), ((0, 14), 0.034778532356250134), ((0, 15), 0.8581004415827296), ((0, 16), 0.5962471322033991), ((0, 17), 0.8670333167975177), ((0, 18), 0.5698926051704435), ((0, 19), 0.827059551812525), ((0, 20), 0.8399100105529962), ((0, 21), 0.8179752013971743), ((0, 22), 0.8949522581071528), ((0, 23), 0.3901303051177085), ((0, 24), 0.01229067312229452), ((0, 25), 0.7514794217499765), ((0, 26), 0.01571446517784363), ((0, 27), 0.5735932135140285), ((0, 28), 0.4211558441152437), ((0, 29), 0.23754465447013126), ((0, 30), 0.42103161672490835), ((0, 31), 0.3089479144616007), ((0, 32), 0.10069703971783561), ((0, 33), 0.19633104960389086), ((0, 34), 0.25320682982304665), ((0, 35), 0.8749852241506534), ((0, 36), 0.6828278223971417), ((0, 37), 0.7161715173226545), ((0, 38), 0.7559295332949382), ((0, 39), 0.8332084412590988), ((1, 0), 0.024231797651122954), ((1, 1), 0.238898621202571), ((1, 2), 0.2913703700835535), ((1, 3), 0.42123329837698315), ((1, 4), 0.16814267111625741), ((1, 5), 0.06348150718780222), ((1, 6), 0.28597998719065776), ((1, 7), 0.07962323950507887), ((1, 8), 0.24049998727715374), ((1, 9), 0.1947934456912181), ((1, 10), 0.38962928712866973), ((1, 11), 0.056603275535863244), ((1, 12), 0.16368316572132305), ((1, 13), 0.4251040296032384), ((1, 14), 0.016144435073986208), ((1, 15), 0.39833615530937205), ((1, 16), 0.2767820394289388), ((1, 17), 0.40248285771912024), ((1, 18), 0.2645480858442729), ((1, 19), 0.38392675975465224), ((1, 20), 0.3898920315114172), ((1, 21), 0.37970974150995873), ((1, 22), 0.4154430232226779), ((1, 23), 0.18110118382368626), ((1, 24), 0.005705415404132534), ((1, 25), 0.3488419410458212), ((1, 26), 0.0072947633381234495), ((1, 27), 0.26626593381224567), ((1, 28), 0.19550345344364387), ((1, 29), 0.1102698702746242), ((1, 30), 0.19544578623051548), ((1, 31), 0.14341575703013787), ((1, 32), 0.04674426175361738), ((1, 33), 0.0911382300687555), ((1, 34), 0.11754036031464132), ((1, 35), 0.40617418806802674), ((1, 36), 0.3169733941754708), ((1, 37), 0.3324517677979565), ((1, 38), 0.3509077135796849), ((1, 39), 0.38678111673068744)])\n",
      "Join Part: (1, [((0, 0), 0.024541243253501283), ((0, 1), 0.08518039681667343), ((0, 2), 0.1994971026809556), ((0, 3), 0.12349641249148868), ((0, 4), 0.10004313453542887), ((0, 5), 0.1364850924150301), ((0, 6), 0.3059113556180995), ((0, 7), 0.3297942783889572), ((0, 8), 0.14405225122172471), ((0, 9), 0.39688060815975346), ((0, 10), 0.013685401680683785), ((0, 11), 0.20310574377772944), ((0, 12), 0.18146410101953492), ((0, 13), 0.3856727227514972), ((0, 14), 0.06546936479918701), ((0, 15), 0.08387014512456373), ((0, 16), 0.19983090236541012), ((0, 17), 0.17434744978752628), ((0, 18), 0.0180085179230597), ((0, 19), 0.3010197052049895), ((0, 20), 0.28902398771958276), ((0, 21), 0.1956969311464584), ((0, 22), 0.017438403858881332), ((0, 23), 0.17683961357545688), ((0, 24), 0.015235198917104308), ((0, 25), 0.1989540535340917), ((0, 26), 0.3733297776143975), ((0, 27), 0.2524193864213362), ((0, 28), 0.18762076136797617), ((0, 29), 0.3094640858289864), ((0, 30), 0.33533665762021203), ((0, 31), 0.3142764569304124), ((0, 32), 0.2227483446151798), ((0, 33), 0.07113535806986325), ((0, 34), 0.2908675354783141), ((0, 35), 0.05388070019846337), ((0, 36), 0.19844049056367735), ((0, 37), 0.16888523176289796), ((0, 38), 0.10402315764182199), ((0, 39), 0.053230037651429134), ((1, 0), 0.046432216812237886), ((1, 1), 0.16116195142558495), ((1, 2), 0.37745001870570905), ((1, 3), 0.2336561412600916), ((1, 4), 0.1892823629732852), ((1, 5), 0.25823082136431136), ((1, 6), 0.5787865856127199), ((1, 7), 0.623973255120516), ((1, 8), 0.27254794273977195), ((1, 9), 0.7509010956084053), ((1, 10), 0.025892882908832092), ((1, 11), 0.38427759480167756), ((1, 12), 0.34333144393468257), ((1, 13), 0.7296956921206001), ((1, 14), 0.12386853060028438), ((1, 15), 0.15868294536960775), ((1, 16), 0.3780815702192305), ((1, 17), 0.3298666862788307), ((1, 18), 0.03407225135390332), ((1, 19), 0.5695315462406296), ((1, 20), 0.5468355585375089), ((1, 21), 0.3702600655810524), ((1, 22), 0.0329935912566053), ((1, 23), 0.3345818789093545), ((1, 24), 0.02882511093628617), ((1, 25), 0.37642256563552734), ((1, 26), 0.7063427470889501), ((1, 27), 0.47757937757515195), ((1, 28), 0.35497989161865834), ((1, 29), 0.5855083778920801), ((1, 30), 0.6344594783107186), ((1, 31), 0.5946134202101983), ((1, 32), 0.42144154331967365), ((1, 33), 0.13458863248278316), ((1, 34), 0.5503235647624958), ((1, 35), 0.10194269001646075), ((1, 36), 0.37545090063295605), ((1, 37), 0.3195321286944642), ((1, 38), 0.19681259662464665), ((1, 39), 0.10071163158378799)])\n",
      "240 key-value pairs were sent over a network.\n",
      "[(0, [((0, 1), 0.6367171440580451), ((0, 2), 0.8703355208502364), ((0, 4), 0.49641520519886917), ((0, 5), 0.28037119161250124), ((0, 8), 0.6935972802965169), ((0, 9), 0.8621302530387167), ((0, 11), 0.36148836879468704), ((0, 12), 0.5985782402415987), ((0, 15), 1.0124801759723536), ((0, 16), 0.8236013163654858), ((0, 18), 0.6669187750145226), ((0, 19), 1.1917425945682776), ((0, 22), 0.9953503802501966), ((0, 23), 0.6309345286369361), ((0, 25), 0.9635568810166328), ((0, 26), 0.4036511679562555), ((0, 29), 0.5845845554603494), ((0, 32), 0.3717982816982308), ((0, 33), 0.31338818959788317), ((0, 36), 0.9475825799981197), ((0, 39), 0.887267912837876), ((1, 0), 0.24578934909674408), ((1, 1), 0.8199504646214794), ((1, 3), 0.9322474580947205), ((1, 4), 0.746119216119383), ((1, 7), 1.610626692430377), ((1, 10), 0.6598850420943024), ((1, 11), 0.8556347047216133), ((1, 14), 0.4695146201174416), ((1, 17), 1.5260289773746902), ((1, 18), 1.1978084964036877), ((1, 21), 1.1420700593517918), ((1, 24), 0.9883280537355633), ((1, 25), 0.8746034297737078), ((1, 27), 1.4311395165318372), ((1, 28), 0.6260637332873122), ((1, 31), 0.7544845824300259), ((1, 32), 1.0184217551055577), ((1, 34), 1.5867364403974276), ((1, 35), 1.1367941644983837), ((1, 38), 1.327166250414242), ((1, 39), 0.4969313629554196)]), (1, [((0, 0), 0.09213109685771537), ((0, 3), 1.0552954458130845), ((0, 6), 0.9411352837676505), ((0, 7), 0.5810263836540389), ((0, 10), 0.8745031981511454), ((0, 13), 1.307035097094103), ((0, 14), 0.12920340193120655), ((0, 17), 1.1111266641053665), ((0, 20), 1.1618283272215277), ((0, 21), 1.0481285930008761), ((0, 24), 0.11134241282818072), ((0, 27), 0.8864097189515023), ((0, 28), 0.6154183575433183), ((0, 30), 0.824208804167289), ((0, 31), 0.624670417434976), ((0, 34), 0.6248218126871483), ((0, 35), 0.9841119843421626), ((0, 37), 0.9120651342057018), ((0, 38), 0.9284477966209553), ((1, 2), 1.1600194422705585), ((1, 5), 0.4028884688043016), ((1, 6), 1.0828275289308216), ((1, 8), 0.8710169449818999), ((1, 9), 1.4648688927357094), ((1, 12), 1.2410654283249418), ((1, 13), 1.2185056297163963), ((1, 15), 1.359389029881103), ((1, 16), 0.9680671596446334), ((1, 19), 1.677920725586898), ((1, 20), 1.3110514325932505), ((1, 22), 1.3924838565652076), ((1, 23), 1.2435738374061103), ((1, 26), 0.8798582703531085), ((1, 29), 1.1233754652954344), ((1, 30), 1.6019024024882744), ((1, 33), 0.7482977255413367), ((1, 36), 1.447053194259073), ((1, 37), 0.9593281355185932)])]\n",
      "True\n"
     ]
    }
   ],
   "source": [
    "import numpy as np\n",
    "\n",
    "# Matrix\n",
    "rows_A = 2\n",
    "cols_A = 3\n",
    "cols_B = 4 * 10\n",
    "\n",
    "# Generation\n",
    "matrix_A = np.random.rand(rows_A, cols_A)\n",
    "matrix_B = np.random.rand(cols_A, cols_B)\n",
    "\n",
    "\n",
    "reference_solution = np.matmul(matrix_A, matrix_B)\n",
    "\n",
    "def flatten(nested_iterable):\n",
    "    \"\"\"A function for aligning nested iterable objects.\"\"\"\n",
    "    for iterable in nested_iterable:\n",
    "        for element in iterable:\n",
    "            yield element\n",
    "\n",
    "def group_by_key(iterable):\n",
    "    grouped = {}\n",
    "    for (key, value) in iterable:\n",
    "        grouped[key] = grouped.get(key, []) + [value]\n",
    "    return grouped.items()\n",
    "\n",
    "def group_by_key_distributed(map_partitions, partitioner):\n",
    "    \"\"\"Distributed grouping by key.\"\"\"\n",
    "    global num_reducers\n",
    "    partitions = [dict() for _ in range(num_reducers)]\n",
    "    for map_partition in map_partitions:\n",
    "        for (key, value) in map_partition:\n",
    "            partition_id = partitions[partitioner(key)]\n",
    "            partition_id[key] = partition_id.get(key, []) + [value]\n",
    "    return [(i, sorted(partition.items(), key=lambda x: x[0])) for i, partition in enumerate(partitions)]\n",
    "\n",
    "def partitioner(obj):\n",
    "    \"\"\"Function for determining the batch number.\"\"\"\n",
    "    global num_reducers\n",
    "    return hash(obj) % num_reducers\n",
    "\n",
    "def MapReduceDistributed(input_format, map_func, reduce_func, partitioner=partitioner, combiner=None):\n",
    "\n",
    "    map_partitions = map(lambda record_reader: flatten(map(lambda k1v1: map_func(*k1v1), record_reader)), input_format())\n",
    "    if combiner is not None:\n",
    "        map_partitions = map(lambda map_partition: flatten(map(lambda k2v2: combiner(*k2v2), group_by_key(map_partition))), map_partitions)\n",
    "    reduce_partitions = group_by_key_distributed(map_partitions, partitioner)\n",
    "    reduce_outputs = map(lambda reduce_partition: (reduce_partition[0], flatten(map(lambda reduce_input_group: reduce_func(*reduce_input_group), reduce_partition[1]))), reduce_partitions)\n",
    "\n",
    "    print(\"{} key-value pairs were sent over a network.\".format(sum(len(vs) for (k, vs) in flatten([partition for (partition_id, partition) in reduce_partitions]))))\n",
    "    return reduce_outputs\n",
    "\n",
    "def as_matrix(reduce_output):\n",
    "    \"\"\"Converting the reduction output to a matrix.\"\"\"\n",
    "    reduce_output = list(reduce_output)\n",
    "    rows = max(i for ((i, k), vw) in reduce_output) + 1\n",
    "    cols = max(k for ((i, k), vw) in reduce_output) + 1\n",
    "    result_matrix = np.empty(shape=(rows, cols))\n",
    "    \n",
    "    for ((i, k), vw) in reduce_output:\n",
    "        result_matrix[i, k] = vw\n",
    "        \n",
    "    return result_matrix\n",
    "\n",
    "def input_format():\n",
    "\n",
    "# Generating data for the first matrix\n",
    "    first_matrix_data = []\n",
    "    for i in range(matrix_A.shape[0]):\n",
    "        for j in range(matrix_A.shape[1]):\n",
    "            first_matrix_data.append(((0, i, j), matrix_A[i, j]))\n",
    "    yield first_matrix_data\n",
    "\n",
    "# Generating data for the second matrix\n",
    "    second_matrix_data = []\n",
    "    for j in range(matrix_B.shape[0]):\n",
    "        for k in range(matrix_B.shape[1]):\n",
    "            second_matrix_data.append(((1, j, k), matrix_B[j, k]))\n",
    "    yield second_matrix_data\n",
    "\n",
    "def map_join(k1, v1):\n",
    "\n",
    "    (matrix_id, i, j) = k1\n",
    "    value = v1\n",
    "    if matrix_id == 0:\n",
    "        yield (j, (matrix_id, i, value))\n",
    "    else:\n",
    "        yield (i, (matrix_id, j, value))\n",
    "\n",
    "def reduce_join(key, values):\n",
    "\n",
    "    from_first_matrix = [v for v in values if v[0] == 0]\n",
    "    from_second_matrix = [v for v in values if v[0] == 1]\n",
    "    \n",
    "    for f in from_first_matrix:\n",
    "        for s in from_second_matrix:\n",
    "            yield ((f[1], s[1]), f[2] * s[2])\n",
    "\n",
    "def get_joined():\n",
    "    for j in joined_data:\n",
    "        print(\"Join Part:\", j)\n",
    "        yield j[1]\n",
    "\n",
    "def map_multiply(k1, v1):\n",
    "    yield (k1, v1)\n",
    "\n",
    "def reduce_multiply(key, values):\n",
    "    result_value = sum(values)\n",
    "    yield (key, result_value)\n",
    "\n",
    "num_maps = 4\n",
    "num_reducers = 2\n",
    "partitioned_output = MapReduceDistributed(input_format, map_join, reduce_join)\n",
    "joined_data = [(partition_id, list(partition)) for (partition_id, partition) in partitioned_output]\n",
    "\n",
    "print(joined_data)\n",
    "\n",
    "\n",
    "mul_output = MapReduceDistributed(get_joined, map_multiply, reduce_multiply)\n",
    "pre_result = [(partition_id, list(partition)) for (partition_id, partition) in mul_output]\n",
    "print(pre_result)\n",
    "solution_values = []\n",
    "for p in pre_result:\n",
    "    solution_values.extend(p[1])\n",
    "\n",
    "\n",
    "print(np.allclose(reference_solution, as_matrix(solution_values)))\n"
   ]
  },
  {
   "cell_type": "markdown",
   "metadata": {
    "id": "ZuSA2P9Db6UM"
   },
   "source": [
    "Обобщите предыдущее решение на случай, когда каждая матрица генерируется несколькими RECORDREADER-ами, и проверьте его работоспособность. Будет ли работать решение, если RECORDREADER-ы будут генерировать случайное подмножество элементов матрицы?"
   ]
  },
  {
   "cell_type": "code",
   "execution_count": 46,
   "metadata": {
    "id": "ehN0FqRDcwU5"
   },
   "outputs": [
    {
     "name": "stdout",
     "output_type": "stream",
     "text": [
      "126 key-value pairs were sent over a network.\n",
      "[(0, [((0, 0), 0.5561379275762566), ((0, 1), 0.9050374868937633), ((0, 2), 0.6719642684398045), ((0, 3), 0.8031503706107552), ((0, 4), 0.6307411118613933), ((0, 5), 0.7787424962058122), ((0, 6), 0.2989597324641228), ((0, 7), 0.8336061824928019), ((0, 8), 0.8479479540392121), ((0, 9), 0.029018698455134828), ((0, 10), 0.6533675311338043), ((0, 11), 0.47821014425993574), ((0, 12), 0.32484451685365134), ((0, 13), 0.7908334208373918), ((0, 14), 0.4534870410038086), ((0, 15), 0.08903611535336224), ((0, 16), 0.388567951850718), ((0, 17), 0.5408466659144899), ((0, 18), 0.7136350003880562), ((0, 19), 0.7303988350056633), ((0, 20), 0.6244750561081965), ((0, 21), 0.07960772755411526), ((0, 22), 0.07520998786697089), ((0, 23), 0.40240666007359255), ((0, 24), 0.14780704997587749), ((0, 25), 0.6324184290681142), ((0, 26), 0.39596781804804454), ((0, 27), 0.12143627398298609), ((0, 28), 0.20797557646917614), ((0, 29), 0.42756346113807275), ((0, 30), 0.05165102956832768), ((0, 31), 0.7674226216243736), ((0, 32), 0.7941707188878953), ((0, 33), 0.4835846936951831), ((0, 34), 0.10797123203210789), ((0, 35), 0.3457700325021957), ((0, 36), 0.504244537612048), ((0, 37), 0.39763807182675187), ((0, 38), 0.6476449847321537), ((0, 39), 0.6503575468292244), ((1, 0), 0.5652967946764549), ((1, 1), 0.9199422751704465), ((1, 2), 0.6830306444691183), ((1, 3), 0.8163772108263784), ((1, 4), 0.6411285962096491), ((1, 5), 0.7915673705299028), ((1, 6), 0.3038832097566768), ((1, 7), 0.8473345902506209), ((1, 8), 0.8619125520891541), ((1, 9), 0.029496598611539585), ((1, 10), 0.6641276431285372), ((1, 11), 0.4860856422975028), ((1, 12), 0.3301942828209847), ((1, 13), 0.8038574169374452), ((1, 14), 0.46095538174136164), ((1, 15), 0.09050242417209957), ((1, 16), 0.3949671597700682), ((1, 17), 0.549753705857413), ((1, 18), 0.7253876390816435), ((1, 19), 0.7424275522145598), ((1, 20), 0.6347593466819582), ((1, 21), 0.08091876310961954), ((1, 22), 0.07644859837944427), ((1, 23), 0.4090337734875457), ((1, 24), 0.1502412395178519), ((1, 25), 0.6428335366454639), ((1, 26), 0.4024888921227133), ((1, 27), 0.12343617120165032), ((1, 28), 0.21140066325164006), ((1, 29), 0.43460487428989825), ((1, 30), 0.05250165473152492), ((1, 31), 0.7800610723622612), ((1, 32), 0.8072496759388255), ((1, 33), 0.491548703559691), ((1, 34), 0.10974937755283602), ((1, 35), 0.35146441444935145), ((1, 36), 0.5125487881890893), ((1, 37), 0.4041866528050578), ((1, 38), 0.6583108538432987), ((1, 39), 0.6610680883040335), ((0, 0), 0.13986342011180047), ((0, 1), 0.03009088811882339), ((0, 2), 0.13211349381653653), ((0, 3), 0.1211479406767501), ((0, 4), 0.037206304996579814), ((0, 5), 0.13523677488689195), ((0, 6), 0.025625867882282428), ((0, 7), 0.1343354948695807), ((0, 8), 0.07206216316413896), ((0, 9), 0.16617839784448613), ((0, 10), 0.05933896076633337), ((0, 11), 0.16814118248277404), ((0, 12), 0.024092208656725927), ((0, 13), 0.1641397845255873), ((0, 14), 0.052047303240763794), ((0, 15), 0.021854499889439806), ((0, 16), 0.157548423297405), ((0, 17), 0.041511447142971426), ((0, 18), 0.1622800318792341), ((0, 19), 0.09742355898904949), ((0, 20), 0.17126178117590984), ((0, 21), 0.07915016540778114), ((0, 22), 0.11591609776523784), ((0, 23), 0.2006967612709036), ((0, 24), 0.05782665134258386), ((0, 25), 0.1525367617583999), ((0, 26), 0.12204582485487195), ((0, 27), 0.15711555964735874), ((0, 28), 0.03543816026414768), ((0, 29), 0.061500844149110584), ((0, 30), 0.18521478859953974), ((0, 31), 0.16640963464097053), ((0, 32), 0.0177737428721414), ((0, 33), 0.1732882586869014), ((0, 34), 0.023495047869000956), ((0, 35), 0.08133562863495993), ((0, 36), 0.10569601284015784), ((0, 37), 0.06174754254230631), ((0, 38), 0.11445113808715145), ((0, 39), 0.10508380747070466), ((1, 0), 0.2743791534939059), ((1, 1), 0.05903124922387048), ((1, 2), 0.2591756198263114), ((1, 3), 0.23766378216581363), ((1, 4), 0.07299002456423083), ((1, 5), 0.26530276311740664), ((1, 6), 0.05027192908243556), ((1, 7), 0.263534663581351), ((1, 8), 0.14136902495385179), ((1, 9), 0.3260029541183559), ((1, 10), 0.11640909260806045), ((1, 11), 0.3298534761999251), ((1, 12), 0.04726325018898407), ((1, 13), 0.3220036739899725), ((1, 14), 0.10210457454440951), ((1, 15), 0.042873391590909825), ((1, 16), 0.30907297264779493), ((1, 17), 0.08143570147427376), ((1, 18), 0.318355276457533), ((1, 19), 0.19112212202741408), ((1, 20), 0.3359753572974441), ((1, 21), 0.155274019226256), ((1, 22), 0.2274001361879994), ((1, 23), 0.3937198691585047), ((1, 24), 0.11344229700719814), ((1, 25), 0.2992412707662665), ((1, 26), 0.2394252198636171), ((1, 27), 0.308223795916788), ((1, 28), 0.06952134022524041), ((1, 29), 0.12065019962549786), ((1, 30), 0.36334787802180146), ((1, 31), 0.32645658635776004), ((1, 32), 0.03486790555942543), ((1, 33), 0.33995082982339725), ((1, 34), 0.046091761094088794), ((1, 35), 0.15956138435565184), ((1, 36), 0.20735073193249248), ((1, 37), 0.12113416388319471), ((1, 38), 0.2245262296579378), ((1, 39), 0.2061497289046764)]), (1, [((0, 0), 0.03988887608541051), ((0, 1), 0.6052159523644092), ((0, 2), 0.6300896151176916), ((0, 3), 0.023524527851223564), ((0, 4), 0.7798847051178104), ((0, 5), 0.46457372669578784), ((0, 6), 0.5824447751196209), ((0, 7), 0.2812050657586171), ((0, 8), 0.18948242848507757), ((0, 9), 0.5242378912938285), ((0, 10), 0.6876403872439826), ((0, 11), 0.7685793162794872), ((0, 12), 0.6138606641460709), ((0, 13), 0.5660332941979679), ((0, 14), 0.03679484670488884), ((0, 15), 0.6501622146015384), ((0, 16), 0.33915669057494663), ((0, 17), 0.6003260508522832), ((0, 18), 0.43349296186984687), ((0, 19), 0.2191378787060321), ((0, 20), 0.5341512451148651), ((0, 21), 0.04826061186870478), ((0, 22), 0.17853622547255565), ((0, 23), 0.2537256611602366), ((0, 24), 0.3285439578288644), ((0, 25), 0.4380532734800352), ((0, 26), 0.3189892163853348), ((0, 27), 0.26279073378831436), ((0, 28), 0.5652099759071063), ((0, 29), 0.3325463554019444), ((0, 30), 0.02092163307561276), ((0, 31), 0.5551666234944799), ((0, 32), 0.18800040298074838), ((0, 33), 0.7093993329821442), ((0, 34), 0.6445080208686343), ((0, 35), 0.6155499682361425), ((0, 36), 0.17651163168409065), ((0, 37), 0.6015410911344191), ((0, 38), 0.2291227734975517), ((0, 39), 0.441646506951759), ((1, 0), 0.0055690776241988675), ((1, 1), 0.08449710668467815), ((1, 2), 0.08796983823957497), ((1, 3), 0.0032843723497140483), ((1, 4), 0.10888345039922255), ((1, 5), 0.0648613698864904), ((1, 6), 0.08131791323237131), ((1, 7), 0.03926039019435984), ((1, 8), 0.02645455215122158), ((1, 9), 0.07319137054426769), ((1, 10), 0.09600477802122304), ((1, 11), 0.10730505075021862), ((1, 12), 0.08570403642739179), ((1, 13), 0.07902662753695475), ((1, 14), 0.005137105318065646), ((1, 15), 0.09077227028618465), ((1, 16), 0.04735129494583844), ((1, 17), 0.08381440404253283), ((1, 18), 0.06052203499110477), ((1, 19), 0.030594892027116623), ((1, 20), 0.07457542149690143), ((1, 21), 0.006737895876350664), ((1, 22), 0.024926300160956292), ((1, 23), 0.03542385850197854), ((1, 24), 0.04586960034152678), ((1, 25), 0.06115872200362662), ((1, 26), 0.04453561698576037), ((1, 27), 0.03668947684195553), ((1, 28), 0.07891168011498645), ((1, 29), 0.04642839429500044), ((1, 30), 0.002920969705278546), ((1, 31), 0.07750947943444236), ((1, 32), 0.026247639450623573), ((1, 33), 0.09904264896993283), ((1, 34), 0.08998286113528811), ((1, 35), 0.08593988828715192), ((1, 36), 0.024643636895606575), ((1, 37), 0.08398404165361154), ((1, 38), 0.03198893115833622), ((1, 39), 0.061660390591206066)])]\n",
      "Join Part: (0, [((0, 0), 0.5561379275762566), ((0, 1), 0.9050374868937633), ((0, 2), 0.6719642684398045), ((0, 3), 0.8031503706107552), ((0, 4), 0.6307411118613933), ((0, 5), 0.7787424962058122), ((0, 6), 0.2989597324641228), ((0, 7), 0.8336061824928019), ((0, 8), 0.8479479540392121), ((0, 9), 0.029018698455134828), ((0, 10), 0.6533675311338043), ((0, 11), 0.47821014425993574), ((0, 12), 0.32484451685365134), ((0, 13), 0.7908334208373918), ((0, 14), 0.4534870410038086), ((0, 15), 0.08903611535336224), ((0, 16), 0.388567951850718), ((0, 17), 0.5408466659144899), ((0, 18), 0.7136350003880562), ((0, 19), 0.7303988350056633), ((0, 20), 0.6244750561081965), ((0, 21), 0.07960772755411526), ((0, 22), 0.07520998786697089), ((0, 23), 0.40240666007359255), ((0, 24), 0.14780704997587749), ((0, 25), 0.6324184290681142), ((0, 26), 0.39596781804804454), ((0, 27), 0.12143627398298609), ((0, 28), 0.20797557646917614), ((0, 29), 0.42756346113807275), ((0, 30), 0.05165102956832768), ((0, 31), 0.7674226216243736), ((0, 32), 0.7941707188878953), ((0, 33), 0.4835846936951831), ((0, 34), 0.10797123203210789), ((0, 35), 0.3457700325021957), ((0, 36), 0.504244537612048), ((0, 37), 0.39763807182675187), ((0, 38), 0.6476449847321537), ((0, 39), 0.6503575468292244), ((1, 0), 0.5652967946764549), ((1, 1), 0.9199422751704465), ((1, 2), 0.6830306444691183), ((1, 3), 0.8163772108263784), ((1, 4), 0.6411285962096491), ((1, 5), 0.7915673705299028), ((1, 6), 0.3038832097566768), ((1, 7), 0.8473345902506209), ((1, 8), 0.8619125520891541), ((1, 9), 0.029496598611539585), ((1, 10), 0.6641276431285372), ((1, 11), 0.4860856422975028), ((1, 12), 0.3301942828209847), ((1, 13), 0.8038574169374452), ((1, 14), 0.46095538174136164), ((1, 15), 0.09050242417209957), ((1, 16), 0.3949671597700682), ((1, 17), 0.549753705857413), ((1, 18), 0.7253876390816435), ((1, 19), 0.7424275522145598), ((1, 20), 0.6347593466819582), ((1, 21), 0.08091876310961954), ((1, 22), 0.07644859837944427), ((1, 23), 0.4090337734875457), ((1, 24), 0.1502412395178519), ((1, 25), 0.6428335366454639), ((1, 26), 0.4024888921227133), ((1, 27), 0.12343617120165032), ((1, 28), 0.21140066325164006), ((1, 29), 0.43460487428989825), ((1, 30), 0.05250165473152492), ((1, 31), 0.7800610723622612), ((1, 32), 0.8072496759388255), ((1, 33), 0.491548703559691), ((1, 34), 0.10974937755283602), ((1, 35), 0.35146441444935145), ((1, 36), 0.5125487881890893), ((1, 37), 0.4041866528050578), ((1, 38), 0.6583108538432987), ((1, 39), 0.6610680883040335), ((0, 0), 0.13986342011180047), ((0, 1), 0.03009088811882339), ((0, 2), 0.13211349381653653), ((0, 3), 0.1211479406767501), ((0, 4), 0.037206304996579814), ((0, 5), 0.13523677488689195), ((0, 6), 0.025625867882282428), ((0, 7), 0.1343354948695807), ((0, 8), 0.07206216316413896), ((0, 9), 0.16617839784448613), ((0, 10), 0.05933896076633337), ((0, 11), 0.16814118248277404), ((0, 12), 0.024092208656725927), ((0, 13), 0.1641397845255873), ((0, 14), 0.052047303240763794), ((0, 15), 0.021854499889439806), ((0, 16), 0.157548423297405), ((0, 17), 0.041511447142971426), ((0, 18), 0.1622800318792341), ((0, 19), 0.09742355898904949), ((0, 20), 0.17126178117590984), ((0, 21), 0.07915016540778114), ((0, 22), 0.11591609776523784), ((0, 23), 0.2006967612709036), ((0, 24), 0.05782665134258386), ((0, 25), 0.1525367617583999), ((0, 26), 0.12204582485487195), ((0, 27), 0.15711555964735874), ((0, 28), 0.03543816026414768), ((0, 29), 0.061500844149110584), ((0, 30), 0.18521478859953974), ((0, 31), 0.16640963464097053), ((0, 32), 0.0177737428721414), ((0, 33), 0.1732882586869014), ((0, 34), 0.023495047869000956), ((0, 35), 0.08133562863495993), ((0, 36), 0.10569601284015784), ((0, 37), 0.06174754254230631), ((0, 38), 0.11445113808715145), ((0, 39), 0.10508380747070466), ((1, 0), 0.2743791534939059), ((1, 1), 0.05903124922387048), ((1, 2), 0.2591756198263114), ((1, 3), 0.23766378216581363), ((1, 4), 0.07299002456423083), ((1, 5), 0.26530276311740664), ((1, 6), 0.05027192908243556), ((1, 7), 0.263534663581351), ((1, 8), 0.14136902495385179), ((1, 9), 0.3260029541183559), ((1, 10), 0.11640909260806045), ((1, 11), 0.3298534761999251), ((1, 12), 0.04726325018898407), ((1, 13), 0.3220036739899725), ((1, 14), 0.10210457454440951), ((1, 15), 0.042873391590909825), ((1, 16), 0.30907297264779493), ((1, 17), 0.08143570147427376), ((1, 18), 0.318355276457533), ((1, 19), 0.19112212202741408), ((1, 20), 0.3359753572974441), ((1, 21), 0.155274019226256), ((1, 22), 0.2274001361879994), ((1, 23), 0.3937198691585047), ((1, 24), 0.11344229700719814), ((1, 25), 0.2992412707662665), ((1, 26), 0.2394252198636171), ((1, 27), 0.308223795916788), ((1, 28), 0.06952134022524041), ((1, 29), 0.12065019962549786), ((1, 30), 0.36334787802180146), ((1, 31), 0.32645658635776004), ((1, 32), 0.03486790555942543), ((1, 33), 0.33995082982339725), ((1, 34), 0.046091761094088794), ((1, 35), 0.15956138435565184), ((1, 36), 0.20735073193249248), ((1, 37), 0.12113416388319471), ((1, 38), 0.2245262296579378), ((1, 39), 0.2061497289046764)])\n",
      "Join Part: (1, [((0, 0), 0.03988887608541051), ((0, 1), 0.6052159523644092), ((0, 2), 0.6300896151176916), ((0, 3), 0.023524527851223564), ((0, 4), 0.7798847051178104), ((0, 5), 0.46457372669578784), ((0, 6), 0.5824447751196209), ((0, 7), 0.2812050657586171), ((0, 8), 0.18948242848507757), ((0, 9), 0.5242378912938285), ((0, 10), 0.6876403872439826), ((0, 11), 0.7685793162794872), ((0, 12), 0.6138606641460709), ((0, 13), 0.5660332941979679), ((0, 14), 0.03679484670488884), ((0, 15), 0.6501622146015384), ((0, 16), 0.33915669057494663), ((0, 17), 0.6003260508522832), ((0, 18), 0.43349296186984687), ((0, 19), 0.2191378787060321), ((0, 20), 0.5341512451148651), ((0, 21), 0.04826061186870478), ((0, 22), 0.17853622547255565), ((0, 23), 0.2537256611602366), ((0, 24), 0.3285439578288644), ((0, 25), 0.4380532734800352), ((0, 26), 0.3189892163853348), ((0, 27), 0.26279073378831436), ((0, 28), 0.5652099759071063), ((0, 29), 0.3325463554019444), ((0, 30), 0.02092163307561276), ((0, 31), 0.5551666234944799), ((0, 32), 0.18800040298074838), ((0, 33), 0.7093993329821442), ((0, 34), 0.6445080208686343), ((0, 35), 0.6155499682361425), ((0, 36), 0.17651163168409065), ((0, 37), 0.6015410911344191), ((0, 38), 0.2291227734975517), ((0, 39), 0.441646506951759), ((1, 0), 0.0055690776241988675), ((1, 1), 0.08449710668467815), ((1, 2), 0.08796983823957497), ((1, 3), 0.0032843723497140483), ((1, 4), 0.10888345039922255), ((1, 5), 0.0648613698864904), ((1, 6), 0.08131791323237131), ((1, 7), 0.03926039019435984), ((1, 8), 0.02645455215122158), ((1, 9), 0.07319137054426769), ((1, 10), 0.09600477802122304), ((1, 11), 0.10730505075021862), ((1, 12), 0.08570403642739179), ((1, 13), 0.07902662753695475), ((1, 14), 0.005137105318065646), ((1, 15), 0.09077227028618465), ((1, 16), 0.04735129494583844), ((1, 17), 0.08381440404253283), ((1, 18), 0.06052203499110477), ((1, 19), 0.030594892027116623), ((1, 20), 0.07457542149690143), ((1, 21), 0.006737895876350664), ((1, 22), 0.024926300160956292), ((1, 23), 0.03542385850197854), ((1, 24), 0.04586960034152678), ((1, 25), 0.06115872200362662), ((1, 26), 0.04453561698576037), ((1, 27), 0.03668947684195553), ((1, 28), 0.07891168011498645), ((1, 29), 0.04642839429500044), ((1, 30), 0.002920969705278546), ((1, 31), 0.07750947943444236), ((1, 32), 0.026247639450623573), ((1, 33), 0.09904264896993283), ((1, 34), 0.08998286113528811), ((1, 35), 0.08593988828715192), ((1, 36), 0.024643636895606575), ((1, 37), 0.08398404165361154), ((1, 38), 0.03198893115833622), ((1, 39), 0.061660390591206066)])\n",
      "240 key-value pairs were sent over a network.\n",
      "[(0, [((0, 1), 1.540344327376996), ((0, 2), 1.4341673773740327), ((0, 4), 1.4478321219757835), ((0, 5), 1.378552997788492), ((0, 8), 1.1094925456884286), ((0, 9), 0.7194349875934494), ((0, 11), 1.4149306430221968), ((0, 12), 0.9627973896564481), ((0, 15), 0.7610528298443405), ((0, 16), 0.8852730657230696), ((0, 18), 1.3094079941371373), ((0, 19), 1.046960272700745), ((0, 22), 0.3696623111047644), ((0, 23), 0.8568290825047327), ((0, 25), 1.2230084643065493), ((0, 26), 0.8370028592882512), ((0, 29), 0.8216106606891278), ((0, 32), 0.999944864740785), ((0, 33), 1.3662722853642286), ((0, 36), 0.7864521821362965), ((0, 39), 1.197087861251688), ((1, 0), 0.8452450257945597), ((1, 1), 1.0634706310789952), ((1, 3), 1.0573253653419061), ((1, 4), 0.8230020711731025), ((1, 7), 1.1501296440263318), ((1, 10), 0.8765415137578207), ((1, 11), 0.9232441692476465), ((1, 14), 0.5681970616038368), ((1, 17), 0.7150038113742196), ((1, 18), 1.1042649505302813), ((1, 21), 0.2429306782122262), ((1, 24), 0.3095531368665768), ((1, 25), 1.0032335294153572), ((1, 27), 0.4683494439603939), ((1, 28), 0.3598336835918669), ((1, 31), 1.1840271381544636), ((1, 32), 0.8683652209488745), ((1, 34), 0.24582399978221292), ((1, 35), 0.5969656870921553), ((1, 38), 0.9148260146595727), ((1, 39), 0.928878207799916)]), (1, [((0, 0), 0.7358902237734676), ((0, 3), 0.9478228391387289), ((0, 6), 0.907030375466026), ((0, 7), 1.2491467431209997), ((0, 10), 1.4003468791441203), ((0, 13), 1.5210064995609471), ((0, 14), 0.5423291909494613), ((0, 17), 1.1826841639097445), ((0, 20), 1.3298880823989716), ((0, 21), 0.2070185048306012), ((0, 24), 0.5341776591473257), ((0, 27), 0.5413425674186592), ((0, 28), 0.8086237126404301), ((0, 30), 0.2577874512434802), ((0, 31), 1.488998879759824), ((0, 34), 0.7759743007697432), ((0, 35), 1.042655629373298), ((0, 37), 1.0609267055034772), ((0, 38), 0.9912188963168569), ((1, 2), 1.0301761025350047), ((1, 5), 1.1217315035337998), ((1, 6), 0.4354730520714837), ((1, 8), 1.0297361291942275), ((1, 9), 0.42869092327416314), ((1, 12), 0.46316156943736053), ((1, 13), 1.2048877184643723), ((1, 15), 0.22414808604919403), ((1, 16), 0.7513914273637016), ((1, 19), 0.9641445662690905), ((1, 20), 1.0453101254763038), ((1, 22), 0.3287750347284), ((1, 23), 0.8381775011480289), ((1, 26), 0.6864497289720908), ((1, 29), 0.6016834682103965), ((1, 30), 0.4187705024586049), ((1, 33), 0.9305421823530211), ((1, 36), 0.7445431570171884), ((1, 37), 0.609304858341864)])]\n",
      "[((0, 1), 1.540344327376996), ((0, 2), 1.4341673773740327), ((0, 4), 1.4478321219757835), ((0, 5), 1.378552997788492), ((0, 8), 1.1094925456884286), ((0, 9), 0.7194349875934494), ((0, 11), 1.4149306430221968), ((0, 12), 0.9627973896564481), ((0, 15), 0.7610528298443405), ((0, 16), 0.8852730657230696), ((0, 18), 1.3094079941371373), ((0, 19), 1.046960272700745), ((0, 22), 0.3696623111047644), ((0, 23), 0.8568290825047327), ((0, 25), 1.2230084643065493), ((0, 26), 0.8370028592882512), ((0, 29), 0.8216106606891278), ((0, 32), 0.999944864740785), ((0, 33), 1.3662722853642286), ((0, 36), 0.7864521821362965), ((0, 39), 1.197087861251688), ((1, 0), 0.8452450257945597), ((1, 1), 1.0634706310789952), ((1, 3), 1.0573253653419061), ((1, 4), 0.8230020711731025), ((1, 7), 1.1501296440263318), ((1, 10), 0.8765415137578207), ((1, 11), 0.9232441692476465), ((1, 14), 0.5681970616038368), ((1, 17), 0.7150038113742196), ((1, 18), 1.1042649505302813), ((1, 21), 0.2429306782122262), ((1, 24), 0.3095531368665768), ((1, 25), 1.0032335294153572), ((1, 27), 0.4683494439603939), ((1, 28), 0.3598336835918669), ((1, 31), 1.1840271381544636), ((1, 32), 0.8683652209488745), ((1, 34), 0.24582399978221292), ((1, 35), 0.5969656870921553), ((1, 38), 0.9148260146595727), ((1, 39), 0.928878207799916), ((0, 0), 0.7358902237734676), ((0, 3), 0.9478228391387289), ((0, 6), 0.907030375466026), ((0, 7), 1.2491467431209997), ((0, 10), 1.4003468791441203), ((0, 13), 1.5210064995609471), ((0, 14), 0.5423291909494613), ((0, 17), 1.1826841639097445), ((0, 20), 1.3298880823989716), ((0, 21), 0.2070185048306012), ((0, 24), 0.5341776591473257), ((0, 27), 0.5413425674186592), ((0, 28), 0.8086237126404301), ((0, 30), 0.2577874512434802), ((0, 31), 1.488998879759824), ((0, 34), 0.7759743007697432), ((0, 35), 1.042655629373298), ((0, 37), 1.0609267055034772), ((0, 38), 0.9912188963168569), ((1, 2), 1.0301761025350047), ((1, 5), 1.1217315035337998), ((1, 6), 0.4354730520714837), ((1, 8), 1.0297361291942275), ((1, 9), 0.42869092327416314), ((1, 12), 0.46316156943736053), ((1, 13), 1.2048877184643723), ((1, 15), 0.22414808604919403), ((1, 16), 0.7513914273637016), ((1, 19), 0.9641445662690905), ((1, 20), 1.0453101254763038), ((1, 22), 0.3287750347284), ((1, 23), 0.8381775011480289), ((1, 26), 0.6864497289720908), ((1, 29), 0.6016834682103965), ((1, 30), 0.4187705024586049), ((1, 33), 0.9305421823530211), ((1, 36), 0.7445431570171884), ((1, 37), 0.609304858341864)]\n",
      "Are the results close?  True\n"
     ]
    }
   ],
   "source": [
    "import numpy as np\n",
    "\n",
    "\n",
    "ROWS_A = 2\n",
    "COLS_A = 3\n",
    "COLS_B = 4 * 10\n",
    "\n",
    "small_matrix = np.random.rand(ROWS_A, COLS_A)\n",
    "large_matrix = np.random.rand(COLS_A, COLS_B)\n",
    "\n",
    "\n",
    "reference_solution = np.matmul(small_matrix, large_matrix)\n",
    "\n",
    "def flatten(nested_iterable):\n",
    "\n",
    "    for iterable in nested_iterable:\n",
    "        for element in iterable:\n",
    "            yield element\n",
    "\n",
    "def group_by_key(iterable):\n",
    "\n",
    "    grouped = {}\n",
    "    for (key, value) in iterable:\n",
    "        grouped[key] = grouped.get(key, []) + [value]\n",
    "    return grouped.items()\n",
    "\n",
    "def group_by_key_distributed(map_partitions, partitioner):\n",
    "\n",
    "    partitions = [dict() for _ in range(reducers)]\n",
    "    for map_partition in map_partitions:\n",
    "        for (key, value) in map_partition:\n",
    "            partition_id = partitioner(key)\n",
    "            partitions[partition_id][key] = partitions[partition_id].get(key, []) + [value]\n",
    "    return [(partition_id, sorted(partition.items(), key=lambda x: x[0])) for partition_id, partition in enumerate(partitions)]\n",
    "\n",
    "def partitioner(obj):\n",
    "\n",
    "    return hash(obj) % reducers\n",
    "\n",
    "def MapReduceDistributed(input_format, map_func, reduce_func, partitioner=partitioner, combiner=None):\n",
    "\n",
    "    map_partitions = map(lambda record_reader: flatten(map(lambda k1v1: map_func(*k1v1), record_reader)), input_format())\n",
    "\n",
    "    if combiner is not None:\n",
    "        map_partitions = map(lambda map_partition: flatten(map(lambda k2v2: combiner(*k2v2), group_by_key(map_partition))), map_partitions)\n",
    "\n",
    "    reduce_partitions = group_by_key_distributed(map_partitions, partitioner)  # Shuffle\n",
    "\n",
    "    reduce_outputs = map(lambda reduce_partition: (reduce_partition[0], flatten(map(lambda reduce_input_group: reduce_func(*reduce_input_group), reduce_partition[1]))), reduce_partitions)\n",
    "\n",
    "    print(\"{} key-value pairs were sent over a network.\".format(sum(len(vs) for (k, vs) in flatten([partition for (partition_id, partition) in reduce_partitions]))))\n",
    "    return reduce_outputs\n",
    "\n",
    "def as_matrix(reduce_output):\n",
    "\n",
    "    reduce_output = list(reduce_output)\n",
    "    num_rows = max(i for ((i, k), vw) in reduce_output) + 1\n",
    "    num_cols = max(k for ((i, k), vw) in reduce_output) + 1\n",
    "    result_matrix = np.empty(shape=(num_rows, num_cols))\n",
    "    \n",
    "    for ((i, k), vw) in reduce_output:\n",
    "        result_matrix[i, k] = vw\n",
    "    return result_matrix\n",
    "\n",
    "def input_format():\n",
    "\n",
    "    first_matrix_data = []\n",
    "    for i in range(small_matrix.shape[0]):\n",
    "        for j in range(small_matrix.shape[1]):\n",
    "            first_matrix_data.append(((0, i, j), small_matrix[i, j]))\n",
    "\n",
    "    global num_maps\n",
    "    split_size = int(np.ceil(len(first_matrix_data) / num_maps))\n",
    "\n",
    "    for i in range(0, len(first_matrix_data), split_size):\n",
    "        yield first_matrix_data[i:i + split_size]\n",
    "\n",
    "    second_matrix_data = []\n",
    "    for j in range(large_matrix.shape[0]):\n",
    "        for k in range(large_matrix.shape[1]):\n",
    "            second_matrix_data.append(((1, j, k), large_matrix[j, k]))\n",
    "\n",
    "    split_size = int(np.ceil(len(second_matrix_data) / num_maps))\n",
    "\n",
    "    for i in range(0, len(second_matrix_data), split_size):\n",
    "        yield second_matrix_data[i:i + split_size]\n",
    "\n",
    "def map_join(key1, value1):\n",
    "\n",
    "    matrix_id, i, j = key1\n",
    "    value = value1\n",
    "\n",
    "    if matrix_id == 0:\n",
    "        yield (j, (matrix_id, i, value))\n",
    "    else:\n",
    "        yield (i, (matrix_id, j, value))\n",
    "\n",
    "def reduce_join(key, values):\n",
    "\n",
    "    from_first_matrix = [v for v in values if v[0] == 0]\n",
    "    from_second_matrix = [v for v in values if v[0] == 1]\n",
    "\n",
    "    for f in from_first_matrix:\n",
    "        for s in from_second_matrix:\n",
    "            yield ((f[1], s[1]), f[2] * s[2])\n",
    "\n",
    "def get_joined():\n",
    "\n",
    "    for j in joined:\n",
    "        print(\"Join Part:\", j)\n",
    "        yield j[1]\n",
    "\n",
    "def map_multiply(key1, value1):\n",
    "\n",
    "    yield (key1, value1)\n",
    "\n",
    "def reduce_multiply(key, values):\n",
    "\n",
    "    yield (key, sum(values))\n",
    "\n",
    "\n",
    "num_maps = 3\n",
    "reducers = 2\n",
    "\n",
    "\n",
    "partitioned_output = MapReduceDistributed(input_format, map_join, reduce_join)\n",
    "joined = [(partition_id, list(partition)) for (partition_id, partition) in partitioned_output]\n",
    "print(joined)\n",
    "\n",
    "mul_output = MapReduceDistributed(get_joined, map_multiply, reduce_multiply)\n",
    "pre_result = [(partition_id, list(partition)) for (partition_id, partition) in mul_output]\n",
    "print(pre_result)\n",
    "\n",
    "\n",
    "solution_values = []\n",
    "for p in pre_result:\n",
    "    solution_values.extend(p[1])\n",
    "\n",
    "print(solution_values)\n",
    "\n",
    "\n",
    "is_close = np.allclose(reference_solution, as_matrix(solution_values))\n",
    "print(\"Are the results close? \", is_close)\n"
   ]
  }
 ],
 "metadata": {
  "colab": {
   "provenance": []
  },
  "kernelspec": {
   "display_name": "Python 3 (ipykernel)",
   "language": "python",
   "name": "python3"
  },
  "language_info": {
   "codemirror_mode": {
    "name": "ipython",
    "version": 3
   },
   "file_extension": ".py",
   "mimetype": "text/x-python",
   "name": "python",
   "nbconvert_exporter": "python",
   "pygments_lexer": "ipython3",
   "version": "3.9.11"
  }
 },
 "nbformat": 4,
 "nbformat_minor": 4
}
